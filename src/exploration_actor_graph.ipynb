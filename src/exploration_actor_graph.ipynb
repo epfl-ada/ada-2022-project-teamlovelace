{
 "cells": [
  {
   "cell_type": "markdown",
   "metadata": {},
   "source": [
    "# Graph of actors"
   ]
  },
  {
   "cell_type": "code",
   "execution_count": 1,
   "metadata": {},
   "outputs": [],
   "source": [
    "import networkx as nx\n",
    "import pandas as pd\n",
    "import itertools\n",
    "import seaborn as sns\n",
    "import matplotlib.pyplot as plt\n",
    "import numpy as np"
   ]
  },
  {
   "cell_type": "markdown",
   "metadata": {},
   "source": [
    "## Load preprocessed data"
   ]
  },
  {
   "cell_type": "code",
   "execution_count": 2,
   "metadata": {},
   "outputs": [],
   "source": [
    "df_movies = pd.read_pickle('../data/generated/preprocessed/movies.pkl')"
   ]
  },
  {
   "cell_type": "code",
   "execution_count": 3,
   "metadata": {},
   "outputs": [
    {
     "data": {
      "text/html": [
       "<div>\n",
       "<style scoped>\n",
       "    .dataframe tbody tr th:only-of-type {\n",
       "        vertical-align: middle;\n",
       "    }\n",
       "\n",
       "    .dataframe tbody tr th {\n",
       "        vertical-align: top;\n",
       "    }\n",
       "\n",
       "    .dataframe thead th {\n",
       "        text-align: right;\n",
       "    }\n",
       "</style>\n",
       "<table border=\"1\" class=\"dataframe\">\n",
       "  <thead>\n",
       "    <tr style=\"text-align: right;\">\n",
       "      <th></th>\n",
       "      <th>wiki_id</th>\n",
       "      <th>fb_id</th>\n",
       "      <th>movie_name</th>\n",
       "      <th>movie_release</th>\n",
       "      <th>movie_revenue</th>\n",
       "      <th>movie_runtime</th>\n",
       "      <th>movie_languages</th>\n",
       "      <th>movie_countries</th>\n",
       "      <th>movie_genres</th>\n",
       "      <th>movie_release_year</th>\n",
       "    </tr>\n",
       "  </thead>\n",
       "  <tbody>\n",
       "    <tr>\n",
       "      <th>0</th>\n",
       "      <td>975900</td>\n",
       "      <td>/m/03vyhn</td>\n",
       "      <td>Ghosts of Mars</td>\n",
       "      <td>2001-08-24</td>\n",
       "      <td>14010832.0</td>\n",
       "      <td>98.0</td>\n",
       "      <td>English Language</td>\n",
       "      <td>United States of America</td>\n",
       "      <td>Thriller</td>\n",
       "      <td>2001</td>\n",
       "    </tr>\n",
       "    <tr>\n",
       "      <th>1</th>\n",
       "      <td>3196793</td>\n",
       "      <td>/m/08yl5d</td>\n",
       "      <td>Getting Away with Murder: The JonBenét Ramsey ...</td>\n",
       "      <td>2000-02-16</td>\n",
       "      <td>NaN</td>\n",
       "      <td>95.0</td>\n",
       "      <td>English Language</td>\n",
       "      <td>United States of America</td>\n",
       "      <td>Thriller</td>\n",
       "      <td>2000</td>\n",
       "    </tr>\n",
       "    <tr>\n",
       "      <th>2</th>\n",
       "      <td>28463795</td>\n",
       "      <td>/m/0crgdbh</td>\n",
       "      <td>Brun bitter</td>\n",
       "      <td>1988</td>\n",
       "      <td>NaN</td>\n",
       "      <td>83.0</td>\n",
       "      <td>English Language</td>\n",
       "      <td>United States of America</td>\n",
       "      <td>Thriller</td>\n",
       "      <td>1988</td>\n",
       "    </tr>\n",
       "    <tr>\n",
       "      <th>3</th>\n",
       "      <td>9363483</td>\n",
       "      <td>/m/0285_cd</td>\n",
       "      <td>White Of The Eye</td>\n",
       "      <td>1987</td>\n",
       "      <td>NaN</td>\n",
       "      <td>110.0</td>\n",
       "      <td>English Language</td>\n",
       "      <td>United States of America</td>\n",
       "      <td>Thriller</td>\n",
       "      <td>1987</td>\n",
       "    </tr>\n",
       "    <tr>\n",
       "      <th>4</th>\n",
       "      <td>261236</td>\n",
       "      <td>/m/01mrr1</td>\n",
       "      <td>A Woman in Flames</td>\n",
       "      <td>1983</td>\n",
       "      <td>NaN</td>\n",
       "      <td>106.0</td>\n",
       "      <td>English Language</td>\n",
       "      <td>United States of America</td>\n",
       "      <td>Thriller</td>\n",
       "      <td>1983</td>\n",
       "    </tr>\n",
       "    <tr>\n",
       "      <th>...</th>\n",
       "      <td>...</td>\n",
       "      <td>...</td>\n",
       "      <td>...</td>\n",
       "      <td>...</td>\n",
       "      <td>...</td>\n",
       "      <td>...</td>\n",
       "      <td>...</td>\n",
       "      <td>...</td>\n",
       "      <td>...</td>\n",
       "      <td>...</td>\n",
       "    </tr>\n",
       "    <tr>\n",
       "      <th>81736</th>\n",
       "      <td>35228177</td>\n",
       "      <td>/m/0j7hxnt</td>\n",
       "      <td>Mermaids: The Body Found</td>\n",
       "      <td>2011-03-19</td>\n",
       "      <td>NaN</td>\n",
       "      <td>120.0</td>\n",
       "      <td>English Language</td>\n",
       "      <td>United States of America</td>\n",
       "      <td>Thriller</td>\n",
       "      <td>2011</td>\n",
       "    </tr>\n",
       "    <tr>\n",
       "      <th>81737</th>\n",
       "      <td>34980460</td>\n",
       "      <td>/m/0g4pl34</td>\n",
       "      <td>Knuckle</td>\n",
       "      <td>2011-01-21</td>\n",
       "      <td>NaN</td>\n",
       "      <td>96.0</td>\n",
       "      <td>English Language</td>\n",
       "      <td>United States of America</td>\n",
       "      <td>Thriller</td>\n",
       "      <td>2011</td>\n",
       "    </tr>\n",
       "    <tr>\n",
       "      <th>81738</th>\n",
       "      <td>9971909</td>\n",
       "      <td>/m/02pygw1</td>\n",
       "      <td>Another Nice Mess</td>\n",
       "      <td>1972-09-22</td>\n",
       "      <td>NaN</td>\n",
       "      <td>66.0</td>\n",
       "      <td>English Language</td>\n",
       "      <td>United States of America</td>\n",
       "      <td>Thriller</td>\n",
       "      <td>1972</td>\n",
       "    </tr>\n",
       "    <tr>\n",
       "      <th>81739</th>\n",
       "      <td>913762</td>\n",
       "      <td>/m/03pcrp</td>\n",
       "      <td>The Super Dimension Fortress Macross II: Lover...</td>\n",
       "      <td>1992-05-21</td>\n",
       "      <td>NaN</td>\n",
       "      <td>150.0</td>\n",
       "      <td>English Language</td>\n",
       "      <td>United States of America</td>\n",
       "      <td>Thriller</td>\n",
       "      <td>1992</td>\n",
       "    </tr>\n",
       "    <tr>\n",
       "      <th>81740</th>\n",
       "      <td>12476867</td>\n",
       "      <td>/m/02w7zz8</td>\n",
       "      <td>Spliced</td>\n",
       "      <td>2002</td>\n",
       "      <td>NaN</td>\n",
       "      <td>86.0</td>\n",
       "      <td>English Language</td>\n",
       "      <td>United States of America</td>\n",
       "      <td>Thriller</td>\n",
       "      <td>2002</td>\n",
       "    </tr>\n",
       "  </tbody>\n",
       "</table>\n",
       "<p>81741 rows × 10 columns</p>\n",
       "</div>"
      ],
      "text/plain": [
       "        wiki_id       fb_id  \\\n",
       "0        975900   /m/03vyhn   \n",
       "1       3196793   /m/08yl5d   \n",
       "2      28463795  /m/0crgdbh   \n",
       "3       9363483  /m/0285_cd   \n",
       "4        261236   /m/01mrr1   \n",
       "...         ...         ...   \n",
       "81736  35228177  /m/0j7hxnt   \n",
       "81737  34980460  /m/0g4pl34   \n",
       "81738   9971909  /m/02pygw1   \n",
       "81739    913762   /m/03pcrp   \n",
       "81740  12476867  /m/02w7zz8   \n",
       "\n",
       "                                              movie_name movie_release  \\\n",
       "0                                         Ghosts of Mars    2001-08-24   \n",
       "1      Getting Away with Murder: The JonBenét Ramsey ...    2000-02-16   \n",
       "2                                            Brun bitter          1988   \n",
       "3                                       White Of The Eye          1987   \n",
       "4                                      A Woman in Flames          1983   \n",
       "...                                                  ...           ...   \n",
       "81736                           Mermaids: The Body Found    2011-03-19   \n",
       "81737                                            Knuckle    2011-01-21   \n",
       "81738                                  Another Nice Mess    1972-09-22   \n",
       "81739  The Super Dimension Fortress Macross II: Lover...    1992-05-21   \n",
       "81740                                            Spliced          2002   \n",
       "\n",
       "       movie_revenue  movie_runtime   movie_languages  \\\n",
       "0         14010832.0           98.0  English Language   \n",
       "1                NaN           95.0  English Language   \n",
       "2                NaN           83.0  English Language   \n",
       "3                NaN          110.0  English Language   \n",
       "4                NaN          106.0  English Language   \n",
       "...              ...            ...               ...   \n",
       "81736            NaN          120.0  English Language   \n",
       "81737            NaN           96.0  English Language   \n",
       "81738            NaN           66.0  English Language   \n",
       "81739            NaN          150.0  English Language   \n",
       "81740            NaN           86.0  English Language   \n",
       "\n",
       "                movie_countries movie_genres  movie_release_year  \n",
       "0      United States of America     Thriller                2001  \n",
       "1      United States of America     Thriller                2000  \n",
       "2      United States of America     Thriller                1988  \n",
       "3      United States of America     Thriller                1987  \n",
       "4      United States of America     Thriller                1983  \n",
       "...                         ...          ...                 ...  \n",
       "81736  United States of America     Thriller                2011  \n",
       "81737  United States of America     Thriller                2011  \n",
       "81738  United States of America     Thriller                1972  \n",
       "81739  United States of America     Thriller                1992  \n",
       "81740  United States of America     Thriller                2002  \n",
       "\n",
       "[81741 rows x 10 columns]"
      ]
     },
     "execution_count": 3,
     "metadata": {},
     "output_type": "execute_result"
    }
   ],
   "source": [
    "df_movies"
   ]
  },
  {
   "cell_type": "code",
   "execution_count": 4,
   "metadata": {},
   "outputs": [],
   "source": [
    "df_actors = pd.read_pickle('../data/generated/preprocessed/characters.pkl')"
   ]
  },
  {
   "cell_type": "code",
   "execution_count": 5,
   "metadata": {},
   "outputs": [
    {
     "data": {
      "text/html": [
       "<div>\n",
       "<style scoped>\n",
       "    .dataframe tbody tr th:only-of-type {\n",
       "        vertical-align: middle;\n",
       "    }\n",
       "\n",
       "    .dataframe tbody tr th {\n",
       "        vertical-align: top;\n",
       "    }\n",
       "\n",
       "    .dataframe thead th {\n",
       "        text-align: right;\n",
       "    }\n",
       "</style>\n",
       "<table border=\"1\" class=\"dataframe\">\n",
       "  <thead>\n",
       "    <tr style=\"text-align: right;\">\n",
       "      <th></th>\n",
       "      <th>wiki_id</th>\n",
       "      <th>fb_movie_id</th>\n",
       "      <th>release</th>\n",
       "      <th>character_name</th>\n",
       "      <th>actor_birth</th>\n",
       "      <th>actor_gender</th>\n",
       "      <th>actor_height</th>\n",
       "      <th>ethnicity</th>\n",
       "      <th>actor_name</th>\n",
       "      <th>actor_age</th>\n",
       "      <th>fb_char_id</th>\n",
       "      <th>fb_actor_id</th>\n",
       "      <th>actor_nationality</th>\n",
       "    </tr>\n",
       "  </thead>\n",
       "  <tbody>\n",
       "    <tr>\n",
       "      <th>0</th>\n",
       "      <td>975900</td>\n",
       "      <td>/m/03vyhn</td>\n",
       "      <td>2001-08-24</td>\n",
       "      <td>Akooshay</td>\n",
       "      <td>1958-08-26</td>\n",
       "      <td>F</td>\n",
       "      <td>1.620</td>\n",
       "      <td>NaN</td>\n",
       "      <td>Wanda De Jesus</td>\n",
       "      <td>42.0</td>\n",
       "      <td>/m/0bgchxw</td>\n",
       "      <td>/m/03wcfv7</td>\n",
       "      <td>United States of America</td>\n",
       "    </tr>\n",
       "    <tr>\n",
       "      <th>1</th>\n",
       "      <td>975900</td>\n",
       "      <td>/m/03vyhn</td>\n",
       "      <td>2001-08-24</td>\n",
       "      <td>Lieutenant Melanie Ballard</td>\n",
       "      <td>1974-08-15</td>\n",
       "      <td>F</td>\n",
       "      <td>1.780</td>\n",
       "      <td>NaN</td>\n",
       "      <td>Natasha Henstridge</td>\n",
       "      <td>27.0</td>\n",
       "      <td>/m/0jys3m</td>\n",
       "      <td>/m/0346l4</td>\n",
       "      <td>Canada</td>\n",
       "    </tr>\n",
       "    <tr>\n",
       "      <th>2</th>\n",
       "      <td>975900</td>\n",
       "      <td>/m/03vyhn</td>\n",
       "      <td>2001-08-24</td>\n",
       "      <td>Desolation Williams</td>\n",
       "      <td>1969-06-15</td>\n",
       "      <td>M</td>\n",
       "      <td>1.727</td>\n",
       "      <td>NaN</td>\n",
       "      <td>Ice Cube</td>\n",
       "      <td>32.0</td>\n",
       "      <td>/m/0jys3g</td>\n",
       "      <td>/m/01vw26l</td>\n",
       "      <td>NaN</td>\n",
       "    </tr>\n",
       "    <tr>\n",
       "      <th>3</th>\n",
       "      <td>975900</td>\n",
       "      <td>/m/03vyhn</td>\n",
       "      <td>2001-08-24</td>\n",
       "      <td>Sgt Jericho Butler</td>\n",
       "      <td>1967-09-12</td>\n",
       "      <td>M</td>\n",
       "      <td>1.750</td>\n",
       "      <td>NaN</td>\n",
       "      <td>Jason Statham</td>\n",
       "      <td>33.0</td>\n",
       "      <td>/m/02vchl6</td>\n",
       "      <td>/m/034hyc</td>\n",
       "      <td>United Kingdom</td>\n",
       "    </tr>\n",
       "    <tr>\n",
       "      <th>4</th>\n",
       "      <td>975900</td>\n",
       "      <td>/m/03vyhn</td>\n",
       "      <td>2001-08-24</td>\n",
       "      <td>Bashira Kincaid</td>\n",
       "      <td>1977-09-25</td>\n",
       "      <td>F</td>\n",
       "      <td>1.650</td>\n",
       "      <td>NaN</td>\n",
       "      <td>Clea DuVall</td>\n",
       "      <td>23.0</td>\n",
       "      <td>/m/02vbb3r</td>\n",
       "      <td>/m/01y9xg</td>\n",
       "      <td>United States of America</td>\n",
       "    </tr>\n",
       "    <tr>\n",
       "      <th>...</th>\n",
       "      <td>...</td>\n",
       "      <td>...</td>\n",
       "      <td>...</td>\n",
       "      <td>...</td>\n",
       "      <td>...</td>\n",
       "      <td>...</td>\n",
       "      <td>...</td>\n",
       "      <td>...</td>\n",
       "      <td>...</td>\n",
       "      <td>...</td>\n",
       "      <td>...</td>\n",
       "      <td>...</td>\n",
       "      <td>...</td>\n",
       "    </tr>\n",
       "    <tr>\n",
       "      <th>450664</th>\n",
       "      <td>913762</td>\n",
       "      <td>/m/03pcrp</td>\n",
       "      <td>1992-05-21</td>\n",
       "      <td>Elensh</td>\n",
       "      <td>1970-05</td>\n",
       "      <td>F</td>\n",
       "      <td>NaN</td>\n",
       "      <td>NaN</td>\n",
       "      <td>Dorothy Elias-Fahn</td>\n",
       "      <td>NaN</td>\n",
       "      <td>/m/0kr406c</td>\n",
       "      <td>/m/0b_vcv</td>\n",
       "      <td>NaN</td>\n",
       "    </tr>\n",
       "    <tr>\n",
       "      <th>450665</th>\n",
       "      <td>913762</td>\n",
       "      <td>/m/03pcrp</td>\n",
       "      <td>1992-05-21</td>\n",
       "      <td>Hibiki</td>\n",
       "      <td>1965-04-12</td>\n",
       "      <td>M</td>\n",
       "      <td>NaN</td>\n",
       "      <td>NaN</td>\n",
       "      <td>Jonathan Fahn</td>\n",
       "      <td>27.0</td>\n",
       "      <td>/m/0kr405_</td>\n",
       "      <td>/m/0bx7_j</td>\n",
       "      <td>NaN</td>\n",
       "    </tr>\n",
       "    <tr>\n",
       "      <th>450666</th>\n",
       "      <td>28308153</td>\n",
       "      <td>/m/0cp05t9</td>\n",
       "      <td>1957</td>\n",
       "      <td>NaN</td>\n",
       "      <td>1941-11-18</td>\n",
       "      <td>M</td>\n",
       "      <td>1.730</td>\n",
       "      <td>English people</td>\n",
       "      <td>David Hemmings</td>\n",
       "      <td>15.0</td>\n",
       "      <td>/m/0g8ngmc</td>\n",
       "      <td>/m/022g44</td>\n",
       "      <td>England</td>\n",
       "    </tr>\n",
       "    <tr>\n",
       "      <th>450667</th>\n",
       "      <td>28308153</td>\n",
       "      <td>/m/0cp05t9</td>\n",
       "      <td>1957</td>\n",
       "      <td>NaN</td>\n",
       "      <td>NaN</td>\n",
       "      <td>NaN</td>\n",
       "      <td>NaN</td>\n",
       "      <td>NaN</td>\n",
       "      <td>Roberta Paterson</td>\n",
       "      <td>NaN</td>\n",
       "      <td>/m/0g8ngmj</td>\n",
       "      <td>/m/0g8ngmm</td>\n",
       "      <td>NaN</td>\n",
       "    </tr>\n",
       "    <tr>\n",
       "      <th>450668</th>\n",
       "      <td>28308153</td>\n",
       "      <td>/m/0cp05t9</td>\n",
       "      <td>1957</td>\n",
       "      <td>NaN</td>\n",
       "      <td>NaN</td>\n",
       "      <td>NaN</td>\n",
       "      <td>NaN</td>\n",
       "      <td>NaN</td>\n",
       "      <td>John Rogers</td>\n",
       "      <td>NaN</td>\n",
       "      <td>/m/0g8ngmw</td>\n",
       "      <td>/m/0btz19d</td>\n",
       "      <td>NaN</td>\n",
       "    </tr>\n",
       "  </tbody>\n",
       "</table>\n",
       "<p>450669 rows × 13 columns</p>\n",
       "</div>"
      ],
      "text/plain": [
       "         wiki_id fb_movie_id     release              character_name  \\\n",
       "0         975900   /m/03vyhn  2001-08-24                    Akooshay   \n",
       "1         975900   /m/03vyhn  2001-08-24  Lieutenant Melanie Ballard   \n",
       "2         975900   /m/03vyhn  2001-08-24         Desolation Williams   \n",
       "3         975900   /m/03vyhn  2001-08-24          Sgt Jericho Butler   \n",
       "4         975900   /m/03vyhn  2001-08-24             Bashira Kincaid   \n",
       "...          ...         ...         ...                         ...   \n",
       "450664    913762   /m/03pcrp  1992-05-21                      Elensh   \n",
       "450665    913762   /m/03pcrp  1992-05-21                      Hibiki   \n",
       "450666  28308153  /m/0cp05t9        1957                         NaN   \n",
       "450667  28308153  /m/0cp05t9        1957                         NaN   \n",
       "450668  28308153  /m/0cp05t9        1957                         NaN   \n",
       "\n",
       "       actor_birth actor_gender  actor_height       ethnicity  \\\n",
       "0       1958-08-26            F         1.620             NaN   \n",
       "1       1974-08-15            F         1.780             NaN   \n",
       "2       1969-06-15            M         1.727             NaN   \n",
       "3       1967-09-12            M         1.750             NaN   \n",
       "4       1977-09-25            F         1.650             NaN   \n",
       "...            ...          ...           ...             ...   \n",
       "450664     1970-05            F           NaN             NaN   \n",
       "450665  1965-04-12            M           NaN             NaN   \n",
       "450666  1941-11-18            M         1.730  English people   \n",
       "450667         NaN          NaN           NaN             NaN   \n",
       "450668         NaN          NaN           NaN             NaN   \n",
       "\n",
       "                actor_name  actor_age  fb_char_id fb_actor_id  \\\n",
       "0           Wanda De Jesus       42.0  /m/0bgchxw  /m/03wcfv7   \n",
       "1       Natasha Henstridge       27.0   /m/0jys3m   /m/0346l4   \n",
       "2                 Ice Cube       32.0   /m/0jys3g  /m/01vw26l   \n",
       "3            Jason Statham       33.0  /m/02vchl6   /m/034hyc   \n",
       "4              Clea DuVall       23.0  /m/02vbb3r   /m/01y9xg   \n",
       "...                    ...        ...         ...         ...   \n",
       "450664  Dorothy Elias-Fahn        NaN  /m/0kr406c   /m/0b_vcv   \n",
       "450665       Jonathan Fahn       27.0  /m/0kr405_   /m/0bx7_j   \n",
       "450666      David Hemmings       15.0  /m/0g8ngmc   /m/022g44   \n",
       "450667    Roberta Paterson        NaN  /m/0g8ngmj  /m/0g8ngmm   \n",
       "450668         John Rogers        NaN  /m/0g8ngmw  /m/0btz19d   \n",
       "\n",
       "               actor_nationality  \n",
       "0       United States of America  \n",
       "1                         Canada  \n",
       "2                            NaN  \n",
       "3                 United Kingdom  \n",
       "4       United States of America  \n",
       "...                          ...  \n",
       "450664                       NaN  \n",
       "450665                       NaN  \n",
       "450666                   England  \n",
       "450667                       NaN  \n",
       "450668                       NaN  \n",
       "\n",
       "[450669 rows x 13 columns]"
      ]
     },
     "execution_count": 5,
     "metadata": {},
     "output_type": "execute_result"
    }
   ],
   "source": [
    "df_actors"
   ]
  },
  {
   "cell_type": "markdown",
   "metadata": {},
   "source": [
    "## Create a graph of actors by movie\n",
    "\n",
    "Each actor is a node, each edge exists if two actors have played in the same movie"
   ]
  },
  {
   "cell_type": "markdown",
   "metadata": {},
   "source": [
    "### Exploration"
   ]
  },
  {
   "cell_type": "markdown",
   "metadata": {},
   "source": [
    "#### Test if we have info for all movies"
   ]
  },
  {
   "cell_type": "code",
   "execution_count": 6,
   "metadata": {},
   "outputs": [
    {
     "name": "stdout",
     "output_type": "stream",
     "text": [
      "nodes[:4]=['/m/03wcfv7', '/m/0346l4', '/m/01vw26l', '/m/034hyc']\n",
      "len(nodes)=135761\n"
     ]
    }
   ],
   "source": [
    "# load list of actors, identified by their freebase_id\n",
    "nodes = list(df_actors.fb_actor_id.unique())\n",
    "print(f'{nodes[:4]=}\\n{len(nodes)=}')"
   ]
  },
  {
   "cell_type": "code",
   "execution_count": 7,
   "metadata": {},
   "outputs": [
    {
     "name": "stdout",
     "output_type": "stream",
     "text": [
      "movie_fbids[:4]=['/m/03vyhn', '/m/08yl5d', '/m/0crgdbh', '/m/01mrr1']\n",
      "len(movie_fbids)=64330\n",
      "len(df_movies)=81741\n"
     ]
    }
   ],
   "source": [
    "# load list of movies for which we have actors\n",
    "# NOTE : there are less movies in the actors dataframe than in the movies dataframee\n",
    "movie_fbids = list(df_actors.fb_movie_id.unique())\n",
    "print(f'{movie_fbids[:4]=}\\n{len(movie_fbids)=}\\n{len(df_movies)=}')"
   ]
  },
  {
   "cell_type": "code",
   "execution_count": 8,
   "metadata": {},
   "outputs": [
    {
     "data": {
      "text/plain": [
       "True"
      ]
     },
     "execution_count": 8,
     "metadata": {},
     "output_type": "execute_result"
    }
   ],
   "source": [
    "# Do we have a movie entry for every movie in the actors dataset ? -> YES\n",
    "len(set(movie_fbids) & set(df_movies.fb_id.unique())) == len(movie_fbids)"
   ]
  },
  {
   "cell_type": "markdown",
   "metadata": {},
   "source": [
    "#### Distribution of number of actors per movie"
   ]
  },
  {
   "cell_type": "code",
   "execution_count": 9,
   "metadata": {},
   "outputs": [
    {
     "data": {
      "text/html": [
       "<div>\n",
       "<style scoped>\n",
       "    .dataframe tbody tr th:only-of-type {\n",
       "        vertical-align: middle;\n",
       "    }\n",
       "\n",
       "    .dataframe tbody tr th {\n",
       "        vertical-align: top;\n",
       "    }\n",
       "\n",
       "    .dataframe thead th {\n",
       "        text-align: right;\n",
       "    }\n",
       "</style>\n",
       "<table border=\"1\" class=\"dataframe\">\n",
       "  <thead>\n",
       "    <tr style=\"text-align: right;\">\n",
       "      <th></th>\n",
       "      <th>wiki_id</th>\n",
       "      <th>fb_movie_id</th>\n",
       "      <th>release</th>\n",
       "      <th>character_name</th>\n",
       "      <th>actor_birth</th>\n",
       "      <th>actor_gender</th>\n",
       "      <th>actor_height</th>\n",
       "      <th>ethnicity</th>\n",
       "      <th>actor_name</th>\n",
       "      <th>actor_age</th>\n",
       "      <th>fb_char_id</th>\n",
       "      <th>fb_actor_id</th>\n",
       "      <th>actor_nationality</th>\n",
       "    </tr>\n",
       "  </thead>\n",
       "  <tbody>\n",
       "    <tr>\n",
       "      <th>1104</th>\n",
       "      <td>24053482</td>\n",
       "      <td>/m/07kg7s3</td>\n",
       "      <td>1997</td>\n",
       "      <td>Booking Officer</td>\n",
       "      <td>NaN</td>\n",
       "      <td>NaN</td>\n",
       "      <td>NaN</td>\n",
       "      <td>NaN</td>\n",
       "      <td>NaN</td>\n",
       "      <td>NaN</td>\n",
       "      <td>/m/07vrjlb</td>\n",
       "      <td>NaN</td>\n",
       "      <td>NaN</td>\n",
       "    </tr>\n",
       "    <tr>\n",
       "      <th>1107</th>\n",
       "      <td>24053482</td>\n",
       "      <td>/m/07kg7s3</td>\n",
       "      <td>1997</td>\n",
       "      <td>Tony Morrell</td>\n",
       "      <td>NaN</td>\n",
       "      <td>NaN</td>\n",
       "      <td>NaN</td>\n",
       "      <td>NaN</td>\n",
       "      <td>NaN</td>\n",
       "      <td>NaN</td>\n",
       "      <td>/m/07vrjmd</td>\n",
       "      <td>NaN</td>\n",
       "      <td>NaN</td>\n",
       "    </tr>\n",
       "    <tr>\n",
       "      <th>1111</th>\n",
       "      <td>24053482</td>\n",
       "      <td>/m/07kg7s3</td>\n",
       "      <td>1997</td>\n",
       "      <td>Officer Derrick</td>\n",
       "      <td>NaN</td>\n",
       "      <td>NaN</td>\n",
       "      <td>NaN</td>\n",
       "      <td>NaN</td>\n",
       "      <td>NaN</td>\n",
       "      <td>NaN</td>\n",
       "      <td>/m/07vrjnv</td>\n",
       "      <td>NaN</td>\n",
       "      <td>NaN</td>\n",
       "    </tr>\n",
       "    <tr>\n",
       "      <th>1116</th>\n",
       "      <td>24053482</td>\n",
       "      <td>/m/07kg7s3</td>\n",
       "      <td>1997</td>\n",
       "      <td>Scott Douglas</td>\n",
       "      <td>NaN</td>\n",
       "      <td>NaN</td>\n",
       "      <td>NaN</td>\n",
       "      <td>NaN</td>\n",
       "      <td>NaN</td>\n",
       "      <td>NaN</td>\n",
       "      <td>/m/07vrjrt</td>\n",
       "      <td>NaN</td>\n",
       "      <td>NaN</td>\n",
       "    </tr>\n",
       "    <tr>\n",
       "      <th>1118</th>\n",
       "      <td>24053482</td>\n",
       "      <td>/m/07kg7s3</td>\n",
       "      <td>1997</td>\n",
       "      <td>Officer Tim</td>\n",
       "      <td>NaN</td>\n",
       "      <td>NaN</td>\n",
       "      <td>NaN</td>\n",
       "      <td>NaN</td>\n",
       "      <td>NaN</td>\n",
       "      <td>NaN</td>\n",
       "      <td>/m/07vrjsq</td>\n",
       "      <td>NaN</td>\n",
       "      <td>NaN</td>\n",
       "    </tr>\n",
       "    <tr>\n",
       "      <th>...</th>\n",
       "      <td>...</td>\n",
       "      <td>...</td>\n",
       "      <td>...</td>\n",
       "      <td>...</td>\n",
       "      <td>...</td>\n",
       "      <td>...</td>\n",
       "      <td>...</td>\n",
       "      <td>...</td>\n",
       "      <td>...</td>\n",
       "      <td>...</td>\n",
       "      <td>...</td>\n",
       "      <td>...</td>\n",
       "      <td>...</td>\n",
       "    </tr>\n",
       "    <tr>\n",
       "      <th>448590</th>\n",
       "      <td>7533970</td>\n",
       "      <td>/m/0kv9xq</td>\n",
       "      <td>1925</td>\n",
       "      <td>NaN</td>\n",
       "      <td>NaN</td>\n",
       "      <td>NaN</td>\n",
       "      <td>NaN</td>\n",
       "      <td>NaN</td>\n",
       "      <td>NaN</td>\n",
       "      <td>NaN</td>\n",
       "      <td>/m/0csglc1</td>\n",
       "      <td>NaN</td>\n",
       "      <td>NaN</td>\n",
       "    </tr>\n",
       "    <tr>\n",
       "      <th>448591</th>\n",
       "      <td>7533970</td>\n",
       "      <td>/m/0kv9xq</td>\n",
       "      <td>1925</td>\n",
       "      <td>NaN</td>\n",
       "      <td>NaN</td>\n",
       "      <td>NaN</td>\n",
       "      <td>NaN</td>\n",
       "      <td>NaN</td>\n",
       "      <td>NaN</td>\n",
       "      <td>NaN</td>\n",
       "      <td>/m/0cstkhk</td>\n",
       "      <td>NaN</td>\n",
       "      <td>NaN</td>\n",
       "    </tr>\n",
       "    <tr>\n",
       "      <th>448592</th>\n",
       "      <td>7533970</td>\n",
       "      <td>/m/0kv9xq</td>\n",
       "      <td>1925</td>\n",
       "      <td>NaN</td>\n",
       "      <td>NaN</td>\n",
       "      <td>NaN</td>\n",
       "      <td>NaN</td>\n",
       "      <td>NaN</td>\n",
       "      <td>NaN</td>\n",
       "      <td>NaN</td>\n",
       "      <td>/m/0cspyps</td>\n",
       "      <td>NaN</td>\n",
       "      <td>NaN</td>\n",
       "    </tr>\n",
       "    <tr>\n",
       "      <th>448593</th>\n",
       "      <td>7533970</td>\n",
       "      <td>/m/0kv9xq</td>\n",
       "      <td>1925</td>\n",
       "      <td>NaN</td>\n",
       "      <td>NaN</td>\n",
       "      <td>NaN</td>\n",
       "      <td>NaN</td>\n",
       "      <td>NaN</td>\n",
       "      <td>NaN</td>\n",
       "      <td>NaN</td>\n",
       "      <td>/m/0gc1k8_</td>\n",
       "      <td>NaN</td>\n",
       "      <td>NaN</td>\n",
       "    </tr>\n",
       "    <tr>\n",
       "      <th>449777</th>\n",
       "      <td>5440243</td>\n",
       "      <td>/m/0dl_jw</td>\n",
       "      <td>1939</td>\n",
       "      <td>Digby Geste</td>\n",
       "      <td>NaN</td>\n",
       "      <td>NaN</td>\n",
       "      <td>NaN</td>\n",
       "      <td>NaN</td>\n",
       "      <td>NaN</td>\n",
       "      <td>NaN</td>\n",
       "      <td>/m/0bjb1xd</td>\n",
       "      <td>NaN</td>\n",
       "      <td>NaN</td>\n",
       "    </tr>\n",
       "  </tbody>\n",
       "</table>\n",
       "<p>815 rows × 13 columns</p>\n",
       "</div>"
      ],
      "text/plain": [
       "         wiki_id fb_movie_id release   character_name actor_birth  \\\n",
       "1104    24053482  /m/07kg7s3    1997  Booking Officer         NaN   \n",
       "1107    24053482  /m/07kg7s3    1997     Tony Morrell         NaN   \n",
       "1111    24053482  /m/07kg7s3    1997  Officer Derrick         NaN   \n",
       "1116    24053482  /m/07kg7s3    1997    Scott Douglas         NaN   \n",
       "1118    24053482  /m/07kg7s3    1997      Officer Tim         NaN   \n",
       "...          ...         ...     ...              ...         ...   \n",
       "448590   7533970   /m/0kv9xq    1925              NaN         NaN   \n",
       "448591   7533970   /m/0kv9xq    1925              NaN         NaN   \n",
       "448592   7533970   /m/0kv9xq    1925              NaN         NaN   \n",
       "448593   7533970   /m/0kv9xq    1925              NaN         NaN   \n",
       "449777   5440243   /m/0dl_jw    1939      Digby Geste         NaN   \n",
       "\n",
       "       actor_gender  actor_height ethnicity actor_name  actor_age  fb_char_id  \\\n",
       "1104            NaN           NaN       NaN        NaN        NaN  /m/07vrjlb   \n",
       "1107            NaN           NaN       NaN        NaN        NaN  /m/07vrjmd   \n",
       "1111            NaN           NaN       NaN        NaN        NaN  /m/07vrjnv   \n",
       "1116            NaN           NaN       NaN        NaN        NaN  /m/07vrjrt   \n",
       "1118            NaN           NaN       NaN        NaN        NaN  /m/07vrjsq   \n",
       "...             ...           ...       ...        ...        ...         ...   \n",
       "448590          NaN           NaN       NaN        NaN        NaN  /m/0csglc1   \n",
       "448591          NaN           NaN       NaN        NaN        NaN  /m/0cstkhk   \n",
       "448592          NaN           NaN       NaN        NaN        NaN  /m/0cspyps   \n",
       "448593          NaN           NaN       NaN        NaN        NaN  /m/0gc1k8_   \n",
       "449777          NaN           NaN       NaN        NaN        NaN  /m/0bjb1xd   \n",
       "\n",
       "       fb_actor_id actor_nationality  \n",
       "1104           NaN               NaN  \n",
       "1107           NaN               NaN  \n",
       "1111           NaN               NaN  \n",
       "1116           NaN               NaN  \n",
       "1118           NaN               NaN  \n",
       "...            ...               ...  \n",
       "448590         NaN               NaN  \n",
       "448591         NaN               NaN  \n",
       "448592         NaN               NaN  \n",
       "448593         NaN               NaN  \n",
       "449777         NaN               NaN  \n",
       "\n",
       "[815 rows x 13 columns]"
      ]
     },
     "execution_count": 9,
     "metadata": {},
     "output_type": "execute_result"
    }
   ],
   "source": [
    "# NOTE : for some movies, we are missing the freebase_actor_id\n",
    "df_actors[df_actors.fb_actor_id.isna()]"
   ]
  },
  {
   "cell_type": "code",
   "execution_count": 10,
   "metadata": {},
   "outputs": [
    {
     "data": {
      "text/html": [
       "<div>\n",
       "<style scoped>\n",
       "    .dataframe tbody tr th:only-of-type {\n",
       "        vertical-align: middle;\n",
       "    }\n",
       "\n",
       "    .dataframe tbody tr th {\n",
       "        vertical-align: top;\n",
       "    }\n",
       "\n",
       "    .dataframe thead th {\n",
       "        text-align: right;\n",
       "    }\n",
       "</style>\n",
       "<table border=\"1\" class=\"dataframe\">\n",
       "  <thead>\n",
       "    <tr style=\"text-align: right;\">\n",
       "      <th></th>\n",
       "      <th>numactors_per_movie</th>\n",
       "    </tr>\n",
       "    <tr>\n",
       "      <th>fb_movie_id</th>\n",
       "      <th></th>\n",
       "    </tr>\n",
       "  </thead>\n",
       "  <tbody>\n",
       "    <tr>\n",
       "      <th>/m/011_mj</th>\n",
       "      <td>9</td>\n",
       "    </tr>\n",
       "    <tr>\n",
       "      <th>/m/011_p6</th>\n",
       "      <td>5</td>\n",
       "    </tr>\n",
       "    <tr>\n",
       "      <th>/m/011_zy</th>\n",
       "      <td>4</td>\n",
       "    </tr>\n",
       "    <tr>\n",
       "      <th>/m/011wtv</th>\n",
       "      <td>18</td>\n",
       "    </tr>\n",
       "    <tr>\n",
       "      <th>/m/011x_4</th>\n",
       "      <td>20</td>\n",
       "    </tr>\n",
       "    <tr>\n",
       "      <th>...</th>\n",
       "      <td>...</td>\n",
       "    </tr>\n",
       "    <tr>\n",
       "      <th>/m/0yyn5</th>\n",
       "      <td>16</td>\n",
       "    </tr>\n",
       "    <tr>\n",
       "      <th>/m/0yyts</th>\n",
       "      <td>10</td>\n",
       "    </tr>\n",
       "    <tr>\n",
       "      <th>/m/0yzbg</th>\n",
       "      <td>13</td>\n",
       "    </tr>\n",
       "    <tr>\n",
       "      <th>/m/0yzp8</th>\n",
       "      <td>13</td>\n",
       "    </tr>\n",
       "    <tr>\n",
       "      <th>/m/0yzvw</th>\n",
       "      <td>13</td>\n",
       "    </tr>\n",
       "  </tbody>\n",
       "</table>\n",
       "<p>64330 rows × 1 columns</p>\n",
       "</div>"
      ],
      "text/plain": [
       "             numactors_per_movie\n",
       "fb_movie_id                     \n",
       "/m/011_mj                      9\n",
       "/m/011_p6                      5\n",
       "/m/011_zy                      4\n",
       "/m/011wtv                     18\n",
       "/m/011x_4                     20\n",
       "...                          ...\n",
       "/m/0yyn5                      16\n",
       "/m/0yyts                      10\n",
       "/m/0yzbg                      13\n",
       "/m/0yzp8                      13\n",
       "/m/0yzvw                      13\n",
       "\n",
       "[64330 rows x 1 columns]"
      ]
     },
     "execution_count": 10,
     "metadata": {},
     "output_type": "execute_result"
    }
   ],
   "source": [
    "# Count the number of actors per movie\n",
    "df_numactors_per_movie = (df_actors\n",
    "\t.groupby('fb_movie_id')\n",
    "\t[['fb_movie_id']]\n",
    "\t.apply('count')\n",
    "\t.rename(columns={'fb_movie_id': 'numactors_per_movie'})\n",
    ")\n",
    "df_numactors_per_movie"
   ]
  },
  {
   "cell_type": "code",
   "execution_count": 11,
   "metadata": {},
   "outputs": [
    {
     "data": {
      "image/png": "[encoded data removed]",
      "text/plain": [
       "<Figure size 640x480 with 1 Axes>"
      ]
     },
     "metadata": {},
     "output_type": "display_data"
    }
   ],
   "source": [
    "sns.histplot(df_numactors_per_movie, x='numactors_per_movie', binwidth=1, log_scale=(False, True));"
   ]
  },
  {
   "cell_type": "markdown",
   "metadata": {},
   "source": [
    "-> It's an exponential law !!"
   ]
  },
  {
   "cell_type": "markdown",
   "metadata": {},
   "source": [
    "#### Order of magnitude for the edges\n",
    "\n",
    "Number of edges will grow as ``O(num_actors**2 * num_movies)`` -> huge !!\n",
    "\n",
    "How much approximatively ?"
   ]
  },
  {
   "cell_type": "code",
   "execution_count": 12,
   "metadata": {},
   "outputs": [
    {
     "name": "stdout",
     "output_type": "stream",
     "text": [
      "df_numactors_per_movie.mean()=numactors_per_movie    7.005581\n",
      "dtype: float64\n",
      "df_numactors_per_movie.median()=numactors_per_movie    6.0\n",
      "dtype: float64\n"
     ]
    }
   ],
   "source": [
    "print(f'{df_numactors_per_movie.mean()=}\\n{df_numactors_per_movie.median()=}')"
   ]
  },
  {
   "cell_type": "code",
   "execution_count": 13,
   "metadata": {},
   "outputs": [
    {
     "name": "stdout",
     "output_type": "stream",
     "text": [
      "num_edges ~ 3.2e+06\n"
     ]
    }
   ],
   "source": [
    "print(f'num_edges ~ {(float(df_numactors_per_movie.mean())**2 * len(df_actors.fb_movie_id.unique())):.1e}')"
   ]
  },
  {
   "cell_type": "markdown",
   "metadata": {},
   "source": [
    "-> looks feasible to have of order 10**6 edges, let's run the computation"
   ]
  },
  {
   "cell_type": "code",
   "execution_count": 14,
   "metadata": {},
   "outputs": [
    {
     "data": {
      "text/html": [
       "<div>\n",
       "<style scoped>\n",
       "    .dataframe tbody tr th:only-of-type {\n",
       "        vertical-align: middle;\n",
       "    }\n",
       "\n",
       "    .dataframe tbody tr th {\n",
       "        vertical-align: top;\n",
       "    }\n",
       "\n",
       "    .dataframe thead th {\n",
       "        text-align: right;\n",
       "    }\n",
       "</style>\n",
       "<table border=\"1\" class=\"dataframe\">\n",
       "  <thead>\n",
       "    <tr style=\"text-align: right;\">\n",
       "      <th></th>\n",
       "      <th>wiki_id</th>\n",
       "      <th>fb_movie_id</th>\n",
       "      <th>release</th>\n",
       "      <th>character_name</th>\n",
       "      <th>actor_birth</th>\n",
       "      <th>actor_gender</th>\n",
       "      <th>actor_height</th>\n",
       "      <th>ethnicity</th>\n",
       "      <th>actor_name</th>\n",
       "      <th>actor_age</th>\n",
       "      <th>fb_char_id</th>\n",
       "      <th>fb_actor_id</th>\n",
       "      <th>actor_nationality</th>\n",
       "    </tr>\n",
       "  </thead>\n",
       "  <tbody>\n",
       "    <tr>\n",
       "      <th>0</th>\n",
       "      <td>975900</td>\n",
       "      <td>/m/03vyhn</td>\n",
       "      <td>2001-08-24</td>\n",
       "      <td>Akooshay</td>\n",
       "      <td>1958-08-26</td>\n",
       "      <td>F</td>\n",
       "      <td>1.620</td>\n",
       "      <td>NaN</td>\n",
       "      <td>Wanda De Jesus</td>\n",
       "      <td>42.0</td>\n",
       "      <td>/m/0bgchxw</td>\n",
       "      <td>/m/03wcfv7</td>\n",
       "      <td>United States of America</td>\n",
       "    </tr>\n",
       "    <tr>\n",
       "      <th>1</th>\n",
       "      <td>975900</td>\n",
       "      <td>/m/03vyhn</td>\n",
       "      <td>2001-08-24</td>\n",
       "      <td>Lieutenant Melanie Ballard</td>\n",
       "      <td>1974-08-15</td>\n",
       "      <td>F</td>\n",
       "      <td>1.780</td>\n",
       "      <td>NaN</td>\n",
       "      <td>Natasha Henstridge</td>\n",
       "      <td>27.0</td>\n",
       "      <td>/m/0jys3m</td>\n",
       "      <td>/m/0346l4</td>\n",
       "      <td>Canada</td>\n",
       "    </tr>\n",
       "    <tr>\n",
       "      <th>2</th>\n",
       "      <td>975900</td>\n",
       "      <td>/m/03vyhn</td>\n",
       "      <td>2001-08-24</td>\n",
       "      <td>Desolation Williams</td>\n",
       "      <td>1969-06-15</td>\n",
       "      <td>M</td>\n",
       "      <td>1.727</td>\n",
       "      <td>NaN</td>\n",
       "      <td>Ice Cube</td>\n",
       "      <td>32.0</td>\n",
       "      <td>/m/0jys3g</td>\n",
       "      <td>/m/01vw26l</td>\n",
       "      <td>NaN</td>\n",
       "    </tr>\n",
       "    <tr>\n",
       "      <th>3</th>\n",
       "      <td>975900</td>\n",
       "      <td>/m/03vyhn</td>\n",
       "      <td>2001-08-24</td>\n",
       "      <td>Sgt Jericho Butler</td>\n",
       "      <td>1967-09-12</td>\n",
       "      <td>M</td>\n",
       "      <td>1.750</td>\n",
       "      <td>NaN</td>\n",
       "      <td>Jason Statham</td>\n",
       "      <td>33.0</td>\n",
       "      <td>/m/02vchl6</td>\n",
       "      <td>/m/034hyc</td>\n",
       "      <td>United Kingdom</td>\n",
       "    </tr>\n",
       "    <tr>\n",
       "      <th>4</th>\n",
       "      <td>975900</td>\n",
       "      <td>/m/03vyhn</td>\n",
       "      <td>2001-08-24</td>\n",
       "      <td>Bashira Kincaid</td>\n",
       "      <td>1977-09-25</td>\n",
       "      <td>F</td>\n",
       "      <td>1.650</td>\n",
       "      <td>NaN</td>\n",
       "      <td>Clea DuVall</td>\n",
       "      <td>23.0</td>\n",
       "      <td>/m/02vbb3r</td>\n",
       "      <td>/m/01y9xg</td>\n",
       "      <td>United States of America</td>\n",
       "    </tr>\n",
       "    <tr>\n",
       "      <th>...</th>\n",
       "      <td>...</td>\n",
       "      <td>...</td>\n",
       "      <td>...</td>\n",
       "      <td>...</td>\n",
       "      <td>...</td>\n",
       "      <td>...</td>\n",
       "      <td>...</td>\n",
       "      <td>...</td>\n",
       "      <td>...</td>\n",
       "      <td>...</td>\n",
       "      <td>...</td>\n",
       "      <td>...</td>\n",
       "      <td>...</td>\n",
       "    </tr>\n",
       "    <tr>\n",
       "      <th>450664</th>\n",
       "      <td>913762</td>\n",
       "      <td>/m/03pcrp</td>\n",
       "      <td>1992-05-21</td>\n",
       "      <td>Elensh</td>\n",
       "      <td>1970-05</td>\n",
       "      <td>F</td>\n",
       "      <td>NaN</td>\n",
       "      <td>NaN</td>\n",
       "      <td>Dorothy Elias-Fahn</td>\n",
       "      <td>NaN</td>\n",
       "      <td>/m/0kr406c</td>\n",
       "      <td>/m/0b_vcv</td>\n",
       "      <td>NaN</td>\n",
       "    </tr>\n",
       "    <tr>\n",
       "      <th>450665</th>\n",
       "      <td>913762</td>\n",
       "      <td>/m/03pcrp</td>\n",
       "      <td>1992-05-21</td>\n",
       "      <td>Hibiki</td>\n",
       "      <td>1965-04-12</td>\n",
       "      <td>M</td>\n",
       "      <td>NaN</td>\n",
       "      <td>NaN</td>\n",
       "      <td>Jonathan Fahn</td>\n",
       "      <td>27.0</td>\n",
       "      <td>/m/0kr405_</td>\n",
       "      <td>/m/0bx7_j</td>\n",
       "      <td>NaN</td>\n",
       "    </tr>\n",
       "    <tr>\n",
       "      <th>450666</th>\n",
       "      <td>28308153</td>\n",
       "      <td>/m/0cp05t9</td>\n",
       "      <td>1957</td>\n",
       "      <td>NaN</td>\n",
       "      <td>1941-11-18</td>\n",
       "      <td>M</td>\n",
       "      <td>1.730</td>\n",
       "      <td>English people</td>\n",
       "      <td>David Hemmings</td>\n",
       "      <td>15.0</td>\n",
       "      <td>/m/0g8ngmc</td>\n",
       "      <td>/m/022g44</td>\n",
       "      <td>England</td>\n",
       "    </tr>\n",
       "    <tr>\n",
       "      <th>450667</th>\n",
       "      <td>28308153</td>\n",
       "      <td>/m/0cp05t9</td>\n",
       "      <td>1957</td>\n",
       "      <td>NaN</td>\n",
       "      <td>NaN</td>\n",
       "      <td>NaN</td>\n",
       "      <td>NaN</td>\n",
       "      <td>NaN</td>\n",
       "      <td>Roberta Paterson</td>\n",
       "      <td>NaN</td>\n",
       "      <td>/m/0g8ngmj</td>\n",
       "      <td>/m/0g8ngmm</td>\n",
       "      <td>NaN</td>\n",
       "    </tr>\n",
       "    <tr>\n",
       "      <th>450668</th>\n",
       "      <td>28308153</td>\n",
       "      <td>/m/0cp05t9</td>\n",
       "      <td>1957</td>\n",
       "      <td>NaN</td>\n",
       "      <td>NaN</td>\n",
       "      <td>NaN</td>\n",
       "      <td>NaN</td>\n",
       "      <td>NaN</td>\n",
       "      <td>John Rogers</td>\n",
       "      <td>NaN</td>\n",
       "      <td>/m/0g8ngmw</td>\n",
       "      <td>/m/0btz19d</td>\n",
       "      <td>NaN</td>\n",
       "    </tr>\n",
       "  </tbody>\n",
       "</table>\n",
       "<p>450669 rows × 13 columns</p>\n",
       "</div>"
      ],
      "text/plain": [
       "         wiki_id fb_movie_id     release              character_name  \\\n",
       "0         975900   /m/03vyhn  2001-08-24                    Akooshay   \n",
       "1         975900   /m/03vyhn  2001-08-24  Lieutenant Melanie Ballard   \n",
       "2         975900   /m/03vyhn  2001-08-24         Desolation Williams   \n",
       "3         975900   /m/03vyhn  2001-08-24          Sgt Jericho Butler   \n",
       "4         975900   /m/03vyhn  2001-08-24             Bashira Kincaid   \n",
       "...          ...         ...         ...                         ...   \n",
       "450664    913762   /m/03pcrp  1992-05-21                      Elensh   \n",
       "450665    913762   /m/03pcrp  1992-05-21                      Hibiki   \n",
       "450666  28308153  /m/0cp05t9        1957                         NaN   \n",
       "450667  28308153  /m/0cp05t9        1957                         NaN   \n",
       "450668  28308153  /m/0cp05t9        1957                         NaN   \n",
       "\n",
       "       actor_birth actor_gender  actor_height       ethnicity  \\\n",
       "0       1958-08-26            F         1.620             NaN   \n",
       "1       1974-08-15            F         1.780             NaN   \n",
       "2       1969-06-15            M         1.727             NaN   \n",
       "3       1967-09-12            M         1.750             NaN   \n",
       "4       1977-09-25            F         1.650             NaN   \n",
       "...            ...          ...           ...             ...   \n",
       "450664     1970-05            F           NaN             NaN   \n",
       "450665  1965-04-12            M           NaN             NaN   \n",
       "450666  1941-11-18            M         1.730  English people   \n",
       "450667         NaN          NaN           NaN             NaN   \n",
       "450668         NaN          NaN           NaN             NaN   \n",
       "\n",
       "                actor_name  actor_age  fb_char_id fb_actor_id  \\\n",
       "0           Wanda De Jesus       42.0  /m/0bgchxw  /m/03wcfv7   \n",
       "1       Natasha Henstridge       27.0   /m/0jys3m   /m/0346l4   \n",
       "2                 Ice Cube       32.0   /m/0jys3g  /m/01vw26l   \n",
       "3            Jason Statham       33.0  /m/02vchl6   /m/034hyc   \n",
       "4              Clea DuVall       23.0  /m/02vbb3r   /m/01y9xg   \n",
       "...                    ...        ...         ...         ...   \n",
       "450664  Dorothy Elias-Fahn        NaN  /m/0kr406c   /m/0b_vcv   \n",
       "450665       Jonathan Fahn       27.0  /m/0kr405_   /m/0bx7_j   \n",
       "450666      David Hemmings       15.0  /m/0g8ngmc   /m/022g44   \n",
       "450667    Roberta Paterson        NaN  /m/0g8ngmj  /m/0g8ngmm   \n",
       "450668         John Rogers        NaN  /m/0g8ngmw  /m/0btz19d   \n",
       "\n",
       "               actor_nationality  \n",
       "0       United States of America  \n",
       "1                         Canada  \n",
       "2                            NaN  \n",
       "3                 United Kingdom  \n",
       "4       United States of America  \n",
       "...                          ...  \n",
       "450664                       NaN  \n",
       "450665                       NaN  \n",
       "450666                   England  \n",
       "450667                       NaN  \n",
       "450668                       NaN  \n",
       "\n",
       "[450669 rows x 13 columns]"
      ]
     },
     "execution_count": 14,
     "metadata": {},
     "output_type": "execute_result"
    }
   ],
   "source": [
    "df_actors"
   ]
  },
  {
   "cell_type": "markdown",
   "metadata": {},
   "source": [
    "### Generate edges\n",
    "\n",
    "We generate edges, and filter out actors which do not have all of the following :\n",
    "- ``freebase_actor_id``\n",
    "- ``actor_nationality``\n",
    "- ``actor_gender``\n",
    "- ``actor_birth``"
   ]
  },
  {
   "cell_type": "code",
   "execution_count": 15,
   "metadata": {},
   "outputs": [],
   "source": [
    "edges = []\n",
    "edges_unfiltered = []\n",
    "\n",
    "for movie_fbid, df_movie in df_actors.dropna(subset=['fb_actor_id']).groupby('fb_movie_id'):\n",
    "\t# generate undirected edges and add it to the edges list\n",
    "\t# https://docs.python.org/3/library/itertools.html#itertools.combinations\n",
    "\t# So if the input elements are unique, there will be no repeated values in each combination.\n",
    "\t# The code for combinations() can be also expressed as a subsequence of permutations() after filtering entries where the elements are not in sorted orderE\n",
    "\tedges_unfiltered += [ (ij[0], ij[1], {'movie_fbid': movie_fbid})  for ij in itertools.combinations(df_movie.fb_actor_id, r=2) ]\n",
    "\n",
    "for movie_fbid, df_movie in df_actors.dropna(subset=['fb_actor_id', 'actor_nationality', 'actor_gender', 'actor_birth']).groupby('fb_movie_id'):\n",
    "\tedges += [ (ij[0], ij[1], {'movie_fbid': movie_fbid})  for ij in itertools.combinations(df_movie.fb_actor_id, r=2) ]"
   ]
  },
  {
   "cell_type": "code",
   "execution_count": 16,
   "metadata": {},
   "outputs": [
    {
     "name": "stdout",
     "output_type": "stream",
     "text": [
      "num_edges filtered = 7.0e+05\n",
      "num_edges unfiltered = 2.3e+06\n"
     ]
    }
   ],
   "source": [
    "print(f'num_edges filtered = {len(edges):.1e}')\n",
    "print(f'num_edges unfiltered = {len(edges_unfiltered):.1e}')"
   ]
  },
  {
   "cell_type": "markdown",
   "metadata": {},
   "source": [
    "We have of order millions of edges without filtering, and a bit less (order ``10**5``) with filtering NAs."
   ]
  },
  {
   "cell_type": "markdown",
   "metadata": {},
   "source": [
    "### Create and export the graph"
   ]
  },
  {
   "cell_type": "code",
   "execution_count": 17,
   "metadata": {},
   "outputs": [],
   "source": [
    "actor_graph = nx.Graph(edges)\n",
    "actor_graph_unfiltered = nx.Graph(edges_unfiltered)"
   ]
  },
  {
   "cell_type": "code",
   "execution_count": 18,
   "metadata": {},
   "outputs": [
    {
     "name": "stdout",
     "output_type": "stream",
     "text": [
      "98.9%\n"
     ]
    }
   ],
   "source": [
    "print('{:.1%}'.format(len(set(actor_graph_unfiltered.nodes) & set(df_actors.fb_actor_id)) / len(set(df_actors.fb_actor_id))))"
   ]
  },
  {
   "cell_type": "markdown",
   "metadata": {},
   "source": [
    "after creating the graph, 98.9\\% of the actors present in the actor dataset remain\n",
    "\n",
    "this is due to the fact we have ``~10^4`` movies with only one actor, that do not create edges"
   ]
  },
  {
   "cell_type": "code",
   "execution_count": 19,
   "metadata": {},
   "outputs": [],
   "source": [
    "# to load a graph\n",
    "# actor_graph = nx.read_edgelist('../data/generated/graph/actor_graph_bymovie.edgelist.gz')"
   ]
  },
  {
   "cell_type": "code",
   "execution_count": 20,
   "metadata": {},
   "outputs": [],
   "source": [
    "# export the graph !\n",
    "# nx.write_edgelist(actor_graph, '../data/generated/graph/actor_graph_bymovie.edgelist.gz')\n",
    "# nx.write_edgelist(actor_graph_unfiltered, '../data/generated/graph/actor_graph_unfiltered_bymovie.edgelist.gz')"
   ]
  },
  {
   "cell_type": "markdown",
   "metadata": {},
   "source": [
    "### Some basic graph analysis\n",
    "\n",
    "See also :\n",
    "- https://networkx.org/documentation/stable/reference/algorithms/approximation.html\n",
    "- https://networkx.org/documentation/stable/reference/algorithms/assortativity.html\n",
    "\n",
    "These could be useful resources to analyse the graph"
   ]
  },
  {
   "cell_type": "markdown",
   "metadata": {},
   "source": [
    "#### Number of edges"
   ]
  },
  {
   "cell_type": "code",
   "execution_count": 21,
   "metadata": {},
   "outputs": [
    {
     "name": "stdout",
     "output_type": "stream",
     "text": [
      "actor_graph.number_of_edges()=6.1e+05\n"
     ]
    }
   ],
   "source": [
    "print(f'{actor_graph.number_of_edges()=:.1e}')"
   ]
  },
  {
   "cell_type": "markdown",
   "metadata": {},
   "source": [
    "we have a little fewer edges because networkx already removed duplicates for us (e.g. pairs of actors playing in different movies)"
   ]
  },
  {
   "cell_type": "markdown",
   "metadata": {},
   "source": [
    "#### Number of nodes"
   ]
  },
  {
   "cell_type": "code",
   "execution_count": 22,
   "metadata": {},
   "outputs": [
    {
     "name": "stdout",
     "output_type": "stream",
     "text": [
      "actor_graph.number_of_nodes()=3.5e+04\n"
     ]
    }
   ],
   "source": [
    "print(f'{actor_graph.number_of_nodes()=:.1e}')"
   ]
  },
  {
   "cell_type": "markdown",
   "metadata": {},
   "source": [
    "#### Distribution of degree (i.e how many other actors does each actor know ?)\n",
    "\n",
    "Distribution of neighbor degrees"
   ]
  },
  {
   "cell_type": "code",
   "execution_count": 23,
   "metadata": {},
   "outputs": [],
   "source": [
    "degrees = dict(nx.degree(actor_graph_unfiltered))"
   ]
  },
  {
   "cell_type": "code",
   "execution_count": 24,
   "metadata": {},
   "outputs": [
    {
     "data": {
      "image/png": "[encoded data removed]",
      "text/plain": [
       "<Figure size 640x480 with 1 Axes>"
      ]
     },
     "metadata": {},
     "output_type": "display_data"
    }
   ],
   "source": [
    "sns.histplot(degrees.values(), log_scale=(False, True), binwidth=1);"
   ]
  },
  {
   "cell_type": "markdown",
   "metadata": {},
   "source": [
    "-> Does not look like an exponential law"
   ]
  },
  {
   "cell_type": "code",
   "execution_count": 25,
   "metadata": {},
   "outputs": [
    {
     "data": {
      "image/png": "[encoded data removed]",
      "text/plain": [
       "<Figure size 640x480 with 1 Axes>"
      ]
     },
     "metadata": {},
     "output_type": "display_data"
    }
   ],
   "source": [
    "fig, ax = plt.subplots()\n",
    "ax.plot(sorted(degrees.values()), (np.arange(1, len(degrees)+1)/len(degrees))[::-1])\n",
    "ax.set_yscale('log')\n",
    "ax.set_xscale('log')\n",
    "ax.set_ylabel('fraction of degrees with > k')\n",
    "ax.set_xlabel('degree k');"
   ]
  },
  {
   "cell_type": "markdown",
   "metadata": {},
   "source": [
    "-> 3 different regimes, might be power law between `10**1` and `5*10**3`, and another power law after `5*10**3`\n",
    "\n",
    "-> this is weird, normally social graphs are power laws with one exponent\n",
    "\n",
    "-> note that for unfiltered actors this 3-regime is more strongly pronounced"
   ]
  },
  {
   "cell_type": "code",
   "execution_count": 1,
   "metadata": {},
   "outputs": [],
   "source": [
    "# NOTE to self : this visualization is misleading ! \n",
    "# if we plot the raw value_counts(), we see a nice power law !\n",
    "# it looks like it has a kink, but that's just a binning artefact"
   ]
  },
  {
   "cell_type": "markdown",
   "metadata": {},
   "source": [
    "#### Distribution of average degree connectivity\n",
    "\n",
    "The average degree connectivity is the average nearest neighbor degree of nodes with degree k."
   ]
  },
  {
   "cell_type": "code",
   "execution_count": 26,
   "metadata": {},
   "outputs": [],
   "source": [
    "average_degree_connectivity = nx.average_degree_connectivity(actor_graph_unfiltered)"
   ]
  },
  {
   "cell_type": "code",
   "execution_count": 27,
   "metadata": {},
   "outputs": [
    {
     "data": {
      "image/png": "[encoded data removed]",
      "text/plain": [
       "<Figure size 640x480 with 1 Axes>"
      ]
     },
     "metadata": {},
     "output_type": "display_data"
    }
   ],
   "source": [
    "fig, ax = plt.subplots()\n",
    "ax.scatter(average_degree_connectivity.keys(), average_degree_connectivity.values(), s=2)\n",
    "ax.set_xlabel('degree k')\n",
    "ax.set_ylabel('average neighbor degree')\n",
    "ax.set_aspect('equal')\n",
    "plt.show()"
   ]
  },
  {
   "cell_type": "markdown",
   "metadata": {},
   "source": [
    "-> on average, the neighbors of actors are connected to more people than the actors themselves\n",
    "\n",
    "(This is characteristic of social graphs !)"
   ]
  },
  {
   "cell_type": "markdown",
   "metadata": {},
   "source": [
    "#### Distribution of neighbor degrees"
   ]
  },
  {
   "cell_type": "code",
   "execution_count": 28,
   "metadata": {},
   "outputs": [],
   "source": [
    "average_neighbor_degree = nx.average_neighbor_degree(actor_graph_unfiltered)"
   ]
  },
  {
   "cell_type": "code",
   "execution_count": 29,
   "metadata": {},
   "outputs": [
    {
     "data": {
      "text/plain": [
       "<AxesSubplot: ylabel='Count'>"
      ]
     },
     "execution_count": 29,
     "metadata": {},
     "output_type": "execute_result"
    },
    {
     "data": {
      "image/png": "[encoded data removed]",
      "text/plain": [
       "<Figure size 640x480 with 1 Axes>"
      ]
     },
     "metadata": {},
     "output_type": "display_data"
    }
   ],
   "source": [
    "sns.histplot(average_neighbor_degree.values())"
   ]
  },
  {
   "cell_type": "markdown",
   "metadata": {},
   "source": [
    "### Create a visualization\n",
    "\n",
    "This is actually very difficult.\n",
    "\n",
    "I try to use gephi : https://gephi.org/ -> also very difficult, need to reduce the size of the graph !!"
   ]
  },
  {
   "cell_type": "code",
   "execution_count": 30,
   "metadata": {},
   "outputs": [],
   "source": [
    "# produces a 145MB file... yikes !\n",
    "# nx.write_gexf(actor_graph, '../data/generated/graph/actor_graph_bymovie.gexf')"
   ]
  },
  {
   "cell_type": "code",
   "execution_count": 31,
   "metadata": {},
   "outputs": [],
   "source": [
    "# faster to complete\n",
    "# nx.write_edgelist(actor_graph, '../data/generated/graph/actor_graph_bymovie.csv', data=False)"
   ]
  },
  {
   "cell_type": "code",
   "execution_count": 32,
   "metadata": {},
   "outputs": [],
   "source": [
    "# actor_graph_int = nx.convert_node_labels_to_integers(actor_graph)"
   ]
  },
  {
   "cell_type": "code",
   "execution_count": 33,
   "metadata": {},
   "outputs": [],
   "source": [
    "# I tried to export to a .dot format to viz with Graphviz, but this seems to hang\n",
    "# nx.nx_pydot.write_dot(actor_graph_int, '../data/generated/graph/actor_graph_bymovie.dot')"
   ]
  },
  {
   "cell_type": "code",
   "execution_count": 34,
   "metadata": {},
   "outputs": [],
   "source": [
    "# And this is suuuuper slow (never finished even one iteration lol)\n",
    "# pos = nx.spring_layout(actor_graph_int)"
   ]
  }
 ],
 "metadata": {
  "kernelspec": {
   "display_name": "Python 3 (ipykernel)",
   "language": "python",
   "name": "python3"
  },
  "language_info": {
   "codemirror_mode": {
    "name": "ipython",
    "version": 3
   },
   "file_extension": ".py",
   "mimetype": "text/x-python",
   "name": "python",
   "nbconvert_exporter": "python",
   "pygments_lexer": "ipython3",
   "version": "3.10.4"
  },
  "vscode": {
   "interpreter": {
    "hash": "4db70c0d16d735d18878bb5d3c61d9a2a19fc81b670a50de5e62ccb85a2af375"
   }
  }
 },
 "nbformat": 4,
 "nbformat_minor": 4
}
