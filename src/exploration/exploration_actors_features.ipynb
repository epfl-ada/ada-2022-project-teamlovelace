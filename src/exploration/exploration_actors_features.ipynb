{
 "cells": [
  {
   "cell_type": "markdown",
   "metadata": {},
   "source": [
    "## Exploration of the characters' features :"
   ]
  },
  {
   "cell_type": "markdown",
   "metadata": {},
   "source": [
    "* This notebook is mainly a exploration of the nationalities and ethnicities but also going deeper into the gender of movies characters and its relationship with movies genres for instance"
   ]
  },
  {
   "cell_type": "code",
   "execution_count": 1,
   "metadata": {},
   "outputs": [],
   "source": [
    "import networkx as nx\n",
    "import pandas as pd\n",
    "import itertools\n",
    "import seaborn as sns\n",
    "import matplotlib.pyplot as plt\n",
    "import numpy as np\n",
    "import json\n",
    "import plotly.express as px"
   ]
  },
  {
   "cell_type": "markdown",
   "metadata": {},
   "source": [
    "## Load preprocessed data"
   ]
  },
  {
   "cell_type": "code",
   "execution_count": 2,
   "metadata": {},
   "outputs": [
    {
     "data": {
      "text/html": [
       "<div>\n",
       "<style scoped>\n",
       "    .dataframe tbody tr th:only-of-type {\n",
       "        vertical-align: middle;\n",
       "    }\n",
       "\n",
       "    .dataframe tbody tr th {\n",
       "        vertical-align: top;\n",
       "    }\n",
       "\n",
       "    .dataframe thead th {\n",
       "        text-align: right;\n",
       "    }\n",
       "</style>\n",
       "<table border=\"1\" class=\"dataframe\">\n",
       "  <thead>\n",
       "    <tr style=\"text-align: right;\">\n",
       "      <th></th>\n",
       "      <th>wiki_id</th>\n",
       "      <th>fb_id</th>\n",
       "      <th>movie_name</th>\n",
       "      <th>movie_release</th>\n",
       "      <th>movie_revenue</th>\n",
       "      <th>movie_runtime</th>\n",
       "      <th>movie_languages</th>\n",
       "      <th>movie_countries</th>\n",
       "      <th>movie_genres</th>\n",
       "      <th>movie_release_year</th>\n",
       "      <th>principal_genre</th>\n",
       "      <th>fb_movie_id</th>\n",
       "      <th>tomato_score</th>\n",
       "    </tr>\n",
       "  </thead>\n",
       "  <tbody>\n",
       "    <tr>\n",
       "      <th>0</th>\n",
       "      <td>975900</td>\n",
       "      <td>/m/03vyhn</td>\n",
       "      <td>Ghosts of Mars</td>\n",
       "      <td>2001-08-24</td>\n",
       "      <td>14010832.0</td>\n",
       "      <td>98.0</td>\n",
       "      <td>English Language</td>\n",
       "      <td>United States of America</td>\n",
       "      <td>Thriller,Science Fiction,Horror,Adventure,Supe...</td>\n",
       "      <td>2001</td>\n",
       "      <td>Thriller</td>\n",
       "      <td>/m/03vyhn</td>\n",
       "      <td>22.0</td>\n",
       "    </tr>\n",
       "    <tr>\n",
       "      <th>1</th>\n",
       "      <td>3196793</td>\n",
       "      <td>/m/08yl5d</td>\n",
       "      <td>Getting Away with Murder: The JonBenét Ramsey ...</td>\n",
       "      <td>2000-02-16</td>\n",
       "      <td>NaN</td>\n",
       "      <td>95.0</td>\n",
       "      <td>English Language</td>\n",
       "      <td>United States of America</td>\n",
       "      <td>Mystery,Biographical film,Drama,Crime Drama</td>\n",
       "      <td>2000</td>\n",
       "      <td>Mystery</td>\n",
       "      <td>NaN</td>\n",
       "      <td>NaN</td>\n",
       "    </tr>\n",
       "    <tr>\n",
       "      <th>2</th>\n",
       "      <td>28463795</td>\n",
       "      <td>/m/0crgdbh</td>\n",
       "      <td>Brun bitter</td>\n",
       "      <td>1988</td>\n",
       "      <td>NaN</td>\n",
       "      <td>83.0</td>\n",
       "      <td>Norwegian Language</td>\n",
       "      <td>Norway</td>\n",
       "      <td>Crime Fiction,Drama</td>\n",
       "      <td>1988</td>\n",
       "      <td>Crime Fiction</td>\n",
       "      <td>NaN</td>\n",
       "      <td>NaN</td>\n",
       "    </tr>\n",
       "    <tr>\n",
       "      <th>3</th>\n",
       "      <td>9363483</td>\n",
       "      <td>/m/0285_cd</td>\n",
       "      <td>White Of The Eye</td>\n",
       "      <td>1987</td>\n",
       "      <td>NaN</td>\n",
       "      <td>110.0</td>\n",
       "      <td>English Language</td>\n",
       "      <td>United Kingdom</td>\n",
       "      <td>Thriller,Erotic thriller,Psychological thriller</td>\n",
       "      <td>1987</td>\n",
       "      <td>Thriller</td>\n",
       "      <td>/m/0285_cd</td>\n",
       "      <td>50.0</td>\n",
       "    </tr>\n",
       "    <tr>\n",
       "      <th>4</th>\n",
       "      <td>261236</td>\n",
       "      <td>/m/01mrr1</td>\n",
       "      <td>A Woman in Flames</td>\n",
       "      <td>1983</td>\n",
       "      <td>NaN</td>\n",
       "      <td>106.0</td>\n",
       "      <td>German Language</td>\n",
       "      <td>Germany</td>\n",
       "      <td>Drama</td>\n",
       "      <td>1983</td>\n",
       "      <td>Drama</td>\n",
       "      <td>NaN</td>\n",
       "      <td>NaN</td>\n",
       "    </tr>\n",
       "    <tr>\n",
       "      <th>...</th>\n",
       "      <td>...</td>\n",
       "      <td>...</td>\n",
       "      <td>...</td>\n",
       "      <td>...</td>\n",
       "      <td>...</td>\n",
       "      <td>...</td>\n",
       "      <td>...</td>\n",
       "      <td>...</td>\n",
       "      <td>...</td>\n",
       "      <td>...</td>\n",
       "      <td>...</td>\n",
       "      <td>...</td>\n",
       "      <td>...</td>\n",
       "    </tr>\n",
       "    <tr>\n",
       "      <th>81736</th>\n",
       "      <td>35228177</td>\n",
       "      <td>/m/0j7hxnt</td>\n",
       "      <td>Mermaids: The Body Found</td>\n",
       "      <td>2011-03-19</td>\n",
       "      <td>NaN</td>\n",
       "      <td>120.0</td>\n",
       "      <td>English Language</td>\n",
       "      <td>United States of America</td>\n",
       "      <td>Drama</td>\n",
       "      <td>2011</td>\n",
       "      <td>Drama</td>\n",
       "      <td>NaN</td>\n",
       "      <td>NaN</td>\n",
       "    </tr>\n",
       "    <tr>\n",
       "      <th>81737</th>\n",
       "      <td>34980460</td>\n",
       "      <td>/m/0g4pl34</td>\n",
       "      <td>Knuckle</td>\n",
       "      <td>2011-01-21</td>\n",
       "      <td>NaN</td>\n",
       "      <td>96.0</td>\n",
       "      <td>English Language</td>\n",
       "      <td>Ireland,United Kingdom</td>\n",
       "      <td>Biographical film,Drama,Documentary</td>\n",
       "      <td>2011</td>\n",
       "      <td>Biographical film</td>\n",
       "      <td>/m/0g4pl34</td>\n",
       "      <td>93.0</td>\n",
       "    </tr>\n",
       "    <tr>\n",
       "      <th>81738</th>\n",
       "      <td>9971909</td>\n",
       "      <td>/m/02pygw1</td>\n",
       "      <td>Another Nice Mess</td>\n",
       "      <td>1972-09-22</td>\n",
       "      <td>NaN</td>\n",
       "      <td>66.0</td>\n",
       "      <td>English Language</td>\n",
       "      <td>United States of America</td>\n",
       "      <td>Satire,Comedy</td>\n",
       "      <td>1972</td>\n",
       "      <td>Satire</td>\n",
       "      <td>NaN</td>\n",
       "      <td>NaN</td>\n",
       "    </tr>\n",
       "    <tr>\n",
       "      <th>81739</th>\n",
       "      <td>913762</td>\n",
       "      <td>/m/03pcrp</td>\n",
       "      <td>The Super Dimension Fortress Macross II: Lover...</td>\n",
       "      <td>1992-05-21</td>\n",
       "      <td>NaN</td>\n",
       "      <td>150.0</td>\n",
       "      <td>Japanese Language</td>\n",
       "      <td>Japan</td>\n",
       "      <td>Science Fiction,Japanese Movies,Adventure,Anim...</td>\n",
       "      <td>1992</td>\n",
       "      <td>Science Fiction</td>\n",
       "      <td>NaN</td>\n",
       "      <td>NaN</td>\n",
       "    </tr>\n",
       "    <tr>\n",
       "      <th>81740</th>\n",
       "      <td>12476867</td>\n",
       "      <td>/m/02w7zz8</td>\n",
       "      <td>Spliced</td>\n",
       "      <td>2002</td>\n",
       "      <td>NaN</td>\n",
       "      <td>86.0</td>\n",
       "      <td>English Language</td>\n",
       "      <td>Canada</td>\n",
       "      <td>Thriller,Horror,Slasher,Teen</td>\n",
       "      <td>2002</td>\n",
       "      <td>Thriller</td>\n",
       "      <td>NaN</td>\n",
       "      <td>NaN</td>\n",
       "    </tr>\n",
       "  </tbody>\n",
       "</table>\n",
       "<p>81741 rows × 13 columns</p>\n",
       "</div>"
      ],
      "text/plain": [
       "        wiki_id       fb_id  \\\n",
       "0        975900   /m/03vyhn   \n",
       "1       3196793   /m/08yl5d   \n",
       "2      28463795  /m/0crgdbh   \n",
       "3       9363483  /m/0285_cd   \n",
       "4        261236   /m/01mrr1   \n",
       "...         ...         ...   \n",
       "81736  35228177  /m/0j7hxnt   \n",
       "81737  34980460  /m/0g4pl34   \n",
       "81738   9971909  /m/02pygw1   \n",
       "81739    913762   /m/03pcrp   \n",
       "81740  12476867  /m/02w7zz8   \n",
       "\n",
       "                                              movie_name movie_release  \\\n",
       "0                                         Ghosts of Mars    2001-08-24   \n",
       "1      Getting Away with Murder: The JonBenét Ramsey ...    2000-02-16   \n",
       "2                                            Brun bitter          1988   \n",
       "3                                       White Of The Eye          1987   \n",
       "4                                      A Woman in Flames          1983   \n",
       "...                                                  ...           ...   \n",
       "81736                           Mermaids: The Body Found    2011-03-19   \n",
       "81737                                            Knuckle    2011-01-21   \n",
       "81738                                  Another Nice Mess    1972-09-22   \n",
       "81739  The Super Dimension Fortress Macross II: Lover...    1992-05-21   \n",
       "81740                                            Spliced          2002   \n",
       "\n",
       "       movie_revenue  movie_runtime     movie_languages  \\\n",
       "0         14010832.0           98.0    English Language   \n",
       "1                NaN           95.0    English Language   \n",
       "2                NaN           83.0  Norwegian Language   \n",
       "3                NaN          110.0    English Language   \n",
       "4                NaN          106.0     German Language   \n",
       "...              ...            ...                 ...   \n",
       "81736            NaN          120.0    English Language   \n",
       "81737            NaN           96.0    English Language   \n",
       "81738            NaN           66.0    English Language   \n",
       "81739            NaN          150.0   Japanese Language   \n",
       "81740            NaN           86.0    English Language   \n",
       "\n",
       "                movie_countries  \\\n",
       "0      United States of America   \n",
       "1      United States of America   \n",
       "2                        Norway   \n",
       "3                United Kingdom   \n",
       "4                       Germany   \n",
       "...                         ...   \n",
       "81736  United States of America   \n",
       "81737    Ireland,United Kingdom   \n",
       "81738  United States of America   \n",
       "81739                     Japan   \n",
       "81740                    Canada   \n",
       "\n",
       "                                            movie_genres  movie_release_year  \\\n",
       "0      Thriller,Science Fiction,Horror,Adventure,Supe...                2001   \n",
       "1            Mystery,Biographical film,Drama,Crime Drama                2000   \n",
       "2                                    Crime Fiction,Drama                1988   \n",
       "3        Thriller,Erotic thriller,Psychological thriller                1987   \n",
       "4                                                  Drama                1983   \n",
       "...                                                  ...                 ...   \n",
       "81736                                              Drama                2011   \n",
       "81737                Biographical film,Drama,Documentary                2011   \n",
       "81738                                      Satire,Comedy                1972   \n",
       "81739  Science Fiction,Japanese Movies,Adventure,Anim...                1992   \n",
       "81740                       Thriller,Horror,Slasher,Teen                2002   \n",
       "\n",
       "         principal_genre fb_movie_id  tomato_score  \n",
       "0               Thriller   /m/03vyhn          22.0  \n",
       "1                Mystery         NaN           NaN  \n",
       "2          Crime Fiction         NaN           NaN  \n",
       "3               Thriller  /m/0285_cd          50.0  \n",
       "4                  Drama         NaN           NaN  \n",
       "...                  ...         ...           ...  \n",
       "81736              Drama         NaN           NaN  \n",
       "81737  Biographical film  /m/0g4pl34          93.0  \n",
       "81738             Satire         NaN           NaN  \n",
       "81739    Science Fiction         NaN           NaN  \n",
       "81740           Thriller         NaN           NaN  \n",
       "\n",
       "[81741 rows x 13 columns]"
      ]
     },
     "execution_count": 2,
     "metadata": {},
     "output_type": "execute_result"
    }
   ],
   "source": [
    "df_movies = pd.read_pickle('../data/generated/preprocessed/movies.pkl')\n",
    "df_movies"
   ]
  },
  {
   "cell_type": "code",
   "execution_count": 3,
   "metadata": {},
   "outputs": [
    {
     "data": {
      "text/html": [
       "<div>\n",
       "<style scoped>\n",
       "    .dataframe tbody tr th:only-of-type {\n",
       "        vertical-align: middle;\n",
       "    }\n",
       "\n",
       "    .dataframe tbody tr th {\n",
       "        vertical-align: top;\n",
       "    }\n",
       "\n",
       "    .dataframe thead th {\n",
       "        text-align: right;\n",
       "    }\n",
       "</style>\n",
       "<table border=\"1\" class=\"dataframe\">\n",
       "  <thead>\n",
       "    <tr style=\"text-align: right;\">\n",
       "      <th></th>\n",
       "      <th>wiki_id</th>\n",
       "      <th>fb_movie_id</th>\n",
       "      <th>release</th>\n",
       "      <th>character_name</th>\n",
       "      <th>actor_age</th>\n",
       "      <th>fb_char_id</th>\n",
       "      <th>fb_actor_id</th>\n",
       "      <th>actor_name</th>\n",
       "      <th>actor_birth</th>\n",
       "      <th>ethnicity</th>\n",
       "      <th>actor_height</th>\n",
       "      <th>actor_gender</th>\n",
       "      <th>actor_nationality</th>\n",
       "    </tr>\n",
       "  </thead>\n",
       "  <tbody>\n",
       "    <tr>\n",
       "      <th>0</th>\n",
       "      <td>975900</td>\n",
       "      <td>/m/03vyhn</td>\n",
       "      <td>2001-08-24</td>\n",
       "      <td>Akooshay</td>\n",
       "      <td>42.0</td>\n",
       "      <td>/m/0bgchxw</td>\n",
       "      <td>/m/03wcfv7</td>\n",
       "      <td>Wanda De Jesus</td>\n",
       "      <td>1958-08-26</td>\n",
       "      <td>NaN</td>\n",
       "      <td>1.62</td>\n",
       "      <td>F</td>\n",
       "      <td>United States of America</td>\n",
       "    </tr>\n",
       "    <tr>\n",
       "      <th>1</th>\n",
       "      <td>24767455</td>\n",
       "      <td>/m/0809s7n</td>\n",
       "      <td>2009-10-16</td>\n",
       "      <td>Captain Diaz</td>\n",
       "      <td>51.0</td>\n",
       "      <td>/m/08d9z0b</td>\n",
       "      <td>/m/03wcfv7</td>\n",
       "      <td>Wanda De Jesus</td>\n",
       "      <td>1958-08-26</td>\n",
       "      <td>NaN</td>\n",
       "      <td>1.62</td>\n",
       "      <td>F</td>\n",
       "      <td>United States of America</td>\n",
       "    </tr>\n",
       "    <tr>\n",
       "      <th>2</th>\n",
       "      <td>5337169</td>\n",
       "      <td>/m/0dg7mt</td>\n",
       "      <td>2001</td>\n",
       "      <td>NaN</td>\n",
       "      <td>42.0</td>\n",
       "      <td>/m/04htxdc</td>\n",
       "      <td>/m/03wcfv7</td>\n",
       "      <td>Wanda De Jesus</td>\n",
       "      <td>1958-08-26</td>\n",
       "      <td>NaN</td>\n",
       "      <td>1.62</td>\n",
       "      <td>F</td>\n",
       "      <td>United States of America</td>\n",
       "    </tr>\n",
       "    <tr>\n",
       "      <th>3</th>\n",
       "      <td>1330220</td>\n",
       "      <td>/m/04t8wq</td>\n",
       "      <td>1990-06-22</td>\n",
       "      <td>NaN</td>\n",
       "      <td>31.0</td>\n",
       "      <td>/m/0cg7kl2</td>\n",
       "      <td>/m/03wcfv7</td>\n",
       "      <td>Wanda De Jesus</td>\n",
       "      <td>1958-08-26</td>\n",
       "      <td>NaN</td>\n",
       "      <td>1.62</td>\n",
       "      <td>F</td>\n",
       "      <td>United States of America</td>\n",
       "    </tr>\n",
       "    <tr>\n",
       "      <th>4</th>\n",
       "      <td>14686017</td>\n",
       "      <td>/m/03gt21w</td>\n",
       "      <td>1990-01-12</td>\n",
       "      <td>NaN</td>\n",
       "      <td>31.0</td>\n",
       "      <td>/m/09j0r8t</td>\n",
       "      <td>/m/03wcfv7</td>\n",
       "      <td>Wanda De Jesus</td>\n",
       "      <td>1958-08-26</td>\n",
       "      <td>NaN</td>\n",
       "      <td>1.62</td>\n",
       "      <td>F</td>\n",
       "      <td>United States of America</td>\n",
       "    </tr>\n",
       "    <tr>\n",
       "      <th>...</th>\n",
       "      <td>...</td>\n",
       "      <td>...</td>\n",
       "      <td>...</td>\n",
       "      <td>...</td>\n",
       "      <td>...</td>\n",
       "      <td>...</td>\n",
       "      <td>...</td>\n",
       "      <td>...</td>\n",
       "      <td>...</td>\n",
       "      <td>...</td>\n",
       "      <td>...</td>\n",
       "      <td>...</td>\n",
       "      <td>...</td>\n",
       "    </tr>\n",
       "    <tr>\n",
       "      <th>450664</th>\n",
       "      <td>913762</td>\n",
       "      <td>/m/03pcrp</td>\n",
       "      <td>1992-05-21</td>\n",
       "      <td>Additional Voices</td>\n",
       "      <td>38.0</td>\n",
       "      <td>/m/0kr405f</td>\n",
       "      <td>/m/0gn4bz</td>\n",
       "      <td>Sonny Byrkett</td>\n",
       "      <td>1954</td>\n",
       "      <td>NaN</td>\n",
       "      <td>NaN</td>\n",
       "      <td>M</td>\n",
       "      <td>NaN</td>\n",
       "    </tr>\n",
       "    <tr>\n",
       "      <th>450665</th>\n",
       "      <td>913762</td>\n",
       "      <td>/m/03pcrp</td>\n",
       "      <td>1992-05-21</td>\n",
       "      <td>UN Spacy Commander</td>\n",
       "      <td>38.0</td>\n",
       "      <td>/m/0kr407w</td>\n",
       "      <td>/m/0gn4bz</td>\n",
       "      <td>Sonny Byrkett</td>\n",
       "      <td>1954</td>\n",
       "      <td>NaN</td>\n",
       "      <td>NaN</td>\n",
       "      <td>M</td>\n",
       "      <td>NaN</td>\n",
       "    </tr>\n",
       "    <tr>\n",
       "      <th>450666</th>\n",
       "      <td>913762</td>\n",
       "      <td>/m/03pcrp</td>\n",
       "      <td>1992-05-21</td>\n",
       "      <td>Silvie Gena</td>\n",
       "      <td>34.0</td>\n",
       "      <td>/m/0kr40b9</td>\n",
       "      <td>/m/0gn4nd</td>\n",
       "      <td>Susan Byrkett</td>\n",
       "      <td>1958</td>\n",
       "      <td>NaN</td>\n",
       "      <td>NaN</td>\n",
       "      <td>F</td>\n",
       "      <td>NaN</td>\n",
       "    </tr>\n",
       "    <tr>\n",
       "      <th>450667</th>\n",
       "      <td>913762</td>\n",
       "      <td>/m/03pcrp</td>\n",
       "      <td>1992-05-21</td>\n",
       "      <td>Exegran</td>\n",
       "      <td>NaN</td>\n",
       "      <td>/m/0kr407c</td>\n",
       "      <td>/m/0kr407h</td>\n",
       "      <td>Hal Cleaveland</td>\n",
       "      <td>NaN</td>\n",
       "      <td>NaN</td>\n",
       "      <td>NaN</td>\n",
       "      <td>M</td>\n",
       "      <td>NaN</td>\n",
       "    </tr>\n",
       "    <tr>\n",
       "      <th>450668</th>\n",
       "      <td>28308153</td>\n",
       "      <td>/m/0cp05t9</td>\n",
       "      <td>1957</td>\n",
       "      <td>NaN</td>\n",
       "      <td>NaN</td>\n",
       "      <td>/m/0g8ngmj</td>\n",
       "      <td>/m/0g8ngmm</td>\n",
       "      <td>Roberta Paterson</td>\n",
       "      <td>NaN</td>\n",
       "      <td>NaN</td>\n",
       "      <td>NaN</td>\n",
       "      <td>NaN</td>\n",
       "      <td>NaN</td>\n",
       "    </tr>\n",
       "  </tbody>\n",
       "</table>\n",
       "<p>450669 rows × 13 columns</p>\n",
       "</div>"
      ],
      "text/plain": [
       "         wiki_id fb_movie_id     release      character_name  actor_age  \\\n",
       "0         975900   /m/03vyhn  2001-08-24            Akooshay       42.0   \n",
       "1       24767455  /m/0809s7n  2009-10-16        Captain Diaz       51.0   \n",
       "2        5337169   /m/0dg7mt        2001                 NaN       42.0   \n",
       "3        1330220   /m/04t8wq  1990-06-22                 NaN       31.0   \n",
       "4       14686017  /m/03gt21w  1990-01-12                 NaN       31.0   \n",
       "...          ...         ...         ...                 ...        ...   \n",
       "450664    913762   /m/03pcrp  1992-05-21   Additional Voices       38.0   \n",
       "450665    913762   /m/03pcrp  1992-05-21  UN Spacy Commander       38.0   \n",
       "450666    913762   /m/03pcrp  1992-05-21         Silvie Gena       34.0   \n",
       "450667    913762   /m/03pcrp  1992-05-21             Exegran        NaN   \n",
       "450668  28308153  /m/0cp05t9        1957                 NaN        NaN   \n",
       "\n",
       "        fb_char_id fb_actor_id        actor_name actor_birth ethnicity  \\\n",
       "0       /m/0bgchxw  /m/03wcfv7    Wanda De Jesus  1958-08-26       NaN   \n",
       "1       /m/08d9z0b  /m/03wcfv7    Wanda De Jesus  1958-08-26       NaN   \n",
       "2       /m/04htxdc  /m/03wcfv7    Wanda De Jesus  1958-08-26       NaN   \n",
       "3       /m/0cg7kl2  /m/03wcfv7    Wanda De Jesus  1958-08-26       NaN   \n",
       "4       /m/09j0r8t  /m/03wcfv7    Wanda De Jesus  1958-08-26       NaN   \n",
       "...            ...         ...               ...         ...       ...   \n",
       "450664  /m/0kr405f   /m/0gn4bz     Sonny Byrkett        1954       NaN   \n",
       "450665  /m/0kr407w   /m/0gn4bz     Sonny Byrkett        1954       NaN   \n",
       "450666  /m/0kr40b9   /m/0gn4nd     Susan Byrkett        1958       NaN   \n",
       "450667  /m/0kr407c  /m/0kr407h    Hal Cleaveland         NaN       NaN   \n",
       "450668  /m/0g8ngmj  /m/0g8ngmm  Roberta Paterson         NaN       NaN   \n",
       "\n",
       "        actor_height actor_gender         actor_nationality  \n",
       "0               1.62            F  United States of America  \n",
       "1               1.62            F  United States of America  \n",
       "2               1.62            F  United States of America  \n",
       "3               1.62            F  United States of America  \n",
       "4               1.62            F  United States of America  \n",
       "...              ...          ...                       ...  \n",
       "450664           NaN            M                       NaN  \n",
       "450665           NaN            M                       NaN  \n",
       "450666           NaN            F                       NaN  \n",
       "450667           NaN            M                       NaN  \n",
       "450668           NaN          NaN                       NaN  \n",
       "\n",
       "[450669 rows x 13 columns]"
      ]
     },
     "execution_count": 3,
     "metadata": {},
     "output_type": "execute_result"
    }
   ],
   "source": [
    "df_characters = pd.read_pickle('../data/generated/preprocessed/characters.pkl')\n",
    "df_characters\n"
   ]
  },
  {
   "cell_type": "code",
   "execution_count": 4,
   "metadata": {},
   "outputs": [],
   "source": [
    "# Create a merge table (on the movie_id) between characters and movies \n",
    "merge_table = pd.merge(df_characters, df_movies, on=[\"wiki_id\"])"
   ]
  },
  {
   "cell_type": "markdown",
   "metadata": {},
   "source": [
    "## Analysis of the number of rate between local actors and foreign actors in movies"
   ]
  },
  {
   "cell_type": "code",
   "execution_count": 5,
   "metadata": {},
   "outputs": [
    {
     "data": {
      "text/html": [
       "<div>\n",
       "<style scoped>\n",
       "    .dataframe tbody tr th:only-of-type {\n",
       "        vertical-align: middle;\n",
       "    }\n",
       "\n",
       "    .dataframe tbody tr th {\n",
       "        vertical-align: top;\n",
       "    }\n",
       "\n",
       "    .dataframe thead th {\n",
       "        text-align: right;\n",
       "    }\n",
       "</style>\n",
       "<table border=\"1\" class=\"dataframe\">\n",
       "  <thead>\n",
       "    <tr style=\"text-align: right;\">\n",
       "      <th></th>\n",
       "      <th>wiki_id</th>\n",
       "      <th>fb_movie_id</th>\n",
       "      <th>release</th>\n",
       "      <th>character_name</th>\n",
       "      <th>actor_age</th>\n",
       "      <th>fb_char_id</th>\n",
       "      <th>fb_actor_id</th>\n",
       "      <th>actor_name</th>\n",
       "      <th>actor_birth</th>\n",
       "      <th>ethnicity</th>\n",
       "      <th>actor_height</th>\n",
       "      <th>actor_gender</th>\n",
       "      <th>actor_nationality</th>\n",
       "      <th>local_actor</th>\n",
       "      <th>local_rate</th>\n",
       "    </tr>\n",
       "  </thead>\n",
       "  <tbody>\n",
       "    <tr>\n",
       "      <th>0</th>\n",
       "      <td>975900</td>\n",
       "      <td>/m/03vyhn</td>\n",
       "      <td>2001-08-24</td>\n",
       "      <td>Akooshay</td>\n",
       "      <td>42.0</td>\n",
       "      <td>/m/0bgchxw</td>\n",
       "      <td>/m/03wcfv7</td>\n",
       "      <td>Wanda De Jesus</td>\n",
       "      <td>1958-08-26</td>\n",
       "      <td>NaN</td>\n",
       "      <td>1.62</td>\n",
       "      <td>F</td>\n",
       "      <td>United States of America</td>\n",
       "      <td>True</td>\n",
       "      <td>0.705882</td>\n",
       "    </tr>\n",
       "    <tr>\n",
       "      <th>1</th>\n",
       "      <td>24767455</td>\n",
       "      <td>/m/0809s7n</td>\n",
       "      <td>2009-10-16</td>\n",
       "      <td>Captain Diaz</td>\n",
       "      <td>51.0</td>\n",
       "      <td>/m/08d9z0b</td>\n",
       "      <td>/m/03wcfv7</td>\n",
       "      <td>Wanda De Jesus</td>\n",
       "      <td>1958-08-26</td>\n",
       "      <td>NaN</td>\n",
       "      <td>1.62</td>\n",
       "      <td>F</td>\n",
       "      <td>United States of America</td>\n",
       "      <td>False</td>\n",
       "      <td>0.571429</td>\n",
       "    </tr>\n",
       "    <tr>\n",
       "      <th>2</th>\n",
       "      <td>5337169</td>\n",
       "      <td>/m/0dg7mt</td>\n",
       "      <td>2001</td>\n",
       "      <td>NaN</td>\n",
       "      <td>42.0</td>\n",
       "      <td>/m/04htxdc</td>\n",
       "      <td>/m/03wcfv7</td>\n",
       "      <td>Wanda De Jesus</td>\n",
       "      <td>1958-08-26</td>\n",
       "      <td>NaN</td>\n",
       "      <td>1.62</td>\n",
       "      <td>F</td>\n",
       "      <td>United States of America</td>\n",
       "      <td>True</td>\n",
       "      <td>0.750000</td>\n",
       "    </tr>\n",
       "    <tr>\n",
       "      <th>3</th>\n",
       "      <td>1330220</td>\n",
       "      <td>/m/04t8wq</td>\n",
       "      <td>1990-06-22</td>\n",
       "      <td>NaN</td>\n",
       "      <td>31.0</td>\n",
       "      <td>/m/0cg7kl2</td>\n",
       "      <td>/m/03wcfv7</td>\n",
       "      <td>Wanda De Jesus</td>\n",
       "      <td>1958-08-26</td>\n",
       "      <td>NaN</td>\n",
       "      <td>1.62</td>\n",
       "      <td>F</td>\n",
       "      <td>United States of America</td>\n",
       "      <td>False</td>\n",
       "      <td>0.521739</td>\n",
       "    </tr>\n",
       "    <tr>\n",
       "      <th>4</th>\n",
       "      <td>14686017</td>\n",
       "      <td>/m/03gt21w</td>\n",
       "      <td>1990-01-12</td>\n",
       "      <td>NaN</td>\n",
       "      <td>31.0</td>\n",
       "      <td>/m/09j0r8t</td>\n",
       "      <td>/m/03wcfv7</td>\n",
       "      <td>Wanda De Jesus</td>\n",
       "      <td>1958-08-26</td>\n",
       "      <td>NaN</td>\n",
       "      <td>1.62</td>\n",
       "      <td>F</td>\n",
       "      <td>United States of America</td>\n",
       "      <td>True</td>\n",
       "      <td>0.785714</td>\n",
       "    </tr>\n",
       "    <tr>\n",
       "      <th>...</th>\n",
       "      <td>...</td>\n",
       "      <td>...</td>\n",
       "      <td>...</td>\n",
       "      <td>...</td>\n",
       "      <td>...</td>\n",
       "      <td>...</td>\n",
       "      <td>...</td>\n",
       "      <td>...</td>\n",
       "      <td>...</td>\n",
       "      <td>...</td>\n",
       "      <td>...</td>\n",
       "      <td>...</td>\n",
       "      <td>...</td>\n",
       "      <td>...</td>\n",
       "      <td>...</td>\n",
       "    </tr>\n",
       "    <tr>\n",
       "      <th>450664</th>\n",
       "      <td>913762</td>\n",
       "      <td>/m/03pcrp</td>\n",
       "      <td>1992-05-21</td>\n",
       "      <td>Additional Voices</td>\n",
       "      <td>38.0</td>\n",
       "      <td>/m/0kr405f</td>\n",
       "      <td>/m/0gn4bz</td>\n",
       "      <td>Sonny Byrkett</td>\n",
       "      <td>1954</td>\n",
       "      <td>NaN</td>\n",
       "      <td>NaN</td>\n",
       "      <td>M</td>\n",
       "      <td>NaN</td>\n",
       "      <td>False</td>\n",
       "      <td>0.466667</td>\n",
       "    </tr>\n",
       "    <tr>\n",
       "      <th>450665</th>\n",
       "      <td>913762</td>\n",
       "      <td>/m/03pcrp</td>\n",
       "      <td>1992-05-21</td>\n",
       "      <td>UN Spacy Commander</td>\n",
       "      <td>38.0</td>\n",
       "      <td>/m/0kr407w</td>\n",
       "      <td>/m/0gn4bz</td>\n",
       "      <td>Sonny Byrkett</td>\n",
       "      <td>1954</td>\n",
       "      <td>NaN</td>\n",
       "      <td>NaN</td>\n",
       "      <td>M</td>\n",
       "      <td>NaN</td>\n",
       "      <td>False</td>\n",
       "      <td>0.466667</td>\n",
       "    </tr>\n",
       "    <tr>\n",
       "      <th>450666</th>\n",
       "      <td>913762</td>\n",
       "      <td>/m/03pcrp</td>\n",
       "      <td>1992-05-21</td>\n",
       "      <td>Silvie Gena</td>\n",
       "      <td>34.0</td>\n",
       "      <td>/m/0kr40b9</td>\n",
       "      <td>/m/0gn4nd</td>\n",
       "      <td>Susan Byrkett</td>\n",
       "      <td>1958</td>\n",
       "      <td>NaN</td>\n",
       "      <td>NaN</td>\n",
       "      <td>F</td>\n",
       "      <td>NaN</td>\n",
       "      <td>False</td>\n",
       "      <td>0.466667</td>\n",
       "    </tr>\n",
       "    <tr>\n",
       "      <th>450667</th>\n",
       "      <td>913762</td>\n",
       "      <td>/m/03pcrp</td>\n",
       "      <td>1992-05-21</td>\n",
       "      <td>Exegran</td>\n",
       "      <td>NaN</td>\n",
       "      <td>/m/0kr407c</td>\n",
       "      <td>/m/0kr407h</td>\n",
       "      <td>Hal Cleaveland</td>\n",
       "      <td>NaN</td>\n",
       "      <td>NaN</td>\n",
       "      <td>NaN</td>\n",
       "      <td>M</td>\n",
       "      <td>NaN</td>\n",
       "      <td>False</td>\n",
       "      <td>0.466667</td>\n",
       "    </tr>\n",
       "    <tr>\n",
       "      <th>450668</th>\n",
       "      <td>28308153</td>\n",
       "      <td>/m/0cp05t9</td>\n",
       "      <td>1957</td>\n",
       "      <td>NaN</td>\n",
       "      <td>NaN</td>\n",
       "      <td>/m/0g8ngmj</td>\n",
       "      <td>/m/0g8ngmm</td>\n",
       "      <td>Roberta Paterson</td>\n",
       "      <td>NaN</td>\n",
       "      <td>NaN</td>\n",
       "      <td>NaN</td>\n",
       "      <td>NaN</td>\n",
       "      <td>NaN</td>\n",
       "      <td>False</td>\n",
       "      <td>0.333333</td>\n",
       "    </tr>\n",
       "  </tbody>\n",
       "</table>\n",
       "<p>450669 rows × 15 columns</p>\n",
       "</div>"
      ],
      "text/plain": [
       "         wiki_id fb_movie_id     release      character_name  actor_age  \\\n",
       "0         975900   /m/03vyhn  2001-08-24            Akooshay       42.0   \n",
       "1       24767455  /m/0809s7n  2009-10-16        Captain Diaz       51.0   \n",
       "2        5337169   /m/0dg7mt        2001                 NaN       42.0   \n",
       "3        1330220   /m/04t8wq  1990-06-22                 NaN       31.0   \n",
       "4       14686017  /m/03gt21w  1990-01-12                 NaN       31.0   \n",
       "...          ...         ...         ...                 ...        ...   \n",
       "450664    913762   /m/03pcrp  1992-05-21   Additional Voices       38.0   \n",
       "450665    913762   /m/03pcrp  1992-05-21  UN Spacy Commander       38.0   \n",
       "450666    913762   /m/03pcrp  1992-05-21         Silvie Gena       34.0   \n",
       "450667    913762   /m/03pcrp  1992-05-21             Exegran        NaN   \n",
       "450668  28308153  /m/0cp05t9        1957                 NaN        NaN   \n",
       "\n",
       "        fb_char_id fb_actor_id        actor_name actor_birth ethnicity  \\\n",
       "0       /m/0bgchxw  /m/03wcfv7    Wanda De Jesus  1958-08-26       NaN   \n",
       "1       /m/08d9z0b  /m/03wcfv7    Wanda De Jesus  1958-08-26       NaN   \n",
       "2       /m/04htxdc  /m/03wcfv7    Wanda De Jesus  1958-08-26       NaN   \n",
       "3       /m/0cg7kl2  /m/03wcfv7    Wanda De Jesus  1958-08-26       NaN   \n",
       "4       /m/09j0r8t  /m/03wcfv7    Wanda De Jesus  1958-08-26       NaN   \n",
       "...            ...         ...               ...         ...       ...   \n",
       "450664  /m/0kr405f   /m/0gn4bz     Sonny Byrkett        1954       NaN   \n",
       "450665  /m/0kr407w   /m/0gn4bz     Sonny Byrkett        1954       NaN   \n",
       "450666  /m/0kr40b9   /m/0gn4nd     Susan Byrkett        1958       NaN   \n",
       "450667  /m/0kr407c  /m/0kr407h    Hal Cleaveland         NaN       NaN   \n",
       "450668  /m/0g8ngmj  /m/0g8ngmm  Roberta Paterson         NaN       NaN   \n",
       "\n",
       "        actor_height actor_gender         actor_nationality  local_actor  \\\n",
       "0               1.62            F  United States of America         True   \n",
       "1               1.62            F  United States of America        False   \n",
       "2               1.62            F  United States of America         True   \n",
       "3               1.62            F  United States of America        False   \n",
       "4               1.62            F  United States of America         True   \n",
       "...              ...          ...                       ...          ...   \n",
       "450664           NaN            M                       NaN        False   \n",
       "450665           NaN            M                       NaN        False   \n",
       "450666           NaN            F                       NaN        False   \n",
       "450667           NaN            M                       NaN        False   \n",
       "450668           NaN          NaN                       NaN        False   \n",
       "\n",
       "        local_rate  \n",
       "0         0.705882  \n",
       "1         0.571429  \n",
       "2         0.750000  \n",
       "3         0.521739  \n",
       "4         0.785714  \n",
       "...            ...  \n",
       "450664    0.466667  \n",
       "450665    0.466667  \n",
       "450666    0.466667  \n",
       "450667    0.466667  \n",
       "450668    0.333333  \n",
       "\n",
       "[450669 rows x 15 columns]"
      ]
     },
     "execution_count": 5,
     "metadata": {},
     "output_type": "execute_result"
    }
   ],
   "source": [
    "#create a new column in character table which indicates if the actor who is playing the role is a local actor or not\n",
    "df_characters['local_actor']= merge_table.apply(lambda x: x.movie_countries.find(str(x.actor_nationality)), axis=1).apply(lambda x: False if x < 0 else True)\n",
    "df_characters[df_characters.actor_nationality.isnull() == False]\n",
    "\n",
    "#create a new column in characters table where we compute the rate of local actor in the movie where the character appears\n",
    "groupby =df_characters.groupby('wiki_id')['local_actor'].agg(['mean'])\n",
    "df_characters['local_rate']= df_characters['wiki_id'].apply(lambda x: groupby.loc[x]['mean'])\n",
    "df_characters\n"
   ]
  },
  {
   "cell_type": "code",
   "execution_count": 6,
   "metadata": {},
   "outputs": [],
   "source": [
    "#we drop the duplicates of wiki_id to keep only 1 example of the movie.\n",
    "#we don't care about the characters because we only keep the wiki_id, the movie_release_year and the local_rate.\n",
    "rate_table = pd.merge(df_movies[['wiki_id','movie_release_year']], df_characters[['wiki_id','local_rate']].drop_duplicates(subset=['wiki_id']) , on='wiki_id')\n"
   ]
  },
  {
   "cell_type": "code",
   "execution_count": 7,
   "metadata": {},
   "outputs": [
    {
     "data": {
      "text/html": [
       "<div>\n",
       "<style scoped>\n",
       "    .dataframe tbody tr th:only-of-type {\n",
       "        vertical-align: middle;\n",
       "    }\n",
       "\n",
       "    .dataframe tbody tr th {\n",
       "        vertical-align: top;\n",
       "    }\n",
       "\n",
       "    .dataframe thead th {\n",
       "        text-align: right;\n",
       "    }\n",
       "</style>\n",
       "<table border=\"1\" class=\"dataframe\">\n",
       "  <thead>\n",
       "    <tr style=\"text-align: right;\">\n",
       "      <th></th>\n",
       "      <th>average_local_rate</th>\n",
       "      <th>std_dev_local_rate</th>\n",
       "    </tr>\n",
       "    <tr>\n",
       "      <th>movie_release_year</th>\n",
       "      <th></th>\n",
       "      <th></th>\n",
       "    </tr>\n",
       "  </thead>\n",
       "  <tbody>\n",
       "    <tr>\n",
       "      <th>1894</th>\n",
       "      <td>0.750000</td>\n",
       "      <td>0.500000</td>\n",
       "    </tr>\n",
       "    <tr>\n",
       "      <th>1896</th>\n",
       "      <td>0.466667</td>\n",
       "      <td>0.505525</td>\n",
       "    </tr>\n",
       "    <tr>\n",
       "      <th>1897</th>\n",
       "      <td>0.250000</td>\n",
       "      <td>0.353553</td>\n",
       "    </tr>\n",
       "    <tr>\n",
       "      <th>1898</th>\n",
       "      <td>0.333333</td>\n",
       "      <td>0.577350</td>\n",
       "    </tr>\n",
       "    <tr>\n",
       "      <th>1899</th>\n",
       "      <td>0.476190</td>\n",
       "      <td>0.501698</td>\n",
       "    </tr>\n",
       "    <tr>\n",
       "      <th>...</th>\n",
       "      <td>...</td>\n",
       "      <td>...</td>\n",
       "    </tr>\n",
       "    <tr>\n",
       "      <th>2011</th>\n",
       "      <td>0.595575</td>\n",
       "      <td>0.271193</td>\n",
       "    </tr>\n",
       "    <tr>\n",
       "      <th>2012</th>\n",
       "      <td>0.615864</td>\n",
       "      <td>0.283915</td>\n",
       "    </tr>\n",
       "    <tr>\n",
       "      <th>2013</th>\n",
       "      <td>0.654412</td>\n",
       "      <td>0.252379</td>\n",
       "    </tr>\n",
       "    <tr>\n",
       "      <th>2014</th>\n",
       "      <td>0.641071</td>\n",
       "      <td>0.389820</td>\n",
       "    </tr>\n",
       "    <tr>\n",
       "      <th>2015</th>\n",
       "      <td>0.440476</td>\n",
       "      <td>0.391773</td>\n",
       "    </tr>\n",
       "  </tbody>\n",
       "</table>\n",
       "<p>119 rows × 2 columns</p>\n",
       "</div>"
      ],
      "text/plain": [
       "                    average_local_rate  std_dev_local_rate\n",
       "movie_release_year                                        \n",
       "1894                          0.750000            0.500000\n",
       "1896                          0.466667            0.505525\n",
       "1897                          0.250000            0.353553\n",
       "1898                          0.333333            0.577350\n",
       "1899                          0.476190            0.501698\n",
       "...                                ...                 ...\n",
       "2011                          0.595575            0.271193\n",
       "2012                          0.615864            0.283915\n",
       "2013                          0.654412            0.252379\n",
       "2014                          0.641071            0.389820\n",
       "2015                          0.440476            0.391773\n",
       "\n",
       "[119 rows x 2 columns]"
      ]
     },
     "execution_count": 7,
     "metadata": {},
     "output_type": "execute_result"
    }
   ],
   "source": [
    "#compute the average rate of the local rate and its standard deviation with respect to the movie year of release\n",
    "stats_by_year = rate_table.groupby(rate_table['movie_release_year']).apply(lambda x: pd.Series({\n",
    "        'average_local_rate': x['local_rate'].mean(),\n",
    "        'std_dev_local_rate': x['local_rate'].std()\n",
    "    }))\n",
    "stats_by_year = stats_by_year[stats_by_year.std_dev_local_rate.isnull() == False]\n",
    "stats_by_year"
   ]
  },
  {
   "cell_type": "code",
   "execution_count": 8,
   "metadata": {},
   "outputs": [
    {
     "data": {
      "text/plain": [
       "Text(0, 0.5, 'Local Actor Rate')"
      ]
     },
     "execution_count": 8,
     "metadata": {},
     "output_type": "execute_result"
    },
    {
     "data": {
      "image/png": "[encoded data removed]",
      "text/plain": [
       "<Figure size 432x288 with 1 Axes>"
      ]
     },
     "metadata": {
      "needs_background": "light"
     },
     "output_type": "display_data"
    }
   ],
   "source": [
    "#we plot the plot with error bar according to the standard deviation (the goal is to hypothetically observe a trend)\n",
    "plt.errorbar(stats_by_year.index, stats_by_year.average_local_rate,\n",
    "             yerr = stats_by_year.std_dev_local_rate,\n",
    "             capsize= 3)\n",
    "plt.xlabel('Year')\n",
    "plt.ylabel('Local Actor Rate')"
   ]
  },
  {
   "cell_type": "code",
   "execution_count": 9,
   "metadata": {},
   "outputs": [
    {
     "data": {
      "text/plain": [
       "Text(0, 0.5, 'Local Actor Rate')"
      ]
     },
     "execution_count": 9,
     "metadata": {},
     "output_type": "execute_result"
    },
    {
     "data": {
      "image/png": "[encoded data removed]",
      "text/plain": [
       "<Figure size 432x288 with 1 Axes>"
      ]
     },
     "metadata": {
      "needs_background": "light"
     },
     "output_type": "display_data"
    }
   ],
   "source": [
    "#for the years before 1915, the graph isn't very representive due to lack of data at this period, that why we decided to drop them\n",
    "stats_by_year = stats_by_year[stats_by_year.index > 1915]\n",
    "plt.errorbar(stats_by_year.index, stats_by_year.average_local_rate,\n",
    "             yerr = stats_by_year.std_dev_local_rate,\n",
    "             capsize= 3)\n",
    "plt.xlabel('Year')\n",
    "plt.ylabel('Local Actor Rate')"
   ]
  },
  {
   "cell_type": "code",
   "execution_count": 10,
   "metadata": {},
   "outputs": [
    {
     "data": {
      "text/plain": [
       "Text(0, 0.5, 'Local Actor Rate')"
      ]
     },
     "execution_count": 10,
     "metadata": {},
     "output_type": "execute_result"
    },
    {
     "data": {
      "image/png": "[encoded data removed]",
      "text/plain": [
       "<Figure size 432x288 with 1 Axes>"
      ]
     },
     "metadata": {
      "needs_background": "light"
     },
     "output_type": "display_data"
    }
   ],
   "source": [
    "#same plot but without error bars\n",
    "plt.plot(stats_by_year.average_local_rate, color = 'red')\n",
    "\n",
    "plt.xlabel('Year')\n",
    "plt.ylabel('Local Actor Rate')"
   ]
  },
  {
   "cell_type": "markdown",
   "metadata": {},
   "source": [
    ">We don't observe any tendency which can be immediately interpretable. Some small periods admit little increases and decreases but not large changes since almost one century."
   ]
  },
  {
   "cell_type": "markdown",
   "metadata": {},
   "source": [
    "## Now we used to focus on the ethnicity and the link we can made with this subset"
   ]
  },
  {
   "cell_type": "code",
   "execution_count": 11,
   "metadata": {},
   "outputs": [
    {
     "name": "stdout",
     "output_type": "stream",
     "text": [
      "number of ethnicity in total = 48652\n"
     ]
    }
   ],
   "source": [
    "#take the characters where the ethnicity is indicated and \n",
    "research_ethnicity= df_characters.dropna(subset='ethnicity')\n",
    "print('number of ethnicity in total =', len(research_ethnicity))\n",
    "top_ethnicity= research_ethnicity.groupby(research_ethnicity['ethnicity']).apply(lambda x: pd.Series({\n",
    "        'number': len(x)\n",
    "        })).sort_values('number', ascending=False).head(15)\n",
    "top_ethnicity = top_ethnicity.sort_values('number', ascending=True)"
   ]
  },
  {
   "cell_type": "code",
   "execution_count": 12,
   "metadata": {},
   "outputs": [
    {
     "data": {
      "text/html": [
       "<div>\n",
       "<style scoped>\n",
       "    .dataframe tbody tr th:only-of-type {\n",
       "        vertical-align: middle;\n",
       "    }\n",
       "\n",
       "    .dataframe tbody tr th {\n",
       "        vertical-align: top;\n",
       "    }\n",
       "\n",
       "    .dataframe thead th {\n",
       "        text-align: right;\n",
       "    }\n",
       "</style>\n",
       "<table border=\"1\" class=\"dataframe\">\n",
       "  <thead>\n",
       "    <tr style=\"text-align: right;\">\n",
       "      <th></th>\n",
       "      <th>number</th>\n",
       "    </tr>\n",
       "    <tr>\n",
       "      <th>ethnicity</th>\n",
       "      <th></th>\n",
       "    </tr>\n",
       "  </thead>\n",
       "  <tbody>\n",
       "    <tr>\n",
       "      <th>Marathi people</th>\n",
       "      <td>850</td>\n",
       "    </tr>\n",
       "    <tr>\n",
       "      <th>Bengali people</th>\n",
       "      <td>868</td>\n",
       "    </tr>\n",
       "    <tr>\n",
       "      <th>Swedes</th>\n",
       "      <td>905</td>\n",
       "    </tr>\n",
       "    <tr>\n",
       "      <th>German Americans</th>\n",
       "      <td>949</td>\n",
       "    </tr>\n",
       "    <tr>\n",
       "      <th>Swedish Americans</th>\n",
       "      <td>977</td>\n",
       "    </tr>\n",
       "    <tr>\n",
       "      <th>Scottish people</th>\n",
       "      <td>1028</td>\n",
       "    </tr>\n",
       "    <tr>\n",
       "      <th>Malayali</th>\n",
       "      <td>1146</td>\n",
       "    </tr>\n",
       "    <tr>\n",
       "      <th>Punjabis</th>\n",
       "      <td>1155</td>\n",
       "    </tr>\n",
       "    <tr>\n",
       "      <th>Tamil</th>\n",
       "      <td>1215</td>\n",
       "    </tr>\n",
       "    <tr>\n",
       "      <th>Italians</th>\n",
       "      <td>1305</td>\n",
       "    </tr>\n",
       "    <tr>\n",
       "      <th>Irish people</th>\n",
       "      <td>1637</td>\n",
       "    </tr>\n",
       "    <tr>\n",
       "      <th>Scottish American</th>\n",
       "      <td>2223</td>\n",
       "    </tr>\n",
       "    <tr>\n",
       "      <th>white Americans</th>\n",
       "      <td>2250</td>\n",
       "    </tr>\n",
       "    <tr>\n",
       "      <th>Italian Americans</th>\n",
       "      <td>2956</td>\n",
       "    </tr>\n",
       "    <tr>\n",
       "      <th>English people</th>\n",
       "      <td>6165</td>\n",
       "    </tr>\n",
       "  </tbody>\n",
       "</table>\n",
       "</div>"
      ],
      "text/plain": [
       "                   number\n",
       "ethnicity                \n",
       "Marathi people        850\n",
       "Bengali people        868\n",
       "Swedes                905\n",
       "German Americans      949\n",
       "Swedish Americans     977\n",
       "Scottish people      1028\n",
       "Malayali             1146\n",
       "Punjabis             1155\n",
       "Tamil                1215\n",
       "Italians             1305\n",
       "Irish people         1637\n",
       "Scottish American    2223\n",
       "white Americans      2250\n",
       "Italian Americans    2956\n",
       "English people       6165"
      ]
     },
     "execution_count": 12,
     "metadata": {},
     "output_type": "execute_result"
    }
   ],
   "source": [
    "#create table with the most present ethnicities\n",
    "top_ethnicity"
   ]
  },
  {
   "cell_type": "code",
   "execution_count": 13,
   "metadata": {},
   "outputs": [
    {
     "data": {
      "image/png": "[encoded data removed]",
      "text/plain": [
       "<Figure size 432x288 with 1 Axes>"
      ]
     },
     "metadata": {
      "needs_background": "light"
     },
     "output_type": "display_data"
    }
   ],
   "source": [
    "#create a bar plot to visualize the most present ethnicities\n",
    "\n",
    "y_pos = np.arange(len(top_ethnicity.index))\n",
    "plt.barh(y_pos, top_ethnicity.number)\n",
    "plt.yticks(y_pos, top_ethnicity.index)\n",
    "plt.xlabel('Number Of Actors')\n",
    "plt.show()"
   ]
  },
  {
   "cell_type": "markdown",
   "metadata": {},
   "source": [
    "## Visualize the influence of actor gender according to the movie genres"
   ]
  },
  {
   "cell_type": "code",
   "execution_count": 14,
   "metadata": {},
   "outputs": [
    {
     "data": {
      "text/plain": [
       "\"Index(['Thriller', 'Drama', 'Crime Fiction', 'Romantic comedy', 'Romance Film',\\n       'Short Film', 'Comedy', 'Action/Adventure', 'Science Fiction',\\n       'Romantic drama'],\\n      dtype='object', name='principal_genre')\""
      ]
     },
     "execution_count": 14,
     "metadata": {},
     "output_type": "execute_result"
    }
   ],
   "source": [
    "#What are the movie genres where the most actors play into.\n",
    "top_genres= str(merge_table.groupby(merge_table['principal_genre']).apply(lambda x: pd.Series({\n",
    "        'average': len(x)\n",
    "        })).sort_values('average', ascending=False).head(10).index)\n",
    "top_genres"
   ]
  },
  {
   "cell_type": "code",
   "execution_count": 15,
   "metadata": {},
   "outputs": [],
   "source": [
    "#remove ' ' genre which needs to be consider as a NaN value. And we drop the NaN just after that.\n",
    "merge_table['principal_genre'].replace('', np.nan, inplace=True)\n",
    "merge_info = merge_table.dropna(subset='principal_genre')"
   ]
  },
  {
   "cell_type": "code",
   "execution_count": 16,
   "metadata": {},
   "outputs": [
    {
     "data": {
      "text/html": [
       "<div>\n",
       "<style scoped>\n",
       "    .dataframe tbody tr th:only-of-type {\n",
       "        vertical-align: middle;\n",
       "    }\n",
       "\n",
       "    .dataframe tbody tr th {\n",
       "        vertical-align: top;\n",
       "    }\n",
       "\n",
       "    .dataframe thead th {\n",
       "        text-align: right;\n",
       "    }\n",
       "</style>\n",
       "<table border=\"1\" class=\"dataframe\">\n",
       "  <thead>\n",
       "    <tr style=\"text-align: right;\">\n",
       "      <th></th>\n",
       "      <th>wiki_id</th>\n",
       "      <th>fb_movie_id_x</th>\n",
       "      <th>release</th>\n",
       "      <th>character_name</th>\n",
       "      <th>actor_age</th>\n",
       "      <th>fb_char_id</th>\n",
       "      <th>fb_actor_id</th>\n",
       "      <th>actor_name</th>\n",
       "      <th>actor_birth</th>\n",
       "      <th>ethnicity</th>\n",
       "      <th>...</th>\n",
       "      <th>movie_release</th>\n",
       "      <th>movie_revenue</th>\n",
       "      <th>movie_runtime</th>\n",
       "      <th>movie_languages</th>\n",
       "      <th>movie_countries</th>\n",
       "      <th>movie_genres</th>\n",
       "      <th>movie_release_year</th>\n",
       "      <th>principal_genre</th>\n",
       "      <th>fb_movie_id_y</th>\n",
       "      <th>tomato_score</th>\n",
       "    </tr>\n",
       "  </thead>\n",
       "  <tbody>\n",
       "    <tr>\n",
       "      <th>0</th>\n",
       "      <td>975900</td>\n",
       "      <td>/m/03vyhn</td>\n",
       "      <td>2001-08-24</td>\n",
       "      <td>Akooshay</td>\n",
       "      <td>42.0</td>\n",
       "      <td>/m/0bgchxw</td>\n",
       "      <td>/m/03wcfv7</td>\n",
       "      <td>Wanda De Jesus</td>\n",
       "      <td>1958-08-26</td>\n",
       "      <td>NaN</td>\n",
       "      <td>...</td>\n",
       "      <td>2001-08-24</td>\n",
       "      <td>14010832.0</td>\n",
       "      <td>98.0</td>\n",
       "      <td>English Language</td>\n",
       "      <td>United States of America</td>\n",
       "      <td>Thriller,Science Fiction,Horror,Adventure,Supe...</td>\n",
       "      <td>2001</td>\n",
       "      <td>Thriller</td>\n",
       "      <td>/m/03vyhn</td>\n",
       "      <td>22.0</td>\n",
       "    </tr>\n",
       "    <tr>\n",
       "      <th>1</th>\n",
       "      <td>975900</td>\n",
       "      <td>/m/03vyhn</td>\n",
       "      <td>2001-08-24</td>\n",
       "      <td>Lieutenant Melanie Ballard</td>\n",
       "      <td>27.0</td>\n",
       "      <td>/m/0jys3m</td>\n",
       "      <td>/m/0346l4</td>\n",
       "      <td>Natasha Henstridge</td>\n",
       "      <td>1974-08-15</td>\n",
       "      <td>NaN</td>\n",
       "      <td>...</td>\n",
       "      <td>2001-08-24</td>\n",
       "      <td>14010832.0</td>\n",
       "      <td>98.0</td>\n",
       "      <td>English Language</td>\n",
       "      <td>United States of America</td>\n",
       "      <td>Thriller,Science Fiction,Horror,Adventure,Supe...</td>\n",
       "      <td>2001</td>\n",
       "      <td>Thriller</td>\n",
       "      <td>/m/03vyhn</td>\n",
       "      <td>22.0</td>\n",
       "    </tr>\n",
       "    <tr>\n",
       "      <th>2</th>\n",
       "      <td>975900</td>\n",
       "      <td>/m/03vyhn</td>\n",
       "      <td>2001-08-24</td>\n",
       "      <td>Desolation Williams</td>\n",
       "      <td>32.0</td>\n",
       "      <td>/m/0jys3g</td>\n",
       "      <td>/m/01vw26l</td>\n",
       "      <td>Ice Cube</td>\n",
       "      <td>1969-06-15</td>\n",
       "      <td>NaN</td>\n",
       "      <td>...</td>\n",
       "      <td>2001-08-24</td>\n",
       "      <td>14010832.0</td>\n",
       "      <td>98.0</td>\n",
       "      <td>English Language</td>\n",
       "      <td>United States of America</td>\n",
       "      <td>Thriller,Science Fiction,Horror,Adventure,Supe...</td>\n",
       "      <td>2001</td>\n",
       "      <td>Thriller</td>\n",
       "      <td>/m/03vyhn</td>\n",
       "      <td>22.0</td>\n",
       "    </tr>\n",
       "    <tr>\n",
       "      <th>3</th>\n",
       "      <td>975900</td>\n",
       "      <td>/m/03vyhn</td>\n",
       "      <td>2001-08-24</td>\n",
       "      <td>Sgt Jericho Butler</td>\n",
       "      <td>33.0</td>\n",
       "      <td>/m/02vchl6</td>\n",
       "      <td>/m/034hyc</td>\n",
       "      <td>Jason Statham</td>\n",
       "      <td>1967-09-12</td>\n",
       "      <td>NaN</td>\n",
       "      <td>...</td>\n",
       "      <td>2001-08-24</td>\n",
       "      <td>14010832.0</td>\n",
       "      <td>98.0</td>\n",
       "      <td>English Language</td>\n",
       "      <td>United States of America</td>\n",
       "      <td>Thriller,Science Fiction,Horror,Adventure,Supe...</td>\n",
       "      <td>2001</td>\n",
       "      <td>Thriller</td>\n",
       "      <td>/m/03vyhn</td>\n",
       "      <td>22.0</td>\n",
       "    </tr>\n",
       "    <tr>\n",
       "      <th>4</th>\n",
       "      <td>975900</td>\n",
       "      <td>/m/03vyhn</td>\n",
       "      <td>2001-08-24</td>\n",
       "      <td>Bashira Kincaid</td>\n",
       "      <td>23.0</td>\n",
       "      <td>/m/02vbb3r</td>\n",
       "      <td>/m/01y9xg</td>\n",
       "      <td>Clea DuVall</td>\n",
       "      <td>1977-09-25</td>\n",
       "      <td>NaN</td>\n",
       "      <td>...</td>\n",
       "      <td>2001-08-24</td>\n",
       "      <td>14010832.0</td>\n",
       "      <td>98.0</td>\n",
       "      <td>English Language</td>\n",
       "      <td>United States of America</td>\n",
       "      <td>Thriller,Science Fiction,Horror,Adventure,Supe...</td>\n",
       "      <td>2001</td>\n",
       "      <td>Thriller</td>\n",
       "      <td>/m/03vyhn</td>\n",
       "      <td>22.0</td>\n",
       "    </tr>\n",
       "    <tr>\n",
       "      <th>...</th>\n",
       "      <td>...</td>\n",
       "      <td>...</td>\n",
       "      <td>...</td>\n",
       "      <td>...</td>\n",
       "      <td>...</td>\n",
       "      <td>...</td>\n",
       "      <td>...</td>\n",
       "      <td>...</td>\n",
       "      <td>...</td>\n",
       "      <td>...</td>\n",
       "      <td>...</td>\n",
       "      <td>...</td>\n",
       "      <td>...</td>\n",
       "      <td>...</td>\n",
       "      <td>...</td>\n",
       "      <td>...</td>\n",
       "      <td>...</td>\n",
       "      <td>...</td>\n",
       "      <td>...</td>\n",
       "      <td>...</td>\n",
       "      <td>...</td>\n",
       "    </tr>\n",
       "    <tr>\n",
       "      <th>450659</th>\n",
       "      <td>26701995</td>\n",
       "      <td>/m/0bmd77z</td>\n",
       "      <td>1977-10-13</td>\n",
       "      <td>NaN</td>\n",
       "      <td>NaN</td>\n",
       "      <td>/m/0gbr2nh</td>\n",
       "      <td>/m/0gbr2nl</td>\n",
       "      <td>Xiying Wen</td>\n",
       "      <td>NaN</td>\n",
       "      <td>NaN</td>\n",
       "      <td>...</td>\n",
       "      <td>1977-10-13</td>\n",
       "      <td>NaN</td>\n",
       "      <td>110.0</td>\n",
       "      <td>Standard Mandarin</td>\n",
       "      <td>China</td>\n",
       "      <td>Drama,Chinese Movies</td>\n",
       "      <td>1977</td>\n",
       "      <td>Drama</td>\n",
       "      <td>NaN</td>\n",
       "      <td>NaN</td>\n",
       "    </tr>\n",
       "    <tr>\n",
       "      <th>450660</th>\n",
       "      <td>26701995</td>\n",
       "      <td>/m/0bmd77z</td>\n",
       "      <td>1977-10-13</td>\n",
       "      <td>NaN</td>\n",
       "      <td>NaN</td>\n",
       "      <td>/m/0gbr2nv</td>\n",
       "      <td>/m/0gbr2ny</td>\n",
       "      <td>Zhenqing Guo</td>\n",
       "      <td>NaN</td>\n",
       "      <td>NaN</td>\n",
       "      <td>...</td>\n",
       "      <td>1977-10-13</td>\n",
       "      <td>NaN</td>\n",
       "      <td>110.0</td>\n",
       "      <td>Standard Mandarin</td>\n",
       "      <td>China</td>\n",
       "      <td>Drama,Chinese Movies</td>\n",
       "      <td>1977</td>\n",
       "      <td>Drama</td>\n",
       "      <td>NaN</td>\n",
       "      <td>NaN</td>\n",
       "    </tr>\n",
       "    <tr>\n",
       "      <th>450661</th>\n",
       "      <td>26701995</td>\n",
       "      <td>/m/0bmd77z</td>\n",
       "      <td>1977-10-13</td>\n",
       "      <td>NaN</td>\n",
       "      <td>NaN</td>\n",
       "      <td>/m/0gbr2p5</td>\n",
       "      <td>/m/0gbr2p8</td>\n",
       "      <td>Suya Wang</td>\n",
       "      <td>NaN</td>\n",
       "      <td>NaN</td>\n",
       "      <td>...</td>\n",
       "      <td>1977-10-13</td>\n",
       "      <td>NaN</td>\n",
       "      <td>110.0</td>\n",
       "      <td>Standard Mandarin</td>\n",
       "      <td>China</td>\n",
       "      <td>Drama,Chinese Movies</td>\n",
       "      <td>1977</td>\n",
       "      <td>Drama</td>\n",
       "      <td>NaN</td>\n",
       "      <td>NaN</td>\n",
       "    </tr>\n",
       "    <tr>\n",
       "      <th>450662</th>\n",
       "      <td>26701995</td>\n",
       "      <td>/m/0bmd77z</td>\n",
       "      <td>1977-10-13</td>\n",
       "      <td>NaN</td>\n",
       "      <td>NaN</td>\n",
       "      <td>/m/0gbr2pj</td>\n",
       "      <td>/m/0gbr2pm</td>\n",
       "      <td>Zheng Zhang</td>\n",
       "      <td>NaN</td>\n",
       "      <td>NaN</td>\n",
       "      <td>...</td>\n",
       "      <td>1977-10-13</td>\n",
       "      <td>NaN</td>\n",
       "      <td>110.0</td>\n",
       "      <td>Standard Mandarin</td>\n",
       "      <td>China</td>\n",
       "      <td>Drama,Chinese Movies</td>\n",
       "      <td>1977</td>\n",
       "      <td>Drama</td>\n",
       "      <td>NaN</td>\n",
       "      <td>NaN</td>\n",
       "    </tr>\n",
       "    <tr>\n",
       "      <th>450663</th>\n",
       "      <td>26701995</td>\n",
       "      <td>/m/0bmd77z</td>\n",
       "      <td>1977-10-13</td>\n",
       "      <td>NaN</td>\n",
       "      <td>NaN</td>\n",
       "      <td>/m/0gbr2pw</td>\n",
       "      <td>/m/0gbr2pz</td>\n",
       "      <td>Zhan Xu</td>\n",
       "      <td>NaN</td>\n",
       "      <td>NaN</td>\n",
       "      <td>...</td>\n",
       "      <td>1977-10-13</td>\n",
       "      <td>NaN</td>\n",
       "      <td>110.0</td>\n",
       "      <td>Standard Mandarin</td>\n",
       "      <td>China</td>\n",
       "      <td>Drama,Chinese Movies</td>\n",
       "      <td>1977</td>\n",
       "      <td>Drama</td>\n",
       "      <td>NaN</td>\n",
       "      <td>NaN</td>\n",
       "    </tr>\n",
       "  </tbody>\n",
       "</table>\n",
       "<p>270783 rows × 25 columns</p>\n",
       "</div>"
      ],
      "text/plain": [
       "         wiki_id fb_movie_id_x     release              character_name  \\\n",
       "0         975900     /m/03vyhn  2001-08-24                    Akooshay   \n",
       "1         975900     /m/03vyhn  2001-08-24  Lieutenant Melanie Ballard   \n",
       "2         975900     /m/03vyhn  2001-08-24         Desolation Williams   \n",
       "3         975900     /m/03vyhn  2001-08-24          Sgt Jericho Butler   \n",
       "4         975900     /m/03vyhn  2001-08-24             Bashira Kincaid   \n",
       "...          ...           ...         ...                         ...   \n",
       "450659  26701995    /m/0bmd77z  1977-10-13                         NaN   \n",
       "450660  26701995    /m/0bmd77z  1977-10-13                         NaN   \n",
       "450661  26701995    /m/0bmd77z  1977-10-13                         NaN   \n",
       "450662  26701995    /m/0bmd77z  1977-10-13                         NaN   \n",
       "450663  26701995    /m/0bmd77z  1977-10-13                         NaN   \n",
       "\n",
       "        actor_age  fb_char_id fb_actor_id          actor_name actor_birth  \\\n",
       "0            42.0  /m/0bgchxw  /m/03wcfv7      Wanda De Jesus  1958-08-26   \n",
       "1            27.0   /m/0jys3m   /m/0346l4  Natasha Henstridge  1974-08-15   \n",
       "2            32.0   /m/0jys3g  /m/01vw26l            Ice Cube  1969-06-15   \n",
       "3            33.0  /m/02vchl6   /m/034hyc       Jason Statham  1967-09-12   \n",
       "4            23.0  /m/02vbb3r   /m/01y9xg         Clea DuVall  1977-09-25   \n",
       "...           ...         ...         ...                 ...         ...   \n",
       "450659        NaN  /m/0gbr2nh  /m/0gbr2nl          Xiying Wen         NaN   \n",
       "450660        NaN  /m/0gbr2nv  /m/0gbr2ny        Zhenqing Guo         NaN   \n",
       "450661        NaN  /m/0gbr2p5  /m/0gbr2p8           Suya Wang         NaN   \n",
       "450662        NaN  /m/0gbr2pj  /m/0gbr2pm         Zheng Zhang         NaN   \n",
       "450663        NaN  /m/0gbr2pw  /m/0gbr2pz             Zhan Xu         NaN   \n",
       "\n",
       "       ethnicity  ...  movie_release movie_revenue movie_runtime  \\\n",
       "0            NaN  ...     2001-08-24    14010832.0          98.0   \n",
       "1            NaN  ...     2001-08-24    14010832.0          98.0   \n",
       "2            NaN  ...     2001-08-24    14010832.0          98.0   \n",
       "3            NaN  ...     2001-08-24    14010832.0          98.0   \n",
       "4            NaN  ...     2001-08-24    14010832.0          98.0   \n",
       "...          ...  ...            ...           ...           ...   \n",
       "450659       NaN  ...     1977-10-13           NaN         110.0   \n",
       "450660       NaN  ...     1977-10-13           NaN         110.0   \n",
       "450661       NaN  ...     1977-10-13           NaN         110.0   \n",
       "450662       NaN  ...     1977-10-13           NaN         110.0   \n",
       "450663       NaN  ...     1977-10-13           NaN         110.0   \n",
       "\n",
       "          movie_languages           movie_countries  \\\n",
       "0        English Language  United States of America   \n",
       "1        English Language  United States of America   \n",
       "2        English Language  United States of America   \n",
       "3        English Language  United States of America   \n",
       "4        English Language  United States of America   \n",
       "...                   ...                       ...   \n",
       "450659  Standard Mandarin                     China   \n",
       "450660  Standard Mandarin                     China   \n",
       "450661  Standard Mandarin                     China   \n",
       "450662  Standard Mandarin                     China   \n",
       "450663  Standard Mandarin                     China   \n",
       "\n",
       "                                             movie_genres  movie_release_year  \\\n",
       "0       Thriller,Science Fiction,Horror,Adventure,Supe...                2001   \n",
       "1       Thriller,Science Fiction,Horror,Adventure,Supe...                2001   \n",
       "2       Thriller,Science Fiction,Horror,Adventure,Supe...                2001   \n",
       "3       Thriller,Science Fiction,Horror,Adventure,Supe...                2001   \n",
       "4       Thriller,Science Fiction,Horror,Adventure,Supe...                2001   \n",
       "...                                                   ...                 ...   \n",
       "450659                               Drama,Chinese Movies                1977   \n",
       "450660                               Drama,Chinese Movies                1977   \n",
       "450661                               Drama,Chinese Movies                1977   \n",
       "450662                               Drama,Chinese Movies                1977   \n",
       "450663                               Drama,Chinese Movies                1977   \n",
       "\n",
       "        principal_genre fb_movie_id_y tomato_score  \n",
       "0              Thriller     /m/03vyhn         22.0  \n",
       "1              Thriller     /m/03vyhn         22.0  \n",
       "2              Thriller     /m/03vyhn         22.0  \n",
       "3              Thriller     /m/03vyhn         22.0  \n",
       "4              Thriller     /m/03vyhn         22.0  \n",
       "...                 ...           ...          ...  \n",
       "450659            Drama           NaN          NaN  \n",
       "450660            Drama           NaN          NaN  \n",
       "450661            Drama           NaN          NaN  \n",
       "450662            Drama           NaN          NaN  \n",
       "450663            Drama           NaN          NaN  \n",
       "\n",
       "[270783 rows x 25 columns]"
      ]
     },
     "execution_count": 16,
     "metadata": {},
     "output_type": "execute_result"
    }
   ],
   "source": [
    "#only keep movies from movie genres where the most actors play into (top genres)\n",
    "table_wrt_top_genres = merge_info[merge_info.apply(lambda x: top_genres.find(str(x.principal_genre)), axis=1).apply(lambda x: False if x < 0 else True)]\n",
    "#remove 'Action' genre because it was kept despite it is not a top genre, due to 'Action/Adventure' genre.\n",
    "table_wrt_top_genres= table_wrt_top_genres[table_wrt_top_genres.apply(lambda x: False if x.principal_genre == 'Action' else True, axis=1)]\n",
    "table_wrt_top_genres"
   ]
  },
  {
   "cell_type": "code",
   "execution_count": 17,
   "metadata": {},
   "outputs": [
    {
     "data": {
      "text/html": [
       "<div>\n",
       "<style scoped>\n",
       "    .dataframe tbody tr th:only-of-type {\n",
       "        vertical-align: middle;\n",
       "    }\n",
       "\n",
       "    .dataframe tbody tr th {\n",
       "        vertical-align: top;\n",
       "    }\n",
       "\n",
       "    .dataframe thead th {\n",
       "        text-align: right;\n",
       "    }\n",
       "</style>\n",
       "<table border=\"1\" class=\"dataframe\">\n",
       "  <thead>\n",
       "    <tr style=\"text-align: right;\">\n",
       "      <th></th>\n",
       "      <th>number_of_actors</th>\n",
       "      <th>sex</th>\n",
       "    </tr>\n",
       "    <tr>\n",
       "      <th>principal_genre</th>\n",
       "      <th></th>\n",
       "      <th></th>\n",
       "    </tr>\n",
       "  </thead>\n",
       "  <tbody>\n",
       "    <tr>\n",
       "      <th>Drama</th>\n",
       "      <td>18886</td>\n",
       "      <td>F</td>\n",
       "    </tr>\n",
       "    <tr>\n",
       "      <th>Thriller</th>\n",
       "      <td>17603</td>\n",
       "      <td>F</td>\n",
       "    </tr>\n",
       "    <tr>\n",
       "      <th>Romantic comedy</th>\n",
       "      <td>9329</td>\n",
       "      <td>F</td>\n",
       "    </tr>\n",
       "    <tr>\n",
       "      <th>Crime Fiction</th>\n",
       "      <td>9320</td>\n",
       "      <td>F</td>\n",
       "    </tr>\n",
       "    <tr>\n",
       "      <th>Romance Film</th>\n",
       "      <td>6269</td>\n",
       "      <td>F</td>\n",
       "    </tr>\n",
       "    <tr>\n",
       "      <th>Comedy</th>\n",
       "      <td>4313</td>\n",
       "      <td>F</td>\n",
       "    </tr>\n",
       "    <tr>\n",
       "      <th>Short Film</th>\n",
       "      <td>3937</td>\n",
       "      <td>F</td>\n",
       "    </tr>\n",
       "    <tr>\n",
       "      <th>Romantic drama</th>\n",
       "      <td>3743</td>\n",
       "      <td>F</td>\n",
       "    </tr>\n",
       "    <tr>\n",
       "      <th>Science Fiction</th>\n",
       "      <td>2761</td>\n",
       "      <td>F</td>\n",
       "    </tr>\n",
       "    <tr>\n",
       "      <th>Action/Adventure</th>\n",
       "      <td>2669</td>\n",
       "      <td>F</td>\n",
       "    </tr>\n",
       "    <tr>\n",
       "      <th>Thriller</th>\n",
       "      <td>38517</td>\n",
       "      <td>M</td>\n",
       "    </tr>\n",
       "    <tr>\n",
       "      <th>Drama</th>\n",
       "      <td>31804</td>\n",
       "      <td>M</td>\n",
       "    </tr>\n",
       "    <tr>\n",
       "      <th>Crime Fiction</th>\n",
       "      <td>23500</td>\n",
       "      <td>M</td>\n",
       "    </tr>\n",
       "    <tr>\n",
       "      <th>Romantic comedy</th>\n",
       "      <td>12999</td>\n",
       "      <td>M</td>\n",
       "    </tr>\n",
       "    <tr>\n",
       "      <th>Short Film</th>\n",
       "      <td>10375</td>\n",
       "      <td>M</td>\n",
       "    </tr>\n",
       "    <tr>\n",
       "      <th>Romance Film</th>\n",
       "      <td>9762</td>\n",
       "      <td>M</td>\n",
       "    </tr>\n",
       "    <tr>\n",
       "      <th>Action/Adventure</th>\n",
       "      <td>9760</td>\n",
       "      <td>M</td>\n",
       "    </tr>\n",
       "    <tr>\n",
       "      <th>Comedy</th>\n",
       "      <td>8627</td>\n",
       "      <td>M</td>\n",
       "    </tr>\n",
       "    <tr>\n",
       "      <th>Science Fiction</th>\n",
       "      <td>6895</td>\n",
       "      <td>M</td>\n",
       "    </tr>\n",
       "    <tr>\n",
       "      <th>Romantic drama</th>\n",
       "      <td>5269</td>\n",
       "      <td>M</td>\n",
       "    </tr>\n",
       "  </tbody>\n",
       "</table>\n",
       "</div>"
      ],
      "text/plain": [
       "                  number_of_actors sex\n",
       "principal_genre                       \n",
       "Drama                        18886   F\n",
       "Thriller                     17603   F\n",
       "Romantic comedy               9329   F\n",
       "Crime Fiction                 9320   F\n",
       "Romance Film                  6269   F\n",
       "Comedy                        4313   F\n",
       "Short Film                    3937   F\n",
       "Romantic drama                3743   F\n",
       "Science Fiction               2761   F\n",
       "Action/Adventure              2669   F\n",
       "Thriller                     38517   M\n",
       "Drama                        31804   M\n",
       "Crime Fiction                23500   M\n",
       "Romantic comedy              12999   M\n",
       "Short Film                   10375   M\n",
       "Romance Film                  9762   M\n",
       "Action/Adventure              9760   M\n",
       "Comedy                        8627   M\n",
       "Science Fiction               6895   M\n",
       "Romantic drama                5269   M"
      ]
     },
     "execution_count": 17,
     "metadata": {},
     "output_type": "execute_result"
    }
   ],
   "source": [
    "#compute table with the number women and men actors in the top genres movies.\n",
    "table_gender_comparison= table_wrt_top_genres.groupby(table_wrt_top_genres['principal_genre']).apply(lambda x: pd.Series({\n",
    "        'number_of_actors': len(x[x['actor_gender'] == 'F'])\n",
    "        })).sort_values('number_of_actors', ascending=False).head(10)\n",
    "table_gender_comparison = pd.concat([table_gender_comparison, (table_wrt_top_genres.groupby(table_wrt_top_genres['principal_genre']).apply(lambda x: pd.Series({\n",
    "        'number_of_actors': len(x[x['actor_gender'] == 'M'])\n",
    "        }))).sort_values('number_of_actors', ascending=False).head(10)])\n",
    "\n",
    "liste = []\n",
    "for i in range(20):\n",
    "        liste.append( 'F' if i < 10 else 'M')\n",
    "table_gender_comparison['sex']= liste\n",
    "table_gender_comparison"
   ]
  },
  {
   "cell_type": "code",
   "execution_count": 18,
   "metadata": {},
   "outputs": [
    {
     "data": {
      "application/vnd.plotly.v1+json": {
       "config": {
        "plotlyServerURL": "https://plot.ly"
       },
       "data": [
        {
         "alignmentgroup": "True",
         "hovertemplate": "sex=%{x}<br>principal_genre=Drama<br>number_of_actors=%{y}<extra></extra>",
         "ids": [
          "F"
         ],
         "legendgroup": "F",
         "marker": {
          "color": "#636efa"
         },
         "name": "F",
         "offsetgroup": "F",
         "orientation": "v",
         "showlegend": true,
         "textposition": "auto",
         "type": "bar",
         "x": [
          "F"
         ],
         "xaxis": "x",
         "y": [
          18886
         ],
         "yaxis": "y"
        },
        {
         "alignmentgroup": "True",
         "hovertemplate": "sex=%{x}<br>principal_genre=Drama<br>number_of_actors=%{y}<extra></extra>",
         "ids": [
          "M"
         ],
         "legendgroup": "M",
         "marker": {
          "color": "#EF553B"
         },
         "name": "M",
         "offsetgroup": "M",
         "orientation": "v",
         "showlegend": true,
         "textposition": "auto",
         "type": "bar",
         "x": [
          "M"
         ],
         "xaxis": "x",
         "y": [
          31804
         ],
         "yaxis": "y"
        }
       ],
       "frames": [
        {
         "data": [
          {
           "alignmentgroup": "True",
           "hovertemplate": "sex=%{x}<br>principal_genre=Drama<br>number_of_actors=%{y}<extra></extra>",
           "ids": [
            "F"
           ],
           "legendgroup": "F",
           "marker": {
            "color": "#636efa"
           },
           "name": "F",
           "offsetgroup": "F",
           "orientation": "v",
           "showlegend": true,
           "textposition": "auto",
           "type": "bar",
           "x": [
            "F"
           ],
           "xaxis": "x",
           "y": [
            18886
           ],
           "yaxis": "y"
          },
          {
           "alignmentgroup": "True",
           "hovertemplate": "sex=%{x}<br>principal_genre=Drama<br>number_of_actors=%{y}<extra></extra>",
           "ids": [
            "M"
           ],
           "legendgroup": "M",
           "marker": {
            "color": "#EF553B"
           },
           "name": "M",
           "offsetgroup": "M",
           "orientation": "v",
           "showlegend": true,
           "textposition": "auto",
           "type": "bar",
           "x": [
            "M"
           ],
           "xaxis": "x",
           "y": [
            31804
           ],
           "yaxis": "y"
          }
         ],
         "name": "Drama"
        },
        {
         "data": [
          {
           "alignmentgroup": "True",
           "hovertemplate": "sex=%{x}<br>principal_genre=Thriller<br>number_of_actors=%{y}<extra></extra>",
           "ids": [
            "F"
           ],
           "legendgroup": "F",
           "marker": {
            "color": "#636efa"
           },
           "name": "F",
           "offsetgroup": "F",
           "orientation": "v",
           "showlegend": true,
           "textposition": "auto",
           "type": "bar",
           "x": [
            "F"
           ],
           "xaxis": "x",
           "y": [
            17603
           ],
           "yaxis": "y"
          },
          {
           "alignmentgroup": "True",
           "hovertemplate": "sex=%{x}<br>principal_genre=Thriller<br>number_of_actors=%{y}<extra></extra>",
           "ids": [
            "M"
           ],
           "legendgroup": "M",
           "marker": {
            "color": "#EF553B"
           },
           "name": "M",
           "offsetgroup": "M",
           "orientation": "v",
           "showlegend": true,
           "textposition": "auto",
           "type": "bar",
           "x": [
            "M"
           ],
           "xaxis": "x",
           "y": [
            38517
           ],
           "yaxis": "y"
          }
         ],
         "name": "Thriller"
        },
        {
         "data": [
          {
           "alignmentgroup": "True",
           "hovertemplate": "sex=%{x}<br>principal_genre=Romantic comedy<br>number_of_actors=%{y}<extra></extra>",
           "ids": [
            "F"
           ],
           "legendgroup": "F",
           "marker": {
            "color": "#636efa"
           },
           "name": "F",
           "offsetgroup": "F",
           "orientation": "v",
           "showlegend": true,
           "textposition": "auto",
           "type": "bar",
           "x": [
            "F"
           ],
           "xaxis": "x",
           "y": [
            9329
           ],
           "yaxis": "y"
          },
          {
           "alignmentgroup": "True",
           "hovertemplate": "sex=%{x}<br>principal_genre=Romantic comedy<br>number_of_actors=%{y}<extra></extra>",
           "ids": [
            "M"
           ],
           "legendgroup": "M",
           "marker": {
            "color": "#EF553B"
           },
           "name": "M",
           "offsetgroup": "M",
           "orientation": "v",
           "showlegend": true,
           "textposition": "auto",
           "type": "bar",
           "x": [
            "M"
           ],
           "xaxis": "x",
           "y": [
            12999
           ],
           "yaxis": "y"
          }
         ],
         "name": "Romantic comedy"
        },
        {
         "data": [
          {
           "alignmentgroup": "True",
           "hovertemplate": "sex=%{x}<br>principal_genre=Crime Fiction<br>number_of_actors=%{y}<extra></extra>",
           "ids": [
            "F"
           ],
           "legendgroup": "F",
           "marker": {
            "color": "#636efa"
           },
           "name": "F",
           "offsetgroup": "F",
           "orientation": "v",
           "showlegend": true,
           "textposition": "auto",
           "type": "bar",
           "x": [
            "F"
           ],
           "xaxis": "x",
           "y": [
            9320
           ],
           "yaxis": "y"
          },
          {
           "alignmentgroup": "True",
           "hovertemplate": "sex=%{x}<br>principal_genre=Crime Fiction<br>number_of_actors=%{y}<extra></extra>",
           "ids": [
            "M"
           ],
           "legendgroup": "M",
           "marker": {
            "color": "#EF553B"
           },
           "name": "M",
           "offsetgroup": "M",
           "orientation": "v",
           "showlegend": true,
           "textposition": "auto",
           "type": "bar",
           "x": [
            "M"
           ],
           "xaxis": "x",
           "y": [
            23500
           ],
           "yaxis": "y"
          }
         ],
         "name": "Crime Fiction"
        },
        {
         "data": [
          {
           "alignmentgroup": "True",
           "hovertemplate": "sex=%{x}<br>principal_genre=Romance Film<br>number_of_actors=%{y}<extra></extra>",
           "ids": [
            "F"
           ],
           "legendgroup": "F",
           "marker": {
            "color": "#636efa"
           },
           "name": "F",
           "offsetgroup": "F",
           "orientation": "v",
           "showlegend": true,
           "textposition": "auto",
           "type": "bar",
           "x": [
            "F"
           ],
           "xaxis": "x",
           "y": [
            6269
           ],
           "yaxis": "y"
          },
          {
           "alignmentgroup": "True",
           "hovertemplate": "sex=%{x}<br>principal_genre=Romance Film<br>number_of_actors=%{y}<extra></extra>",
           "ids": [
            "M"
           ],
           "legendgroup": "M",
           "marker": {
            "color": "#EF553B"
           },
           "name": "M",
           "offsetgroup": "M",
           "orientation": "v",
           "showlegend": true,
           "textposition": "auto",
           "type": "bar",
           "x": [
            "M"
           ],
           "xaxis": "x",
           "y": [
            9762
           ],
           "yaxis": "y"
          }
         ],
         "name": "Romance Film"
        },
        {
         "data": [
          {
           "alignmentgroup": "True",
           "hovertemplate": "sex=%{x}<br>principal_genre=Comedy<br>number_of_actors=%{y}<extra></extra>",
           "ids": [
            "F"
           ],
           "legendgroup": "F",
           "marker": {
            "color": "#636efa"
           },
           "name": "F",
           "offsetgroup": "F",
           "orientation": "v",
           "showlegend": true,
           "textposition": "auto",
           "type": "bar",
           "x": [
            "F"
           ],
           "xaxis": "x",
           "y": [
            4313
           ],
           "yaxis": "y"
          },
          {
           "alignmentgroup": "True",
           "hovertemplate": "sex=%{x}<br>principal_genre=Comedy<br>number_of_actors=%{y}<extra></extra>",
           "ids": [
            "M"
           ],
           "legendgroup": "M",
           "marker": {
            "color": "#EF553B"
           },
           "name": "M",
           "offsetgroup": "M",
           "orientation": "v",
           "showlegend": true,
           "textposition": "auto",
           "type": "bar",
           "x": [
            "M"
           ],
           "xaxis": "x",
           "y": [
            8627
           ],
           "yaxis": "y"
          }
         ],
         "name": "Comedy"
        },
        {
         "data": [
          {
           "alignmentgroup": "True",
           "hovertemplate": "sex=%{x}<br>principal_genre=Short Film<br>number_of_actors=%{y}<extra></extra>",
           "ids": [
            "F"
           ],
           "legendgroup": "F",
           "marker": {
            "color": "#636efa"
           },
           "name": "F",
           "offsetgroup": "F",
           "orientation": "v",
           "showlegend": true,
           "textposition": "auto",
           "type": "bar",
           "x": [
            "F"
           ],
           "xaxis": "x",
           "y": [
            3937
           ],
           "yaxis": "y"
          },
          {
           "alignmentgroup": "True",
           "hovertemplate": "sex=%{x}<br>principal_genre=Short Film<br>number_of_actors=%{y}<extra></extra>",
           "ids": [
            "M"
           ],
           "legendgroup": "M",
           "marker": {
            "color": "#EF553B"
           },
           "name": "M",
           "offsetgroup": "M",
           "orientation": "v",
           "showlegend": true,
           "textposition": "auto",
           "type": "bar",
           "x": [
            "M"
           ],
           "xaxis": "x",
           "y": [
            10375
           ],
           "yaxis": "y"
          }
         ],
         "name": "Short Film"
        },
        {
         "data": [
          {
           "alignmentgroup": "True",
           "hovertemplate": "sex=%{x}<br>principal_genre=Romantic drama<br>number_of_actors=%{y}<extra></extra>",
           "ids": [
            "F"
           ],
           "legendgroup": "F",
           "marker": {
            "color": "#636efa"
           },
           "name": "F",
           "offsetgroup": "F",
           "orientation": "v",
           "showlegend": true,
           "textposition": "auto",
           "type": "bar",
           "x": [
            "F"
           ],
           "xaxis": "x",
           "y": [
            3743
           ],
           "yaxis": "y"
          },
          {
           "alignmentgroup": "True",
           "hovertemplate": "sex=%{x}<br>principal_genre=Romantic drama<br>number_of_actors=%{y}<extra></extra>",
           "ids": [
            "M"
           ],
           "legendgroup": "M",
           "marker": {
            "color": "#EF553B"
           },
           "name": "M",
           "offsetgroup": "M",
           "orientation": "v",
           "showlegend": true,
           "textposition": "auto",
           "type": "bar",
           "x": [
            "M"
           ],
           "xaxis": "x",
           "y": [
            5269
           ],
           "yaxis": "y"
          }
         ],
         "name": "Romantic drama"
        },
        {
         "data": [
          {
           "alignmentgroup": "True",
           "hovertemplate": "sex=%{x}<br>principal_genre=Science Fiction<br>number_of_actors=%{y}<extra></extra>",
           "ids": [
            "F"
           ],
           "legendgroup": "F",
           "marker": {
            "color": "#636efa"
           },
           "name": "F",
           "offsetgroup": "F",
           "orientation": "v",
           "showlegend": true,
           "textposition": "auto",
           "type": "bar",
           "x": [
            "F"
           ],
           "xaxis": "x",
           "y": [
            2761
           ],
           "yaxis": "y"
          },
          {
           "alignmentgroup": "True",
           "hovertemplate": "sex=%{x}<br>principal_genre=Science Fiction<br>number_of_actors=%{y}<extra></extra>",
           "ids": [
            "M"
           ],
           "legendgroup": "M",
           "marker": {
            "color": "#EF553B"
           },
           "name": "M",
           "offsetgroup": "M",
           "orientation": "v",
           "showlegend": true,
           "textposition": "auto",
           "type": "bar",
           "x": [
            "M"
           ],
           "xaxis": "x",
           "y": [
            6895
           ],
           "yaxis": "y"
          }
         ],
         "name": "Science Fiction"
        },
        {
         "data": [
          {
           "alignmentgroup": "True",
           "hovertemplate": "sex=%{x}<br>principal_genre=Action/Adventure<br>number_of_actors=%{y}<extra></extra>",
           "ids": [
            "F"
           ],
           "legendgroup": "F",
           "marker": {
            "color": "#636efa"
           },
           "name": "F",
           "offsetgroup": "F",
           "orientation": "v",
           "showlegend": true,
           "textposition": "auto",
           "type": "bar",
           "x": [
            "F"
           ],
           "xaxis": "x",
           "y": [
            2669
           ],
           "yaxis": "y"
          },
          {
           "alignmentgroup": "True",
           "hovertemplate": "sex=%{x}<br>principal_genre=Action/Adventure<br>number_of_actors=%{y}<extra></extra>",
           "ids": [
            "M"
           ],
           "legendgroup": "M",
           "marker": {
            "color": "#EF553B"
           },
           "name": "M",
           "offsetgroup": "M",
           "orientation": "v",
           "showlegend": true,
           "textposition": "auto",
           "type": "bar",
           "x": [
            "M"
           ],
           "xaxis": "x",
           "y": [
            9760
           ],
           "yaxis": "y"
          }
         ],
         "name": "Action/Adventure"
        }
       ],
       "layout": {
        "barmode": "relative",
        "height": 600,
        "legend": {
         "title": {
          "text": "sex"
         },
         "tracegroupgap": 0
        },
        "margin": {
         "t": 60
        },
        "sliders": [
         {
          "active": 0,
          "currentvalue": {
           "prefix": "principal_genre="
          },
          "len": 0.9,
          "pad": {
           "b": 10,
           "t": 60
          },
          "steps": [
           {
            "args": [
             [
              "Drama"
             ],
             {
              "frame": {
               "duration": 0,
               "redraw": true
              },
              "fromcurrent": true,
              "mode": "immediate",
              "transition": {
               "duration": 0,
               "easing": "linear"
              }
             }
            ],
            "label": "Drama",
            "method": "animate"
           },
           {
            "args": [
             [
              "Thriller"
             ],
             {
              "frame": {
               "duration": 0,
               "redraw": true
              },
              "fromcurrent": true,
              "mode": "immediate",
              "transition": {
               "duration": 0,
               "easing": "linear"
              }
             }
            ],
            "label": "Thriller",
            "method": "animate"
           },
           {
            "args": [
             [
              "Romantic comedy"
             ],
             {
              "frame": {
               "duration": 0,
               "redraw": true
              },
              "fromcurrent": true,
              "mode": "immediate",
              "transition": {
               "duration": 0,
               "easing": "linear"
              }
             }
            ],
            "label": "Romantic comedy",
            "method": "animate"
           },
           {
            "args": [
             [
              "Crime Fiction"
             ],
             {
              "frame": {
               "duration": 0,
               "redraw": true
              },
              "fromcurrent": true,
              "mode": "immediate",
              "transition": {
               "duration": 0,
               "easing": "linear"
              }
             }
            ],
            "label": "Crime Fiction",
            "method": "animate"
           },
           {
            "args": [
             [
              "Romance Film"
             ],
             {
              "frame": {
               "duration": 0,
               "redraw": true
              },
              "fromcurrent": true,
              "mode": "immediate",
              "transition": {
               "duration": 0,
               "easing": "linear"
              }
             }
            ],
            "label": "Romance Film",
            "method": "animate"
           },
           {
            "args": [
             [
              "Comedy"
             ],
             {
              "frame": {
               "duration": 0,
               "redraw": true
              },
              "fromcurrent": true,
              "mode": "immediate",
              "transition": {
               "duration": 0,
               "easing": "linear"
              }
             }
            ],
            "label": "Comedy",
            "method": "animate"
           },
           {
            "args": [
             [
              "Short Film"
             ],
             {
              "frame": {
               "duration": 0,
               "redraw": true
              },
              "fromcurrent": true,
              "mode": "immediate",
              "transition": {
               "duration": 0,
               "easing": "linear"
              }
             }
            ],
            "label": "Short Film",
            "method": "animate"
           },
           {
            "args": [
             [
              "Romantic drama"
             ],
             {
              "frame": {
               "duration": 0,
               "redraw": true
              },
              "fromcurrent": true,
              "mode": "immediate",
              "transition": {
               "duration": 0,
               "easing": "linear"
              }
             }
            ],
            "label": "Romantic drama",
            "method": "animate"
           },
           {
            "args": [
             [
              "Science Fiction"
             ],
             {
              "frame": {
               "duration": 0,
               "redraw": true
              },
              "fromcurrent": true,
              "mode": "immediate",
              "transition": {
               "duration": 0,
               "easing": "linear"
              }
             }
            ],
            "label": "Science Fiction",
            "method": "animate"
           },
           {
            "args": [
             [
              "Action/Adventure"
             ],
             {
              "frame": {
               "duration": 0,
               "redraw": true
              },
              "fromcurrent": true,
              "mode": "immediate",
              "transition": {
               "duration": 0,
               "easing": "linear"
              }
             }
            ],
            "label": "Action/Adventure",
            "method": "animate"
           }
          ],
          "x": 0.1,
          "xanchor": "left",
          "y": 0,
          "yanchor": "top"
         }
        ],
        "template": {
         "data": {
          "bar": [
           {
            "error_x": {
             "color": "#2a3f5f"
            },
            "error_y": {
             "color": "#2a3f5f"
            },
            "marker": {
             "line": {
              "color": "#E5ECF6",
              "width": 0.5
             }
            },
            "type": "bar"
           }
          ],
          "barpolar": [
           {
            "marker": {
             "line": {
              "color": "#E5ECF6",
              "width": 0.5
             }
            },
            "type": "barpolar"
           }
          ],
          "carpet": [
           {
            "aaxis": {
             "endlinecolor": "#2a3f5f",
             "gridcolor": "white",
             "linecolor": "white",
             "minorgridcolor": "white",
             "startlinecolor": "#2a3f5f"
            },
            "baxis": {
             "endlinecolor": "#2a3f5f",
             "gridcolor": "white",
             "linecolor": "white",
             "minorgridcolor": "white",
             "startlinecolor": "#2a3f5f"
            },
            "type": "carpet"
           }
          ],
          "choropleth": [
           {
            "colorbar": {
             "outlinewidth": 0,
             "ticks": ""
            },
            "type": "choropleth"
           }
          ],
          "contour": [
           {
            "colorbar": {
             "outlinewidth": 0,
             "ticks": ""
            },
            "colorscale": [
             [
              0,
              "#0d0887"
             ],
             [
              0.1111111111111111,
              "#46039f"
             ],
             [
              0.2222222222222222,
              "#7201a8"
             ],
             [
              0.3333333333333333,
              "#9c179e"
             ],
             [
              0.4444444444444444,
              "#bd3786"
             ],
             [
              0.5555555555555556,
              "#d8576b"
             ],
             [
              0.6666666666666666,
              "#ed7953"
             ],
             [
              0.7777777777777778,
              "#fb9f3a"
             ],
             [
              0.8888888888888888,
              "#fdca26"
             ],
             [
              1,
              "#f0f921"
             ]
            ],
            "type": "contour"
           }
          ],
          "contourcarpet": [
           {
            "colorbar": {
             "outlinewidth": 0,
             "ticks": ""
            },
            "type": "contourcarpet"
           }
          ],
          "heatmap": [
           {
            "colorbar": {
             "outlinewidth": 0,
             "ticks": ""
            },
            "colorscale": [
             [
              0,
              "#0d0887"
             ],
             [
              0.1111111111111111,
              "#46039f"
             ],
             [
              0.2222222222222222,
              "#7201a8"
             ],
             [
              0.3333333333333333,
              "#9c179e"
             ],
             [
              0.4444444444444444,
              "#bd3786"
             ],
             [
              0.5555555555555556,
              "#d8576b"
             ],
             [
              0.6666666666666666,
              "#ed7953"
             ],
             [
              0.7777777777777778,
              "#fb9f3a"
             ],
             [
              0.8888888888888888,
              "#fdca26"
             ],
             [
              1,
              "#f0f921"
             ]
            ],
            "type": "heatmap"
           }
          ],
          "heatmapgl": [
           {
            "colorbar": {
             "outlinewidth": 0,
             "ticks": ""
            },
            "colorscale": [
             [
              0,
              "#0d0887"
             ],
             [
              0.1111111111111111,
              "#46039f"
             ],
             [
              0.2222222222222222,
              "#7201a8"
             ],
             [
              0.3333333333333333,
              "#9c179e"
             ],
             [
              0.4444444444444444,
              "#bd3786"
             ],
             [
              0.5555555555555556,
              "#d8576b"
             ],
             [
              0.6666666666666666,
              "#ed7953"
             ],
             [
              0.7777777777777778,
              "#fb9f3a"
             ],
             [
              0.8888888888888888,
              "#fdca26"
             ],
             [
              1,
              "#f0f921"
             ]
            ],
            "type": "heatmapgl"
           }
          ],
          "histogram": [
           {
            "marker": {
             "colorbar": {
              "outlinewidth": 0,
              "ticks": ""
             }
            },
            "type": "histogram"
           }
          ],
          "histogram2d": [
           {
            "colorbar": {
             "outlinewidth": 0,
             "ticks": ""
            },
            "colorscale": [
             [
              0,
              "#0d0887"
             ],
             [
              0.1111111111111111,
              "#46039f"
             ],
             [
              0.2222222222222222,
              "#7201a8"
             ],
             [
              0.3333333333333333,
              "#9c179e"
             ],
             [
              0.4444444444444444,
              "#bd3786"
             ],
             [
              0.5555555555555556,
              "#d8576b"
             ],
             [
              0.6666666666666666,
              "#ed7953"
             ],
             [
              0.7777777777777778,
              "#fb9f3a"
             ],
             [
              0.8888888888888888,
              "#fdca26"
             ],
             [
              1,
              "#f0f921"
             ]
            ],
            "type": "histogram2d"
           }
          ],
          "histogram2dcontour": [
           {
            "colorbar": {
             "outlinewidth": 0,
             "ticks": ""
            },
            "colorscale": [
             [
              0,
              "#0d0887"
             ],
             [
              0.1111111111111111,
              "#46039f"
             ],
             [
              0.2222222222222222,
              "#7201a8"
             ],
             [
              0.3333333333333333,
              "#9c179e"
             ],
             [
              0.4444444444444444,
              "#bd3786"
             ],
             [
              0.5555555555555556,
              "#d8576b"
             ],
             [
              0.6666666666666666,
              "#ed7953"
             ],
             [
              0.7777777777777778,
              "#fb9f3a"
             ],
             [
              0.8888888888888888,
              "#fdca26"
             ],
             [
              1,
              "#f0f921"
             ]
            ],
            "type": "histogram2dcontour"
           }
          ],
          "mesh3d": [
           {
            "colorbar": {
             "outlinewidth": 0,
             "ticks": ""
            },
            "type": "mesh3d"
           }
          ],
          "parcoords": [
           {
            "line": {
             "colorbar": {
              "outlinewidth": 0,
              "ticks": ""
             }
            },
            "type": "parcoords"
           }
          ],
          "pie": [
           {
            "automargin": true,
            "type": "pie"
           }
          ],
          "scatter": [
           {
            "marker": {
             "colorbar": {
              "outlinewidth": 0,
              "ticks": ""
             }
            },
            "type": "scatter"
           }
          ],
          "scatter3d": [
           {
            "line": {
             "colorbar": {
              "outlinewidth": 0,
              "ticks": ""
             }
            },
            "marker": {
             "colorbar": {
              "outlinewidth": 0,
              "ticks": ""
             }
            },
            "type": "scatter3d"
           }
          ],
          "scattercarpet": [
           {
            "marker": {
             "colorbar": {
              "outlinewidth": 0,
              "ticks": ""
             }
            },
            "type": "scattercarpet"
           }
          ],
          "scattergeo": [
           {
            "marker": {
             "colorbar": {
              "outlinewidth": 0,
              "ticks": ""
             }
            },
            "type": "scattergeo"
           }
          ],
          "scattergl": [
           {
            "marker": {
             "colorbar": {
              "outlinewidth": 0,
              "ticks": ""
             }
            },
            "type": "scattergl"
           }
          ],
          "scattermapbox": [
           {
            "marker": {
             "colorbar": {
              "outlinewidth": 0,
              "ticks": ""
             }
            },
            "type": "scattermapbox"
           }
          ],
          "scatterpolar": [
           {
            "marker": {
             "colorbar": {
              "outlinewidth": 0,
              "ticks": ""
             }
            },
            "type": "scatterpolar"
           }
          ],
          "scatterpolargl": [
           {
            "marker": {
             "colorbar": {
              "outlinewidth": 0,
              "ticks": ""
             }
            },
            "type": "scatterpolargl"
           }
          ],
          "scatterternary": [
           {
            "marker": {
             "colorbar": {
              "outlinewidth": 0,
              "ticks": ""
             }
            },
            "type": "scatterternary"
           }
          ],
          "surface": [
           {
            "colorbar": {
             "outlinewidth": 0,
             "ticks": ""
            },
            "colorscale": [
             [
              0,
              "#0d0887"
             ],
             [
              0.1111111111111111,
              "#46039f"
             ],
             [
              0.2222222222222222,
              "#7201a8"
             ],
             [
              0.3333333333333333,
              "#9c179e"
             ],
             [
              0.4444444444444444,
              "#bd3786"
             ],
             [
              0.5555555555555556,
              "#d8576b"
             ],
             [
              0.6666666666666666,
              "#ed7953"
             ],
             [
              0.7777777777777778,
              "#fb9f3a"
             ],
             [
              0.8888888888888888,
              "#fdca26"
             ],
             [
              1,
              "#f0f921"
             ]
            ],
            "type": "surface"
           }
          ],
          "table": [
           {
            "cells": {
             "fill": {
              "color": "#EBF0F8"
             },
             "line": {
              "color": "white"
             }
            },
            "header": {
             "fill": {
              "color": "#C8D4E3"
             },
             "line": {
              "color": "white"
             }
            },
            "type": "table"
           }
          ]
         },
         "layout": {
          "annotationdefaults": {
           "arrowcolor": "#2a3f5f",
           "arrowhead": 0,
           "arrowwidth": 1
          },
          "coloraxis": {
           "colorbar": {
            "outlinewidth": 0,
            "ticks": ""
           }
          },
          "colorscale": {
           "diverging": [
            [
             0,
             "#8e0152"
            ],
            [
             0.1,
             "#c51b7d"
            ],
            [
             0.2,
             "#de77ae"
            ],
            [
             0.3,
             "#f1b6da"
            ],
            [
             0.4,
             "#fde0ef"
            ],
            [
             0.5,
             "#f7f7f7"
            ],
            [
             0.6,
             "#e6f5d0"
            ],
            [
             0.7,
             "#b8e186"
            ],
            [
             0.8,
             "#7fbc41"
            ],
            [
             0.9,
             "#4d9221"
            ],
            [
             1,
             "#276419"
            ]
           ],
           "sequential": [
            [
             0,
             "#0d0887"
            ],
            [
             0.1111111111111111,
             "#46039f"
            ],
            [
             0.2222222222222222,
             "#7201a8"
            ],
            [
             0.3333333333333333,
             "#9c179e"
            ],
            [
             0.4444444444444444,
             "#bd3786"
            ],
            [
             0.5555555555555556,
             "#d8576b"
            ],
            [
             0.6666666666666666,
             "#ed7953"
            ],
            [
             0.7777777777777778,
             "#fb9f3a"
            ],
            [
             0.8888888888888888,
             "#fdca26"
            ],
            [
             1,
             "#f0f921"
            ]
           ],
           "sequentialminus": [
            [
             0,
             "#0d0887"
            ],
            [
             0.1111111111111111,
             "#46039f"
            ],
            [
             0.2222222222222222,
             "#7201a8"
            ],
            [
             0.3333333333333333,
             "#9c179e"
            ],
            [
             0.4444444444444444,
             "#bd3786"
            ],
            [
             0.5555555555555556,
             "#d8576b"
            ],
            [
             0.6666666666666666,
             "#ed7953"
            ],
            [
             0.7777777777777778,
             "#fb9f3a"
            ],
            [
             0.8888888888888888,
             "#fdca26"
            ],
            [
             1,
             "#f0f921"
            ]
           ]
          },
          "colorway": [
           "#636efa",
           "#EF553B",
           "#00cc96",
           "#ab63fa",
           "#FFA15A",
           "#19d3f3",
           "#FF6692",
           "#B6E880",
           "#FF97FF",
           "#FECB52"
          ],
          "font": {
           "color": "#2a3f5f"
          },
          "geo": {
           "bgcolor": "white",
           "lakecolor": "white",
           "landcolor": "#E5ECF6",
           "showlakes": true,
           "showland": true,
           "subunitcolor": "white"
          },
          "hoverlabel": {
           "align": "left"
          },
          "hovermode": "closest",
          "mapbox": {
           "style": "light"
          },
          "paper_bgcolor": "white",
          "plot_bgcolor": "#E5ECF6",
          "polar": {
           "angularaxis": {
            "gridcolor": "white",
            "linecolor": "white",
            "ticks": ""
           },
           "bgcolor": "#E5ECF6",
           "radialaxis": {
            "gridcolor": "white",
            "linecolor": "white",
            "ticks": ""
           }
          },
          "scene": {
           "xaxis": {
            "backgroundcolor": "#E5ECF6",
            "gridcolor": "white",
            "gridwidth": 2,
            "linecolor": "white",
            "showbackground": true,
            "ticks": "",
            "zerolinecolor": "white"
           },
           "yaxis": {
            "backgroundcolor": "#E5ECF6",
            "gridcolor": "white",
            "gridwidth": 2,
            "linecolor": "white",
            "showbackground": true,
            "ticks": "",
            "zerolinecolor": "white"
           },
           "zaxis": {
            "backgroundcolor": "#E5ECF6",
            "gridcolor": "white",
            "gridwidth": 2,
            "linecolor": "white",
            "showbackground": true,
            "ticks": "",
            "zerolinecolor": "white"
           }
          },
          "shapedefaults": {
           "line": {
            "color": "#2a3f5f"
           }
          },
          "ternary": {
           "aaxis": {
            "gridcolor": "white",
            "linecolor": "white",
            "ticks": ""
           },
           "baxis": {
            "gridcolor": "white",
            "linecolor": "white",
            "ticks": ""
           },
           "bgcolor": "#E5ECF6",
           "caxis": {
            "gridcolor": "white",
            "linecolor": "white",
            "ticks": ""
           }
          },
          "title": {
           "x": 0.05
          },
          "xaxis": {
           "automargin": true,
           "gridcolor": "white",
           "linecolor": "white",
           "ticks": "",
           "title": {
            "standoff": 15
           },
           "zerolinecolor": "white",
           "zerolinewidth": 2
          },
          "yaxis": {
           "automargin": true,
           "gridcolor": "white",
           "linecolor": "white",
           "ticks": "",
           "title": {
            "standoff": 15
           },
           "zerolinecolor": "white",
           "zerolinewidth": 2
          }
         }
        },
        "title": {
         "text": "Difference between men and women according to the top10 genre (w.r.t. actors numbers)"
        },
        "updatemenus": [
         {
          "buttons": [
           {
            "args": [
             null,
             {
              "frame": {
               "duration": 500,
               "redraw": true
              },
              "fromcurrent": true,
              "mode": "immediate",
              "transition": {
               "duration": 500,
               "easing": "linear"
              }
             }
            ],
            "label": "&#9654;",
            "method": "animate"
           },
           {
            "args": [
             [
              null
             ],
             {
              "frame": {
               "duration": 0,
               "redraw": true
              },
              "fromcurrent": true,
              "mode": "immediate",
              "transition": {
               "duration": 0,
               "easing": "linear"
              }
             }
            ],
            "label": "&#9724;",
            "method": "animate"
           }
          ],
          "direction": "left",
          "pad": {
           "r": 10,
           "t": 70
          },
          "showactive": false,
          "type": "buttons",
          "x": 0.1,
          "xanchor": "right",
          "y": 0,
          "yanchor": "top"
         }
        ],
        "width": 830,
        "xaxis": {
         "anchor": "y",
         "categoryarray": [
          "F",
          "M"
         ],
         "categoryorder": "array",
         "domain": [
          0,
          1
         ],
         "title": {
          "text": "sex"
         }
        },
        "yaxis": {
         "anchor": "x",
         "domain": [
          0,
          1
         ],
         "range": [
          0,
          20000
         ],
         "title": {
          "text": "number_of_actors"
         }
        }
       }
      }
     },
     "metadata": {},
     "output_type": "display_data"
    }
   ],
   "source": [
    "#plot this table through interactive way to compare women and men actors into movies with respect to the specific genre.\n",
    "fig = px.bar(table_gender_comparison, x=\"sex\", y=\"number_of_actors\", color=\"sex\",\n",
    "   animation_frame=table_gender_comparison.index, animation_group=\"sex\", \n",
    "   range_y=[0,20000])\n",
    "fig.update_layout(\n",
    "    height=600,\n",
    "    width= 830,\n",
    "    title_text='Difference between men and women according to the top10 genre (w.r.t. actors numbers)'\n",
    ")\n",
    "fig.show()"
   ]
  },
  {
   "cell_type": "markdown",
   "metadata": {},
   "source": [
    "> We can observe that every genre from the top 10 lead to larger number of actor compared to actress. This difference is more or less depending on the genre. Even though we can't have direct conclusion, the tendency is to have more men that women in movies (be careful about the original data that can just mention more actor than actress i.e. unbalanced dataset)."
   ]
  },
  {
   "cell_type": "code",
   "execution_count": 19,
   "metadata": {},
   "outputs": [
    {
     "data": {
      "text/html": [
       "<div>\n",
       "<style scoped>\n",
       "    .dataframe tbody tr th:only-of-type {\n",
       "        vertical-align: middle;\n",
       "    }\n",
       "\n",
       "    .dataframe tbody tr th {\n",
       "        vertical-align: top;\n",
       "    }\n",
       "\n",
       "    .dataframe thead th {\n",
       "        text-align: right;\n",
       "    }\n",
       "</style>\n",
       "<table border=\"1\" class=\"dataframe\">\n",
       "  <thead>\n",
       "    <tr style=\"text-align: right;\">\n",
       "      <th></th>\n",
       "      <th>number_of_actors</th>\n",
       "    </tr>\n",
       "    <tr>\n",
       "      <th>principal_genre</th>\n",
       "      <th></th>\n",
       "    </tr>\n",
       "  </thead>\n",
       "  <tbody>\n",
       "    <tr>\n",
       "      <th>Drama</th>\n",
       "      <td>18886</td>\n",
       "    </tr>\n",
       "    <tr>\n",
       "      <th>Thriller</th>\n",
       "      <td>17603</td>\n",
       "    </tr>\n",
       "    <tr>\n",
       "      <th>Romantic comedy</th>\n",
       "      <td>9329</td>\n",
       "    </tr>\n",
       "    <tr>\n",
       "      <th>Crime Fiction</th>\n",
       "      <td>9320</td>\n",
       "    </tr>\n",
       "    <tr>\n",
       "      <th>Romance Film</th>\n",
       "      <td>6269</td>\n",
       "    </tr>\n",
       "    <tr>\n",
       "      <th>Comedy</th>\n",
       "      <td>4313</td>\n",
       "    </tr>\n",
       "    <tr>\n",
       "      <th>Short Film</th>\n",
       "      <td>3937</td>\n",
       "    </tr>\n",
       "    <tr>\n",
       "      <th>Romantic drama</th>\n",
       "      <td>3743</td>\n",
       "    </tr>\n",
       "    <tr>\n",
       "      <th>Musical</th>\n",
       "      <td>3558</td>\n",
       "    </tr>\n",
       "    <tr>\n",
       "      <th>Family Film</th>\n",
       "      <td>3326</td>\n",
       "    </tr>\n",
       "  </tbody>\n",
       "</table>\n",
       "</div>"
      ],
      "text/plain": [
       "                 number_of_actors\n",
       "principal_genre                  \n",
       "Drama                       18886\n",
       "Thriller                    17603\n",
       "Romantic comedy              9329\n",
       "Crime Fiction                9320\n",
       "Romance Film                 6269\n",
       "Comedy                       4313\n",
       "Short Film                   3937\n",
       "Romantic drama               3743\n",
       "Musical                      3558\n",
       "Family Film                  3326"
      ]
     },
     "execution_count": 19,
     "metadata": {},
     "output_type": "execute_result"
    }
   ],
   "source": [
    "#compute table of top 10 genre where women actress have a role\n",
    "top_genre_women= merge_info.groupby(merge_info['principal_genre']).apply(lambda x: pd.Series({\n",
    "        'number_of_actors': len(x[x['actor_gender'] == 'F'])\n",
    "        })).sort_values('number_of_actors', ascending=False).head(10)\n",
    "top_genre_women"
   ]
  },
  {
   "cell_type": "code",
   "execution_count": 20,
   "metadata": {},
   "outputs": [
    {
     "data": {
      "image/png": "[encoded data removed]",
      "text/plain": [
       "<Figure size 432x288 with 1 Axes>"
      ]
     },
     "metadata": {
      "needs_background": "light"
     },
     "output_type": "display_data"
    }
   ],
   "source": [
    "#bar plot the last table\n",
    "top_genre_women= top_genre_women.sort_values('number_of_actors', ascending=True)\n",
    "y_pos = np.arange(len(top_genre_women.index))\n",
    "\n",
    "plt.barh(y_pos, top_genre_women.number_of_actors)\n",
    " \n",
    "plt.yticks(y_pos, top_genre_women.index)\n",
    "\n",
    "plt.xlabel('Number Of Female Actress')\n",
    " \n",
    "plt.show()"
   ]
  },
  {
   "cell_type": "code",
   "execution_count": 21,
   "metadata": {},
   "outputs": [
    {
     "data": {
      "text/html": [
       "<div>\n",
       "<style scoped>\n",
       "    .dataframe tbody tr th:only-of-type {\n",
       "        vertical-align: middle;\n",
       "    }\n",
       "\n",
       "    .dataframe tbody tr th {\n",
       "        vertical-align: top;\n",
       "    }\n",
       "\n",
       "    .dataframe thead th {\n",
       "        text-align: right;\n",
       "    }\n",
       "</style>\n",
       "<table border=\"1\" class=\"dataframe\">\n",
       "  <thead>\n",
       "    <tr style=\"text-align: right;\">\n",
       "      <th></th>\n",
       "      <th>number_of_actors</th>\n",
       "    </tr>\n",
       "    <tr>\n",
       "      <th>principal_genre</th>\n",
       "      <th></th>\n",
       "    </tr>\n",
       "  </thead>\n",
       "  <tbody>\n",
       "    <tr>\n",
       "      <th>Thriller</th>\n",
       "      <td>38517</td>\n",
       "    </tr>\n",
       "    <tr>\n",
       "      <th>Drama</th>\n",
       "      <td>31804</td>\n",
       "    </tr>\n",
       "    <tr>\n",
       "      <th>Crime Fiction</th>\n",
       "      <td>23500</td>\n",
       "    </tr>\n",
       "    <tr>\n",
       "      <th>Romantic comedy</th>\n",
       "      <td>12999</td>\n",
       "    </tr>\n",
       "    <tr>\n",
       "      <th>Short Film</th>\n",
       "      <td>10375</td>\n",
       "    </tr>\n",
       "    <tr>\n",
       "      <th>Romance Film</th>\n",
       "      <td>9762</td>\n",
       "    </tr>\n",
       "    <tr>\n",
       "      <th>Action/Adventure</th>\n",
       "      <td>9760</td>\n",
       "    </tr>\n",
       "    <tr>\n",
       "      <th>Comedy</th>\n",
       "      <td>8627</td>\n",
       "    </tr>\n",
       "    <tr>\n",
       "      <th>Science Fiction</th>\n",
       "      <td>6895</td>\n",
       "    </tr>\n",
       "    <tr>\n",
       "      <th>Action</th>\n",
       "      <td>6633</td>\n",
       "    </tr>\n",
       "  </tbody>\n",
       "</table>\n",
       "</div>"
      ],
      "text/plain": [
       "                  number_of_actors\n",
       "principal_genre                   \n",
       "Thriller                     38517\n",
       "Drama                        31804\n",
       "Crime Fiction                23500\n",
       "Romantic comedy              12999\n",
       "Short Film                   10375\n",
       "Romance Film                  9762\n",
       "Action/Adventure              9760\n",
       "Comedy                        8627\n",
       "Science Fiction               6895\n",
       "Action                        6633"
      ]
     },
     "execution_count": 21,
     "metadata": {},
     "output_type": "execute_result"
    }
   ],
   "source": [
    "#do the same for the men actors\n",
    "top_genre_men= merge_info.groupby(merge_info['principal_genre']).apply(lambda x: pd.Series({\n",
    "        'number_of_actors': len(x[x['actor_gender'] == 'M'])\n",
    "        })).sort_values('number_of_actors', ascending=False).head(10)\n",
    "top_genre_men"
   ]
  },
  {
   "cell_type": "code",
   "execution_count": 22,
   "metadata": {},
   "outputs": [
    {
     "data": {
      "image/png": "[encoded data removed]",
      "text/plain": [
       "<Figure size 432x288 with 1 Axes>"
      ]
     },
     "metadata": {
      "needs_background": "light"
     },
     "output_type": "display_data"
    }
   ],
   "source": [
    "#bar plot the last table\n",
    "top_genre_men= top_genre_men.sort_values('number_of_actors', ascending=True)\n",
    "y_pos = np.arange(len(top_genre_men.index))\n",
    "\n",
    "plt.barh(y_pos, top_genre_men.number_of_actors)\n",
    " \n",
    "plt.yticks(y_pos, top_genre_men.index)\n",
    "\n",
    "plt.xlabel('Number Of Male Actors')\n",
    " \n",
    "plt.show()"
   ]
  },
  {
   "cell_type": "markdown",
   "metadata": {},
   "source": [
    "> The two last plots highlight that the top 10 genre where both actress and actor play a role into are almost the same, with just little changes. 'Action'/'Action/Adventure' and 'Science Fiction' top 10 men genres are replaced by 'Musical'/'Romantic Drama' and 'Family' genres for women."
   ]
  }
 ],
 "metadata": {
  "interpreter": {
   "hash": "40d3a090f54c6569ab1632332b64b2c03c39dcf918b08424e98f38b5ae0af88f"
  },
  "kernelspec": {
   "display_name": "Python 3.8.5 ('base')",
   "language": "python",
   "name": "python3"
  },
  "language_info": {
   "codemirror_mode": {
    "name": "ipython",
    "version": 3
   },
   "file_extension": ".py",
   "mimetype": "text/x-python",
   "name": "python",
   "nbconvert_exporter": "python",
   "pygments_lexer": "ipython3",
   "version": "3.8.5"
  },
  "vscode": {
   "interpreter": {
    "hash": "4db70c0d16d735d18878bb5d3c61d9a2a19fc81b670a50de5e62ccb85a2af375"
   }
  }
 },
 "nbformat": 4,
 "nbformat_minor": 4
}
