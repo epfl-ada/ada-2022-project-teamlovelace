{
 "cells": [
  {
   "cell_type": "markdown",
   "metadata": {},
   "source": [
    "# Graph preprocessing\n",
    "\n",
    "In this notebook we generate the large actor graph\n",
    "\n",
    "Actors $i \\in \\{1 \\cdots N\\}$. Actor nodes store their corresponding fbid.\n",
    "\n",
    "Edges $(i,j) \\in E$ iff $i$ and $j$ have played in the same movie. Edges store a list of movie fbids in which both actors have played"
   ]
  },
  {
   "cell_type": "code",
   "execution_count": 1,
   "metadata": {},
   "outputs": [],
   "source": [
    "import numpy as np\n",
    "import seaborn as sns\n",
    "import matplotlib.pyplot as plt\n",
    "import pandas as pd\n",
    "from tqdm import tqdm\n",
    "import itertools"
   ]
  },
  {
   "cell_type": "markdown",
   "metadata": {},
   "source": [
    "## Load preprocessed data"
   ]
  },
  {
   "cell_type": "code",
   "execution_count": 2,
   "metadata": {},
   "outputs": [],
   "source": [
    "df_actors = pd.read_pickle('../data/generated/preprocessed/characters.pkl')"
   ]
  },
  {
   "cell_type": "markdown",
   "metadata": {},
   "source": [
    "## Generate edges"
   ]
  },
  {
   "cell_type": "markdown",
   "metadata": {},
   "source": [
    "### Raw ordered edges, without grouping"
   ]
  },
  {
   "cell_type": "code",
   "execution_count": 3,
   "metadata": {},
   "outputs": [],
   "source": [
    "edges = []\n",
    "\n",
    "for movie_fbid, df_actor_movie in df_actors.dropna(subset=['fb_actor_id']).groupby('fb_movie_id'):\n",
    "\t# NOTE : we need to sort the edges, because we only store i -> j, but want an undirected graph\n",
    "\t# NOTE : we need to use unique(), because some actors play multiple characters in the same movie\n",
    "\t# e.g. df_actors.query('fb_movie_id == \"/m/011xrr\"')\n",
    "\tedges += [ (*sorted((actor1_fbid, actor2_fbid)), movie_fbid )\n",
    "\t\tfor actor1_fbid, actor2_fbid in itertools.combinations(df_actor_movie.fb_actor_id.unique(), r=2) ]\n",
    "\n",
    "df_edges = pd.DataFrame(edges, columns=['actor1_fbid', 'actor2_fbid', 'movie_fbid'])"
   ]
  },
  {
   "cell_type": "code",
   "execution_count": 4,
   "metadata": {},
   "outputs": [
    {
     "data": {
      "text/html": [
       "<div>\n",
       "<style scoped>\n",
       "    .dataframe tbody tr th:only-of-type {\n",
       "        vertical-align: middle;\n",
       "    }\n",
       "\n",
       "    .dataframe tbody tr th {\n",
       "        vertical-align: top;\n",
       "    }\n",
       "\n",
       "    .dataframe thead th {\n",
       "        text-align: right;\n",
       "    }\n",
       "</style>\n",
       "<table border=\"1\" class=\"dataframe\">\n",
       "  <thead>\n",
       "    <tr style=\"text-align: right;\">\n",
       "      <th></th>\n",
       "      <th>actor1_fbid</th>\n",
       "      <th>actor2_fbid</th>\n",
       "      <th>movie_fbid</th>\n",
       "    </tr>\n",
       "  </thead>\n",
       "  <tbody>\n",
       "    <tr>\n",
       "      <th>0</th>\n",
       "      <td>/m/01lc5</td>\n",
       "      <td>/m/07mmg5</td>\n",
       "      <td>/m/011_mj</td>\n",
       "    </tr>\n",
       "    <tr>\n",
       "      <th>1</th>\n",
       "      <td>/m/01lc5</td>\n",
       "      <td>/m/0ksm_r</td>\n",
       "      <td>/m/011_mj</td>\n",
       "    </tr>\n",
       "    <tr>\n",
       "      <th>2</th>\n",
       "      <td>/m/01lc5</td>\n",
       "      <td>/m/03d36rf</td>\n",
       "      <td>/m/011_mj</td>\n",
       "    </tr>\n",
       "    <tr>\n",
       "      <th>3</th>\n",
       "      <td>/m/01lc5</td>\n",
       "      <td>/m/0gclz8m</td>\n",
       "      <td>/m/011_mj</td>\n",
       "    </tr>\n",
       "    <tr>\n",
       "      <th>4</th>\n",
       "      <td>/m/01lc5</td>\n",
       "      <td>/m/043j_fq</td>\n",
       "      <td>/m/011_mj</td>\n",
       "    </tr>\n",
       "    <tr>\n",
       "      <th>...</th>\n",
       "      <td>...</td>\n",
       "      <td>...</td>\n",
       "      <td>...</td>\n",
       "    </tr>\n",
       "    <tr>\n",
       "      <th>2241652</th>\n",
       "      <td>/m/03cs7zg</td>\n",
       "      <td>/m/0gc19fb</td>\n",
       "      <td>/m/0yzvw</td>\n",
       "    </tr>\n",
       "    <tr>\n",
       "      <th>2241653</th>\n",
       "      <td>/m/03cs7zg</td>\n",
       "      <td>/m/05ztnvq</td>\n",
       "      <td>/m/0yzvw</td>\n",
       "    </tr>\n",
       "    <tr>\n",
       "      <th>2241654</th>\n",
       "      <td>/m/08d8dtg</td>\n",
       "      <td>/m/0gc19fb</td>\n",
       "      <td>/m/0yzvw</td>\n",
       "    </tr>\n",
       "    <tr>\n",
       "      <th>2241655</th>\n",
       "      <td>/m/05ztnvq</td>\n",
       "      <td>/m/08d8dtg</td>\n",
       "      <td>/m/0yzvw</td>\n",
       "    </tr>\n",
       "    <tr>\n",
       "      <th>2241656</th>\n",
       "      <td>/m/05ztnvq</td>\n",
       "      <td>/m/0gc19fb</td>\n",
       "      <td>/m/0yzvw</td>\n",
       "    </tr>\n",
       "  </tbody>\n",
       "</table>\n",
       "<p>2241657 rows × 3 columns</p>\n",
       "</div>"
      ],
      "text/plain": [
       "        actor1_fbid actor2_fbid movie_fbid\n",
       "0          /m/01lc5   /m/07mmg5  /m/011_mj\n",
       "1          /m/01lc5   /m/0ksm_r  /m/011_mj\n",
       "2          /m/01lc5  /m/03d36rf  /m/011_mj\n",
       "3          /m/01lc5  /m/0gclz8m  /m/011_mj\n",
       "4          /m/01lc5  /m/043j_fq  /m/011_mj\n",
       "...             ...         ...        ...\n",
       "2241652  /m/03cs7zg  /m/0gc19fb   /m/0yzvw\n",
       "2241653  /m/03cs7zg  /m/05ztnvq   /m/0yzvw\n",
       "2241654  /m/08d8dtg  /m/0gc19fb   /m/0yzvw\n",
       "2241655  /m/05ztnvq  /m/08d8dtg   /m/0yzvw\n",
       "2241656  /m/05ztnvq  /m/0gc19fb   /m/0yzvw\n",
       "\n",
       "[2241657 rows x 3 columns]"
      ]
     },
     "execution_count": 4,
     "metadata": {},
     "output_type": "execute_result"
    }
   ],
   "source": [
    "# sanity check that we indeed have ordered edges\n",
    "assert (df_edges['actor1_fbid'] < df_edges['actor2_fbid']).all()\n",
    "df_edges"
   ]
  },
  {
   "cell_type": "code",
   "execution_count": 5,
   "metadata": {},
   "outputs": [],
   "source": [
    "df_edges.to_pickle('../data/generated/graph/actor_graph_full.ungrouped.pkl')"
   ]
  },
  {
   "cell_type": "markdown",
   "metadata": {},
   "source": [
    "### Ordered edges, grouped by actor pairs"
   ]
  },
  {
   "cell_type": "code",
   "execution_count": 6,
   "metadata": {},
   "outputs": [
    {
     "data": {
      "text/html": [
       "<div>\n",
       "<style scoped>\n",
       "    .dataframe tbody tr th:only-of-type {\n",
       "        vertical-align: middle;\n",
       "    }\n",
       "\n",
       "    .dataframe tbody tr th {\n",
       "        vertical-align: top;\n",
       "    }\n",
       "\n",
       "    .dataframe thead th {\n",
       "        text-align: right;\n",
       "    }\n",
       "</style>\n",
       "<table border=\"1\" class=\"dataframe\">\n",
       "  <thead>\n",
       "    <tr style=\"text-align: right;\">\n",
       "      <th></th>\n",
       "      <th>actor1_fbid</th>\n",
       "      <th>actor2_fbid</th>\n",
       "      <th>movie_count</th>\n",
       "    </tr>\n",
       "  </thead>\n",
       "  <tbody>\n",
       "    <tr>\n",
       "      <th>503637</th>\n",
       "      <td>/m/02cvp8</td>\n",
       "      <td>/m/02t0n9</td>\n",
       "      <td>219</td>\n",
       "    </tr>\n",
       "    <tr>\n",
       "      <th>655465</th>\n",
       "      <td>/m/02t0n9</td>\n",
       "      <td>/m/045g4l</td>\n",
       "      <td>119</td>\n",
       "    </tr>\n",
       "    <tr>\n",
       "      <th>503747</th>\n",
       "      <td>/m/02cvp8</td>\n",
       "      <td>/m/045g4l</td>\n",
       "      <td>119</td>\n",
       "    </tr>\n",
       "    <tr>\n",
       "      <th>906950</th>\n",
       "      <td>/m/03mv0b</td>\n",
       "      <td>/m/0lh0c</td>\n",
       "      <td>101</td>\n",
       "    </tr>\n",
       "    <tr>\n",
       "      <th>503668</th>\n",
       "      <td>/m/02cvp8</td>\n",
       "      <td>/m/030dx5</td>\n",
       "      <td>82</td>\n",
       "    </tr>\n",
       "    <tr>\n",
       "      <th>655389</th>\n",
       "      <td>/m/02t0n9</td>\n",
       "      <td>/m/030dx5</td>\n",
       "      <td>82</td>\n",
       "    </tr>\n",
       "    <tr>\n",
       "      <th>413851</th>\n",
       "      <td>/m/026xmsr</td>\n",
       "      <td>/m/02cvp8</td>\n",
       "      <td>72</td>\n",
       "    </tr>\n",
       "    <tr>\n",
       "      <th>413858</th>\n",
       "      <td>/m/026xmsr</td>\n",
       "      <td>/m/02t0n9</td>\n",
       "      <td>72</td>\n",
       "    </tr>\n",
       "    <tr>\n",
       "      <th>434488</th>\n",
       "      <td>/m/027_zc</td>\n",
       "      <td>/m/0671gz</td>\n",
       "      <td>60</td>\n",
       "    </tr>\n",
       "    <tr>\n",
       "      <th>1039042</th>\n",
       "      <td>/m/04c636</td>\n",
       "      <td>/m/05yvfd</td>\n",
       "      <td>59</td>\n",
       "    </tr>\n",
       "    <tr>\n",
       "      <th>612669</th>\n",
       "      <td>/m/02qnyr7</td>\n",
       "      <td>/m/071wvh</td>\n",
       "      <td>50</td>\n",
       "    </tr>\n",
       "    <tr>\n",
       "      <th>512877</th>\n",
       "      <td>/m/02fbpz</td>\n",
       "      <td>/m/048svj</td>\n",
       "      <td>49</td>\n",
       "    </tr>\n",
       "    <tr>\n",
       "      <th>160916</th>\n",
       "      <td>/m/01hkg9</td>\n",
       "      <td>/m/0c5vh</td>\n",
       "      <td>48</td>\n",
       "    </tr>\n",
       "    <tr>\n",
       "      <th>650184</th>\n",
       "      <td>/m/02rzmzk</td>\n",
       "      <td>/m/071wvh</td>\n",
       "      <td>47</td>\n",
       "    </tr>\n",
       "    <tr>\n",
       "      <th>893525</th>\n",
       "      <td>/m/03lpd0</td>\n",
       "      <td>/m/0c5vh</td>\n",
       "      <td>46</td>\n",
       "    </tr>\n",
       "    <tr>\n",
       "      <th>2055592</th>\n",
       "      <td>/m/0kr_01</td>\n",
       "      <td>/m/0kr_7z</td>\n",
       "      <td>46</td>\n",
       "    </tr>\n",
       "    <tr>\n",
       "      <th>618820</th>\n",
       "      <td>/m/02qvhbb</td>\n",
       "      <td>/m/071wvh</td>\n",
       "      <td>44</td>\n",
       "    </tr>\n",
       "    <tr>\n",
       "      <th>2055652</th>\n",
       "      <td>/m/0kr_7z</td>\n",
       "      <td>/m/0ks01m</td>\n",
       "      <td>43</td>\n",
       "    </tr>\n",
       "    <tr>\n",
       "      <th>413931</th>\n",
       "      <td>/m/026xmsr</td>\n",
       "      <td>/m/045g4l</td>\n",
       "      <td>43</td>\n",
       "    </tr>\n",
       "    <tr>\n",
       "      <th>512804</th>\n",
       "      <td>/m/02fbpz</td>\n",
       "      <td>/m/02hkw6</td>\n",
       "      <td>42</td>\n",
       "    </tr>\n",
       "  </tbody>\n",
       "</table>\n",
       "</div>"
      ],
      "text/plain": [
       "        actor1_fbid actor2_fbid  movie_count\n",
       "503637    /m/02cvp8   /m/02t0n9          219\n",
       "655465    /m/02t0n9   /m/045g4l          119\n",
       "503747    /m/02cvp8   /m/045g4l          119\n",
       "906950    /m/03mv0b    /m/0lh0c          101\n",
       "503668    /m/02cvp8   /m/030dx5           82\n",
       "655389    /m/02t0n9   /m/030dx5           82\n",
       "413851   /m/026xmsr   /m/02cvp8           72\n",
       "413858   /m/026xmsr   /m/02t0n9           72\n",
       "434488    /m/027_zc   /m/0671gz           60\n",
       "1039042   /m/04c636   /m/05yvfd           59\n",
       "612669   /m/02qnyr7   /m/071wvh           50\n",
       "512877    /m/02fbpz   /m/048svj           49\n",
       "160916    /m/01hkg9    /m/0c5vh           48\n",
       "650184   /m/02rzmzk   /m/071wvh           47\n",
       "893525    /m/03lpd0    /m/0c5vh           46\n",
       "2055592   /m/0kr_01   /m/0kr_7z           46\n",
       "618820   /m/02qvhbb   /m/071wvh           44\n",
       "2055652   /m/0kr_7z   /m/0ks01m           43\n",
       "413931   /m/026xmsr   /m/045g4l           43\n",
       "512804    /m/02fbpz   /m/02hkw6           42"
      ]
     },
     "execution_count": 6,
     "metadata": {},
     "output_type": "execute_result"
    }
   ],
   "source": [
    "df_edges_grouped = (df_edges\n",
    "\t.groupby(['actor1_fbid', 'actor2_fbid'])\n",
    "\t[['movie_fbid']]\n",
    "\t.count()\n",
    "\t.reset_index()\n",
    "\t.sort_values('movie_fbid', ascending=False)  # movie_fbid count is the edge weight !!\n",
    ")\n",
    "df_edges_grouped.rename(columns={'movie_fbid': 'movie_count'}, inplace=True)\n",
    "df_edges_grouped.head(20)"
   ]
  },
  {
   "cell_type": "code",
   "execution_count": 7,
   "metadata": {},
   "outputs": [
    {
     "name": "stdout",
     "output_type": "stream",
     "text": [
      "N=135061 nodes, E=2080273 edges\n"
     ]
    }
   ],
   "source": [
    "print(f'N={pd.concat([df_edges_grouped.actor1_fbid, df_edges_grouped.actor2_fbid]).nunique()} nodes, E={len(df_edges_grouped)} edges')"
   ]
  },
  {
   "cell_type": "code",
   "execution_count": 8,
   "metadata": {},
   "outputs": [],
   "source": [
    "df_edges_grouped.to_pickle('../data/generated/graph/actor_graph_full.grouped.pkl')"
   ]
  },
  {
   "cell_type": "markdown",
   "metadata": {},
   "source": [
    "## Create graph"
   ]
  },
  {
   "cell_type": "markdown",
   "metadata": {},
   "source": [
    "### Using networkx"
   ]
  },
  {
   "cell_type": "code",
   "execution_count": 9,
   "metadata": {},
   "outputs": [],
   "source": [
    "import networkx as nx"
   ]
  },
  {
   "cell_type": "code",
   "execution_count": 11,
   "metadata": {},
   "outputs": [
    {
     "name": "stdout",
     "output_type": "stream",
     "text": [
      "Graph with 135061 nodes and 2080273 edges\n"
     ]
    }
   ],
   "source": [
    "g = nx.from_pandas_edgelist(df_edges_grouped, source='actor1_fbid', target='actor2_fbid', edge_attr=['movie_count'])\n",
    "print(g)"
   ]
  },
  {
   "cell_type": "markdown",
   "metadata": {},
   "source": [
    "### Using igraph"
   ]
  },
  {
   "cell_type": "code",
   "execution_count": 12,
   "metadata": {},
   "outputs": [],
   "source": [
    "import igraph as ig"
   ]
  },
  {
   "cell_type": "code",
   "execution_count": 13,
   "metadata": {},
   "outputs": [
    {
     "data": {
      "text/html": [
       "<div>\n",
       "<style scoped>\n",
       "    .dataframe tbody tr th:only-of-type {\n",
       "        vertical-align: middle;\n",
       "    }\n",
       "\n",
       "    .dataframe tbody tr th {\n",
       "        vertical-align: top;\n",
       "    }\n",
       "\n",
       "    .dataframe thead th {\n",
       "        text-align: right;\n",
       "    }\n",
       "</style>\n",
       "<table border=\"1\" class=\"dataframe\">\n",
       "  <thead>\n",
       "    <tr style=\"text-align: right;\">\n",
       "      <th></th>\n",
       "      <th>actor1_fbid</th>\n",
       "      <th>actor2_fbid</th>\n",
       "      <th>movie_count</th>\n",
       "      <th>actor1_numid</th>\n",
       "      <th>actor2_numid</th>\n",
       "    </tr>\n",
       "  </thead>\n",
       "  <tbody>\n",
       "    <tr>\n",
       "      <th>503637</th>\n",
       "      <td>/m/02cvp8</td>\n",
       "      <td>/m/02t0n9</td>\n",
       "      <td>219</td>\n",
       "      <td>0</td>\n",
       "      <td>1</td>\n",
       "    </tr>\n",
       "    <tr>\n",
       "      <th>655465</th>\n",
       "      <td>/m/02t0n9</td>\n",
       "      <td>/m/045g4l</td>\n",
       "      <td>119</td>\n",
       "      <td>1</td>\n",
       "      <td>253</td>\n",
       "    </tr>\n",
       "    <tr>\n",
       "      <th>503747</th>\n",
       "      <td>/m/02cvp8</td>\n",
       "      <td>/m/045g4l</td>\n",
       "      <td>119</td>\n",
       "      <td>0</td>\n",
       "      <td>253</td>\n",
       "    </tr>\n",
       "    <tr>\n",
       "      <th>906950</th>\n",
       "      <td>/m/03mv0b</td>\n",
       "      <td>/m/0lh0c</td>\n",
       "      <td>101</td>\n",
       "      <td>2</td>\n",
       "      <td>69600</td>\n",
       "    </tr>\n",
       "    <tr>\n",
       "      <th>503668</th>\n",
       "      <td>/m/02cvp8</td>\n",
       "      <td>/m/030dx5</td>\n",
       "      <td>82</td>\n",
       "      <td>0</td>\n",
       "      <td>40</td>\n",
       "    </tr>\n",
       "    <tr>\n",
       "      <th>...</th>\n",
       "      <td>...</td>\n",
       "      <td>...</td>\n",
       "      <td>...</td>\n",
       "      <td>...</td>\n",
       "      <td>...</td>\n",
       "    </tr>\n",
       "    <tr>\n",
       "      <th>717939</th>\n",
       "      <td>/m/02z28y7</td>\n",
       "      <td>/m/09rxk8z</td>\n",
       "      <td>1</td>\n",
       "      <td>1079</td>\n",
       "      <td>19808</td>\n",
       "    </tr>\n",
       "    <tr>\n",
       "      <th>717938</th>\n",
       "      <td>/m/02z28y7</td>\n",
       "      <td>/m/09rvxt5</td>\n",
       "      <td>1</td>\n",
       "      <td>1079</td>\n",
       "      <td>19881</td>\n",
       "    </tr>\n",
       "    <tr>\n",
       "      <th>717937</th>\n",
       "      <td>/m/02z28y7</td>\n",
       "      <td>/m/09q3gc</td>\n",
       "      <td>1</td>\n",
       "      <td>1079</td>\n",
       "      <td>5279</td>\n",
       "    </tr>\n",
       "    <tr>\n",
       "      <th>717936</th>\n",
       "      <td>/m/02z28y7</td>\n",
       "      <td>/m/09jlgq</td>\n",
       "      <td>1</td>\n",
       "      <td>1079</td>\n",
       "      <td>12708</td>\n",
       "    </tr>\n",
       "    <tr>\n",
       "      <th>2080272</th>\n",
       "      <td>/m/0ywqc</td>\n",
       "      <td>/m/0z4s</td>\n",
       "      <td>1</td>\n",
       "      <td>66480</td>\n",
       "      <td>119990</td>\n",
       "    </tr>\n",
       "  </tbody>\n",
       "</table>\n",
       "<p>2080273 rows × 5 columns</p>\n",
       "</div>"
      ],
      "text/plain": [
       "        actor1_fbid actor2_fbid  movie_count  actor1_numid  actor2_numid\n",
       "503637    /m/02cvp8   /m/02t0n9          219             0             1\n",
       "655465    /m/02t0n9   /m/045g4l          119             1           253\n",
       "503747    /m/02cvp8   /m/045g4l          119             0           253\n",
       "906950    /m/03mv0b    /m/0lh0c          101             2         69600\n",
       "503668    /m/02cvp8   /m/030dx5           82             0            40\n",
       "...             ...         ...          ...           ...           ...\n",
       "717939   /m/02z28y7  /m/09rxk8z            1          1079         19808\n",
       "717938   /m/02z28y7  /m/09rvxt5            1          1079         19881\n",
       "717937   /m/02z28y7   /m/09q3gc            1          1079          5279\n",
       "717936   /m/02z28y7   /m/09jlgq            1          1079         12708\n",
       "2080272    /m/0ywqc     /m/0z4s            1         66480        119990\n",
       "\n",
       "[2080273 rows x 5 columns]"
      ]
     },
     "execution_count": 13,
     "metadata": {},
     "output_type": "execute_result"
    }
   ],
   "source": [
    "# we need to convert to numerical indices, otherwise igraph will complain\n",
    "codes, uniques = pd.factorize(pd.concat([df_edges_grouped.actor1_fbid, df_edges_grouped.actor2_fbid]))\n",
    "df_edges_ig = df_edges_grouped.copy()\n",
    "df_edges_ig['actor1_numid'] = codes[:len(df_edges_ig)]\n",
    "df_edges_ig['actor2_numid'] = codes[len(df_edges_ig):]\n",
    "df_edges_ig"
   ]
  },
  {
   "cell_type": "code",
   "execution_count": 15,
   "metadata": {},
   "outputs": [
    {
     "name": "stdout",
     "output_type": "stream",
     "text": [
      "IGRAPH U--- 135061 2080273 -- \n",
      "+ attr: actor_fbid (v), movie_count (e)\n"
     ]
    }
   ],
   "source": [
    "g = ig.Graph.DataFrame(df_edges_ig[['actor1_numid', 'actor2_numid', 'movie_count']], directed=False)\n",
    "# g = ig.Graph.DataFrame(df_edges[['actor1_fbid', 'actor2_fbid', 'movie_count']], directed=False, use_vids=False)  # without using numerical ids!\n",
    "g.vs['actor_fbid'] = uniques\n",
    "print(g.summary())"
   ]
  }
 ],
 "metadata": {
  "kernelspec": {
   "display_name": "Python 3.10.4 ('ada2022teamlovelace')",
   "language": "python",
   "name": "python3"
  },
  "language_info": {
   "codemirror_mode": {
    "name": "ipython",
    "version": 3
   },
   "file_extension": ".py",
   "mimetype": "text/x-python",
   "name": "python",
   "nbconvert_exporter": "python",
   "pygments_lexer": "ipython3",
   "version": "3.10.4"
  },
  "orig_nbformat": 4,
  "vscode": {
   "interpreter": {
    "hash": "4db70c0d16d735d18878bb5d3c61d9a2a19fc81b670a50de5e62ccb85a2af375"
   }
  }
 },
 "nbformat": 4,
 "nbformat_minor": 2
}
