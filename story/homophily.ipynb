{
 "cells": [
  {
   "cell_type": "markdown",
   "id": "dd7ea314",
   "metadata": {},
   "source": [
    "---\n",
    "bibliography: bibliography.bib\n",
    "\n",
    "---"
   ]
  },
  {
   "cell_type": "markdown",
   "id": "099c684f",
   "metadata": {},
   "source": [
    "# Homophily and attributes analysis\n",
    "## Introduction\n",
    "\n",
    "One purpose of this project was to focus on the analysis of how connected actors could be influenced to play in the same movie based on their distinguished attributes. In other words, does \"similar\" actors are more likely connected into same movies. We need therefore a definition of the similarity. According to several papers, one main tool to assess the similarity is called the homophily. It is the tendency for people to be attracted to those who seems similar to themselves. "
   ]
  },
  {
   "cell_type": "markdown",
   "id": "2499cf02",
   "metadata": {},
   "source": [
    "Knowing that we are working on a dataset of actor who are linked between each other through movies, we decided to consider only actors with a minimum degree of fifteen (which is quiet representative to movies in general as the movie story is based on interaction between a quiet large number of characters). Moreover, we also took our decision because low degree vertices shall add some unmeaningful values, particularly for categorical attribute (which can even become binary for very low link degree)."
   ]
  },
  {
   "cell_type": "code",
   "execution_count": 158,
   "id": "48a4e96f",
   "metadata": {},
   "outputs": [],
   "source": [
    "#| echo: false\n",
    "import numpy as np\n",
    "import seaborn as sns\n",
    "import matplotlib.pyplot as plt\n",
    "import pandas as pd\n",
    "import datetime\n",
    "\n",
    "import igraph as ig\n",
    "from scipy import stats\n",
    "from scipy.stats import t\n",
    "import plotly.graph_objs as go\n",
    "import seaborn as sns\n",
    "from random import sample\n",
    "import plotly.express as px\n",
    "\n",
    "import sys\n",
    "sys.path.append('../src')\n",
    "from utils import autoparse_year\n",
    "\n",
    "import plotly.io as pio\n",
    "pio.renderers.default = \"plotly_mimetype+notebook_connected\""
   ]
  },
  {
   "cell_type": "code",
   "execution_count": 159,
   "id": "c7885af5",
   "metadata": {},
   "outputs": [],
   "source": [
    "#| echo: false\n",
    "import warnings\n",
    "warnings.filterwarnings(\"ignore\")"
   ]
  },
  {
   "cell_type": "code",
   "execution_count": 160,
   "id": "4ad89ea6",
   "metadata": {},
   "outputs": [],
   "source": [
    "#| echo: false\n",
    "df_edges = pd.read_pickle('../data/generated/graph/actor_graph_full.grouped.pkl')\n",
    "df_actors = pd.read_pickle('../data/generated/preprocessed/characters.pkl')"
   ]
  },
  {
   "cell_type": "code",
   "execution_count": 161,
   "id": "f78aef10",
   "metadata": {},
   "outputs": [
    {
     "data": {
      "text/html": [
       "<div>\n",
       "<style scoped>\n",
       "    .dataframe tbody tr th:only-of-type {\n",
       "        vertical-align: middle;\n",
       "    }\n",
       "\n",
       "    .dataframe tbody tr th {\n",
       "        vertical-align: top;\n",
       "    }\n",
       "\n",
       "    .dataframe thead th {\n",
       "        text-align: right;\n",
       "    }\n",
       "</style>\n",
       "<table border=\"1\" class=\"dataframe\">\n",
       "  <thead>\n",
       "    <tr style=\"text-align: right;\">\n",
       "      <th></th>\n",
       "      <th>actor1_fbid</th>\n",
       "      <th>actor2_fbid</th>\n",
       "      <th>movie_count</th>\n",
       "    </tr>\n",
       "  </thead>\n",
       "  <tbody>\n",
       "    <tr>\n",
       "      <th>503641</th>\n",
       "      <td>/m/02cvp8</td>\n",
       "      <td>/m/02t0n9</td>\n",
       "      <td>219</td>\n",
       "    </tr>\n",
       "    <tr>\n",
       "      <th>503751</th>\n",
       "      <td>/m/02cvp8</td>\n",
       "      <td>/m/045g4l</td>\n",
       "      <td>119</td>\n",
       "    </tr>\n",
       "    <tr>\n",
       "      <th>655469</th>\n",
       "      <td>/m/02t0n9</td>\n",
       "      <td>/m/045g4l</td>\n",
       "      <td>119</td>\n",
       "    </tr>\n",
       "    <tr>\n",
       "      <th>906958</th>\n",
       "      <td>/m/03mv0b</td>\n",
       "      <td>/m/0lh0c</td>\n",
       "      <td>101</td>\n",
       "    </tr>\n",
       "    <tr>\n",
       "      <th>503672</th>\n",
       "      <td>/m/02cvp8</td>\n",
       "      <td>/m/030dx5</td>\n",
       "      <td>82</td>\n",
       "    </tr>\n",
       "    <tr>\n",
       "      <th>...</th>\n",
       "      <td>...</td>\n",
       "      <td>...</td>\n",
       "      <td>...</td>\n",
       "    </tr>\n",
       "    <tr>\n",
       "      <th>717944</th>\n",
       "      <td>/m/09t0l3</td>\n",
       "      <td>/m/02z28y7</td>\n",
       "      <td>1</td>\n",
       "    </tr>\n",
       "    <tr>\n",
       "      <th>717943</th>\n",
       "      <td>/m/09rxk8z</td>\n",
       "      <td>/m/02z28y7</td>\n",
       "      <td>1</td>\n",
       "    </tr>\n",
       "    <tr>\n",
       "      <th>717942</th>\n",
       "      <td>/m/09rvxt5</td>\n",
       "      <td>/m/02z28y7</td>\n",
       "      <td>1</td>\n",
       "    </tr>\n",
       "    <tr>\n",
       "      <th>717941</th>\n",
       "      <td>/m/09q3gc</td>\n",
       "      <td>/m/02z28y7</td>\n",
       "      <td>1</td>\n",
       "    </tr>\n",
       "    <tr>\n",
       "      <th>2080288</th>\n",
       "      <td>/m/0z4s</td>\n",
       "      <td>/m/0ywqc</td>\n",
       "      <td>1</td>\n",
       "    </tr>\n",
       "  </tbody>\n",
       "</table>\n",
       "<p>4160578 rows × 3 columns</p>\n",
       "</div>"
      ],
      "text/plain": [
       "        actor1_fbid actor2_fbid  movie_count\n",
       "503641    /m/02cvp8   /m/02t0n9          219\n",
       "503751    /m/02cvp8   /m/045g4l          119\n",
       "655469    /m/02t0n9   /m/045g4l          119\n",
       "906958    /m/03mv0b    /m/0lh0c          101\n",
       "503672    /m/02cvp8   /m/030dx5           82\n",
       "...             ...         ...          ...\n",
       "717944    /m/09t0l3  /m/02z28y7            1\n",
       "717943   /m/09rxk8z  /m/02z28y7            1\n",
       "717942   /m/09rvxt5  /m/02z28y7            1\n",
       "717941    /m/09q3gc  /m/02z28y7            1\n",
       "2080288     /m/0z4s    /m/0ywqc            1\n",
       "\n",
       "[4160578 rows x 3 columns]"
      ]
     },
     "execution_count": 161,
     "metadata": {},
     "output_type": "execute_result"
    }
   ],
   "source": [
    "#| echo: false\n",
    "#| output: false\n",
    "x=df_edges.rename(columns={\"actor2_fbid\": \"actor1_fbid\",\"actor1_fbid\": \"actor2_fbid\"})\n",
    "df_edges= pd.concat([df_edges, x])\n",
    "df_edges"
   ]
  },
  {
   "cell_type": "code",
   "execution_count": 162,
   "id": "51e51fdb",
   "metadata": {},
   "outputs": [
    {
     "data": {
      "text/plain": [
       "<seaborn.axisgrid.FacetGrid at 0x16fbc85e0>"
      ]
     },
     "execution_count": 162,
     "metadata": {},
     "output_type": "execute_result"
    },
    {
     "data": {
      "image/png": "[encoded data removed]",
      "text/plain": [
       "<Figure size 500x500 with 1 Axes>"
      ]
     },
     "metadata": {},
     "output_type": "display_data"
    }
   ],
   "source": [
    "#| echo: false\n",
    "#| output: false\n",
    "test =df_edges.groupby('actor1_fbid')['actor2_fbid'].agg(['count']).sort_values(by='count')\n",
    "test2 = test[test['count'] > 3]\n",
    "sns.displot(test, x=\"count\", kind=\"kde\")"
   ]
  },
  {
   "cell_type": "code",
   "execution_count": 163,
   "id": "d57311af",
   "metadata": {},
   "outputs": [],
   "source": [
    "#| echo: false\n",
    "df_edges= df_edges[df_edges.apply(lambda x: True if test.loc[x.actor1_fbid]['count']> 15 else False, axis =1)]"
   ]
  },
  {
   "cell_type": "code",
   "execution_count": 164,
   "id": "db298cfd",
   "metadata": {},
   "outputs": [
    {
     "data": {
      "text/html": [
       "<div>\n",
       "<style scoped>\n",
       "    .dataframe tbody tr th:only-of-type {\n",
       "        vertical-align: middle;\n",
       "    }\n",
       "\n",
       "    .dataframe tbody tr th {\n",
       "        vertical-align: top;\n",
       "    }\n",
       "\n",
       "    .dataframe thead th {\n",
       "        text-align: right;\n",
       "    }\n",
       "</style>\n",
       "<table border=\"1\" class=\"dataframe\">\n",
       "  <thead>\n",
       "    <tr style=\"text-align: right;\">\n",
       "      <th></th>\n",
       "      <th>wiki_id</th>\n",
       "      <th>fb_movie_id</th>\n",
       "      <th>release</th>\n",
       "      <th>character_name</th>\n",
       "      <th>actor_age</th>\n",
       "      <th>fb_char_id</th>\n",
       "      <th>actor1_fbid</th>\n",
       "      <th>actor_name</th>\n",
       "      <th>actor_birth</th>\n",
       "      <th>ethnicity</th>\n",
       "      <th>actor_height</th>\n",
       "      <th>actor_gender</th>\n",
       "      <th>actor_nationality</th>\n",
       "      <th>year_of_birth</th>\n",
       "    </tr>\n",
       "  </thead>\n",
       "  <tbody>\n",
       "    <tr>\n",
       "      <th>0</th>\n",
       "      <td>975900</td>\n",
       "      <td>/m/03vyhn</td>\n",
       "      <td>2001-08-24</td>\n",
       "      <td>Akooshay</td>\n",
       "      <td>42.0</td>\n",
       "      <td>/m/0bgchxw</td>\n",
       "      <td>/m/03wcfv7</td>\n",
       "      <td>Wanda De Jesus</td>\n",
       "      <td>1958-08-26</td>\n",
       "      <td>NaN</td>\n",
       "      <td>1.62</td>\n",
       "      <td>F</td>\n",
       "      <td>United States of America</td>\n",
       "      <td>1958</td>\n",
       "    </tr>\n",
       "    <tr>\n",
       "      <th>1</th>\n",
       "      <td>24767455</td>\n",
       "      <td>/m/0809s7n</td>\n",
       "      <td>2009-10-16</td>\n",
       "      <td>Captain Diaz</td>\n",
       "      <td>51.0</td>\n",
       "      <td>/m/08d9z0b</td>\n",
       "      <td>/m/03wcfv7</td>\n",
       "      <td>Wanda De Jesus</td>\n",
       "      <td>1958-08-26</td>\n",
       "      <td>NaN</td>\n",
       "      <td>1.62</td>\n",
       "      <td>F</td>\n",
       "      <td>United States of America</td>\n",
       "      <td>1958</td>\n",
       "    </tr>\n",
       "    <tr>\n",
       "      <th>2</th>\n",
       "      <td>5337169</td>\n",
       "      <td>/m/0dg7mt</td>\n",
       "      <td>2001</td>\n",
       "      <td>NaN</td>\n",
       "      <td>42.0</td>\n",
       "      <td>/m/04htxdc</td>\n",
       "      <td>/m/03wcfv7</td>\n",
       "      <td>Wanda De Jesus</td>\n",
       "      <td>1958-08-26</td>\n",
       "      <td>NaN</td>\n",
       "      <td>1.62</td>\n",
       "      <td>F</td>\n",
       "      <td>United States of America</td>\n",
       "      <td>1958</td>\n",
       "    </tr>\n",
       "    <tr>\n",
       "      <th>3</th>\n",
       "      <td>1330220</td>\n",
       "      <td>/m/04t8wq</td>\n",
       "      <td>1990-06-22</td>\n",
       "      <td>NaN</td>\n",
       "      <td>31.0</td>\n",
       "      <td>/m/0cg7kl2</td>\n",
       "      <td>/m/03wcfv7</td>\n",
       "      <td>Wanda De Jesus</td>\n",
       "      <td>1958-08-26</td>\n",
       "      <td>NaN</td>\n",
       "      <td>1.62</td>\n",
       "      <td>F</td>\n",
       "      <td>United States of America</td>\n",
       "      <td>1958</td>\n",
       "    </tr>\n",
       "    <tr>\n",
       "      <th>4</th>\n",
       "      <td>14686017</td>\n",
       "      <td>/m/03gt21w</td>\n",
       "      <td>1990-01-12</td>\n",
       "      <td>NaN</td>\n",
       "      <td>31.0</td>\n",
       "      <td>/m/09j0r8t</td>\n",
       "      <td>/m/03wcfv7</td>\n",
       "      <td>Wanda De Jesus</td>\n",
       "      <td>1958-08-26</td>\n",
       "      <td>NaN</td>\n",
       "      <td>1.62</td>\n",
       "      <td>F</td>\n",
       "      <td>United States of America</td>\n",
       "      <td>1958</td>\n",
       "    </tr>\n",
       "    <tr>\n",
       "      <th>...</th>\n",
       "      <td>...</td>\n",
       "      <td>...</td>\n",
       "      <td>...</td>\n",
       "      <td>...</td>\n",
       "      <td>...</td>\n",
       "      <td>...</td>\n",
       "      <td>...</td>\n",
       "      <td>...</td>\n",
       "      <td>...</td>\n",
       "      <td>...</td>\n",
       "      <td>...</td>\n",
       "      <td>...</td>\n",
       "      <td>...</td>\n",
       "      <td>...</td>\n",
       "    </tr>\n",
       "    <tr>\n",
       "      <th>450664</th>\n",
       "      <td>913762</td>\n",
       "      <td>/m/03pcrp</td>\n",
       "      <td>1992-05-21</td>\n",
       "      <td>Additional Voices</td>\n",
       "      <td>38.0</td>\n",
       "      <td>/m/0kr405f</td>\n",
       "      <td>/m/0gn4bz</td>\n",
       "      <td>Sonny Byrkett</td>\n",
       "      <td>1954</td>\n",
       "      <td>NaN</td>\n",
       "      <td>NaN</td>\n",
       "      <td>M</td>\n",
       "      <td>NaN</td>\n",
       "      <td>1954</td>\n",
       "    </tr>\n",
       "    <tr>\n",
       "      <th>450665</th>\n",
       "      <td>913762</td>\n",
       "      <td>/m/03pcrp</td>\n",
       "      <td>1992-05-21</td>\n",
       "      <td>UN Spacy Commander</td>\n",
       "      <td>38.0</td>\n",
       "      <td>/m/0kr407w</td>\n",
       "      <td>/m/0gn4bz</td>\n",
       "      <td>Sonny Byrkett</td>\n",
       "      <td>1954</td>\n",
       "      <td>NaN</td>\n",
       "      <td>NaN</td>\n",
       "      <td>M</td>\n",
       "      <td>NaN</td>\n",
       "      <td>1954</td>\n",
       "    </tr>\n",
       "    <tr>\n",
       "      <th>450666</th>\n",
       "      <td>913762</td>\n",
       "      <td>/m/03pcrp</td>\n",
       "      <td>1992-05-21</td>\n",
       "      <td>Silvie Gena</td>\n",
       "      <td>34.0</td>\n",
       "      <td>/m/0kr40b9</td>\n",
       "      <td>/m/0gn4nd</td>\n",
       "      <td>Susan Byrkett</td>\n",
       "      <td>1958</td>\n",
       "      <td>NaN</td>\n",
       "      <td>NaN</td>\n",
       "      <td>F</td>\n",
       "      <td>NaN</td>\n",
       "      <td>1958</td>\n",
       "    </tr>\n",
       "    <tr>\n",
       "      <th>450667</th>\n",
       "      <td>913762</td>\n",
       "      <td>/m/03pcrp</td>\n",
       "      <td>1992-05-21</td>\n",
       "      <td>Exegran</td>\n",
       "      <td>NaN</td>\n",
       "      <td>/m/0kr407c</td>\n",
       "      <td>/m/0kr407h</td>\n",
       "      <td>Hal Cleaveland</td>\n",
       "      <td>NaN</td>\n",
       "      <td>NaN</td>\n",
       "      <td>NaN</td>\n",
       "      <td>M</td>\n",
       "      <td>NaN</td>\n",
       "      <td>&lt;NA&gt;</td>\n",
       "    </tr>\n",
       "    <tr>\n",
       "      <th>450668</th>\n",
       "      <td>28308153</td>\n",
       "      <td>/m/0cp05t9</td>\n",
       "      <td>1957</td>\n",
       "      <td>NaN</td>\n",
       "      <td>NaN</td>\n",
       "      <td>/m/0g8ngmj</td>\n",
       "      <td>/m/0g8ngmm</td>\n",
       "      <td>Roberta Paterson</td>\n",
       "      <td>NaN</td>\n",
       "      <td>NaN</td>\n",
       "      <td>NaN</td>\n",
       "      <td>NaN</td>\n",
       "      <td>NaN</td>\n",
       "      <td>&lt;NA&gt;</td>\n",
       "    </tr>\n",
       "  </tbody>\n",
       "</table>\n",
       "<p>450669 rows × 14 columns</p>\n",
       "</div>"
      ],
      "text/plain": [
       "         wiki_id fb_movie_id     release      character_name  actor_age  \\\n",
       "0         975900   /m/03vyhn  2001-08-24            Akooshay       42.0   \n",
       "1       24767455  /m/0809s7n  2009-10-16        Captain Diaz       51.0   \n",
       "2        5337169   /m/0dg7mt        2001                 NaN       42.0   \n",
       "3        1330220   /m/04t8wq  1990-06-22                 NaN       31.0   \n",
       "4       14686017  /m/03gt21w  1990-01-12                 NaN       31.0   \n",
       "...          ...         ...         ...                 ...        ...   \n",
       "450664    913762   /m/03pcrp  1992-05-21   Additional Voices       38.0   \n",
       "450665    913762   /m/03pcrp  1992-05-21  UN Spacy Commander       38.0   \n",
       "450666    913762   /m/03pcrp  1992-05-21         Silvie Gena       34.0   \n",
       "450667    913762   /m/03pcrp  1992-05-21             Exegran        NaN   \n",
       "450668  28308153  /m/0cp05t9        1957                 NaN        NaN   \n",
       "\n",
       "        fb_char_id actor1_fbid        actor_name actor_birth ethnicity  \\\n",
       "0       /m/0bgchxw  /m/03wcfv7    Wanda De Jesus  1958-08-26       NaN   \n",
       "1       /m/08d9z0b  /m/03wcfv7    Wanda De Jesus  1958-08-26       NaN   \n",
       "2       /m/04htxdc  /m/03wcfv7    Wanda De Jesus  1958-08-26       NaN   \n",
       "3       /m/0cg7kl2  /m/03wcfv7    Wanda De Jesus  1958-08-26       NaN   \n",
       "4       /m/09j0r8t  /m/03wcfv7    Wanda De Jesus  1958-08-26       NaN   \n",
       "...            ...         ...               ...         ...       ...   \n",
       "450664  /m/0kr405f   /m/0gn4bz     Sonny Byrkett        1954       NaN   \n",
       "450665  /m/0kr407w   /m/0gn4bz     Sonny Byrkett        1954       NaN   \n",
       "450666  /m/0kr40b9   /m/0gn4nd     Susan Byrkett        1958       NaN   \n",
       "450667  /m/0kr407c  /m/0kr407h    Hal Cleaveland         NaN       NaN   \n",
       "450668  /m/0g8ngmj  /m/0g8ngmm  Roberta Paterson         NaN       NaN   \n",
       "\n",
       "        actor_height actor_gender         actor_nationality  year_of_birth  \n",
       "0               1.62            F  United States of America           1958  \n",
       "1               1.62            F  United States of America           1958  \n",
       "2               1.62            F  United States of America           1958  \n",
       "3               1.62            F  United States of America           1958  \n",
       "4               1.62            F  United States of America           1958  \n",
       "...              ...          ...                       ...            ...  \n",
       "450664           NaN            M                       NaN           1954  \n",
       "450665           NaN            M                       NaN           1954  \n",
       "450666           NaN            F                       NaN           1958  \n",
       "450667           NaN            M                       NaN           <NA>  \n",
       "450668           NaN          NaN                       NaN           <NA>  \n",
       "\n",
       "[450669 rows x 14 columns]"
      ]
     },
     "execution_count": 164,
     "metadata": {},
     "output_type": "execute_result"
    }
   ],
   "source": [
    "#| echo: false\n",
    "#| output: false\n",
    "df_actors['year_of_birth'] = df_actors.actor_birth.apply(autoparse_year).astype('Int64')\n",
    "df_actors=df_actors.rename(columns={\"fb_actor_id\": \"actor1_fbid\"})\n",
    "df_actors"
   ]
  },
  {
   "cell_type": "code",
   "execution_count": 165,
   "id": "c4fb804b",
   "metadata": {},
   "outputs": [
    {
     "data": {
      "text/html": [
       "<div>\n",
       "<style scoped>\n",
       "    .dataframe tbody tr th:only-of-type {\n",
       "        vertical-align: middle;\n",
       "    }\n",
       "\n",
       "    .dataframe tbody tr th {\n",
       "        vertical-align: top;\n",
       "    }\n",
       "\n",
       "    .dataframe thead th {\n",
       "        text-align: right;\n",
       "    }\n",
       "</style>\n",
       "<table border=\"1\" class=\"dataframe\">\n",
       "  <thead>\n",
       "    <tr style=\"text-align: right;\">\n",
       "      <th></th>\n",
       "      <th>actor1_fbid</th>\n",
       "      <th>actor2_fbid</th>\n",
       "      <th>movie_count</th>\n",
       "      <th>actor_age_x</th>\n",
       "      <th>actor_name_x</th>\n",
       "      <th>ethnicity_x</th>\n",
       "      <th>actor_height_x</th>\n",
       "      <th>actor_gender_x</th>\n",
       "      <th>actor_nationality_x</th>\n",
       "      <th>year_of_birth_x</th>\n",
       "      <th>...</th>\n",
       "      <th>number_of_movies_x</th>\n",
       "      <th>actor_age_y</th>\n",
       "      <th>actor_name_y</th>\n",
       "      <th>ethnicity_y</th>\n",
       "      <th>actor_height_y</th>\n",
       "      <th>actor_gender_y</th>\n",
       "      <th>actor_nationality_y</th>\n",
       "      <th>year_of_birth_y</th>\n",
       "      <th>actor_degree_y</th>\n",
       "      <th>number_of_movies_y</th>\n",
       "    </tr>\n",
       "  </thead>\n",
       "  <tbody>\n",
       "    <tr>\n",
       "      <th>0</th>\n",
       "      <td>/m/02cvp8</td>\n",
       "      <td>/m/02t0n9</td>\n",
       "      <td>219</td>\n",
       "      <td>NaN</td>\n",
       "      <td>Moe Howard</td>\n",
       "      <td>NaN</td>\n",
       "      <td>1.620</td>\n",
       "      <td>M</td>\n",
       "      <td>United States of America</td>\n",
       "      <td>1897</td>\n",
       "      <td>...</td>\n",
       "      <td>225</td>\n",
       "      <td>55.0</td>\n",
       "      <td>Larry Fine</td>\n",
       "      <td>NaN</td>\n",
       "      <td>1.6256</td>\n",
       "      <td>M</td>\n",
       "      <td>United States of America</td>\n",
       "      <td>1902</td>\n",
       "      <td>357</td>\n",
       "      <td>219</td>\n",
       "    </tr>\n",
       "    <tr>\n",
       "      <th>1</th>\n",
       "      <td>/m/026xmsr</td>\n",
       "      <td>/m/02t0n9</td>\n",
       "      <td>72</td>\n",
       "      <td>NaN</td>\n",
       "      <td>Vernon Dent</td>\n",
       "      <td>NaN</td>\n",
       "      <td>NaN</td>\n",
       "      <td>M</td>\n",
       "      <td>United States of America</td>\n",
       "      <td>1895</td>\n",
       "      <td>...</td>\n",
       "      <td>80</td>\n",
       "      <td>55.0</td>\n",
       "      <td>Larry Fine</td>\n",
       "      <td>NaN</td>\n",
       "      <td>1.6256</td>\n",
       "      <td>M</td>\n",
       "      <td>United States of America</td>\n",
       "      <td>1902</td>\n",
       "      <td>357</td>\n",
       "      <td>219</td>\n",
       "    </tr>\n",
       "    <tr>\n",
       "      <th>2</th>\n",
       "      <td>/m/02z023s</td>\n",
       "      <td>/m/02t0n9</td>\n",
       "      <td>40</td>\n",
       "      <td>NaN</td>\n",
       "      <td>Bud Jamison</td>\n",
       "      <td>NaN</td>\n",
       "      <td>NaN</td>\n",
       "      <td>M</td>\n",
       "      <td>United States of America</td>\n",
       "      <td>1894</td>\n",
       "      <td>...</td>\n",
       "      <td>58</td>\n",
       "      <td>55.0</td>\n",
       "      <td>Larry Fine</td>\n",
       "      <td>NaN</td>\n",
       "      <td>1.6256</td>\n",
       "      <td>M</td>\n",
       "      <td>United States of America</td>\n",
       "      <td>1902</td>\n",
       "      <td>357</td>\n",
       "      <td>219</td>\n",
       "    </tr>\n",
       "    <tr>\n",
       "      <th>3</th>\n",
       "      <td>/m/030dx5</td>\n",
       "      <td>/m/02t0n9</td>\n",
       "      <td>82</td>\n",
       "      <td>NaN</td>\n",
       "      <td>Samuel Howard</td>\n",
       "      <td>NaN</td>\n",
       "      <td>1.651</td>\n",
       "      <td>M</td>\n",
       "      <td>United States of America</td>\n",
       "      <td>1895</td>\n",
       "      <td>...</td>\n",
       "      <td>97</td>\n",
       "      <td>55.0</td>\n",
       "      <td>Larry Fine</td>\n",
       "      <td>NaN</td>\n",
       "      <td>1.6256</td>\n",
       "      <td>M</td>\n",
       "      <td>United States of America</td>\n",
       "      <td>1902</td>\n",
       "      <td>357</td>\n",
       "      <td>219</td>\n",
       "    </tr>\n",
       "    <tr>\n",
       "      <th>4</th>\n",
       "      <td>/m/03gsgd9</td>\n",
       "      <td>/m/02t0n9</td>\n",
       "      <td>23</td>\n",
       "      <td>NaN</td>\n",
       "      <td>Eddie Laughton</td>\n",
       "      <td>NaN</td>\n",
       "      <td>NaN</td>\n",
       "      <td>M</td>\n",
       "      <td>United Kingdom</td>\n",
       "      <td>1903</td>\n",
       "      <td>...</td>\n",
       "      <td>26</td>\n",
       "      <td>55.0</td>\n",
       "      <td>Larry Fine</td>\n",
       "      <td>NaN</td>\n",
       "      <td>1.6256</td>\n",
       "      <td>M</td>\n",
       "      <td>United States of America</td>\n",
       "      <td>1902</td>\n",
       "      <td>357</td>\n",
       "      <td>219</td>\n",
       "    </tr>\n",
       "    <tr>\n",
       "      <th>...</th>\n",
       "      <td>...</td>\n",
       "      <td>...</td>\n",
       "      <td>...</td>\n",
       "      <td>...</td>\n",
       "      <td>...</td>\n",
       "      <td>...</td>\n",
       "      <td>...</td>\n",
       "      <td>...</td>\n",
       "      <td>...</td>\n",
       "      <td>...</td>\n",
       "      <td>...</td>\n",
       "      <td>...</td>\n",
       "      <td>...</td>\n",
       "      <td>...</td>\n",
       "      <td>...</td>\n",
       "      <td>...</td>\n",
       "      <td>...</td>\n",
       "      <td>...</td>\n",
       "      <td>...</td>\n",
       "      <td>...</td>\n",
       "      <td>...</td>\n",
       "    </tr>\n",
       "    <tr>\n",
       "      <th>3036589</th>\n",
       "      <td>/m/0crc1n7</td>\n",
       "      <td>/m/02y_r9n</td>\n",
       "      <td>3</td>\n",
       "      <td>28.0</td>\n",
       "      <td>S. Shamsuddin</td>\n",
       "      <td>NaN</td>\n",
       "      <td>NaN</td>\n",
       "      <td>M</td>\n",
       "      <td>Singapore</td>\n",
       "      <td>1929</td>\n",
       "      <td>...</td>\n",
       "      <td>5</td>\n",
       "      <td>60.0</td>\n",
       "      <td>Aziz Sattar</td>\n",
       "      <td>NaN</td>\n",
       "      <td>NaN</td>\n",
       "      <td>M</td>\n",
       "      <td>Malaysia</td>\n",
       "      <td>1925</td>\n",
       "      <td>17</td>\n",
       "      <td>7</td>\n",
       "    </tr>\n",
       "    <tr>\n",
       "      <th>3036590</th>\n",
       "      <td>/m/02f27</td>\n",
       "      <td>/m/0gcb2b4</td>\n",
       "      <td>1</td>\n",
       "      <td>61.0</td>\n",
       "      <td>Dirk Benedict</td>\n",
       "      <td>NaN</td>\n",
       "      <td>1.800</td>\n",
       "      <td>M</td>\n",
       "      <td>United States of America</td>\n",
       "      <td>1945</td>\n",
       "      <td>...</td>\n",
       "      <td>16</td>\n",
       "      <td>NaN</td>\n",
       "      <td>Eike Becker</td>\n",
       "      <td>NaN</td>\n",
       "      <td>NaN</td>\n",
       "      <td>M</td>\n",
       "      <td>NaN</td>\n",
       "      <td>&lt;NA&gt;</td>\n",
       "      <td>19</td>\n",
       "      <td>2</td>\n",
       "    </tr>\n",
       "    <tr>\n",
       "      <th>3036591</th>\n",
       "      <td>/m/03qp512</td>\n",
       "      <td>/m/02pyhqk</td>\n",
       "      <td>1</td>\n",
       "      <td>27.0</td>\n",
       "      <td>Peter Lee Lawrence</td>\n",
       "      <td>NaN</td>\n",
       "      <td>NaN</td>\n",
       "      <td>M</td>\n",
       "      <td>West Germany</td>\n",
       "      <td>1945</td>\n",
       "      <td>...</td>\n",
       "      <td>5</td>\n",
       "      <td>29.0</td>\n",
       "      <td>Steve Sipek</td>\n",
       "      <td>NaN</td>\n",
       "      <td>NaN</td>\n",
       "      <td>M</td>\n",
       "      <td>Canada</td>\n",
       "      <td>1942</td>\n",
       "      <td>16</td>\n",
       "      <td>2</td>\n",
       "    </tr>\n",
       "    <tr>\n",
       "      <th>3036592</th>\n",
       "      <td>/m/03cx_n5</td>\n",
       "      <td>/m/0gc6ycx</td>\n",
       "      <td>1</td>\n",
       "      <td>NaN</td>\n",
       "      <td>Joel Hoffman</td>\n",
       "      <td>NaN</td>\n",
       "      <td>NaN</td>\n",
       "      <td>M</td>\n",
       "      <td>NaN</td>\n",
       "      <td>&lt;NA&gt;</td>\n",
       "      <td>...</td>\n",
       "      <td>3</td>\n",
       "      <td>NaN</td>\n",
       "      <td>Courtney Lercara</td>\n",
       "      <td>NaN</td>\n",
       "      <td>NaN</td>\n",
       "      <td>F</td>\n",
       "      <td>NaN</td>\n",
       "      <td>&lt;NA&gt;</td>\n",
       "      <td>18</td>\n",
       "      <td>2</td>\n",
       "    </tr>\n",
       "    <tr>\n",
       "      <th>3036593</th>\n",
       "      <td>/m/0k0gbr</td>\n",
       "      <td>/m/03cv4js</td>\n",
       "      <td>1</td>\n",
       "      <td>NaN</td>\n",
       "      <td>Maedeh Tahmasebi</td>\n",
       "      <td>NaN</td>\n",
       "      <td>NaN</td>\n",
       "      <td>F</td>\n",
       "      <td>Iran</td>\n",
       "      <td>&lt;NA&gt;</td>\n",
       "      <td>...</td>\n",
       "      <td>4</td>\n",
       "      <td>38.0</td>\n",
       "      <td>Fereshteh Sadre Orafaiy</td>\n",
       "      <td>NaN</td>\n",
       "      <td>NaN</td>\n",
       "      <td>F</td>\n",
       "      <td>Iran</td>\n",
       "      <td>1962</td>\n",
       "      <td>20</td>\n",
       "      <td>2</td>\n",
       "    </tr>\n",
       "  </tbody>\n",
       "</table>\n",
       "<p>3036594 rows × 21 columns</p>\n",
       "</div>"
      ],
      "text/plain": [
       "        actor1_fbid actor2_fbid  movie_count  actor_age_x        actor_name_x  \\\n",
       "0         /m/02cvp8   /m/02t0n9          219          NaN          Moe Howard   \n",
       "1        /m/026xmsr   /m/02t0n9           72          NaN         Vernon Dent   \n",
       "2        /m/02z023s   /m/02t0n9           40          NaN         Bud Jamison   \n",
       "3         /m/030dx5   /m/02t0n9           82          NaN       Samuel Howard   \n",
       "4        /m/03gsgd9   /m/02t0n9           23          NaN      Eddie Laughton   \n",
       "...             ...         ...          ...          ...                 ...   \n",
       "3036589  /m/0crc1n7  /m/02y_r9n            3         28.0       S. Shamsuddin   \n",
       "3036590    /m/02f27  /m/0gcb2b4            1         61.0       Dirk Benedict   \n",
       "3036591  /m/03qp512  /m/02pyhqk            1         27.0  Peter Lee Lawrence   \n",
       "3036592  /m/03cx_n5  /m/0gc6ycx            1          NaN        Joel Hoffman   \n",
       "3036593   /m/0k0gbr  /m/03cv4js            1          NaN    Maedeh Tahmasebi   \n",
       "\n",
       "        ethnicity_x  actor_height_x actor_gender_x       actor_nationality_x  \\\n",
       "0               NaN           1.620              M  United States of America   \n",
       "1               NaN             NaN              M  United States of America   \n",
       "2               NaN             NaN              M  United States of America   \n",
       "3               NaN           1.651              M  United States of America   \n",
       "4               NaN             NaN              M            United Kingdom   \n",
       "...             ...             ...            ...                       ...   \n",
       "3036589         NaN             NaN              M                 Singapore   \n",
       "3036590         NaN           1.800              M  United States of America   \n",
       "3036591         NaN             NaN              M              West Germany   \n",
       "3036592         NaN             NaN              M                       NaN   \n",
       "3036593         NaN             NaN              F                      Iran   \n",
       "\n",
       "         year_of_birth_x  ...  number_of_movies_x  actor_age_y  \\\n",
       "0                   1897  ...                 225         55.0   \n",
       "1                   1895  ...                  80         55.0   \n",
       "2                   1894  ...                  58         55.0   \n",
       "3                   1895  ...                  97         55.0   \n",
       "4                   1903  ...                  26         55.0   \n",
       "...                  ...  ...                 ...          ...   \n",
       "3036589             1929  ...                   5         60.0   \n",
       "3036590             1945  ...                  16          NaN   \n",
       "3036591             1945  ...                   5         29.0   \n",
       "3036592             <NA>  ...                   3          NaN   \n",
       "3036593             <NA>  ...                   4         38.0   \n",
       "\n",
       "                    actor_name_y ethnicity_y actor_height_y  actor_gender_y  \\\n",
       "0                     Larry Fine         NaN         1.6256               M   \n",
       "1                     Larry Fine         NaN         1.6256               M   \n",
       "2                     Larry Fine         NaN         1.6256               M   \n",
       "3                     Larry Fine         NaN         1.6256               M   \n",
       "4                     Larry Fine         NaN         1.6256               M   \n",
       "...                          ...         ...            ...             ...   \n",
       "3036589              Aziz Sattar         NaN            NaN               M   \n",
       "3036590              Eike Becker         NaN            NaN               M   \n",
       "3036591              Steve Sipek         NaN            NaN               M   \n",
       "3036592         Courtney Lercara         NaN            NaN               F   \n",
       "3036593  Fereshteh Sadre Orafaiy         NaN            NaN               F   \n",
       "\n",
       "              actor_nationality_y year_of_birth_y  actor_degree_y  \\\n",
       "0        United States of America            1902             357   \n",
       "1        United States of America            1902             357   \n",
       "2        United States of America            1902             357   \n",
       "3        United States of America            1902             357   \n",
       "4        United States of America            1902             357   \n",
       "...                           ...             ...             ...   \n",
       "3036589                  Malaysia            1925              17   \n",
       "3036590                       NaN            <NA>              19   \n",
       "3036591                    Canada            1942              16   \n",
       "3036592                       NaN            <NA>              18   \n",
       "3036593                      Iran            1962              20   \n",
       "\n",
       "         number_of_movies_y  \n",
       "0                       219  \n",
       "1                       219  \n",
       "2                       219  \n",
       "3                       219  \n",
       "4                       219  \n",
       "...                     ...  \n",
       "3036589                   7  \n",
       "3036590                   2  \n",
       "3036591                   2  \n",
       "3036592                   2  \n",
       "3036593                   2  \n",
       "\n",
       "[3036594 rows x 21 columns]"
      ]
     },
     "execution_count": 165,
     "metadata": {},
     "output_type": "execute_result"
    }
   ],
   "source": [
    "#| echo: false\n",
    "#| output: false\n",
    "df_actors_reduced= df_actors.drop_duplicates(subset= 'actor1_fbid')\n",
    "df_actors_reduced= df_actors_reduced.drop(['wiki_id','fb_movie_id','release','character_name','fb_char_id','actor_birth'], axis=1)\n",
    "group_by_degree = df_edges.groupby('actor1_fbid')['actor2_fbid'].agg(['count'])\n",
    "df_degree = pd.DataFrame({'actor_degree': list(group_by_degree['count']), 'actor1_fbid': group_by_degree.index})\n",
    "df_actors_reduced= df_actors_reduced.merge(df_degree, on= 'actor1_fbid')\n",
    "df_actors_reduced= pd.merge(df_actors_reduced, (df_actors.groupby('actor1_fbid').apply(lambda x: pd.Series({\n",
    "        'number_of_movies': x['wiki_id'].count()\n",
    "    }))),on='actor1_fbid')\n",
    "df_edges_merged= df_edges.merge(df_actors_reduced,\n",
    "                                 on='actor1_fbid').merge(df_actors_reduced.rename(columns={\"actor1_fbid\": \"actor2_fbid\"}), on='actor2_fbid')\n",
    "df_edges_merged"
   ]
  },
  {
   "cell_type": "code",
   "execution_count": 166,
   "id": "036fb6c5",
   "metadata": {},
   "outputs": [],
   "source": [
    "#| echo: false\n",
    "df_edges_gender=df_edges_merged.dropna(subset=['actor_gender_x'])\n",
    "df_edges_gender=df_edges_gender.dropna(subset=['actor_gender_y'])\n",
    "\n",
    "df_edges_nat=df_edges_merged.dropna(subset=['actor_nationality_x'])\n",
    "df_edges_nat=df_edges_nat.dropna(subset=['actor_nationality_y'])\n",
    "\n",
    "\n",
    "df_edges_birth=df_edges_merged.dropna(subset=['year_of_birth_x'])\n",
    "df_edges_birth=df_edges_birth.dropna(subset=['year_of_birth_y'])\n",
    "df_edges_birth= df_edges_birth[df_edges_birth['year_of_birth_x'] < 2022]\n",
    "df_edges_birth= df_edges_birth[df_edges_birth['year_of_birth_y'] < 2022]\n",
    "df_edges_birth=df_edges_birth[df_edges_birth['year_of_birth_x']>1800]\n",
    "df_edges_birth=df_edges_birth[df_edges_birth['year_of_birth_y']>1800]\n",
    "std_yob = df_edges_birth.apply(lambda x : abs(x.year_of_birth_x-x.year_of_birth_y),axis=1).std()\n",
    "\n",
    "df_edges_height=df_edges_merged.dropna(subset=['actor_height_x'])\n",
    "df_edges_height= df_edges_height.dropna(subset=['actor_height_y'])\n",
    "df_edges_height=df_edges_height[df_edges_height['actor_height_x']<3]\n",
    "df_edges_height=df_edges_height[df_edges_height['actor_height_y']<3]\n",
    "std_height = df_edges_height.drop_duplicates(subset= 'actor1_fbid').apply(lambda x : abs(x.actor_height_x),axis=1).std()\n",
    "\n",
    "df_edges_nbr_movies=df_edges_merged.dropna(subset=['number_of_movies_x'])\n",
    "df_edges_nbr_movies= df_edges_nbr_movies.dropna(subset=['number_of_movies_y'])\n",
    "std_nbr_movies = df_edges_nbr_movies.drop_duplicates(subset= 'actor1_fbid').apply(lambda x : abs(x.number_of_movies_x),axis=1).std()"
   ]
  },
  {
   "cell_type": "markdown",
   "id": "2019f107",
   "metadata": {},
   "source": [
    "First of all, we know that we will based our study on the attributes of each actors of the dataset. Then, as a data scientist, we need to begin our analysis by quantify each attributes among the different actors and observe the repartition over the dataset."
   ]
  },
  {
   "cell_type": "markdown",
   "id": "7d77b72c",
   "metadata": {},
   "source": [
    "- For the actor nationality, we have the following interactive plot. We observe a majority (around 45%) of american actors, followed by some country like Canada, India, Great britain, ... We need to keep this distribution in mind for the rest of our study, especially for the comparison part."
   ]
  },
  {
   "cell_type": "code",
   "execution_count": 167,
   "id": "b2587ba2",
   "metadata": {},
   "outputs": [
    {
     "data": {
      "text/html": [
       "        <script type=\"text/javascript\">\n",
       "        window.PlotlyConfig = {MathJaxConfig: 'local'};\n",
       "        if (window.MathJax && window.MathJax.Hub && window.MathJax.Hub.Config) {window.MathJax.Hub.Config({SVG: {font: \"STIX-Web\"}});}\n",
       "        if (typeof require !== 'undefined') {\n",
       "        require.undef(\"plotly\");\n",
       "        requirejs.config({\n",
       "            paths: {\n",
       "                'plotly': ['https://cdn.plot.ly/plotly-2.12.1.min']\n",
       "            }\n",
       "        });\n",
       "        require(['plotly'], function(Plotly) {\n",
       "            window._Plotly = Plotly;\n",
       "        });\n",
       "        }\n",
       "        </script>\n",
       "        "
      ]
     },
     "metadata": {},
     "output_type": "display_data"
    },
    {
     "data": {
      "application/vnd.plotly.v1+json": {
       "config": {
        "plotlyServerURL": "https://plot.ly"
       },
       "data": [
        {
         "colorbar": {
          "title": {
           "text": "Number of actors"
          }
         },
         "colorscale": [
          [
           0,
           "rgb(12,51,131)"
          ],
          [
           0.25,
           "rgb(10,136,186)"
          ],
          [
           0.5,
           "rgb(242,211,56)"
          ],
          [
           0.75,
           "rgb(242,143,56)"
          ],
          [
           1,
           "rgb(217,30,30)"
          ]
         ],
         "locationmode": "country names",
         "locations": [
          "Albania",
          "Algeria",
          "Argentina",
          "Armenia",
          "Australia",
          "Austria",
          "Austria-Hungary",
          "Azerbaijan",
          "Bangladesh",
          "Belgium",
          "Belize",
          "Bolivia",
          "Bosnia and Herzegovina",
          "Brazil",
          "British Hong Kong",
          "British Raj",
          "Brunete",
          "Bulgaria",
          "Burkina Faso",
          "Cambodia",
          "Cameroon",
          "Canada",
          "Captaincy General of Catalonia",
          "Chad",
          "Chile",
          "China",
          "Colombia",
          "Croatia",
          "Cuba",
          "Cyprus",
          "Czech Republic",
          "Czechoslovakia",
          "Denmark",
          "Dominica",
          "Dominican Republic",
          "Ecuador",
          "Egypt",
          "England",
          "Estonia",
          "Ethiopia",
          "Federal Republic of Yugoslavia",
          "Fiji",
          "Finland",
          "France",
          "Georgia",
          "German Democratic Republic",
          "German Empire",
          "German Reich",
          "Germany",
          "Ghana",
          "Greece",
          "Guyana",
          "Haiti",
          "Honduras",
          "Hong Kong",
          "Hungary",
          "Iceland",
          "India",
          "Indonesia",
          "Iran",
          "Israel",
          "Italy",
          "Ivory Coast",
          "Jacob",
          "Jamaica",
          "Japan",
          "Kenya",
          "Kingdom of Bavaria",
          "Kingdom of Denmark",
          "Kingdom of Hungary",
          "Kingdom of Italy",
          "Kingdom of the Netherlands",
          "Laos",
          "Lebanon",
          "Lithuania",
          "Luxembourg",
          "Malaysia",
          "Mali",
          "Malta",
          "Mexicana",
          "Mexico",
          "Montreal",
          "Morocco",
          "Namibia",
          "Nazi Germany",
          "Nepal",
          "New Zealand",
          "Nicaragua",
          "Nigeria",
          "North Macedonia",
          "Norway",
          "Pakistan",
          "Panama",
          "People's Republic of Bulgaria",
          "People's Republic of China",
          "Peru",
          "Philippines",
          "Poland",
          "Portugal",
          "Puerto Rico",
          "Q41700",
          "Republic of China",
          "Republic of Ireland",
          "Romania",
          "Russia",
          "Russian Empire",
          "Scotland",
          "Senegal",
          "Serbia",
          "Serbia and Montenegro",
          "Sierra Leone",
          "Singapore",
          "Slovakia",
          "Slovenia",
          "Socialist Federal Republic of Yugoslavia",
          "South Africa",
          "South Korea",
          "Soviet Union",
          "Spain",
          "Sri Lanka",
          "State of Mexico",
          "State of Palestine",
          "Suriname",
          "Sweden",
          "Switzerland",
          "Syria",
          "Taiwan",
          "Thailand",
          "The Bahamas",
          "The Gambia",
          "Trinidad and Tobago",
          "Tunisia",
          "Turkey",
          "Turkish Republic of Northern Cyprus",
          "Ukraine",
          "United Kingdom",
          "United Kingdom of Great Britain and Ireland",
          "United States of America",
          "Uruguay",
          "Venezuela",
          "Vietnam",
          "Wales",
          "Weimar Republic",
          "West Bengal",
          "West Germany",
          "Yugoslavia",
          "Zimbabwe"
         ],
         "marker": {
          "line": {
           "color": "rgb(255,255,255)",
           "width": 2
          }
         },
         "type": "choropleth",
         "z": [
          3,
          5,
          227,
          1,
          707,
          190,
          13,
          1,
          4,
          115,
          1,
          1,
          13,
          161,
          49,
          13,
          1,
          30,
          1,
          1,
          2,
          1622,
          1,
          1,
          40,
          1,
          14,
          73,
          17,
          2,
          140,
          38,
          201,
          1,
          8,
          5,
          30,
          35,
          5,
          1,
          1,
          1,
          111,
          1647,
          2,
          2,
          2,
          18,
          860,
          2,
          117,
          1,
          3,
          1,
          61,
          137,
          21,
          1987,
          25,
          40,
          92,
          575,
          2,
          1,
          10,
          1285,
          5,
          1,
          6,
          1,
          499,
          206,
          1,
          4,
          3,
          7,
          25,
          4,
          2,
          1,
          298,
          1,
          5,
          1,
          4,
          2,
          131,
          1,
          8,
          8,
          139,
          28,
          1,
          1,
          303,
          9,
          273,
          211,
          52,
          21,
          1,
          3,
          210,
          56,
          34,
          2,
          9,
          2,
          101,
          2,
          1,
          18,
          24,
          1,
          15,
          81,
          372,
          499,
          428,
          9,
          1,
          3,
          1,
          385,
          59,
          2,
          71,
          40,
          1,
          1,
          5,
          6,
          120,
          1,
          3,
          4305,
          14,
          15534,
          9,
          12,
          2,
          4,
          5,
          1,
          2,
          3,
          3
         ]
        }
       ],
       "layout": {
        "geo": {
         "projection": {
          "type": "natural earth2"
         },
         "showcoastlines": true,
         "showcountries": true,
         "showframe": true
        },
        "height": 600,
        "hovermode": "closest",
        "template": {
         "data": {
          "bar": [
           {
            "error_x": {
             "color": "#2a3f5f"
            },
            "error_y": {
             "color": "#2a3f5f"
            },
            "marker": {
             "line": {
              "color": "#E5ECF6",
              "width": 0.5
             },
             "pattern": {
              "fillmode": "overlay",
              "size": 10,
              "solidity": 0.2
             }
            },
            "type": "bar"
           }
          ],
          "barpolar": [
           {
            "marker": {
             "line": {
              "color": "#E5ECF6",
              "width": 0.5
             },
             "pattern": {
              "fillmode": "overlay",
              "size": 10,
              "solidity": 0.2
             }
            },
            "type": "barpolar"
           }
          ],
          "carpet": [
           {
            "aaxis": {
             "endlinecolor": "#2a3f5f",
             "gridcolor": "white",
             "linecolor": "white",
             "minorgridcolor": "white",
             "startlinecolor": "#2a3f5f"
            },
            "baxis": {
             "endlinecolor": "#2a3f5f",
             "gridcolor": "white",
             "linecolor": "white",
             "minorgridcolor": "white",
             "startlinecolor": "#2a3f5f"
            },
            "type": "carpet"
           }
          ],
          "choropleth": [
           {
            "colorbar": {
             "outlinewidth": 0,
             "ticks": ""
            },
            "type": "choropleth"
           }
          ],
          "contour": [
           {
            "colorbar": {
             "outlinewidth": 0,
             "ticks": ""
            },
            "colorscale": [
             [
              0,
              "#0d0887"
             ],
             [
              0.1111111111111111,
              "#46039f"
             ],
             [
              0.2222222222222222,
              "#7201a8"
             ],
             [
              0.3333333333333333,
              "#9c179e"
             ],
             [
              0.4444444444444444,
              "#bd3786"
             ],
             [
              0.5555555555555556,
              "#d8576b"
             ],
             [
              0.6666666666666666,
              "#ed7953"
             ],
             [
              0.7777777777777778,
              "#fb9f3a"
             ],
             [
              0.8888888888888888,
              "#fdca26"
             ],
             [
              1,
              "#f0f921"
             ]
            ],
            "type": "contour"
           }
          ],
          "contourcarpet": [
           {
            "colorbar": {
             "outlinewidth": 0,
             "ticks": ""
            },
            "type": "contourcarpet"
           }
          ],
          "heatmap": [
           {
            "colorbar": {
             "outlinewidth": 0,
             "ticks": ""
            },
            "colorscale": [
             [
              0,
              "#0d0887"
             ],
             [
              0.1111111111111111,
              "#46039f"
             ],
             [
              0.2222222222222222,
              "#7201a8"
             ],
             [
              0.3333333333333333,
              "#9c179e"
             ],
             [
              0.4444444444444444,
              "#bd3786"
             ],
             [
              0.5555555555555556,
              "#d8576b"
             ],
             [
              0.6666666666666666,
              "#ed7953"
             ],
             [
              0.7777777777777778,
              "#fb9f3a"
             ],
             [
              0.8888888888888888,
              "#fdca26"
             ],
             [
              1,
              "#f0f921"
             ]
            ],
            "type": "heatmap"
           }
          ],
          "heatmapgl": [
           {
            "colorbar": {
             "outlinewidth": 0,
             "ticks": ""
            },
            "colorscale": [
             [
              0,
              "#0d0887"
             ],
             [
              0.1111111111111111,
              "#46039f"
             ],
             [
              0.2222222222222222,
              "#7201a8"
             ],
             [
              0.3333333333333333,
              "#9c179e"
             ],
             [
              0.4444444444444444,
              "#bd3786"
             ],
             [
              0.5555555555555556,
              "#d8576b"
             ],
             [
              0.6666666666666666,
              "#ed7953"
             ],
             [
              0.7777777777777778,
              "#fb9f3a"
             ],
             [
              0.8888888888888888,
              "#fdca26"
             ],
             [
              1,
              "#f0f921"
             ]
            ],
            "type": "heatmapgl"
           }
          ],
          "histogram": [
           {
            "marker": {
             "pattern": {
              "fillmode": "overlay",
              "size": 10,
              "solidity": 0.2
             }
            },
            "type": "histogram"
           }
          ],
          "histogram2d": [
           {
            "colorbar": {
             "outlinewidth": 0,
             "ticks": ""
            },
            "colorscale": [
             [
              0,
              "#0d0887"
             ],
             [
              0.1111111111111111,
              "#46039f"
             ],
             [
              0.2222222222222222,
              "#7201a8"
             ],
             [
              0.3333333333333333,
              "#9c179e"
             ],
             [
              0.4444444444444444,
              "#bd3786"
             ],
             [
              0.5555555555555556,
              "#d8576b"
             ],
             [
              0.6666666666666666,
              "#ed7953"
             ],
             [
              0.7777777777777778,
              "#fb9f3a"
             ],
             [
              0.8888888888888888,
              "#fdca26"
             ],
             [
              1,
              "#f0f921"
             ]
            ],
            "type": "histogram2d"
           }
          ],
          "histogram2dcontour": [
           {
            "colorbar": {
             "outlinewidth": 0,
             "ticks": ""
            },
            "colorscale": [
             [
              0,
              "#0d0887"
             ],
             [
              0.1111111111111111,
              "#46039f"
             ],
             [
              0.2222222222222222,
              "#7201a8"
             ],
             [
              0.3333333333333333,
              "#9c179e"
             ],
             [
              0.4444444444444444,
              "#bd3786"
             ],
             [
              0.5555555555555556,
              "#d8576b"
             ],
             [
              0.6666666666666666,
              "#ed7953"
             ],
             [
              0.7777777777777778,
              "#fb9f3a"
             ],
             [
              0.8888888888888888,
              "#fdca26"
             ],
             [
              1,
              "#f0f921"
             ]
            ],
            "type": "histogram2dcontour"
           }
          ],
          "mesh3d": [
           {
            "colorbar": {
             "outlinewidth": 0,
             "ticks": ""
            },
            "type": "mesh3d"
           }
          ],
          "parcoords": [
           {
            "line": {
             "colorbar": {
              "outlinewidth": 0,
              "ticks": ""
             }
            },
            "type": "parcoords"
           }
          ],
          "pie": [
           {
            "automargin": true,
            "type": "pie"
           }
          ],
          "scatter": [
           {
            "fillpattern": {
             "fillmode": "overlay",
             "size": 10,
             "solidity": 0.2
            },
            "type": "scatter"
           }
          ],
          "scatter3d": [
           {
            "line": {
             "colorbar": {
              "outlinewidth": 0,
              "ticks": ""
             }
            },
            "marker": {
             "colorbar": {
              "outlinewidth": 0,
              "ticks": ""
             }
            },
            "type": "scatter3d"
           }
          ],
          "scattercarpet": [
           {
            "marker": {
             "colorbar": {
              "outlinewidth": 0,
              "ticks": ""
             }
            },
            "type": "scattercarpet"
           }
          ],
          "scattergeo": [
           {
            "marker": {
             "colorbar": {
              "outlinewidth": 0,
              "ticks": ""
             }
            },
            "type": "scattergeo"
           }
          ],
          "scattergl": [
           {
            "marker": {
             "colorbar": {
              "outlinewidth": 0,
              "ticks": ""
             }
            },
            "type": "scattergl"
           }
          ],
          "scattermapbox": [
           {
            "marker": {
             "colorbar": {
              "outlinewidth": 0,
              "ticks": ""
             }
            },
            "type": "scattermapbox"
           }
          ],
          "scatterpolar": [
           {
            "marker": {
             "colorbar": {
              "outlinewidth": 0,
              "ticks": ""
             }
            },
            "type": "scatterpolar"
           }
          ],
          "scatterpolargl": [
           {
            "marker": {
             "colorbar": {
              "outlinewidth": 0,
              "ticks": ""
             }
            },
            "type": "scatterpolargl"
           }
          ],
          "scatterternary": [
           {
            "marker": {
             "colorbar": {
              "outlinewidth": 0,
              "ticks": ""
             }
            },
            "type": "scatterternary"
           }
          ],
          "surface": [
           {
            "colorbar": {
             "outlinewidth": 0,
             "ticks": ""
            },
            "colorscale": [
             [
              0,
              "#0d0887"
             ],
             [
              0.1111111111111111,
              "#46039f"
             ],
             [
              0.2222222222222222,
              "#7201a8"
             ],
             [
              0.3333333333333333,
              "#9c179e"
             ],
             [
              0.4444444444444444,
              "#bd3786"
             ],
             [
              0.5555555555555556,
              "#d8576b"
             ],
             [
              0.6666666666666666,
              "#ed7953"
             ],
             [
              0.7777777777777778,
              "#fb9f3a"
             ],
             [
              0.8888888888888888,
              "#fdca26"
             ],
             [
              1,
              "#f0f921"
             ]
            ],
            "type": "surface"
           }
          ],
          "table": [
           {
            "cells": {
             "fill": {
              "color": "#EBF0F8"
             },
             "line": {
              "color": "white"
             }
            },
            "header": {
             "fill": {
              "color": "#C8D4E3"
             },
             "line": {
              "color": "white"
             }
            },
            "type": "table"
           }
          ]
         },
         "layout": {
          "annotationdefaults": {
           "arrowcolor": "#2a3f5f",
           "arrowhead": 0,
           "arrowwidth": 1
          },
          "autotypenumbers": "strict",
          "coloraxis": {
           "colorbar": {
            "outlinewidth": 0,
            "ticks": ""
           }
          },
          "colorscale": {
           "diverging": [
            [
             0,
             "#8e0152"
            ],
            [
             0.1,
             "#c51b7d"
            ],
            [
             0.2,
             "#de77ae"
            ],
            [
             0.3,
             "#f1b6da"
            ],
            [
             0.4,
             "#fde0ef"
            ],
            [
             0.5,
             "#f7f7f7"
            ],
            [
             0.6,
             "#e6f5d0"
            ],
            [
             0.7,
             "#b8e186"
            ],
            [
             0.8,
             "#7fbc41"
            ],
            [
             0.9,
             "#4d9221"
            ],
            [
             1,
             "#276419"
            ]
           ],
           "sequential": [
            [
             0,
             "#0d0887"
            ],
            [
             0.1111111111111111,
             "#46039f"
            ],
            [
             0.2222222222222222,
             "#7201a8"
            ],
            [
             0.3333333333333333,
             "#9c179e"
            ],
            [
             0.4444444444444444,
             "#bd3786"
            ],
            [
             0.5555555555555556,
             "#d8576b"
            ],
            [
             0.6666666666666666,
             "#ed7953"
            ],
            [
             0.7777777777777778,
             "#fb9f3a"
            ],
            [
             0.8888888888888888,
             "#fdca26"
            ],
            [
             1,
             "#f0f921"
            ]
           ],
           "sequentialminus": [
            [
             0,
             "#0d0887"
            ],
            [
             0.1111111111111111,
             "#46039f"
            ],
            [
             0.2222222222222222,
             "#7201a8"
            ],
            [
             0.3333333333333333,
             "#9c179e"
            ],
            [
             0.4444444444444444,
             "#bd3786"
            ],
            [
             0.5555555555555556,
             "#d8576b"
            ],
            [
             0.6666666666666666,
             "#ed7953"
            ],
            [
             0.7777777777777778,
             "#fb9f3a"
            ],
            [
             0.8888888888888888,
             "#fdca26"
            ],
            [
             1,
             "#f0f921"
            ]
           ]
          },
          "colorway": [
           "#636efa",
           "#EF553B",
           "#00cc96",
           "#ab63fa",
           "#FFA15A",
           "#19d3f3",
           "#FF6692",
           "#B6E880",
           "#FF97FF",
           "#FECB52"
          ],
          "font": {
           "color": "#2a3f5f"
          },
          "geo": {
           "bgcolor": "white",
           "lakecolor": "white",
           "landcolor": "#E5ECF6",
           "showlakes": true,
           "showland": true,
           "subunitcolor": "white"
          },
          "hoverlabel": {
           "align": "left"
          },
          "hovermode": "closest",
          "mapbox": {
           "style": "light"
          },
          "paper_bgcolor": "white",
          "plot_bgcolor": "#E5ECF6",
          "polar": {
           "angularaxis": {
            "gridcolor": "white",
            "linecolor": "white",
            "ticks": ""
           },
           "bgcolor": "#E5ECF6",
           "radialaxis": {
            "gridcolor": "white",
            "linecolor": "white",
            "ticks": ""
           }
          },
          "scene": {
           "xaxis": {
            "backgroundcolor": "#E5ECF6",
            "gridcolor": "white",
            "gridwidth": 2,
            "linecolor": "white",
            "showbackground": true,
            "ticks": "",
            "zerolinecolor": "white"
           },
           "yaxis": {
            "backgroundcolor": "#E5ECF6",
            "gridcolor": "white",
            "gridwidth": 2,
            "linecolor": "white",
            "showbackground": true,
            "ticks": "",
            "zerolinecolor": "white"
           },
           "zaxis": {
            "backgroundcolor": "#E5ECF6",
            "gridcolor": "white",
            "gridwidth": 2,
            "linecolor": "white",
            "showbackground": true,
            "ticks": "",
            "zerolinecolor": "white"
           }
          },
          "shapedefaults": {
           "line": {
            "color": "#2a3f5f"
           }
          },
          "ternary": {
           "aaxis": {
            "gridcolor": "white",
            "linecolor": "white",
            "ticks": ""
           },
           "baxis": {
            "gridcolor": "white",
            "linecolor": "white",
            "ticks": ""
           },
           "bgcolor": "#E5ECF6",
           "caxis": {
            "gridcolor": "white",
            "linecolor": "white",
            "ticks": ""
           }
          },
          "title": {
           "x": 0.05
          },
          "xaxis": {
           "automargin": true,
           "gridcolor": "white",
           "linecolor": "white",
           "ticks": "",
           "title": {
            "standoff": 15
           },
           "zerolinecolor": "white",
           "zerolinewidth": 2
          },
          "yaxis": {
           "automargin": true,
           "gridcolor": "white",
           "linecolor": "white",
           "ticks": "",
           "title": {
            "standoff": 15
           },
           "zerolinecolor": "white",
           "zerolinewidth": 2
          }
         }
        },
        "title": {
         "text": "• World Map with number of Actors per Country"
        },
        "width": 900
       }
      },
      "text/html": [
       "<div>                            <div id=\"e05d7f3d-548e-4fad-b171-cfa7f66229c3\" class=\"plotly-graph-div\" style=\"height:600px; width:900px;\"></div>            <script type=\"text/javascript\">                require([\"plotly\"], function(Plotly) {                    window.PLOTLYENV=window.PLOTLYENV || {};                                    if (document.getElementById(\"e05d7f3d-548e-4fad-b171-cfa7f66229c3\")) {                    Plotly.newPlot(                        \"e05d7f3d-548e-4fad-b171-cfa7f66229c3\",                        [{\"colorbar\":{\"title\":{\"text\":\"Number of actors\"}},\"colorscale\":[[0.0,\"rgb(12,51,131)\"],[0.25,\"rgb(10,136,186)\"],[0.5,\"rgb(242,211,56)\"],[0.75,\"rgb(242,143,56)\"],[1.0,\"rgb(217,30,30)\"]],\"locationmode\":\"country names\",\"locations\":[\"Albania\",\"Algeria\",\"Argentina\",\"Armenia\",\"Australia\",\"Austria\",\"Austria-Hungary\",\"Azerbaijan\",\"Bangladesh\",\"Belgium\",\"Belize\",\"Bolivia\",\"Bosnia and Herzegovina\",\"Brazil\",\"British Hong Kong\",\"British Raj\",\"Brunete\",\"Bulgaria\",\"Burkina Faso\",\"Cambodia\",\"Cameroon\",\"Canada\",\"Captaincy General of Catalonia\",\"Chad\",\"Chile\",\"China\",\"Colombia\",\"Croatia\",\"Cuba\",\"Cyprus\",\"Czech Republic\",\"Czechoslovakia\",\"Denmark\",\"Dominica\",\"Dominican Republic\",\"Ecuador\",\"Egypt\",\"England\",\"Estonia\",\"Ethiopia\",\"Federal Republic of Yugoslavia\",\"Fiji\",\"Finland\",\"France\",\"Georgia\",\"German Democratic Republic\",\"German Empire\",\"German Reich\",\"Germany\",\"Ghana\",\"Greece\",\"Guyana\",\"Haiti\",\"Honduras\",\"Hong Kong\",\"Hungary\",\"Iceland\",\"India\",\"Indonesia\",\"Iran\",\"Israel\",\"Italy\",\"Ivory Coast\",\"Jacob\",\"Jamaica\",\"Japan\",\"Kenya\",\"Kingdom of Bavaria\",\"Kingdom of Denmark\",\"Kingdom of Hungary\",\"Kingdom of Italy\",\"Kingdom of the Netherlands\",\"Laos\",\"Lebanon\",\"Lithuania\",\"Luxembourg\",\"Malaysia\",\"Mali\",\"Malta\",\"Mexicana\",\"Mexico\",\"Montreal\",\"Morocco\",\"Namibia\",\"Nazi Germany\",\"Nepal\",\"New Zealand\",\"Nicaragua\",\"Nigeria\",\"North Macedonia\",\"Norway\",\"Pakistan\",\"Panama\",\"People's Republic of Bulgaria\",\"People's Republic of China\",\"Peru\",\"Philippines\",\"Poland\",\"Portugal\",\"Puerto Rico\",\"Q41700\",\"Republic of China\",\"Republic of Ireland\",\"Romania\",\"Russia\",\"Russian Empire\",\"Scotland\",\"Senegal\",\"Serbia\",\"Serbia and Montenegro\",\"Sierra Leone\",\"Singapore\",\"Slovakia\",\"Slovenia\",\"Socialist Federal Republic of Yugoslavia\",\"South Africa\",\"South Korea\",\"Soviet Union\",\"Spain\",\"Sri Lanka\",\"State of Mexico\",\"State of Palestine\",\"Suriname\",\"Sweden\",\"Switzerland\",\"Syria\",\"Taiwan\",\"Thailand\",\"The Bahamas\",\"The Gambia\",\"Trinidad and Tobago\",\"Tunisia\",\"Turkey\",\"Turkish Republic of Northern Cyprus\",\"Ukraine\",\"United Kingdom\",\"United Kingdom of Great Britain and Ireland\",\"United States of America\",\"Uruguay\",\"Venezuela\",\"Vietnam\",\"Wales\",\"Weimar Republic\",\"West Bengal\",\"West Germany\",\"Yugoslavia\",\"Zimbabwe\"],\"marker\":{\"line\":{\"color\":\"rgb(255,255,255)\",\"width\":2}},\"z\":[3,5,227,1,707,190,13,1,4,115,1,1,13,161,49,13,1,30,1,1,2,1622,1,1,40,1,14,73,17,2,140,38,201,1,8,5,30,35,5,1,1,1,111,1647,2,2,2,18,860,2,117,1,3,1,61,137,21,1987,25,40,92,575,2,1,10,1285,5,1,6,1,499,206,1,4,3,7,25,4,2,1,298,1,5,1,4,2,131,1,8,8,139,28,1,1,303,9,273,211,52,21,1,3,210,56,34,2,9,2,101,2,1,18,24,1,15,81,372,499,428,9,1,3,1,385,59,2,71,40,1,1,5,6,120,1,3,4305,14,15534,9,12,2,4,5,1,2,3,3],\"type\":\"choropleth\"}],                        {\"template\":{\"data\":{\"histogram2dcontour\":[{\"type\":\"histogram2dcontour\",\"colorbar\":{\"outlinewidth\":0,\"ticks\":\"\"},\"colorscale\":[[0.0,\"#0d0887\"],[0.1111111111111111,\"#46039f\"],[0.2222222222222222,\"#7201a8\"],[0.3333333333333333,\"#9c179e\"],[0.4444444444444444,\"#bd3786\"],[0.5555555555555556,\"#d8576b\"],[0.6666666666666666,\"#ed7953\"],[0.7777777777777778,\"#fb9f3a\"],[0.8888888888888888,\"#fdca26\"],[1.0,\"#f0f921\"]]}],\"choropleth\":[{\"type\":\"choropleth\",\"colorbar\":{\"outlinewidth\":0,\"ticks\":\"\"}}],\"histogram2d\":[{\"type\":\"histogram2d\",\"colorbar\":{\"outlinewidth\":0,\"ticks\":\"\"},\"colorscale\":[[0.0,\"#0d0887\"],[0.1111111111111111,\"#46039f\"],[0.2222222222222222,\"#7201a8\"],[0.3333333333333333,\"#9c179e\"],[0.4444444444444444,\"#bd3786\"],[0.5555555555555556,\"#d8576b\"],[0.6666666666666666,\"#ed7953\"],[0.7777777777777778,\"#fb9f3a\"],[0.8888888888888888,\"#fdca26\"],[1.0,\"#f0f921\"]]}],\"heatmap\":[{\"type\":\"heatmap\",\"colorbar\":{\"outlinewidth\":0,\"ticks\":\"\"},\"colorscale\":[[0.0,\"#0d0887\"],[0.1111111111111111,\"#46039f\"],[0.2222222222222222,\"#7201a8\"],[0.3333333333333333,\"#9c179e\"],[0.4444444444444444,\"#bd3786\"],[0.5555555555555556,\"#d8576b\"],[0.6666666666666666,\"#ed7953\"],[0.7777777777777778,\"#fb9f3a\"],[0.8888888888888888,\"#fdca26\"],[1.0,\"#f0f921\"]]}],\"heatmapgl\":[{\"type\":\"heatmapgl\",\"colorbar\":{\"outlinewidth\":0,\"ticks\":\"\"},\"colorscale\":[[0.0,\"#0d0887\"],[0.1111111111111111,\"#46039f\"],[0.2222222222222222,\"#7201a8\"],[0.3333333333333333,\"#9c179e\"],[0.4444444444444444,\"#bd3786\"],[0.5555555555555556,\"#d8576b\"],[0.6666666666666666,\"#ed7953\"],[0.7777777777777778,\"#fb9f3a\"],[0.8888888888888888,\"#fdca26\"],[1.0,\"#f0f921\"]]}],\"contourcarpet\":[{\"type\":\"contourcarpet\",\"colorbar\":{\"outlinewidth\":0,\"ticks\":\"\"}}],\"contour\":[{\"type\":\"contour\",\"colorbar\":{\"outlinewidth\":0,\"ticks\":\"\"},\"colorscale\":[[0.0,\"#0d0887\"],[0.1111111111111111,\"#46039f\"],[0.2222222222222222,\"#7201a8\"],[0.3333333333333333,\"#9c179e\"],[0.4444444444444444,\"#bd3786\"],[0.5555555555555556,\"#d8576b\"],[0.6666666666666666,\"#ed7953\"],[0.7777777777777778,\"#fb9f3a\"],[0.8888888888888888,\"#fdca26\"],[1.0,\"#f0f921\"]]}],\"surface\":[{\"type\":\"surface\",\"colorbar\":{\"outlinewidth\":0,\"ticks\":\"\"},\"colorscale\":[[0.0,\"#0d0887\"],[0.1111111111111111,\"#46039f\"],[0.2222222222222222,\"#7201a8\"],[0.3333333333333333,\"#9c179e\"],[0.4444444444444444,\"#bd3786\"],[0.5555555555555556,\"#d8576b\"],[0.6666666666666666,\"#ed7953\"],[0.7777777777777778,\"#fb9f3a\"],[0.8888888888888888,\"#fdca26\"],[1.0,\"#f0f921\"]]}],\"mesh3d\":[{\"type\":\"mesh3d\",\"colorbar\":{\"outlinewidth\":0,\"ticks\":\"\"}}],\"scatter\":[{\"fillpattern\":{\"fillmode\":\"overlay\",\"size\":10,\"solidity\":0.2},\"type\":\"scatter\"}],\"parcoords\":[{\"type\":\"parcoords\",\"line\":{\"colorbar\":{\"outlinewidth\":0,\"ticks\":\"\"}}}],\"scatterpolargl\":[{\"type\":\"scatterpolargl\",\"marker\":{\"colorbar\":{\"outlinewidth\":0,\"ticks\":\"\"}}}],\"bar\":[{\"error_x\":{\"color\":\"#2a3f5f\"},\"error_y\":{\"color\":\"#2a3f5f\"},\"marker\":{\"line\":{\"color\":\"#E5ECF6\",\"width\":0.5},\"pattern\":{\"fillmode\":\"overlay\",\"size\":10,\"solidity\":0.2}},\"type\":\"bar\"}],\"scattergeo\":[{\"type\":\"scattergeo\",\"marker\":{\"colorbar\":{\"outlinewidth\":0,\"ticks\":\"\"}}}],\"scatterpolar\":[{\"type\":\"scatterpolar\",\"marker\":{\"colorbar\":{\"outlinewidth\":0,\"ticks\":\"\"}}}],\"histogram\":[{\"marker\":{\"pattern\":{\"fillmode\":\"overlay\",\"size\":10,\"solidity\":0.2}},\"type\":\"histogram\"}],\"scattergl\":[{\"type\":\"scattergl\",\"marker\":{\"colorbar\":{\"outlinewidth\":0,\"ticks\":\"\"}}}],\"scatter3d\":[{\"type\":\"scatter3d\",\"line\":{\"colorbar\":{\"outlinewidth\":0,\"ticks\":\"\"}},\"marker\":{\"colorbar\":{\"outlinewidth\":0,\"ticks\":\"\"}}}],\"scattermapbox\":[{\"type\":\"scattermapbox\",\"marker\":{\"colorbar\":{\"outlinewidth\":0,\"ticks\":\"\"}}}],\"scatterternary\":[{\"type\":\"scatterternary\",\"marker\":{\"colorbar\":{\"outlinewidth\":0,\"ticks\":\"\"}}}],\"scattercarpet\":[{\"type\":\"scattercarpet\",\"marker\":{\"colorbar\":{\"outlinewidth\":0,\"ticks\":\"\"}}}],\"carpet\":[{\"aaxis\":{\"endlinecolor\":\"#2a3f5f\",\"gridcolor\":\"white\",\"linecolor\":\"white\",\"minorgridcolor\":\"white\",\"startlinecolor\":\"#2a3f5f\"},\"baxis\":{\"endlinecolor\":\"#2a3f5f\",\"gridcolor\":\"white\",\"linecolor\":\"white\",\"minorgridcolor\":\"white\",\"startlinecolor\":\"#2a3f5f\"},\"type\":\"carpet\"}],\"table\":[{\"cells\":{\"fill\":{\"color\":\"#EBF0F8\"},\"line\":{\"color\":\"white\"}},\"header\":{\"fill\":{\"color\":\"#C8D4E3\"},\"line\":{\"color\":\"white\"}},\"type\":\"table\"}],\"barpolar\":[{\"marker\":{\"line\":{\"color\":\"#E5ECF6\",\"width\":0.5},\"pattern\":{\"fillmode\":\"overlay\",\"size\":10,\"solidity\":0.2}},\"type\":\"barpolar\"}],\"pie\":[{\"automargin\":true,\"type\":\"pie\"}]},\"layout\":{\"autotypenumbers\":\"strict\",\"colorway\":[\"#636efa\",\"#EF553B\",\"#00cc96\",\"#ab63fa\",\"#FFA15A\",\"#19d3f3\",\"#FF6692\",\"#B6E880\",\"#FF97FF\",\"#FECB52\"],\"font\":{\"color\":\"#2a3f5f\"},\"hovermode\":\"closest\",\"hoverlabel\":{\"align\":\"left\"},\"paper_bgcolor\":\"white\",\"plot_bgcolor\":\"#E5ECF6\",\"polar\":{\"bgcolor\":\"#E5ECF6\",\"angularaxis\":{\"gridcolor\":\"white\",\"linecolor\":\"white\",\"ticks\":\"\"},\"radialaxis\":{\"gridcolor\":\"white\",\"linecolor\":\"white\",\"ticks\":\"\"}},\"ternary\":{\"bgcolor\":\"#E5ECF6\",\"aaxis\":{\"gridcolor\":\"white\",\"linecolor\":\"white\",\"ticks\":\"\"},\"baxis\":{\"gridcolor\":\"white\",\"linecolor\":\"white\",\"ticks\":\"\"},\"caxis\":{\"gridcolor\":\"white\",\"linecolor\":\"white\",\"ticks\":\"\"}},\"coloraxis\":{\"colorbar\":{\"outlinewidth\":0,\"ticks\":\"\"}},\"colorscale\":{\"sequential\":[[0.0,\"#0d0887\"],[0.1111111111111111,\"#46039f\"],[0.2222222222222222,\"#7201a8\"],[0.3333333333333333,\"#9c179e\"],[0.4444444444444444,\"#bd3786\"],[0.5555555555555556,\"#d8576b\"],[0.6666666666666666,\"#ed7953\"],[0.7777777777777778,\"#fb9f3a\"],[0.8888888888888888,\"#fdca26\"],[1.0,\"#f0f921\"]],\"sequentialminus\":[[0.0,\"#0d0887\"],[0.1111111111111111,\"#46039f\"],[0.2222222222222222,\"#7201a8\"],[0.3333333333333333,\"#9c179e\"],[0.4444444444444444,\"#bd3786\"],[0.5555555555555556,\"#d8576b\"],[0.6666666666666666,\"#ed7953\"],[0.7777777777777778,\"#fb9f3a\"],[0.8888888888888888,\"#fdca26\"],[1.0,\"#f0f921\"]],\"diverging\":[[0,\"#8e0152\"],[0.1,\"#c51b7d\"],[0.2,\"#de77ae\"],[0.3,\"#f1b6da\"],[0.4,\"#fde0ef\"],[0.5,\"#f7f7f7\"],[0.6,\"#e6f5d0\"],[0.7,\"#b8e186\"],[0.8,\"#7fbc41\"],[0.9,\"#4d9221\"],[1,\"#276419\"]]},\"xaxis\":{\"gridcolor\":\"white\",\"linecolor\":\"white\",\"ticks\":\"\",\"title\":{\"standoff\":15},\"zerolinecolor\":\"white\",\"automargin\":true,\"zerolinewidth\":2},\"yaxis\":{\"gridcolor\":\"white\",\"linecolor\":\"white\",\"ticks\":\"\",\"title\":{\"standoff\":15},\"zerolinecolor\":\"white\",\"automargin\":true,\"zerolinewidth\":2},\"scene\":{\"xaxis\":{\"backgroundcolor\":\"#E5ECF6\",\"gridcolor\":\"white\",\"linecolor\":\"white\",\"showbackground\":true,\"ticks\":\"\",\"zerolinecolor\":\"white\",\"gridwidth\":2},\"yaxis\":{\"backgroundcolor\":\"#E5ECF6\",\"gridcolor\":\"white\",\"linecolor\":\"white\",\"showbackground\":true,\"ticks\":\"\",\"zerolinecolor\":\"white\",\"gridwidth\":2},\"zaxis\":{\"backgroundcolor\":\"#E5ECF6\",\"gridcolor\":\"white\",\"linecolor\":\"white\",\"showbackground\":true,\"ticks\":\"\",\"zerolinecolor\":\"white\",\"gridwidth\":2}},\"shapedefaults\":{\"line\":{\"color\":\"#2a3f5f\"}},\"annotationdefaults\":{\"arrowcolor\":\"#2a3f5f\",\"arrowhead\":0,\"arrowwidth\":1},\"geo\":{\"bgcolor\":\"white\",\"landcolor\":\"#E5ECF6\",\"subunitcolor\":\"white\",\"showland\":true,\"showlakes\":true,\"lakecolor\":\"white\"},\"title\":{\"x\":0.05},\"mapbox\":{\"style\":\"light\"}}},\"geo\":{\"projection\":{\"type\":\"natural earth2\"},\"showcoastlines\":true,\"showcountries\":true,\"showframe\":true},\"hovermode\":\"closest\",\"width\":900,\"height\":600,\"title\":{\"text\":\"\\u2022 World Map with number of Actors per Country\"}},                        {\"responsive\": true}                    ).then(function(){\n",
       "                            \n",
       "var gd = document.getElementById('e05d7f3d-548e-4fad-b171-cfa7f66229c3');\n",
       "var x = new MutationObserver(function (mutations, observer) {{\n",
       "        var display = window.getComputedStyle(gd).display;\n",
       "        if (!display || display === 'none') {{\n",
       "            console.log([gd, 'removed!']);\n",
       "            Plotly.purge(gd);\n",
       "            observer.disconnect();\n",
       "        }}\n",
       "}});\n",
       "\n",
       "// Listen for the removal of the full notebook cells\n",
       "var notebookContainer = gd.closest('#notebook-container');\n",
       "if (notebookContainer) {{\n",
       "    x.observe(notebookContainer, {childList: true});\n",
       "}}\n",
       "\n",
       "// Listen for the clearing of the current output cell\n",
       "var outputEl = gd.closest('.output');\n",
       "if (outputEl) {{\n",
       "    x.observe(outputEl, {childList: true});\n",
       "}}\n",
       "\n",
       "                        })                };                });            </script>        </div>"
      ]
     },
     "metadata": {},
     "output_type": "display_data"
    }
   ],
   "source": [
    "#| echo: false\n",
    "visualization_nat= df_edges_nat.drop_duplicates(subset= \"actor1_fbid\").groupby('actor_nationality_x')['actor2_fbid'].agg(['count'])\n",
    "visualization_nat['country']= visualization_nat.index\n",
    "visualization_nat= visualization_nat.reset_index(drop= True)\n",
    "choropleth_map = go.Figure(\n",
    "    data = {\n",
    "        'type':'choropleth',\n",
    "        'locations':visualization_nat['country'],\n",
    "        'locationmode':'country names',\n",
    "        'colorscale':'Portland',\n",
    "        'z':visualization_nat['count'],\n",
    "        'colorbar':{'title':'Number of actors'},\n",
    "        'marker': {\n",
    "            'line': {\n",
    "                'color':'rgb(255,255,255)',\n",
    "                'width':2\n",
    "            }\n",
    "        }\n",
    "    },     \n",
    ")\n",
    "\n",
    "choropleth_map.update_layout(\n",
    "    geo=go.layout.Geo(\n",
    "        showframe=True,\n",
    "        showcoastlines=True,\n",
    "        projection_type='natural earth2',\n",
    "        showcountries= True\n",
    "    ),\n",
    "    hovermode='closest',\n",
    "    width=900,\n",
    "    height=600,\n",
    "    title='• World Map with number of Actors per Country'\n",
    ")"
   ]
  },
  {
   "cell_type": "markdown",
   "id": "671a3a5d",
   "metadata": {},
   "source": [
    "- Furthermore, we need to be attentive for the other attributes distribution. We highlight them according to the dataset as following :"
   ]
  },
  {
   "cell_type": "code",
   "execution_count": 168,
   "id": "2bf49c55",
   "metadata": {},
   "outputs": [
    {
     "data": {
      "application/vnd.plotly.v1+json": {
       "config": {
        "plotlyServerURL": "https://plot.ly"
       },
       "data": [
        {
         "domain": {
          "x": [
           0,
           1
          ],
          "y": [
           0,
           1
          ]
         },
         "hovertemplate": "gender=%{label}<br>count=%{value}<extra></extra>",
         "labels": [
          "F",
          "M"
         ],
         "legendgroup": "",
         "name": "",
         "showlegend": true,
         "type": "pie",
         "values": [
          18415,
          32376
         ]
        }
       ],
       "layout": {
        "height": 400,
        "legend": {
         "tracegroupgap": 0
        },
        "template": {
         "data": {
          "bar": [
           {
            "error_x": {
             "color": "#2a3f5f"
            },
            "error_y": {
             "color": "#2a3f5f"
            },
            "marker": {
             "line": {
              "color": "#E5ECF6",
              "width": 0.5
             },
             "pattern": {
              "fillmode": "overlay",
              "size": 10,
              "solidity": 0.2
             }
            },
            "type": "bar"
           }
          ],
          "barpolar": [
           {
            "marker": {
             "line": {
              "color": "#E5ECF6",
              "width": 0.5
             },
             "pattern": {
              "fillmode": "overlay",
              "size": 10,
              "solidity": 0.2
             }
            },
            "type": "barpolar"
           }
          ],
          "carpet": [
           {
            "aaxis": {
             "endlinecolor": "#2a3f5f",
             "gridcolor": "white",
             "linecolor": "white",
             "minorgridcolor": "white",
             "startlinecolor": "#2a3f5f"
            },
            "baxis": {
             "endlinecolor": "#2a3f5f",
             "gridcolor": "white",
             "linecolor": "white",
             "minorgridcolor": "white",
             "startlinecolor": "#2a3f5f"
            },
            "type": "carpet"
           }
          ],
          "choropleth": [
           {
            "colorbar": {
             "outlinewidth": 0,
             "ticks": ""
            },
            "type": "choropleth"
           }
          ],
          "contour": [
           {
            "colorbar": {
             "outlinewidth": 0,
             "ticks": ""
            },
            "colorscale": [
             [
              0,
              "#0d0887"
             ],
             [
              0.1111111111111111,
              "#46039f"
             ],
             [
              0.2222222222222222,
              "#7201a8"
             ],
             [
              0.3333333333333333,
              "#9c179e"
             ],
             [
              0.4444444444444444,
              "#bd3786"
             ],
             [
              0.5555555555555556,
              "#d8576b"
             ],
             [
              0.6666666666666666,
              "#ed7953"
             ],
             [
              0.7777777777777778,
              "#fb9f3a"
             ],
             [
              0.8888888888888888,
              "#fdca26"
             ],
             [
              1,
              "#f0f921"
             ]
            ],
            "type": "contour"
           }
          ],
          "contourcarpet": [
           {
            "colorbar": {
             "outlinewidth": 0,
             "ticks": ""
            },
            "type": "contourcarpet"
           }
          ],
          "heatmap": [
           {
            "colorbar": {
             "outlinewidth": 0,
             "ticks": ""
            },
            "colorscale": [
             [
              0,
              "#0d0887"
             ],
             [
              0.1111111111111111,
              "#46039f"
             ],
             [
              0.2222222222222222,
              "#7201a8"
             ],
             [
              0.3333333333333333,
              "#9c179e"
             ],
             [
              0.4444444444444444,
              "#bd3786"
             ],
             [
              0.5555555555555556,
              "#d8576b"
             ],
             [
              0.6666666666666666,
              "#ed7953"
             ],
             [
              0.7777777777777778,
              "#fb9f3a"
             ],
             [
              0.8888888888888888,
              "#fdca26"
             ],
             [
              1,
              "#f0f921"
             ]
            ],
            "type": "heatmap"
           }
          ],
          "heatmapgl": [
           {
            "colorbar": {
             "outlinewidth": 0,
             "ticks": ""
            },
            "colorscale": [
             [
              0,
              "#0d0887"
             ],
             [
              0.1111111111111111,
              "#46039f"
             ],
             [
              0.2222222222222222,
              "#7201a8"
             ],
             [
              0.3333333333333333,
              "#9c179e"
             ],
             [
              0.4444444444444444,
              "#bd3786"
             ],
             [
              0.5555555555555556,
              "#d8576b"
             ],
             [
              0.6666666666666666,
              "#ed7953"
             ],
             [
              0.7777777777777778,
              "#fb9f3a"
             ],
             [
              0.8888888888888888,
              "#fdca26"
             ],
             [
              1,
              "#f0f921"
             ]
            ],
            "type": "heatmapgl"
           }
          ],
          "histogram": [
           {
            "marker": {
             "pattern": {
              "fillmode": "overlay",
              "size": 10,
              "solidity": 0.2
             }
            },
            "type": "histogram"
           }
          ],
          "histogram2d": [
           {
            "colorbar": {
             "outlinewidth": 0,
             "ticks": ""
            },
            "colorscale": [
             [
              0,
              "#0d0887"
             ],
             [
              0.1111111111111111,
              "#46039f"
             ],
             [
              0.2222222222222222,
              "#7201a8"
             ],
             [
              0.3333333333333333,
              "#9c179e"
             ],
             [
              0.4444444444444444,
              "#bd3786"
             ],
             [
              0.5555555555555556,
              "#d8576b"
             ],
             [
              0.6666666666666666,
              "#ed7953"
             ],
             [
              0.7777777777777778,
              "#fb9f3a"
             ],
             [
              0.8888888888888888,
              "#fdca26"
             ],
             [
              1,
              "#f0f921"
             ]
            ],
            "type": "histogram2d"
           }
          ],
          "histogram2dcontour": [
           {
            "colorbar": {
             "outlinewidth": 0,
             "ticks": ""
            },
            "colorscale": [
             [
              0,
              "#0d0887"
             ],
             [
              0.1111111111111111,
              "#46039f"
             ],
             [
              0.2222222222222222,
              "#7201a8"
             ],
             [
              0.3333333333333333,
              "#9c179e"
             ],
             [
              0.4444444444444444,
              "#bd3786"
             ],
             [
              0.5555555555555556,
              "#d8576b"
             ],
             [
              0.6666666666666666,
              "#ed7953"
             ],
             [
              0.7777777777777778,
              "#fb9f3a"
             ],
             [
              0.8888888888888888,
              "#fdca26"
             ],
             [
              1,
              "#f0f921"
             ]
            ],
            "type": "histogram2dcontour"
           }
          ],
          "mesh3d": [
           {
            "colorbar": {
             "outlinewidth": 0,
             "ticks": ""
            },
            "type": "mesh3d"
           }
          ],
          "parcoords": [
           {
            "line": {
             "colorbar": {
              "outlinewidth": 0,
              "ticks": ""
             }
            },
            "type": "parcoords"
           }
          ],
          "pie": [
           {
            "automargin": true,
            "type": "pie"
           }
          ],
          "scatter": [
           {
            "fillpattern": {
             "fillmode": "overlay",
             "size": 10,
             "solidity": 0.2
            },
            "type": "scatter"
           }
          ],
          "scatter3d": [
           {
            "line": {
             "colorbar": {
              "outlinewidth": 0,
              "ticks": ""
             }
            },
            "marker": {
             "colorbar": {
              "outlinewidth": 0,
              "ticks": ""
             }
            },
            "type": "scatter3d"
           }
          ],
          "scattercarpet": [
           {
            "marker": {
             "colorbar": {
              "outlinewidth": 0,
              "ticks": ""
             }
            },
            "type": "scattercarpet"
           }
          ],
          "scattergeo": [
           {
            "marker": {
             "colorbar": {
              "outlinewidth": 0,
              "ticks": ""
             }
            },
            "type": "scattergeo"
           }
          ],
          "scattergl": [
           {
            "marker": {
             "colorbar": {
              "outlinewidth": 0,
              "ticks": ""
             }
            },
            "type": "scattergl"
           }
          ],
          "scattermapbox": [
           {
            "marker": {
             "colorbar": {
              "outlinewidth": 0,
              "ticks": ""
             }
            },
            "type": "scattermapbox"
           }
          ],
          "scatterpolar": [
           {
            "marker": {
             "colorbar": {
              "outlinewidth": 0,
              "ticks": ""
             }
            },
            "type": "scatterpolar"
           }
          ],
          "scatterpolargl": [
           {
            "marker": {
             "colorbar": {
              "outlinewidth": 0,
              "ticks": ""
             }
            },
            "type": "scatterpolargl"
           }
          ],
          "scatterternary": [
           {
            "marker": {
             "colorbar": {
              "outlinewidth": 0,
              "ticks": ""
             }
            },
            "type": "scatterternary"
           }
          ],
          "surface": [
           {
            "colorbar": {
             "outlinewidth": 0,
             "ticks": ""
            },
            "colorscale": [
             [
              0,
              "#0d0887"
             ],
             [
              0.1111111111111111,
              "#46039f"
             ],
             [
              0.2222222222222222,
              "#7201a8"
             ],
             [
              0.3333333333333333,
              "#9c179e"
             ],
             [
              0.4444444444444444,
              "#bd3786"
             ],
             [
              0.5555555555555556,
              "#d8576b"
             ],
             [
              0.6666666666666666,
              "#ed7953"
             ],
             [
              0.7777777777777778,
              "#fb9f3a"
             ],
             [
              0.8888888888888888,
              "#fdca26"
             ],
             [
              1,
              "#f0f921"
             ]
            ],
            "type": "surface"
           }
          ],
          "table": [
           {
            "cells": {
             "fill": {
              "color": "#EBF0F8"
             },
             "line": {
              "color": "white"
             }
            },
            "header": {
             "fill": {
              "color": "#C8D4E3"
             },
             "line": {
              "color": "white"
             }
            },
            "type": "table"
           }
          ]
         },
         "layout": {
          "annotationdefaults": {
           "arrowcolor": "#2a3f5f",
           "arrowhead": 0,
           "arrowwidth": 1
          },
          "autotypenumbers": "strict",
          "coloraxis": {
           "colorbar": {
            "outlinewidth": 0,
            "ticks": ""
           }
          },
          "colorscale": {
           "diverging": [
            [
             0,
             "#8e0152"
            ],
            [
             0.1,
             "#c51b7d"
            ],
            [
             0.2,
             "#de77ae"
            ],
            [
             0.3,
             "#f1b6da"
            ],
            [
             0.4,
             "#fde0ef"
            ],
            [
             0.5,
             "#f7f7f7"
            ],
            [
             0.6,
             "#e6f5d0"
            ],
            [
             0.7,
             "#b8e186"
            ],
            [
             0.8,
             "#7fbc41"
            ],
            [
             0.9,
             "#4d9221"
            ],
            [
             1,
             "#276419"
            ]
           ],
           "sequential": [
            [
             0,
             "#0d0887"
            ],
            [
             0.1111111111111111,
             "#46039f"
            ],
            [
             0.2222222222222222,
             "#7201a8"
            ],
            [
             0.3333333333333333,
             "#9c179e"
            ],
            [
             0.4444444444444444,
             "#bd3786"
            ],
            [
             0.5555555555555556,
             "#d8576b"
            ],
            [
             0.6666666666666666,
             "#ed7953"
            ],
            [
             0.7777777777777778,
             "#fb9f3a"
            ],
            [
             0.8888888888888888,
             "#fdca26"
            ],
            [
             1,
             "#f0f921"
            ]
           ],
           "sequentialminus": [
            [
             0,
             "#0d0887"
            ],
            [
             0.1111111111111111,
             "#46039f"
            ],
            [
             0.2222222222222222,
             "#7201a8"
            ],
            [
             0.3333333333333333,
             "#9c179e"
            ],
            [
             0.4444444444444444,
             "#bd3786"
            ],
            [
             0.5555555555555556,
             "#d8576b"
            ],
            [
             0.6666666666666666,
             "#ed7953"
            ],
            [
             0.7777777777777778,
             "#fb9f3a"
            ],
            [
             0.8888888888888888,
             "#fdca26"
            ],
            [
             1,
             "#f0f921"
            ]
           ]
          },
          "colorway": [
           "#636efa",
           "#EF553B",
           "#00cc96",
           "#ab63fa",
           "#FFA15A",
           "#19d3f3",
           "#FF6692",
           "#B6E880",
           "#FF97FF",
           "#FECB52"
          ],
          "font": {
           "color": "#2a3f5f"
          },
          "geo": {
           "bgcolor": "white",
           "lakecolor": "white",
           "landcolor": "#E5ECF6",
           "showlakes": true,
           "showland": true,
           "subunitcolor": "white"
          },
          "hoverlabel": {
           "align": "left"
          },
          "hovermode": "closest",
          "mapbox": {
           "style": "light"
          },
          "paper_bgcolor": "white",
          "plot_bgcolor": "#E5ECF6",
          "polar": {
           "angularaxis": {
            "gridcolor": "white",
            "linecolor": "white",
            "ticks": ""
           },
           "bgcolor": "#E5ECF6",
           "radialaxis": {
            "gridcolor": "white",
            "linecolor": "white",
            "ticks": ""
           }
          },
          "scene": {
           "xaxis": {
            "backgroundcolor": "#E5ECF6",
            "gridcolor": "white",
            "gridwidth": 2,
            "linecolor": "white",
            "showbackground": true,
            "ticks": "",
            "zerolinecolor": "white"
           },
           "yaxis": {
            "backgroundcolor": "#E5ECF6",
            "gridcolor": "white",
            "gridwidth": 2,
            "linecolor": "white",
            "showbackground": true,
            "ticks": "",
            "zerolinecolor": "white"
           },
           "zaxis": {
            "backgroundcolor": "#E5ECF6",
            "gridcolor": "white",
            "gridwidth": 2,
            "linecolor": "white",
            "showbackground": true,
            "ticks": "",
            "zerolinecolor": "white"
           }
          },
          "shapedefaults": {
           "line": {
            "color": "#2a3f5f"
           }
          },
          "ternary": {
           "aaxis": {
            "gridcolor": "white",
            "linecolor": "white",
            "ticks": ""
           },
           "baxis": {
            "gridcolor": "white",
            "linecolor": "white",
            "ticks": ""
           },
           "bgcolor": "#E5ECF6",
           "caxis": {
            "gridcolor": "white",
            "linecolor": "white",
            "ticks": ""
           }
          },
          "title": {
           "x": 0.05
          },
          "xaxis": {
           "automargin": true,
           "gridcolor": "white",
           "linecolor": "white",
           "ticks": "",
           "title": {
            "standoff": 15
           },
           "zerolinecolor": "white",
           "zerolinewidth": 2
          },
          "yaxis": {
           "automargin": true,
           "gridcolor": "white",
           "linecolor": "white",
           "ticks": "",
           "title": {
            "standoff": 15
           },
           "zerolinecolor": "white",
           "zerolinewidth": 2
          }
         }
        },
        "title": {
         "text": "• Gender Distribution in the Dataset"
        },
        "width": 560
       }
      },
      "text/html": [
       "<div>                            <div id=\"a548e035-efb1-41ce-b1c9-4863791793ff\" class=\"plotly-graph-div\" style=\"height:400px; width:560px;\"></div>            <script type=\"text/javascript\">                require([\"plotly\"], function(Plotly) {                    window.PLOTLYENV=window.PLOTLYENV || {};                                    if (document.getElementById(\"a548e035-efb1-41ce-b1c9-4863791793ff\")) {                    Plotly.newPlot(                        \"a548e035-efb1-41ce-b1c9-4863791793ff\",                        [{\"domain\":{\"x\":[0.0,1.0],\"y\":[0.0,1.0]},\"hovertemplate\":\"gender=%{label}<br>count=%{value}<extra></extra>\",\"labels\":[\"F\",\"M\"],\"legendgroup\":\"\",\"name\":\"\",\"showlegend\":true,\"values\":[18415,32376],\"type\":\"pie\"}],                        {\"template\":{\"data\":{\"histogram2dcontour\":[{\"type\":\"histogram2dcontour\",\"colorbar\":{\"outlinewidth\":0,\"ticks\":\"\"},\"colorscale\":[[0.0,\"#0d0887\"],[0.1111111111111111,\"#46039f\"],[0.2222222222222222,\"#7201a8\"],[0.3333333333333333,\"#9c179e\"],[0.4444444444444444,\"#bd3786\"],[0.5555555555555556,\"#d8576b\"],[0.6666666666666666,\"#ed7953\"],[0.7777777777777778,\"#fb9f3a\"],[0.8888888888888888,\"#fdca26\"],[1.0,\"#f0f921\"]]}],\"choropleth\":[{\"type\":\"choropleth\",\"colorbar\":{\"outlinewidth\":0,\"ticks\":\"\"}}],\"histogram2d\":[{\"type\":\"histogram2d\",\"colorbar\":{\"outlinewidth\":0,\"ticks\":\"\"},\"colorscale\":[[0.0,\"#0d0887\"],[0.1111111111111111,\"#46039f\"],[0.2222222222222222,\"#7201a8\"],[0.3333333333333333,\"#9c179e\"],[0.4444444444444444,\"#bd3786\"],[0.5555555555555556,\"#d8576b\"],[0.6666666666666666,\"#ed7953\"],[0.7777777777777778,\"#fb9f3a\"],[0.8888888888888888,\"#fdca26\"],[1.0,\"#f0f921\"]]}],\"heatmap\":[{\"type\":\"heatmap\",\"colorbar\":{\"outlinewidth\":0,\"ticks\":\"\"},\"colorscale\":[[0.0,\"#0d0887\"],[0.1111111111111111,\"#46039f\"],[0.2222222222222222,\"#7201a8\"],[0.3333333333333333,\"#9c179e\"],[0.4444444444444444,\"#bd3786\"],[0.5555555555555556,\"#d8576b\"],[0.6666666666666666,\"#ed7953\"],[0.7777777777777778,\"#fb9f3a\"],[0.8888888888888888,\"#fdca26\"],[1.0,\"#f0f921\"]]}],\"heatmapgl\":[{\"type\":\"heatmapgl\",\"colorbar\":{\"outlinewidth\":0,\"ticks\":\"\"},\"colorscale\":[[0.0,\"#0d0887\"],[0.1111111111111111,\"#46039f\"],[0.2222222222222222,\"#7201a8\"],[0.3333333333333333,\"#9c179e\"],[0.4444444444444444,\"#bd3786\"],[0.5555555555555556,\"#d8576b\"],[0.6666666666666666,\"#ed7953\"],[0.7777777777777778,\"#fb9f3a\"],[0.8888888888888888,\"#fdca26\"],[1.0,\"#f0f921\"]]}],\"contourcarpet\":[{\"type\":\"contourcarpet\",\"colorbar\":{\"outlinewidth\":0,\"ticks\":\"\"}}],\"contour\":[{\"type\":\"contour\",\"colorbar\":{\"outlinewidth\":0,\"ticks\":\"\"},\"colorscale\":[[0.0,\"#0d0887\"],[0.1111111111111111,\"#46039f\"],[0.2222222222222222,\"#7201a8\"],[0.3333333333333333,\"#9c179e\"],[0.4444444444444444,\"#bd3786\"],[0.5555555555555556,\"#d8576b\"],[0.6666666666666666,\"#ed7953\"],[0.7777777777777778,\"#fb9f3a\"],[0.8888888888888888,\"#fdca26\"],[1.0,\"#f0f921\"]]}],\"surface\":[{\"type\":\"surface\",\"colorbar\":{\"outlinewidth\":0,\"ticks\":\"\"},\"colorscale\":[[0.0,\"#0d0887\"],[0.1111111111111111,\"#46039f\"],[0.2222222222222222,\"#7201a8\"],[0.3333333333333333,\"#9c179e\"],[0.4444444444444444,\"#bd3786\"],[0.5555555555555556,\"#d8576b\"],[0.6666666666666666,\"#ed7953\"],[0.7777777777777778,\"#fb9f3a\"],[0.8888888888888888,\"#fdca26\"],[1.0,\"#f0f921\"]]}],\"mesh3d\":[{\"type\":\"mesh3d\",\"colorbar\":{\"outlinewidth\":0,\"ticks\":\"\"}}],\"scatter\":[{\"fillpattern\":{\"fillmode\":\"overlay\",\"size\":10,\"solidity\":0.2},\"type\":\"scatter\"}],\"parcoords\":[{\"type\":\"parcoords\",\"line\":{\"colorbar\":{\"outlinewidth\":0,\"ticks\":\"\"}}}],\"scatterpolargl\":[{\"type\":\"scatterpolargl\",\"marker\":{\"colorbar\":{\"outlinewidth\":0,\"ticks\":\"\"}}}],\"bar\":[{\"error_x\":{\"color\":\"#2a3f5f\"},\"error_y\":{\"color\":\"#2a3f5f\"},\"marker\":{\"line\":{\"color\":\"#E5ECF6\",\"width\":0.5},\"pattern\":{\"fillmode\":\"overlay\",\"size\":10,\"solidity\":0.2}},\"type\":\"bar\"}],\"scattergeo\":[{\"type\":\"scattergeo\",\"marker\":{\"colorbar\":{\"outlinewidth\":0,\"ticks\":\"\"}}}],\"scatterpolar\":[{\"type\":\"scatterpolar\",\"marker\":{\"colorbar\":{\"outlinewidth\":0,\"ticks\":\"\"}}}],\"histogram\":[{\"marker\":{\"pattern\":{\"fillmode\":\"overlay\",\"size\":10,\"solidity\":0.2}},\"type\":\"histogram\"}],\"scattergl\":[{\"type\":\"scattergl\",\"marker\":{\"colorbar\":{\"outlinewidth\":0,\"ticks\":\"\"}}}],\"scatter3d\":[{\"type\":\"scatter3d\",\"line\":{\"colorbar\":{\"outlinewidth\":0,\"ticks\":\"\"}},\"marker\":{\"colorbar\":{\"outlinewidth\":0,\"ticks\":\"\"}}}],\"scattermapbox\":[{\"type\":\"scattermapbox\",\"marker\":{\"colorbar\":{\"outlinewidth\":0,\"ticks\":\"\"}}}],\"scatterternary\":[{\"type\":\"scatterternary\",\"marker\":{\"colorbar\":{\"outlinewidth\":0,\"ticks\":\"\"}}}],\"scattercarpet\":[{\"type\":\"scattercarpet\",\"marker\":{\"colorbar\":{\"outlinewidth\":0,\"ticks\":\"\"}}}],\"carpet\":[{\"aaxis\":{\"endlinecolor\":\"#2a3f5f\",\"gridcolor\":\"white\",\"linecolor\":\"white\",\"minorgridcolor\":\"white\",\"startlinecolor\":\"#2a3f5f\"},\"baxis\":{\"endlinecolor\":\"#2a3f5f\",\"gridcolor\":\"white\",\"linecolor\":\"white\",\"minorgridcolor\":\"white\",\"startlinecolor\":\"#2a3f5f\"},\"type\":\"carpet\"}],\"table\":[{\"cells\":{\"fill\":{\"color\":\"#EBF0F8\"},\"line\":{\"color\":\"white\"}},\"header\":{\"fill\":{\"color\":\"#C8D4E3\"},\"line\":{\"color\":\"white\"}},\"type\":\"table\"}],\"barpolar\":[{\"marker\":{\"line\":{\"color\":\"#E5ECF6\",\"width\":0.5},\"pattern\":{\"fillmode\":\"overlay\",\"size\":10,\"solidity\":0.2}},\"type\":\"barpolar\"}],\"pie\":[{\"automargin\":true,\"type\":\"pie\"}]},\"layout\":{\"autotypenumbers\":\"strict\",\"colorway\":[\"#636efa\",\"#EF553B\",\"#00cc96\",\"#ab63fa\",\"#FFA15A\",\"#19d3f3\",\"#FF6692\",\"#B6E880\",\"#FF97FF\",\"#FECB52\"],\"font\":{\"color\":\"#2a3f5f\"},\"hovermode\":\"closest\",\"hoverlabel\":{\"align\":\"left\"},\"paper_bgcolor\":\"white\",\"plot_bgcolor\":\"#E5ECF6\",\"polar\":{\"bgcolor\":\"#E5ECF6\",\"angularaxis\":{\"gridcolor\":\"white\",\"linecolor\":\"white\",\"ticks\":\"\"},\"radialaxis\":{\"gridcolor\":\"white\",\"linecolor\":\"white\",\"ticks\":\"\"}},\"ternary\":{\"bgcolor\":\"#E5ECF6\",\"aaxis\":{\"gridcolor\":\"white\",\"linecolor\":\"white\",\"ticks\":\"\"},\"baxis\":{\"gridcolor\":\"white\",\"linecolor\":\"white\",\"ticks\":\"\"},\"caxis\":{\"gridcolor\":\"white\",\"linecolor\":\"white\",\"ticks\":\"\"}},\"coloraxis\":{\"colorbar\":{\"outlinewidth\":0,\"ticks\":\"\"}},\"colorscale\":{\"sequential\":[[0.0,\"#0d0887\"],[0.1111111111111111,\"#46039f\"],[0.2222222222222222,\"#7201a8\"],[0.3333333333333333,\"#9c179e\"],[0.4444444444444444,\"#bd3786\"],[0.5555555555555556,\"#d8576b\"],[0.6666666666666666,\"#ed7953\"],[0.7777777777777778,\"#fb9f3a\"],[0.8888888888888888,\"#fdca26\"],[1.0,\"#f0f921\"]],\"sequentialminus\":[[0.0,\"#0d0887\"],[0.1111111111111111,\"#46039f\"],[0.2222222222222222,\"#7201a8\"],[0.3333333333333333,\"#9c179e\"],[0.4444444444444444,\"#bd3786\"],[0.5555555555555556,\"#d8576b\"],[0.6666666666666666,\"#ed7953\"],[0.7777777777777778,\"#fb9f3a\"],[0.8888888888888888,\"#fdca26\"],[1.0,\"#f0f921\"]],\"diverging\":[[0,\"#8e0152\"],[0.1,\"#c51b7d\"],[0.2,\"#de77ae\"],[0.3,\"#f1b6da\"],[0.4,\"#fde0ef\"],[0.5,\"#f7f7f7\"],[0.6,\"#e6f5d0\"],[0.7,\"#b8e186\"],[0.8,\"#7fbc41\"],[0.9,\"#4d9221\"],[1,\"#276419\"]]},\"xaxis\":{\"gridcolor\":\"white\",\"linecolor\":\"white\",\"ticks\":\"\",\"title\":{\"standoff\":15},\"zerolinecolor\":\"white\",\"automargin\":true,\"zerolinewidth\":2},\"yaxis\":{\"gridcolor\":\"white\",\"linecolor\":\"white\",\"ticks\":\"\",\"title\":{\"standoff\":15},\"zerolinecolor\":\"white\",\"automargin\":true,\"zerolinewidth\":2},\"scene\":{\"xaxis\":{\"backgroundcolor\":\"#E5ECF6\",\"gridcolor\":\"white\",\"linecolor\":\"white\",\"showbackground\":true,\"ticks\":\"\",\"zerolinecolor\":\"white\",\"gridwidth\":2},\"yaxis\":{\"backgroundcolor\":\"#E5ECF6\",\"gridcolor\":\"white\",\"linecolor\":\"white\",\"showbackground\":true,\"ticks\":\"\",\"zerolinecolor\":\"white\",\"gridwidth\":2},\"zaxis\":{\"backgroundcolor\":\"#E5ECF6\",\"gridcolor\":\"white\",\"linecolor\":\"white\",\"showbackground\":true,\"ticks\":\"\",\"zerolinecolor\":\"white\",\"gridwidth\":2}},\"shapedefaults\":{\"line\":{\"color\":\"#2a3f5f\"}},\"annotationdefaults\":{\"arrowcolor\":\"#2a3f5f\",\"arrowhead\":0,\"arrowwidth\":1},\"geo\":{\"bgcolor\":\"white\",\"landcolor\":\"#E5ECF6\",\"subunitcolor\":\"white\",\"showland\":true,\"showlakes\":true,\"lakecolor\":\"white\"},\"title\":{\"x\":0.05},\"mapbox\":{\"style\":\"light\"}}},\"legend\":{\"tracegroupgap\":0},\"title\":{\"text\":\"\\u2022 Gender Distribution in the Dataset\"},\"height\":400,\"width\":560},                        {\"responsive\": true}                    ).then(function(){\n",
       "                            \n",
       "var gd = document.getElementById('a548e035-efb1-41ce-b1c9-4863791793ff');\n",
       "var x = new MutationObserver(function (mutations, observer) {{\n",
       "        var display = window.getComputedStyle(gd).display;\n",
       "        if (!display || display === 'none') {{\n",
       "            console.log([gd, 'removed!']);\n",
       "            Plotly.purge(gd);\n",
       "            observer.disconnect();\n",
       "        }}\n",
       "}});\n",
       "\n",
       "// Listen for the removal of the full notebook cells\n",
       "var notebookContainer = gd.closest('#notebook-container');\n",
       "if (notebookContainer) {{\n",
       "    x.observe(notebookContainer, {childList: true});\n",
       "}}\n",
       "\n",
       "// Listen for the clearing of the current output cell\n",
       "var outputEl = gd.closest('.output');\n",
       "if (outputEl) {{\n",
       "    x.observe(outputEl, {childList: true});\n",
       "}}\n",
       "\n",
       "                        })                };                });            </script>        </div>"
      ]
     },
     "metadata": {},
     "output_type": "display_data"
    }
   ],
   "source": [
    "#| echo: false\n",
    "gender_distribution= df_edges_gender.drop_duplicates(subset= 'actor1_fbid').groupby('actor_gender_x')['actor1_fbid'].agg(['count'])\n",
    "gender_distribution['gender']= gender_distribution.index\n",
    "\n",
    "fig = px.pie(gender_distribution, values='count', names='gender', title='• Gender Distribution in the Dataset',\n",
    "                 width=560, height = 400)\n",
    "fig.show()"
   ]
  },
  {
   "cell_type": "code",
   "execution_count": 231,
   "id": "fc7e5634",
   "metadata": {},
   "outputs": [
    {
     "data": {
      "text/plain": [
       "[(0.8, 2.3)]"
      ]
     },
     "execution_count": 231,
     "metadata": {},
     "output_type": "execute_result"
    },
    {
     "data": {
      "image/png": "[encoded data removed]",
      "text/plain": [
       "<Figure size 800x400 with 1 Axes>"
      ]
     },
     "metadata": {},
     "output_type": "display_data"
    }
   ],
   "source": [
    "#| echo: false\n",
    "#| output: false\n",
    "height_distribution= df_edges_height.drop_duplicates(subset= 'actor1_fbid')['actor_height_x']\n",
    "plt.subplots(1, 1, figsize=(8, 4))\n",
    "g1= sns.distplot(height_distribution, hist=True, kde=True, \n",
    "             bins=int(180/5), color = 'darkblue', \n",
    "             hist_kws={'edgecolor':'black'},\n",
    "             kde_kws={'linewidth': 4})\n",
    "g1.set_xlabel('Actors\\' height')\n",
    "g1.set_title('• Height distibution among actors')\n",
    "g1.set(xlim=(0.8, 2.3))"
   ]
  },
  {
   "cell_type": "code",
   "execution_count": 230,
   "id": "a32cfab7",
   "metadata": {},
   "outputs": [
    {
     "data": {
      "image/png": "[encoded data removed]",
      "text/plain": [
       "<Figure size 800x400 with 1 Axes>"
      ]
     },
     "metadata": {},
     "output_type": "display_data"
    }
   ],
   "source": [
    "#| echo: false\n",
    "#| output: false\n",
    "nbr_movies_distribution= df_edges_nbr_movies.drop_duplicates(subset= 'actor1_fbid')['number_of_movies_x']\n",
    "\n",
    "plt.subplots(1, 1, figsize=(8, 4))\n",
    "g2= sns.kdeplot(data=nbr_movies_distribution)\n",
    "g2.set_xscale('log')\n",
    "g2.set_xlabel('Number of movies played by actors')\n",
    "g2.set_title('• Distribution of movies played among actors')\n",
    "g2.set(xlim=(1, 100))\n",
    "plt.show()"
   ]
  },
  {
   "cell_type": "code",
   "execution_count": 228,
   "id": "be9019c4",
   "metadata": {},
   "outputs": [
    {
     "data": {
      "image/png": "[encoded data removed]",
      "text/plain": [
       "<Figure size 1200x400 with 1 Axes>"
      ]
     },
     "metadata": {},
     "output_type": "display_data"
    }
   ],
   "source": [
    "#| echo: false\n",
    "df_edges_birth_unique= df_edges_birth.drop_duplicates(subset= 'actor1_fbid')\n",
    "year_counts = {}\n",
    "for year in df_edges_birth_unique.year_of_birth_x:\n",
    "    if year not in year_counts:\n",
    "        year_counts[year] = 1\n",
    "    else:\n",
    "        year_counts[year] += 1\n",
    "\n",
    "# Extract the years and counts as separate lists\n",
    "years = list(year_counts.keys())\n",
    "counts = list(year_counts.values())\n",
    "\n",
    "# Plot the data using matplotlib\n",
    "plt.subplots(1, 1, figsize=(12, 4))\n",
    "\n",
    "plt.bar(years, counts)\n",
    "plt.xlabel('Year')\n",
    "plt.ylabel('Number of actor')\n",
    "plt.title('Number of actors born each year')\n",
    "plt.show()"
   ]
  },
  {
   "cell_type": "code",
   "execution_count": 172,
   "id": "f18ea1e9",
   "metadata": {},
   "outputs": [
    {
     "data": {
      "image/png": "[encoded data removed]",
      "text/plain": [
       "<Figure size 1500x500 with 2 Axes>"
      ]
     },
     "metadata": {},
     "output_type": "display_data"
    }
   ],
   "source": [
    "#| echo: false\n",
    "fig, axes = plt.subplots(1, 2, figsize=(15, 5))\n",
    "\n",
    "g1= sns.distplot(ax=axes[0], x= height_distribution, hist=True, kde=True, \n",
    "             bins=int(180/5), color = 'darkblue', \n",
    "             hist_kws={'edgecolor':'black'},\n",
    "             kde_kws={'linewidth': 4})\n",
    "g1.set_xlabel('Actors\\' height')\n",
    "g1.set_title('• Height distibution among actors')\n",
    "g1.set(xlim=(0.8, 2.3))\n",
    "\n",
    "g2= sns.kdeplot(ax=axes[1], data=nbr_movies_distribution)\n",
    "g2.set_xscale('log')\n",
    "g2.set_xlabel('Number of movies played by actors')\n",
    "g2.set_title('• Distribution of movies played among actors')\n",
    "g2.remove\n",
    "g2.set(xlim=(1, 100))\n",
    "plt.show()"
   ]
  },
  {
   "cell_type": "markdown",
   "id": "7c07c298",
   "metadata": {},
   "source": [
    "Some of these distributions are likely to be gaussian (height) or even a power low distribution for the number of movies played. We can mention that the gender attribute is unbalanced in our dataset and need to be also taken with caution for further interpretations."
   ]
  },
  {
   "cell_type": "markdown",
   "id": "1469fc66",
   "metadata": {},
   "source": [
    "We will now pay attention to quantify the homophily score of each actor :\n",
    "- For categorical attribute, it can be describe as follow : $$Homophily_{i} = \\frac{\\sum \\limits _j \\delta_{ij}}{k_i} $$  with $\\delta_{ij}$  = 1 if same attribute, else -1 and $ k_i $ is the degree of the node $i$\n",
    "\n",
    "Therefore, we can calculte the homophily score of each actor. As interpretation, if its value tends to be close to 1, the concerned actor is more likely to play with similar actor. On the other hand, if its value becomes close to -1, it is the opposite case and the actor tends to play with dissimilar actors. [@golub2012network]\n",
    "\n",
    "Pay attention to the fact that we don't take into account multiple same edges (even though actors played several times with another one, we still consider it as one edge).\n"
   ]
  },
  {
   "cell_type": "markdown",
   "id": "840d5404",
   "metadata": {},
   "source": [
    "- For scalar attribute, we can create a linear equation, meaning that the further the values are apart, the lower the value will be. We illustrated this defintion through the following plot :"
   ]
  },
  {
   "cell_type": "code",
   "execution_count": 233,
   "id": "5cf382f6",
   "metadata": {},
   "outputs": [
    {
     "data": {
      "image/png": "[encoded data removed]",
      "text/plain": [
       "<Figure size 700x400 with 1 Axes>"
      ]
     },
     "metadata": {},
     "output_type": "display_data"
    }
   ],
   "source": [
    "#| echo: false\n",
    "max_scalar_difference = 10\n",
    "\n",
    "# Generate a list of positive values for delta x\n",
    "delta_x_values = list(range(0, max_scalar_difference+1))\n",
    "\n",
    "# Calculate the corresponding values of y\n",
    "y_values = [(1 - (2 * (delta_x) / max_scalar_difference)) for delta_x in delta_x_values]\n",
    "\n",
    "# Plot the values\n",
    "plt.subplots(1, 1, figsize=(7, 4))\n",
    "plt.plot(delta_x_values, y_values)\n",
    "\n",
    "# Add labels and show the plot\n",
    "#plt.xlabel(r'$\\Delta scalar attributes (meaningless scale)')\n",
    "plt.xlabel(''r'$\\Delta_{attribute}$ (meaningless scale)')\n",
    "plt.xlim(0,10)\n",
    "plt.axhline(0, color=\"black\", alpha=0.3)\n",
    "plt.ylim(-1,1)\n",
    "plt.ylabel('Homophily score')\n",
    "plt.title('Homophily score between two actors for scalar attribute')\n",
    "plt.show()"
   ]
  },
  {
   "cell_type": "markdown",
   "id": "c014c3e3",
   "metadata": {},
   "source": [
    "The value for which we consider the homophily score to -1 depends on the standard deviation of the distribution (we target to aim the 95% threshold). $$ \\Delta_{max} = 2 \\times \\sigma $$"
   ]
  },
  {
   "cell_type": "markdown",
   "id": "86ef8425",
   "metadata": {},
   "source": [
    "- We then compute these homophily scores for each actors in order to vizualise the distribution. We end up with the following distributions according to the different attributes. The four first distributions are the categorical attributes especially with the distribution if the take only the homophily score of men actors (gender men) compared to the case where we take only the homophily score of women actress (gender women). The three next distributions are dedicated to the scalar attributes :"
   ]
  },
  {
   "cell_type": "code",
   "execution_count": 174,
   "id": "70afdb88",
   "metadata": {},
   "outputs": [
    {
     "name": "stdout",
     "output_type": "stream",
     "text": [
      "mean = mean   -0.062216\n",
      "dtype: float64 and std = mean    0.286545\n",
      "dtype: float64\n"
     ]
    }
   ],
   "source": [
    "#| echo: false\n",
    "#| output: false\n",
    "homophily = {}\n",
    "df_edges_birth['homophily_age'] = df_edges_birth.apply(lambda x: (1- 2*abs(x.year_of_birth_x-x.year_of_birth_y)/(2*std_yob)) if abs(x.year_of_birth_x-x.year_of_birth_y)/(2*std_yob) < 1 else -1, axis= 1)\n",
    "age_homophily = df_edges_birth.groupby('actor1_fbid')['homophily_age'].agg(['mean'])\n",
    "print('mean =',age_homophily.mean(), 'and std =', age_homophily.std())\n",
    "homophily['age']= {\n",
    "\t\t'mean': float(age_homophily.mean()),\n",
    "\t\t'std': float(age_homophily.std())\n",
    "\t}"
   ]
  },
  {
   "cell_type": "code",
   "execution_count": 175,
   "id": "73945ce9",
   "metadata": {},
   "outputs": [
    {
     "name": "stdout",
     "output_type": "stream",
     "text": [
      "mean = mean    0.037047\n",
      "dtype: float64 and std = mean    0.297658\n",
      "dtype: float64\n"
     ]
    }
   ],
   "source": [
    "#| echo: false\n",
    "#| output: false\n",
    "df_edges_height['homophily_height'] = df_edges_height.apply(lambda x: (1- 2*abs(x.actor_height_x-x.actor_height_y)/(2*std_height)) if abs(x.actor_height_x-x.actor_height_y)/(2*std_height) < 1 else -1 , axis= 1)\n",
    "height_homophily = df_edges_height.groupby('actor1_fbid')['homophily_height'].agg(['mean'])\n",
    "print('mean =',height_homophily.mean(), 'and std =', height_homophily.std())\n",
    "homophily['height']= {\n",
    "\t\t'mean': float(height_homophily.mean()),\n",
    "\t\t'std': float(height_homophily.std())\n",
    "\t}"
   ]
  },
  {
   "cell_type": "code",
   "execution_count": 176,
   "id": "f9454591",
   "metadata": {},
   "outputs": [
    {
     "name": "stdout",
     "output_type": "stream",
     "text": [
      "mean = mean    0.120826\n",
      "dtype: float64 and std = mean    0.405169\n",
      "dtype: float64\n"
     ]
    }
   ],
   "source": [
    "#| echo: false\n",
    "#| output: false\n",
    "df_edges_gender['same_gender'] = df_edges_gender.apply(lambda x: 1 if (x.actor_gender_x == x.actor_gender_y) else (-1), axis= 1)\n",
    "gender_homophily = df_edges_gender.groupby('actor1_fbid')['same_gender'].agg(['mean'])\n",
    "print('mean =',gender_homophily.mean(), 'and std =', gender_homophily.std())\n",
    "homophily['gender']= {\n",
    "\t\t'mean': float(gender_homophily.mean()),\n",
    "\t\t'std': float(gender_homophily.std())\n",
    "\t}"
   ]
  },
  {
   "cell_type": "code",
   "execution_count": 177,
   "id": "fe0ce8d2",
   "metadata": {},
   "outputs": [
    {
     "name": "stdout",
     "output_type": "stream",
     "text": [
      "mean    0.365263\n",
      "dtype: float64 mean    0.238025\n",
      "dtype: float64\n"
     ]
    }
   ],
   "source": [
    "#| echo: false\n",
    "#| output: false\n",
    "edges_gender_m = df_edges_merged[df_edges_merged['actor_gender_x'] == 'M']\n",
    "edges_gender_m= edges_gender_m.dropna(subset=['actor_gender_y'])\n",
    "edges_gender_m['same_gender'] = edges_gender_m.apply(lambda x: 1 if (x.actor_gender_x == x.actor_gender_y) else (-1), axis= 1)\n",
    "gender_homophily_m = edges_gender_m.groupby('actor1_fbid')['same_gender'].agg(['mean'])\n",
    "print(gender_homophily_m.mean(), gender_homophily_m.std())\n",
    "homophily['gender_m']= {\n",
    "\t\t'mean': float(gender_homophily_m.mean()),\n",
    "\t\t'std': float(gender_homophily_m.std())\n",
    "\t}"
   ]
  },
  {
   "cell_type": "code",
   "execution_count": 178,
   "id": "1630dce3",
   "metadata": {},
   "outputs": [
    {
     "name": "stdout",
     "output_type": "stream",
     "text": [
      "mean = mean   -0.308927\n",
      "dtype: float64 and std = mean    0.251859\n",
      "dtype: float64\n"
     ]
    }
   ],
   "source": [
    "#| echo: false\n",
    "#| output: false\n",
    "edges_gender_f = df_edges_merged[df_edges_merged['actor_gender_x'] == 'F']\n",
    "edges_gender_f= edges_gender_f.dropna(subset=['actor_gender_y'])\n",
    "edges_gender_f['same_gender'] = edges_gender_f.apply(lambda x: 1 if (x.actor_gender_x == x.actor_gender_y) else (-1), axis= 1)\n",
    "gender_homophily_f = edges_gender_f.groupby('actor1_fbid')['same_gender'].agg(['mean'])\n",
    "print('mean =',gender_homophily_f.mean(), 'and std =', gender_homophily_f.std())\n",
    "homophily['gender_f']= {\n",
    "\t\t'mean': float(gender_homophily_f.mean()),\n",
    "\t\t'std': float(gender_homophily_f.std())\n",
    "\t}"
   ]
  },
  {
   "cell_type": "code",
   "execution_count": 179,
   "id": "eb3ec1c5",
   "metadata": {},
   "outputs": [
    {
     "name": "stdout",
     "output_type": "stream",
     "text": [
      "mean = mean    0.441165\n",
      "dtype: float64 and std = mean    0.579339\n",
      "dtype: float64\n"
     ]
    }
   ],
   "source": [
    "#| echo: false\n",
    "#| output: false\n",
    "df_edges_nat['same_country'] = df_edges_nat.apply(lambda x: 1 if (x.actor_nationality_x == x.actor_nationality_y) else (-1), axis= 1)\n",
    "country_homophily = df_edges_nat.groupby('actor1_fbid')['same_country'].agg(['mean'])\n",
    "print('mean =',country_homophily.mean(), 'and std =', country_homophily.std())\n",
    "homophily['country']= {\n",
    "\t\t'mean': float(country_homophily.mean()),\n",
    "\t\t'std': float(country_homophily.std())\n",
    "\t}"
   ]
  },
  {
   "cell_type": "code",
   "execution_count": 180,
   "id": "5ff090b9",
   "metadata": {},
   "outputs": [
    {
     "name": "stdout",
     "output_type": "stream",
     "text": [
      "mean = mean    0.25611\n",
      "dtype: float64 and std = mean    0.418973\n",
      "dtype: float64\n"
     ]
    }
   ],
   "source": [
    "#| echo: false\n",
    "#| output: false\n",
    "df_edges_nbr_movies['same_nbr_movies'] = df_edges_nbr_movies.apply(lambda x: (1- 2*abs(x.number_of_movies_x -x.number_of_movies_y)/(2*std_nbr_movies)) if abs(x.number_of_movies_x -x.number_of_movies_y)/(2*std_nbr_movies) < 1 else -1, axis= 1)\n",
    "nbr_movies_homophily = df_edges_nbr_movies.groupby('actor1_fbid')['same_nbr_movies'].agg(['mean'])\n",
    "print('mean =',nbr_movies_homophily.mean(), 'and std =', nbr_movies_homophily.std())\n",
    "homophily['nbr_of_movies']= {\n",
    "\t\t'mean': float(nbr_movies_homophily.mean()),\n",
    "\t\t'std': float(nbr_movies_homophily.std())\n",
    "\t}"
   ]
  },
  {
   "cell_type": "code",
   "execution_count": 181,
   "id": "e0925659",
   "metadata": {},
   "outputs": [
    {
     "data": {
      "text/plain": [
       "{'age': {'mean': -0.062215524241310126, 'std': 0.2865451246303206},\n",
       " 'height': {'mean': 0.037046725922812475, 'std': 0.29765776694824775},\n",
       " 'gender': {'mean': 0.12082618928542174, 'std': 0.4051685906973104},\n",
       " 'gender_m': {'mean': 0.3652634255709688, 'std': 0.23802527529538406},\n",
       " 'gender_f': {'mean': -0.308926727466187, 'std': 0.25185901038447195},\n",
       " 'country': {'mean': 0.4411654013013045, 'std': 0.5793386508751193},\n",
       " 'nbr_of_movies': {'mean': 0.2561099963113205, 'std': 0.4189729616238248}}"
      ]
     },
     "execution_count": 181,
     "metadata": {},
     "output_type": "execute_result"
    }
   ],
   "source": [
    "#| echo: false\n",
    "#| output: false\n",
    "homophily"
   ]
  },
  {
   "cell_type": "code",
   "execution_count": 182,
   "id": "4d63d923",
   "metadata": {},
   "outputs": [
    {
     "data": {
      "image/png": "[encoded data removed]",
      "text/plain": [
       "<Figure size 750x350 with 7 Axes>"
      ]
     },
     "metadata": {},
     "output_type": "display_data"
    }
   ],
   "source": [
    "#| echo: false\n",
    "\n",
    "df_visu = pd.DataFrame({'values':gender_homophily['mean']})\n",
    "df_visu= pd.concat([df_visu, pd.DataFrame({'values':gender_homophily_m['mean']})])\n",
    "df_visu= pd.concat([df_visu, pd.DataFrame({'values':gender_homophily_f['mean']})])\n",
    "df_visu= pd.concat([df_visu, pd.DataFrame({'values':country_homophily['mean']})])\n",
    "df_visu= pd.concat([df_visu, pd.DataFrame({'values':age_homophily['mean']})])\n",
    "df_visu= pd.concat([df_visu, pd.DataFrame({'values':height_homophily['mean']})])\n",
    "df_visu= pd.concat([df_visu, pd.DataFrame({'values':nbr_movies_homophily['mean']})])\n",
    "range_idx = [len(gender_homophily),len(gender_homophily_m),len(gender_homophily_f),len(country_homophily),len(age_homophily),len(height_homophily),len(nbr_movies_homophily)]\n",
    "name = ['gender','gender men','gender women','country','age','height','nbr of movies']\n",
    "idx= []\n",
    "for i, name in zip(range_idx, name):\n",
    "    for j in range(i):\n",
    "        idx.append(name)\n",
    "df_visu['name']= idx\n",
    "df_visu= df_visu.reset_index(drop=True)\n",
    "\n",
    "sns.set_theme(style=\"white\", rc={\"axes.facecolor\": (0, 0, 0, 0)})\n",
    "\n",
    "\n",
    "\n",
    "# Initialize the FacetGrid object\n",
    "pal = sns.cubehelix_palette(10, rot=-.25, light=.7)\n",
    "g = sns.FacetGrid(df_visu, row=\"name\", hue=\"name\", aspect=15, height=.5, palette=pal)\n",
    "\n",
    "# Draw the densities in a few steps\n",
    "g.map(sns.kdeplot, \"values\",\n",
    "      bw_adjust=.5, clip_on=False,\n",
    "      fill=True, alpha=1, linewidth=1.5)\n",
    "g.map(sns.kdeplot, \"values\", clip_on=False, color=\"w\", lw=2, bw_adjust=.5)\n",
    "\n",
    "# passing color=None to refline() uses the hue mapping\n",
    "g.refline(y=0, linewidth=2, linestyle=\"-\", color=None, clip_on=False)\n",
    "\n",
    "\n",
    "# Define and use a simple function to label the plot in axes coordinates\n",
    "def label(x, color, label):\n",
    "    ax = plt.gca()\n",
    "    ax.text(0, .2, label, fontweight=\"bold\", color=color,\n",
    "            ha=\"left\", va=\"center\", transform=ax.transAxes)\n",
    "\n",
    "\n",
    "g.map(label, \"values\")\n",
    "\n",
    "# Set the subplots to overlap\n",
    "g.figure.subplots_adjust(hspace=-.25)\n",
    "\n",
    "# Remove axes details that don't play well with overlap\n",
    "g.set_titles(\"\")\n",
    "g.set(yticks=[], ylabel=\"\")\n",
    "g.despine(bottom=True, left=True)\n",
    "g.set(xlim=(-1.4, 1))\n",
    "plt.show()\n"
   ]
  },
  {
   "cell_type": "markdown",
   "id": "436bc1f6",
   "metadata": {},
   "source": [
    "The results are showing some underlying piece of information. Indeed, we see firstly that total gender homophily is mainly driven by two distinguished distributions : the distribution of gender homophily for men and women. Knowing that the dataset contains more men than women, it explains partially that women's homophily has the tendency to be negative in comparison to men's homophily (the \"probability\" to have a women-men edge is higher than women-women). Moreover, we see that country attribute leads to quite high values of homophily (One first supposition we can make is that movies are more likely to gather actors from the same country, i.e. cluster of countries). Age and height attributes seem quite distributed around the zero (slightly shifted to positive values, thus perhaps a small underliying similarity). Finally, the number of movies played doesn't lead to a direct conclusion as we have a quite flat distribution (we can mention that they are mainly positive values)"
   ]
  },
  {
   "cell_type": "code",
   "execution_count": 183,
   "id": "1c575f37",
   "metadata": {},
   "outputs": [
    {
     "data": {
      "text/html": [
       "<div>\n",
       "<style scoped>\n",
       "    .dataframe tbody tr th:only-of-type {\n",
       "        vertical-align: middle;\n",
       "    }\n",
       "\n",
       "    .dataframe tbody tr th {\n",
       "        vertical-align: top;\n",
       "    }\n",
       "\n",
       "    .dataframe thead th {\n",
       "        text-align: right;\n",
       "    }\n",
       "</style>\n",
       "<table border=\"1\" class=\"dataframe\">\n",
       "  <thead>\n",
       "    <tr style=\"text-align: right;\">\n",
       "      <th></th>\n",
       "      <th>values</th>\n",
       "    </tr>\n",
       "    <tr>\n",
       "      <th>actor1_fbid</th>\n",
       "      <th></th>\n",
       "    </tr>\n",
       "  </thead>\n",
       "  <tbody>\n",
       "    <tr>\n",
       "      <th>/m/010p3</th>\n",
       "      <td>0.348315</td>\n",
       "    </tr>\n",
       "    <tr>\n",
       "      <th>/m/010q36</th>\n",
       "      <td>0.600000</td>\n",
       "    </tr>\n",
       "    <tr>\n",
       "      <th>/m/010xjr</th>\n",
       "      <td>0.462687</td>\n",
       "    </tr>\n",
       "    <tr>\n",
       "      <th>/m/0112yl</th>\n",
       "      <td>0.475113</td>\n",
       "    </tr>\n",
       "    <tr>\n",
       "      <th>/m/011_24</th>\n",
       "      <td>0.363636</td>\n",
       "    </tr>\n",
       "    <tr>\n",
       "      <th>...</th>\n",
       "      <td>...</td>\n",
       "    </tr>\n",
       "    <tr>\n",
       "      <th>/m/0z05l</th>\n",
       "      <td>-0.424000</td>\n",
       "    </tr>\n",
       "    <tr>\n",
       "      <th>/m/0z4s</th>\n",
       "      <td>0.005666</td>\n",
       "    </tr>\n",
       "    <tr>\n",
       "      <th>/m/0z9q0</th>\n",
       "      <td>-1.000000</td>\n",
       "    </tr>\n",
       "    <tr>\n",
       "      <th>/m/0zcb7</th>\n",
       "      <td>0.931034</td>\n",
       "    </tr>\n",
       "    <tr>\n",
       "      <th>/m/0zcbl</th>\n",
       "      <td>0.506849</td>\n",
       "    </tr>\n",
       "  </tbody>\n",
       "</table>\n",
       "<p>137083 rows × 1 columns</p>\n",
       "</div>"
      ],
      "text/plain": [
       "               values\n",
       "actor1_fbid          \n",
       "/m/010p3     0.348315\n",
       "/m/010q36    0.600000\n",
       "/m/010xjr    0.462687\n",
       "/m/0112yl    0.475113\n",
       "/m/011_24    0.363636\n",
       "...               ...\n",
       "/m/0z05l    -0.424000\n",
       "/m/0z4s      0.005666\n",
       "/m/0z9q0    -1.000000\n",
       "/m/0zcb7     0.931034\n",
       "/m/0zcbl     0.506849\n",
       "\n",
       "[137083 rows x 1 columns]"
      ]
     },
     "execution_count": 183,
     "metadata": {},
     "output_type": "execute_result"
    }
   ],
   "source": [
    "#| echo: false\n",
    "#| output: false\n",
    "df_visu = pd.DataFrame({'values':gender_homophily['mean']})\n",
    "df_visu= pd.concat([df_visu, pd.DataFrame({'values':gender_homophily_m['mean']})])\n",
    "df_visu= pd.concat([df_visu, pd.DataFrame({'values':gender_homophily_f['mean']})])\n",
    "df_visu= pd.concat([df_visu, pd.DataFrame({'values':country_homophily['mean']})])\n",
    "df_visu"
   ]
  },
  {
   "cell_type": "code",
   "execution_count": 184,
   "id": "8c74eed6",
   "metadata": {},
   "outputs": [
    {
     "data": {
      "text/html": [
       "<div>\n",
       "<style scoped>\n",
       "    .dataframe tbody tr th:only-of-type {\n",
       "        vertical-align: middle;\n",
       "    }\n",
       "\n",
       "    .dataframe tbody tr th {\n",
       "        vertical-align: top;\n",
       "    }\n",
       "\n",
       "    .dataframe thead th {\n",
       "        text-align: right;\n",
       "    }\n",
       "</style>\n",
       "<table border=\"1\" class=\"dataframe\">\n",
       "  <thead>\n",
       "    <tr style=\"text-align: right;\">\n",
       "      <th></th>\n",
       "      <th>values</th>\n",
       "    </tr>\n",
       "    <tr>\n",
       "      <th>actor1_fbid</th>\n",
       "      <th></th>\n",
       "    </tr>\n",
       "  </thead>\n",
       "  <tbody>\n",
       "    <tr>\n",
       "      <th>/m/010p3</th>\n",
       "      <td>0.280712</td>\n",
       "    </tr>\n",
       "    <tr>\n",
       "      <th>/m/010q36</th>\n",
       "      <td>-0.632134</td>\n",
       "    </tr>\n",
       "    <tr>\n",
       "      <th>/m/010xjr</th>\n",
       "      <td>-0.219142</td>\n",
       "    </tr>\n",
       "    <tr>\n",
       "      <th>/m/0112yl</th>\n",
       "      <td>-0.026698</td>\n",
       "    </tr>\n",
       "    <tr>\n",
       "      <th>/m/011_24</th>\n",
       "      <td>0.365655</td>\n",
       "    </tr>\n",
       "    <tr>\n",
       "      <th>...</th>\n",
       "      <td>...</td>\n",
       "    </tr>\n",
       "    <tr>\n",
       "      <th>/m/0z05l</th>\n",
       "      <td>-0.498495</td>\n",
       "    </tr>\n",
       "    <tr>\n",
       "      <th>/m/0z4s</th>\n",
       "      <td>-0.955392</td>\n",
       "    </tr>\n",
       "    <tr>\n",
       "      <th>/m/0z9q0</th>\n",
       "      <td>0.411110</td>\n",
       "    </tr>\n",
       "    <tr>\n",
       "      <th>/m/0zcb7</th>\n",
       "      <td>0.019013</td>\n",
       "    </tr>\n",
       "    <tr>\n",
       "      <th>/m/0zcbl</th>\n",
       "      <td>-0.788681</td>\n",
       "    </tr>\n",
       "  </tbody>\n",
       "</table>\n",
       "<p>104370 rows × 1 columns</p>\n",
       "</div>"
      ],
      "text/plain": [
       "               values\n",
       "actor1_fbid          \n",
       "/m/010p3     0.280712\n",
       "/m/010q36   -0.632134\n",
       "/m/010xjr   -0.219142\n",
       "/m/0112yl   -0.026698\n",
       "/m/011_24    0.365655\n",
       "...               ...\n",
       "/m/0z05l    -0.498495\n",
       "/m/0z4s     -0.955392\n",
       "/m/0z9q0     0.411110\n",
       "/m/0zcb7     0.019013\n",
       "/m/0zcbl    -0.788681\n",
       "\n",
       "[104370 rows x 1 columns]"
      ]
     },
     "execution_count": 184,
     "metadata": {},
     "output_type": "execute_result"
    }
   ],
   "source": [
    "#| echo: false\n",
    "#| output: false\n",
    "df_visu2 = pd.DataFrame({'values':age_homophily['mean']})\n",
    "df_visu2= pd.concat([df_visu2, pd.DataFrame({'values':height_homophily['mean']})])\n",
    "df_visu2= pd.concat([df_visu2, pd.DataFrame({'values':nbr_movies_homophily['mean']})])\n",
    "df_visu2"
   ]
  },
  {
   "cell_type": "code",
   "execution_count": 185,
   "id": "29333d3e",
   "metadata": {},
   "outputs": [
    {
     "data": {
      "text/plain": [
       "(          values     name\n",
       " 0       0.348315   gender\n",
       " 1       0.600000   gender\n",
       " 2       0.462687   gender\n",
       " 3       0.475113   gender\n",
       " 4       0.363636   gender\n",
       " ...          ...      ...\n",
       " 137078 -0.424000  country\n",
       " 137079  0.005666  country\n",
       " 137080 -1.000000  country\n",
       " 137081  0.931034  country\n",
       " 137082  0.506849  country\n",
       " \n",
       " [137083 rows x 2 columns],\n",
       "           values               name\n",
       " 0       0.280712                age\n",
       " 1      -0.632134                age\n",
       " 2      -0.219142                age\n",
       " 3      -0.026698                age\n",
       " 4       0.365655                age\n",
       " ...          ...                ...\n",
       " 104365 -0.498495  nbr_movies_played\n",
       " 104366 -0.955392  nbr_movies_played\n",
       " 104367  0.411110  nbr_movies_played\n",
       " 104368  0.019013  nbr_movies_played\n",
       " 104369 -0.788681  nbr_movies_played\n",
       " \n",
       " [104370 rows x 2 columns])"
      ]
     },
     "execution_count": 185,
     "metadata": {},
     "output_type": "execute_result"
    }
   ],
   "source": [
    "#| echo: false\n",
    "#| output: false\n",
    "range_idx = [len(gender_homophily),len(gender_homophily_m),len(gender_homophily_f),len(country_homophily)]\n",
    "name = ['gender','gender_m','gender_f','country']\n",
    "idx= []\n",
    "for i, name in zip(range_idx, name):\n",
    "    for j in range(i):\n",
    "        idx.append(name)\n",
    "df_visu['name']= idx\n",
    "df_visu= df_visu.reset_index(drop=True)\n",
    "range_idx = [len(age_homophily),len(height_homophily),len(nbr_movies_homophily)]\n",
    "name = ['age','height','nbr_movies_played']\n",
    "idx= []\n",
    "for i, name in zip(range_idx, name):\n",
    "    for j in range(i):\n",
    "        idx.append(name)\n",
    "df_visu2['name']= idx\n",
    "df_visu2= df_visu2.reset_index(drop=True)\n",
    "df_visu,df_visu2"
   ]
  },
  {
   "cell_type": "code",
   "execution_count": 186,
   "id": "dfd12a9f",
   "metadata": {},
   "outputs": [
    {
     "data": {
      "image/png": "[encoded data removed]",
      "text/plain": [
       "<Figure size 750x200 with 4 Axes>"
      ]
     },
     "metadata": {},
     "output_type": "display_data"
    }
   ],
   "source": [
    "#| echo: false\n",
    "#| output: false\n",
    "sns.set_theme(style=\"white\", rc={\"axes.facecolor\": (0, 0, 0, 0)})\n",
    "\n",
    "\n",
    "\n",
    "# Initialize the FacetGrid object\n",
    "pal = sns.cubehelix_palette(10, rot=-.25, light=.7)\n",
    "g = sns.FacetGrid(df_visu, row=\"name\", hue=\"name\", aspect=15, height=.5, palette=pal)\n",
    "\n",
    "# Draw the densities in a few steps\n",
    "g.map(sns.kdeplot, \"values\",\n",
    "      bw_adjust=.5, clip_on=False,\n",
    "      fill=True, alpha=1, linewidth=1.5)\n",
    "g.map(sns.kdeplot, \"values\", clip_on=False, color=\"w\", lw=2, bw_adjust=.5)\n",
    "\n",
    "# passing color=None to refline() uses the hue mapping\n",
    "g.refline(y=0, linewidth=2, linestyle=\"-\", color=None, clip_on=False)\n",
    "\n",
    "\n",
    "# Define and use a simple function to label the plot in axes coordinates\n",
    "def label(x, color, label):\n",
    "    ax = plt.gca()\n",
    "    ax.text(0, .2, label, fontweight=\"bold\", color=color,\n",
    "            ha=\"left\", va=\"center\", transform=ax.transAxes)\n",
    "\n",
    "\n",
    "g.map(label, \"values\")\n",
    "\n",
    "# Set the subplots to overlap\n",
    "g.figure.subplots_adjust(hspace=-.25)\n",
    "\n",
    "# Remove axes details that don't play well with overlap\n",
    "g.set_titles(\"\")\n",
    "g.set(yticks=[], ylabel=\"\")\n",
    "g.despine(bottom=True, left=True)\n",
    "g.set(xlim=(-1.4, 1))\n",
    "\n",
    "plt.show()"
   ]
  },
  {
   "cell_type": "code",
   "execution_count": 187,
   "id": "fc4fdff4",
   "metadata": {},
   "outputs": [
    {
     "data": {
      "image/png": "[encoded data removed]",
      "text/plain": [
       "<Figure size 750x150 with 3 Axes>"
      ]
     },
     "metadata": {},
     "output_type": "display_data"
    }
   ],
   "source": [
    "#| echo: false\n",
    "#| output: false\n",
    "sns.set_theme(style=\"white\", rc={\"axes.facecolor\": (0, 0, 0, 0)})\n",
    "\n",
    "\n",
    "\n",
    "# Initialize the FacetGrid object\n",
    "pal = sns.cubehelix_palette(10, rot=-.25, light=.7)\n",
    "g = sns.FacetGrid(df_visu2, row=\"name\", hue=\"name\", aspect=15, height=.5, palette=pal)\n",
    "\n",
    "# Draw the densities in a few steps\n",
    "g.map(sns.kdeplot, \"values\",\n",
    "      bw_adjust=.5, clip_on=False,\n",
    "      fill=True, alpha=1, linewidth=1.5)\n",
    "g.map(sns.kdeplot, \"values\", clip_on=False, color=\"w\", lw=2, bw_adjust=.5)\n",
    "\n",
    "# passing color=None to refline() uses the hue mapping\n",
    "g.refline(y=0, linewidth=2, linestyle=\"-\", color=None, clip_on=False)\n",
    "\n",
    "\n",
    "# Define and use a simple function to label the plot in axes coordinates\n",
    "def label(x, color, label):\n",
    "    ax = plt.gca()\n",
    "    ax.text(0, .2, label, fontweight=\"bold\", color=color,\n",
    "            ha=\"left\", va=\"center\", transform=ax.transAxes)\n",
    "\n",
    "\n",
    "g.map(label, \"values\")\n",
    "\n",
    "# Set the subplots to overlap\n",
    "g.figure.subplots_adjust(hspace=-.25)\n",
    "\n",
    "# Remove axes details that don't play well with overlap\n",
    "g.set_titles(\"\")\n",
    "g.set(yticks=[], ylabel=\"\")\n",
    "g.despine(bottom=True, left=True)\n",
    "g.set(xlim=(-1, 1))\n",
    "\n",
    "plt.show()"
   ]
  },
  {
   "cell_type": "markdown",
   "id": "8cfd7872",
   "metadata": {},
   "source": [
    "## Comparison part"
   ]
  },
  {
   "cell_type": "markdown",
   "id": "9465de6f",
   "metadata": {},
   "source": [
    "The raw distribution we gathered above could be not relevant and could lead to wrong interpretation because the dataset is not equally balanced among all attributes (for example the gender distribution). Therefore, if we want to make better observations, we need to compare it with what we expected to see for random edges between actors. We worked on two different possibility for the comparison that we will present to you below."
   ]
  },
  {
   "cell_type": "markdown",
   "id": "5e577172",
   "metadata": {},
   "source": [
    "### Comparison with \"mean actor\" of the dataset"
   ]
  },
  {
   "cell_type": "markdown",
   "id": "0d0a1e63",
   "metadata": {},
   "source": [
    "The first idea is to think about probabilities. For categorical attributes, we can calculate the probability for an actor to randomly be assigned to this attribute knowing the initial distribution over the dataset. Therefore, we decided to create a \"mean actor\" which is the hypothetical actor that we could get randomly. Each actor of the dataset will be linked to this mean actor and their associated homophily score shall be detailled as followed :\n",
    "$$  Homophily_{i} = p_{attribute} - (1- p_{attribute}) $$ \n",
    "with $ p_{attribute} $ being the probability that \"mean actor\" have the same attribute as the actor $i$."
   ]
  },
  {
   "cell_type": "code",
   "execution_count": 188,
   "id": "c622e24f",
   "metadata": {},
   "outputs": [
    {
     "data": {
      "text/plain": [
       "0.07553615796911524"
      ]
     },
     "execution_count": 188,
     "metadata": {},
     "output_type": "execute_result"
    }
   ],
   "source": [
    "#| echo: false\n",
    "#| output: false\n",
    "df_gender_reduced = df_edges_gender.drop_duplicates(subset= 'actor1_fbid')\n",
    "nbr_of_men = len(df_gender_reduced[df_gender_reduced['actor_gender_x'] == 'M'])\n",
    "nbr_of_women = len(df_gender_reduced) - nbr_of_men\n",
    "hypothetical_gender_homophily_score = (nbr_of_men*((nbr_of_men-1)+ (-1)*nbr_of_women))/(len(df_gender_reduced)-1) + (nbr_of_women*((nbr_of_women-1)+ (-1)*nbr_of_men))/(len(df_gender_reduced)-1)\n",
    "hypothetical_gender_homophily= hypothetical_gender_homophily_score/len(df_gender_reduced)\n",
    "hypothetical_gender_homophily\n"
   ]
  },
  {
   "cell_type": "code",
   "execution_count": 189,
   "id": "d2df34b6",
   "metadata": {},
   "outputs": [
    {
     "data": {
      "text/plain": [
       "count    0.213315\n",
       "dtype: float64"
      ]
     },
     "execution_count": 189,
     "metadata": {},
     "output_type": "execute_result"
    }
   ],
   "source": [
    "#| echo: false\n",
    "#| output: false\n",
    "df_edges_nat_reduced = df_edges_nat.drop_duplicates(subset= 'actor1_fbid')\n",
    "xy = df_edges_nat_reduced.groupby('actor_nationality_x')['actor1_fbid'].agg(['count'])\n",
    "total_actor= xy.sum()\n",
    "homophily_score=0\n",
    "for i in xy.iloc:\n",
    "    homophily_score+= (int(i)*(int(i)-1)+(-1)*(total_actor-int(i)))/(total_actor-1)\n",
    "hypo_homophily_country = homophily_score/total_actor\n",
    "hypo_homophily_country"
   ]
  },
  {
   "cell_type": "markdown",
   "id": "c596a4b0",
   "metadata": {},
   "source": []
  },
  {
   "cell_type": "code",
   "execution_count": 190,
   "id": "84d31ee2",
   "metadata": {},
   "outputs": [
    {
     "data": {
      "text/html": [
       "<div>\n",
       "<style scoped>\n",
       "    .dataframe tbody tr th:only-of-type {\n",
       "        vertical-align: middle;\n",
       "    }\n",
       "\n",
       "    .dataframe tbody tr th {\n",
       "        vertical-align: top;\n",
       "    }\n",
       "\n",
       "    .dataframe thead th {\n",
       "        text-align: right;\n",
       "    }\n",
       "</style>\n",
       "<table border=\"1\" class=\"dataframe\">\n",
       "  <thead>\n",
       "    <tr style=\"text-align: right;\">\n",
       "      <th></th>\n",
       "      <th>country</th>\n",
       "      <th>probability</th>\n",
       "    </tr>\n",
       "  </thead>\n",
       "  <tbody>\n",
       "    <tr>\n",
       "      <th>0</th>\n",
       "      <td>Albania</td>\n",
       "      <td>0.000085</td>\n",
       "    </tr>\n",
       "    <tr>\n",
       "      <th>1</th>\n",
       "      <td>Algeria</td>\n",
       "      <td>0.000141</td>\n",
       "    </tr>\n",
       "    <tr>\n",
       "      <th>2</th>\n",
       "      <td>Argentina</td>\n",
       "      <td>0.006394</td>\n",
       "    </tr>\n",
       "    <tr>\n",
       "      <th>3</th>\n",
       "      <td>Armenia</td>\n",
       "      <td>0.000028</td>\n",
       "    </tr>\n",
       "    <tr>\n",
       "      <th>4</th>\n",
       "      <td>Australia</td>\n",
       "      <td>0.019915</td>\n",
       "    </tr>\n",
       "    <tr>\n",
       "      <th>...</th>\n",
       "      <td>...</td>\n",
       "      <td>...</td>\n",
       "    </tr>\n",
       "    <tr>\n",
       "      <th>142</th>\n",
       "      <td>Weimar Republic</td>\n",
       "      <td>0.000141</td>\n",
       "    </tr>\n",
       "    <tr>\n",
       "      <th>143</th>\n",
       "      <td>West Bengal</td>\n",
       "      <td>0.000028</td>\n",
       "    </tr>\n",
       "    <tr>\n",
       "      <th>144</th>\n",
       "      <td>West Germany</td>\n",
       "      <td>0.000056</td>\n",
       "    </tr>\n",
       "    <tr>\n",
       "      <th>145</th>\n",
       "      <td>Yugoslavia</td>\n",
       "      <td>0.000085</td>\n",
       "    </tr>\n",
       "    <tr>\n",
       "      <th>146</th>\n",
       "      <td>Zimbabwe</td>\n",
       "      <td>0.000085</td>\n",
       "    </tr>\n",
       "  </tbody>\n",
       "</table>\n",
       "<p>147 rows × 2 columns</p>\n",
       "</div>"
      ],
      "text/plain": [
       "             country  probability\n",
       "0            Albania     0.000085\n",
       "1            Algeria     0.000141\n",
       "2          Argentina     0.006394\n",
       "3            Armenia     0.000028\n",
       "4          Australia     0.019915\n",
       "..               ...          ...\n",
       "142  Weimar Republic     0.000141\n",
       "143      West Bengal     0.000028\n",
       "144     West Germany     0.000056\n",
       "145       Yugoslavia     0.000085\n",
       "146         Zimbabwe     0.000085\n",
       "\n",
       "[147 rows x 2 columns]"
      ]
     },
     "execution_count": 190,
     "metadata": {},
     "output_type": "execute_result"
    }
   ],
   "source": [
    "#| echo: false\n",
    "#| output: false\n",
    "df_actor_with_nat = df_edges_nat.drop_duplicates(subset= 'actor1_fbid')[['actor1_fbid','actor_nationality_x']]\n",
    "df_nat = df_edges_nat.drop_duplicates(subset= 'actor1_fbid')\n",
    "nbr_per_country = df_nat.groupby('actor_nationality_x')['actor1_fbid'].agg(['count'])\n",
    "probabilties = pd.DataFrame({'country': list(nbr_per_country.index),'probability': list(nbr_per_country['count'].apply(lambda x: x/nbr_per_country.sum())['count'])})\n",
    "probabilties\n"
   ]
  },
  {
   "cell_type": "code",
   "execution_count": 191,
   "id": "3041b39e",
   "metadata": {},
   "outputs": [],
   "source": [
    "#| echo: false\n",
    "#| output: false\n",
    "l =[]\n",
    "for i in df_actor_with_nat.actor_nationality_x:\n",
    "    l.append(float(probabilties[probabilties['country']== i].probability -(1-probabilties[probabilties['country']== i].probability)))\n",
    "l\n",
    "df_actor_with_nat['homophily_nat_mean_actor']= l"
   ]
  },
  {
   "cell_type": "code",
   "execution_count": 192,
   "id": "45400f1f",
   "metadata": {},
   "outputs": [
    {
     "data": {
      "text/html": [
       "<div>\n",
       "<style scoped>\n",
       "    .dataframe tbody tr th:only-of-type {\n",
       "        vertical-align: middle;\n",
       "    }\n",
       "\n",
       "    .dataframe tbody tr th {\n",
       "        vertical-align: top;\n",
       "    }\n",
       "\n",
       "    .dataframe thead th {\n",
       "        text-align: right;\n",
       "    }\n",
       "</style>\n",
       "<table border=\"1\" class=\"dataframe\">\n",
       "  <thead>\n",
       "    <tr style=\"text-align: right;\">\n",
       "      <th></th>\n",
       "      <th>homophily score nationalities</th>\n",
       "      <th>subset</th>\n",
       "    </tr>\n",
       "  </thead>\n",
       "  <tbody>\n",
       "    <tr>\n",
       "      <th>0</th>\n",
       "      <td>0.761905</td>\n",
       "      <td>true edges</td>\n",
       "    </tr>\n",
       "    <tr>\n",
       "      <th>1</th>\n",
       "      <td>0.600000</td>\n",
       "      <td>true edges</td>\n",
       "    </tr>\n",
       "    <tr>\n",
       "      <th>2</th>\n",
       "      <td>-0.923077</td>\n",
       "      <td>true edges</td>\n",
       "    </tr>\n",
       "    <tr>\n",
       "      <th>3</th>\n",
       "      <td>0.065421</td>\n",
       "      <td>true edges</td>\n",
       "    </tr>\n",
       "    <tr>\n",
       "      <th>4</th>\n",
       "      <td>0.593103</td>\n",
       "      <td>true edges</td>\n",
       "    </tr>\n",
       "    <tr>\n",
       "      <th>...</th>\n",
       "      <td>...</td>\n",
       "      <td>...</td>\n",
       "    </tr>\n",
       "    <tr>\n",
       "      <th>70997</th>\n",
       "      <td>-0.997747</td>\n",
       "      <td>edges with mean actor</td>\n",
       "    </tr>\n",
       "    <tr>\n",
       "      <th>70998</th>\n",
       "      <td>-0.997747</td>\n",
       "      <td>edges with mean actor</td>\n",
       "    </tr>\n",
       "    <tr>\n",
       "      <th>70999</th>\n",
       "      <td>-0.990930</td>\n",
       "      <td>edges with mean actor</td>\n",
       "    </tr>\n",
       "    <tr>\n",
       "      <th>71000</th>\n",
       "      <td>-0.998592</td>\n",
       "      <td>edges with mean actor</td>\n",
       "    </tr>\n",
       "    <tr>\n",
       "      <th>71001</th>\n",
       "      <td>-0.998986</td>\n",
       "      <td>edges with mean actor</td>\n",
       "    </tr>\n",
       "  </tbody>\n",
       "</table>\n",
       "<p>71002 rows × 2 columns</p>\n",
       "</div>"
      ],
      "text/plain": [
       "       homophily score nationalities                 subset\n",
       "0                           0.761905             true edges\n",
       "1                           0.600000             true edges\n",
       "2                          -0.923077             true edges\n",
       "3                           0.065421             true edges\n",
       "4                           0.593103             true edges\n",
       "...                              ...                    ...\n",
       "70997                      -0.997747  edges with mean actor\n",
       "70998                      -0.997747  edges with mean actor\n",
       "70999                      -0.990930  edges with mean actor\n",
       "71000                      -0.998592  edges with mean actor\n",
       "71001                      -0.998986  edges with mean actor\n",
       "\n",
       "[71002 rows x 2 columns]"
      ]
     },
     "execution_count": 192,
     "metadata": {},
     "output_type": "execute_result"
    }
   ],
   "source": [
    "#| echo: false\n",
    "#| output: false\n",
    "df_visu_compare= pd.DataFrame({\"homophily score nationalities\":country_homophily['mean']})\n",
    "df_visu_compare= pd.concat([df_visu_compare, pd.DataFrame({\"homophily score nationalities\":df_actor_with_nat['homophily_nat_mean_actor']})])\n",
    "range_idx = [len(country_homophily),len(df_actor_with_nat)]\n",
    "names = ['true edges','edges with mean actor']\n",
    "idx= []\n",
    "for i, name in zip(range_idx, names):\n",
    "    for j in range(i):\n",
    "        idx.append(name)\n",
    "df_visu_compare['subset']= idx\n",
    "df_visu_compare= df_visu_compare.reset_index(drop=True)\n",
    "df_visu_compare"
   ]
  },
  {
   "cell_type": "code",
   "execution_count": 193,
   "id": "4483b56b",
   "metadata": {},
   "outputs": [
    {
     "data": {
      "image/png": "[encoded data removed]",
      "text/plain": [
       "<Figure size 708.625x500 with 1 Axes>"
      ]
     },
     "metadata": {},
     "output_type": "display_data"
    }
   ],
   "source": [
    "#| echo: false\n",
    "sns.displot(data=df_visu_compare, x=\"homophily score nationalities\", hue=\"subset\", kind=\"kde\")\n",
    "plt.show()"
   ]
  },
  {
   "cell_type": "code",
   "execution_count": 194,
   "id": "0c7adee3",
   "metadata": {},
   "outputs": [],
   "source": [
    "#| echo: false\n",
    "df_actor_with_gender = df_edges_gender.drop_duplicates(subset= 'actor1_fbid')[['actor1_fbid','actor_gender_x']]\n",
    "nbr_per_gender = df_edges_gender.drop_duplicates(subset= 'actor1_fbid').groupby('actor_gender_x')['actor1_fbid'].agg(['count'])\n",
    "probabilties = pd.DataFrame({'country': list(nbr_per_gender.index),'probability': list(nbr_per_gender['count'].apply(lambda x: x/nbr_per_gender.sum())['count'])})\n",
    "l =[]\n",
    "for i in df_actor_with_gender.actor_gender_x:\n",
    "    l.append(float(probabilties[probabilties['country']== i].probability -(1-probabilties[probabilties['country']== i].probability)))\n",
    "l\n",
    "df_actor_with_gender['homophily_gender_mean_actor']= l\n"
   ]
  },
  {
   "cell_type": "code",
   "execution_count": 195,
   "id": "2a3ad3c8",
   "metadata": {},
   "outputs": [
    {
     "data": {
      "image/png": "[encoded data removed]",
      "text/plain": [
       "<Figure size 708.625x500 with 1 Axes>"
      ]
     },
     "metadata": {},
     "output_type": "display_data"
    }
   ],
   "source": [
    "#| echo: false\n",
    "df_visu_compare= pd.DataFrame({\"homophily score gender\":gender_homophily['mean']})\n",
    "df_visu_compare= pd.concat([df_visu_compare, pd.DataFrame({\"homophily score gender\":df_actor_with_gender['homophily_gender_mean_actor'][0:int(len(df_actor_with_gender)/4)]})])\n",
    "range_idx = [len(gender_homophily),int(len(df_actor_with_gender)/4)]\n",
    "names = ['true edges','edges with mean actor']\n",
    "idx= []\n",
    "for i, name in zip(range_idx, names):\n",
    "    for j in range(i):\n",
    "        idx.append(name)\n",
    "df_visu_compare['subset']= idx\n",
    "df_visu_compare= df_visu_compare.reset_index(drop=True)\n",
    "sns.displot(data=df_visu_compare, x=\"homophily score gender\", hue=\"subset\", kind=\"kde\")\n",
    "plt.show()"
   ]
  },
  {
   "cell_type": "markdown",
   "id": "69f5911f",
   "metadata": {},
   "source": [
    "As first comparison observation, nationaties seems to be an attribute relevant for similarity in actor connections. On the other hand, we can't get much information from gender comparison except that homophily score for men is slightly higher than the random case and oppositely women actress tends to have lower homophily score in the true dataset compared to the \"mean\" case."
   ]
  },
  {
   "cell_type": "markdown",
   "id": "5944d413",
   "metadata": {},
   "source": [
    "### Edges randomization for comparison"
   ]
  },
  {
   "cell_type": "markdown",
   "id": "9bcb5f42",
   "metadata": {},
   "source": [
    "The second option for comparison is the randomize the edges [@La_Fond_Randomization]. We keep the degree of each actor, but instead of their true links, each edge will be repaced by an edge with a random actor in the dataset. With that, we can once again compute their homophily score. The advantage here is that we obtain a distribution that could be compared to the raw distributions we obtained earlier (and we can also perfom it on scalar attribute comapared to the \"mean actor\") "
   ]
  },
  {
   "cell_type": "code",
   "execution_count": 196,
   "id": "a25dbdca",
   "metadata": {},
   "outputs": [],
   "source": [
    "#| echo: false\n",
    "def mann_whitney_u_test(distribution_1, distribution_2):\n",
    "    \"\"\"\n",
    "    Perform the Mann-Whitney U Test, comparing two different distributions.\n",
    "    Args:\n",
    "       distribution_1: List. \n",
    "       distribution_2: List.\n",
    "    Outputs:\n",
    "        u_statistic: Float. U statisitic for the test.\n",
    "        p_value: Float.\n",
    "    \"\"\"\n",
    "    u_statistic, p_value = stats.mannwhitneyu(distribution_1, distribution_2)\n",
    "    return u_statistic, p_value"
   ]
  },
  {
   "cell_type": "code",
   "execution_count": 197,
   "id": "f05e0485",
   "metadata": {},
   "outputs": [],
   "source": [
    "#| echo: false\n",
    "df_edges_random = df_edges.copy()\n",
    "df_edges_random['actor2_fbid']= sample(list(df_edges['actor2_fbid']),len(df_edges))\n",
    "df_edges_merged_random= df_edges_random.merge(df_actors_reduced, on='actor1_fbid').merge(df_actors_reduced.rename(columns={\"actor1_fbid\": \"actor2_fbid\"}), on='actor2_fbid')"
   ]
  },
  {
   "cell_type": "code",
   "execution_count": 198,
   "id": "02e15c7d",
   "metadata": {},
   "outputs": [],
   "source": [
    "#| echo: false\n",
    "df_edges_gender_rdm=df_edges_merged_random.dropna(subset=['actor_gender_x'])\n",
    "df_edges_gender_rdm=df_edges_gender_rdm.dropna(subset=['actor_gender_y'])\n",
    "\n",
    "df_edges_age_rdm=df_edges_merged_random.dropna(subset=['actor_age_x'])\n",
    "df_edges_age_rdm=df_edges_age_rdm.dropna(subset=['actor_age_y'])\n",
    "std_age = df_edges_gender_rdm.apply(lambda x : abs(x.actor_age_x),axis=1).std()\n",
    "\n",
    "df_edges_gender_rdm=df_edges_merged_random.dropna(subset=['actor_gender_x'])\n",
    "df_edges_gender_rdm=df_edges_gender_rdm.dropna(subset=['actor_gender_y'])\n",
    "\n",
    "df_edges_nat_rdm=df_edges_merged_random.dropna(subset=['actor_nationality_x'])\n",
    "df_edges_nat_rdm=df_edges_nat_rdm.dropna(subset=['actor_nationality_y'])\n",
    "\n",
    "df_edges_birth_rdm=df_edges_merged_random.dropna(subset=['year_of_birth_x'])\n",
    "df_edges_birth_rdm=df_edges_birth_rdm.dropna(subset=['year_of_birth_y'])\n",
    "df_edges_birth_rdm= df_edges_birth_rdm[df_edges_birth_rdm['year_of_birth_x'] < 2022]\n",
    "df_edges_birth_rdm= df_edges_birth_rdm[df_edges_birth_rdm['year_of_birth_y'] < 2022]\n",
    "df_edges_birth_rdm=df_edges_birth_rdm[df_edges_birth_rdm['year_of_birth_x']>1800]\n",
    "df_edges_birth_rdm=df_edges_birth_rdm[df_edges_birth_rdm['year_of_birth_y']>1800]\n",
    "std_yob = df_edges_birth_rdm.apply(lambda x : abs(x.year_of_birth_x-x.year_of_birth_y),axis=1).std()\n",
    "\n",
    "edges_height_rdm=df_edges_merged_random.dropna(subset=['actor_height_x'])\n",
    "edges_height_rdm= edges_height_rdm.dropna(subset=['actor_height_y'])\n",
    "edges_height_rdm=edges_height_rdm[edges_height_rdm['actor_height_x']<3]\n",
    "edges_height_rdm=edges_height_rdm[edges_height_rdm['actor_height_y']<3]\n",
    "std_height = edges_height_rdm.drop_duplicates(subset= 'actor1_fbid').apply(lambda x : abs(x.actor_height_x),axis=1).std()\n",
    "\n",
    "edges_nbr_movies_rdm=df_edges_merged_random.dropna(subset=['number_of_movies_x'])\n",
    "edges_nbr_movies_rdm= edges_nbr_movies_rdm.dropna(subset=['number_of_movies_y'])\n",
    "std_nbr_movies = edges_nbr_movies_rdm.drop_duplicates(subset= 'actor1_fbid').apply(lambda x : abs(x.number_of_movies_x),axis=1).std()"
   ]
  },
  {
   "cell_type": "code",
   "execution_count": 199,
   "id": "10b8e626",
   "metadata": {},
   "outputs": [],
   "source": [
    "#| echo: false\n",
    "#| output: false\n",
    "df_edges_gender_rdm['same_gender'] = df_edges_gender_rdm.apply(lambda x: 1 if (x.actor_gender_x == x.actor_gender_y) else (-1), axis= 1)\n",
    "gender_homophily_rdm = df_edges_gender_rdm.groupby('actor1_fbid')['same_gender'].agg(['mean'])\n",
    "df_visu_compare1= pd.DataFrame({\"homophily score gender\":gender_homophily['mean']})\n",
    "df_visu_compare1= pd.concat([df_visu_compare1, pd.DataFrame({\"homophily score gender\":gender_homophily_rdm['mean']})])\n",
    "range_idx = [len(gender_homophily),len(gender_homophily_rdm)]\n",
    "names = ['true edges','edges with rdm actor']\n",
    "idx= []\n",
    "for i, name in zip(range_idx, names):\n",
    "    for j in range(i):\n",
    "        idx.append(name)\n",
    "df_visu_compare1['subset']= idx\n",
    "df_visu_compare1= df_visu_compare1.reset_index(drop=True)"
   ]
  },
  {
   "cell_type": "code",
   "execution_count": 200,
   "id": "d753d7b9",
   "metadata": {},
   "outputs": [],
   "source": [
    "#| echo: false\n",
    "#| output: false\n",
    "p_values =[]\n",
    "p_values.append(mann_whitney_u_test(list(gender_homophily['mean']), list(gender_homophily_rdm['mean']))[1])"
   ]
  },
  {
   "cell_type": "code",
   "execution_count": 201,
   "id": "dee09e97",
   "metadata": {},
   "outputs": [],
   "source": [
    "#| echo: false\n",
    "#| output: false\n",
    "df_edges_nat_rdm['same_nat'] = df_edges_nat_rdm.apply(lambda x: 1 if (x.actor_nationality_x == x.actor_nationality_y) else (-1), axis= 1)\n",
    "nat_homophily_rdm = df_edges_nat_rdm.groupby('actor1_fbid')['same_nat'].agg(['mean'])\n",
    "df_visu_compare2= pd.DataFrame({\"homophily score nationalities\":country_homophily['mean']})\n",
    "df_visu_compare2= pd.concat([df_visu_compare2, pd.DataFrame({\"homophily score nationalities\":nat_homophily_rdm['mean']})])\n",
    "range_idx = [len(country_homophily),len(nat_homophily_rdm)]\n",
    "names = ['true edges','edges with rdm actor']\n",
    "idx= []\n",
    "for i, name in zip(range_idx, names):\n",
    "    for j in range(i):\n",
    "        idx.append(name)\n",
    "df_visu_compare2['subset']= idx\n",
    "df_visu_compare2= df_visu_compare2.reset_index(drop=True)"
   ]
  },
  {
   "cell_type": "code",
   "execution_count": 202,
   "id": "61c8e52a",
   "metadata": {},
   "outputs": [],
   "source": [
    "#| echo: false\n",
    "#| output: false\n",
    "p_values.append(mann_whitney_u_test(list(country_homophily['mean']), list(gender_homophily_rdm['mean']))[1])"
   ]
  },
  {
   "cell_type": "code",
   "execution_count": 203,
   "id": "e6bcba75",
   "metadata": {},
   "outputs": [],
   "source": [
    "#| echo: false\n",
    "#| output: false\n",
    "df_edges_birth_rdm = df_edges_birth_rdm[df_edges_birth_rdm.apply(lambda x: True if abs(x.year_of_birth_x - x.year_of_birth_y) < 90 else False, axis= 1)]\n",
    "df_edges_birth_rdm['homophily_age'] = df_edges_birth_rdm.apply(lambda x: (1- 2*abs(x.year_of_birth_x-x.year_of_birth_y)/(2*std_yob)) if abs(x.year_of_birth_x-x.year_of_birth_y)/(2*std_yob) < 1 else -1, axis= 1)\n",
    "age_homophily_rdm = df_edges_birth_rdm.groupby('actor1_fbid')['homophily_age'].agg(['mean'])\n",
    "df_visu_compare3= pd.DataFrame({\"homophily age\":age_homophily['mean']})\n",
    "df_visu_compare3= pd.concat([df_visu_compare3, pd.DataFrame({\"homophily age\":age_homophily_rdm['mean']})])\n",
    "range_idx = [len(age_homophily),len(age_homophily_rdm)]\n",
    "names = ['true edges','edges with rdm actor']\n",
    "idx= []\n",
    "for i, name in zip(range_idx, names):\n",
    "    for j in range(i):\n",
    "        idx.append(name)\n",
    "df_visu_compare3['subset']= idx\n",
    "df_visu_compare3= df_visu_compare3.reset_index(drop=True)"
   ]
  },
  {
   "cell_type": "code",
   "execution_count": 204,
   "id": "35fcea83",
   "metadata": {},
   "outputs": [],
   "source": [
    "#| echo: false\n",
    "#| output: false\n",
    "p_values.append(mann_whitney_u_test(list(age_homophily['mean']), list(age_homophily_rdm['mean']))[1])"
   ]
  },
  {
   "cell_type": "code",
   "execution_count": 205,
   "id": "e00d6194",
   "metadata": {},
   "outputs": [],
   "source": [
    "#| echo: false\n",
    "#| output: false\n",
    "edges_height_rdm['homophily_height'] = edges_height_rdm.apply(lambda x: (1- 2*abs(x.actor_height_x-x.actor_height_y)/(2*std_height)) if abs(x.actor_height_x-x.actor_height_y)/(2*std_height) < 1 else -1 , axis= 1)\n",
    "height_homophily_rdm = edges_height_rdm.groupby('actor1_fbid')['homophily_height'].agg(['mean'])\n",
    "df_visu_compare4= pd.DataFrame({\"homophily height\":height_homophily['mean']})\n",
    "df_visu_compare4= pd.concat([df_visu_compare4, pd.DataFrame({\"homophily height\":height_homophily_rdm['mean']})])\n",
    "range_idx = [len(height_homophily),len(height_homophily_rdm)]\n",
    "names = ['true edges','edges with rdm actor']\n",
    "idx= []\n",
    "for i, name in zip(range_idx, names):\n",
    "    for j in range(i):\n",
    "        idx.append(name)\n",
    "df_visu_compare4['subset']= idx\n",
    "df_visu_compare4= df_visu_compare4.reset_index(drop=True)"
   ]
  },
  {
   "cell_type": "code",
   "execution_count": 206,
   "id": "1c322bbb",
   "metadata": {},
   "outputs": [],
   "source": [
    "#| echo: false\n",
    "#| output: false\n",
    "p_values.append(mann_whitney_u_test(list(height_homophily['mean']), list(height_homophily_rdm['mean']))[1])"
   ]
  },
  {
   "cell_type": "code",
   "execution_count": 207,
   "id": "8e0f39c7",
   "metadata": {},
   "outputs": [],
   "source": [
    "#| echo: false\n",
    "#| output: false\n",
    "edges_nbr_movies_rdm['same_nbr_movies'] = edges_nbr_movies_rdm.apply(lambda x: (1- 2*abs(x.number_of_movies_x -x.number_of_movies_y)/(2*std_nbr_movies)) if abs(x.number_of_movies_x -x.number_of_movies_y)/(2*std_nbr_movies) < 1 else -1, axis= 1)\n",
    "nbr_movies_homophily_rdm = edges_nbr_movies_rdm.groupby('actor1_fbid')['same_nbr_movies'].agg(['mean'])\n",
    "df_visu_compare5= pd.DataFrame({\"same nbr movies\":nbr_movies_homophily['mean']})\n",
    "df_visu_compare5= pd.concat([df_visu_compare5, pd.DataFrame({\"same nbr movies\":nbr_movies_homophily_rdm['mean']})])\n",
    "range_idx = [len(nbr_movies_homophily),len(nbr_movies_homophily_rdm)]\n",
    "names = ['true edges','edges with rdm actor']\n",
    "idx= []\n",
    "for i, name in zip(range_idx, names):\n",
    "    for j in range(i):\n",
    "        idx.append(name)\n",
    "df_visu_compare5['subset']= idx\n",
    "df_visu_compare5= df_visu_compare5.reset_index(drop=True)"
   ]
  },
  {
   "cell_type": "code",
   "execution_count": 208,
   "id": "9a1f3539",
   "metadata": {},
   "outputs": [],
   "source": [
    "#| echo: false\n",
    "#| output: false\n",
    "p_values.append(mann_whitney_u_test(list(nbr_movies_homophily['mean']), list(nbr_movies_homophily_rdm['mean']))[1])"
   ]
  },
  {
   "cell_type": "code",
   "execution_count": 209,
   "id": "1453f1dd",
   "metadata": {},
   "outputs": [
    {
     "data": {
      "image/png": "[encoded data removed]",
      "text/plain": [
       "<Figure size 696.75x500 with 1 Axes>"
      ]
     },
     "metadata": {},
     "output_type": "display_data"
    }
   ],
   "source": [
    "#| echo: false\n",
    "sns.set(rc = {'figure.figsize':(15,8)})\n",
    "g = sns.displot(data=df_visu_compare5, x='same nbr movies', hue=\"subset\", kind=\"kde\")\n",
    "g.fig.suptitle(\"Kernel Density Function\", fontsize=16)\n",
    "\n",
    "plt.show()"
   ]
  },
  {
   "cell_type": "code",
   "execution_count": 210,
   "id": "322274a8",
   "metadata": {},
   "outputs": [
    {
     "data": {
      "image/png": "[encoded data removed]",
      "text/plain": [
       "<Figure size 1000x400 with 2 Axes>"
      ]
     },
     "metadata": {},
     "output_type": "display_data"
    },
    {
     "data": {
      "image/png": "[encoded data removed]",
      "text/plain": [
       "<Figure size 1000x400 with 2 Axes>"
      ]
     },
     "metadata": {},
     "output_type": "display_data"
    }
   ],
   "source": [
    "#| echo: false\n",
    "fig, axs = plt.subplots(1, 2, figsize=(10, 4), sharey= True)\n",
    "\n",
    "sns.kdeplot(ax= axs[0],x='homophily score gender', data=df_visu_compare1, hue='subset', common_norm=False, legend= False)\n",
    "sns.kdeplot(ax= axs[1],x='homophily score nationalities', data=df_visu_compare2, hue='subset', common_norm=False, legend= False)\n",
    "\n",
    "fig.suptitle(\"Kernel Density Function\", fontsize=16)\n",
    "\n",
    "fig, axs = plt.subplots(1, 2, figsize=(10, 4), sharey= True)\n",
    "\n",
    "sns.kdeplot(ax= axs[0],x='homophily age', data=df_visu_compare3, hue='subset', common_norm=False, legend= False)\n",
    "sns.kdeplot(ax = axs[1],x='homophily height', data=df_visu_compare4, hue='subset', common_norm=False, legend= False)\n",
    "fig.suptitle(\"Kernel Density Function\", fontsize=16)\n",
    "plt.show()"
   ]
  },
  {
   "cell_type": "markdown",
   "id": "b776a09e",
   "metadata": {},
   "source": [
    "- p_value for the mann_whitney_u_test on the distributions :"
   ]
  },
  {
   "cell_type": "code",
   "execution_count": 211,
   "id": "104a2042",
   "metadata": {},
   "outputs": [
    {
     "data": {
      "text/html": [
       "<div>\n",
       "<style scoped>\n",
       "    .dataframe tbody tr th:only-of-type {\n",
       "        vertical-align: middle;\n",
       "    }\n",
       "\n",
       "    .dataframe tbody tr th {\n",
       "        vertical-align: top;\n",
       "    }\n",
       "\n",
       "    .dataframe thead th {\n",
       "        text-align: right;\n",
       "    }\n",
       "</style>\n",
       "<table border=\"1\" class=\"dataframe\">\n",
       "  <thead>\n",
       "    <tr style=\"text-align: right;\">\n",
       "      <th></th>\n",
       "      <th>attribute</th>\n",
       "      <th>p-values</th>\n",
       "    </tr>\n",
       "  </thead>\n",
       "  <tbody>\n",
       "    <tr>\n",
       "      <th>0</th>\n",
       "      <td>number of movies</td>\n",
       "      <td>2.461082e-31</td>\n",
       "    </tr>\n",
       "    <tr>\n",
       "      <th>1</th>\n",
       "      <td>gender</td>\n",
       "      <td>0.000000e+00</td>\n",
       "    </tr>\n",
       "    <tr>\n",
       "      <th>2</th>\n",
       "      <td>nationalities</td>\n",
       "      <td>1.803844e-255</td>\n",
       "    </tr>\n",
       "    <tr>\n",
       "      <th>3</th>\n",
       "      <td>age</td>\n",
       "      <td>3.805015e-09</td>\n",
       "    </tr>\n",
       "    <tr>\n",
       "      <th>4</th>\n",
       "      <td>height</td>\n",
       "      <td>0.000000e+00</td>\n",
       "    </tr>\n",
       "  </tbody>\n",
       "</table>\n",
       "</div>"
      ],
      "text/plain": [
       "          attribute       p-values\n",
       "0  number of movies   2.461082e-31\n",
       "1            gender   0.000000e+00\n",
       "2     nationalities  1.803844e-255\n",
       "3               age   3.805015e-09\n",
       "4            height   0.000000e+00"
      ]
     },
     "execution_count": 211,
     "metadata": {},
     "output_type": "execute_result"
    }
   ],
   "source": [
    "#| echo: false\n",
    "attribute = ['number of movies', 'gender', 'nationalities', 'age', 'height']\n",
    "pd.DataFrame({'attribute': attribute, 'p-values':p_values})"
   ]
  },
  {
   "cell_type": "markdown",
   "id": "94344ba6",
   "metadata": {},
   "source": [
    "Based on the results illustrated above, we can make different conclusions. Firstly, we obtained more or less the same interpretation for the categorical attributes. It seems like actors from a certain country are more quite likely to play together (we can think about cinemar studios as hollywood, bollyhood, ...). Moreover, the age of the actor looks like this is not a relevant attribute to link actor in movies. The only observation we can made is that the true edges are slightly shifted to the left meaning that is decrease the total homophily of the network compared to the random edges.\n",
    "Furthermore, even though gender initialy seems to be significant for similarity, it appears that on our dataset, it is not a relevant attribute that connect more actor (We can think about a certain diversity of gender in the movies. Maybe in a further analysis, we could have a look on how this homophily evolve depending on the movie's genre). Finaly, height is not a significant attribute to connect people as we can see in the plot above, especially because we obtain the same distribution either with random edges and the true edges."
   ]
  },
  {
   "cell_type": "code",
   "execution_count": 212,
   "id": "27e9b418",
   "metadata": {},
   "outputs": [],
   "source": [
    "# NetworkX Research, not relevant for the web story\n",
    "#| echo: false\n",
    "import networkx as nx"
   ]
  },
  {
   "cell_type": "code",
   "execution_count": 213,
   "id": "8220d27d",
   "metadata": {},
   "outputs": [
    {
     "data": {
      "text/html": [
       "<div>\n",
       "<style scoped>\n",
       "    .dataframe tbody tr th:only-of-type {\n",
       "        vertical-align: middle;\n",
       "    }\n",
       "\n",
       "    .dataframe tbody tr th {\n",
       "        vertical-align: top;\n",
       "    }\n",
       "\n",
       "    .dataframe thead th {\n",
       "        text-align: right;\n",
       "    }\n",
       "</style>\n",
       "<table border=\"1\" class=\"dataframe\">\n",
       "  <thead>\n",
       "    <tr style=\"text-align: right;\">\n",
       "      <th></th>\n",
       "      <th>count</th>\n",
       "    </tr>\n",
       "    <tr>\n",
       "      <th>actor_nationality_x</th>\n",
       "      <th></th>\n",
       "    </tr>\n",
       "  </thead>\n",
       "  <tbody>\n",
       "    <tr>\n",
       "      <th>United States of America</th>\n",
       "      <td>15534</td>\n",
       "    </tr>\n",
       "    <tr>\n",
       "      <th>United Kingdom</th>\n",
       "      <td>4305</td>\n",
       "    </tr>\n",
       "    <tr>\n",
       "      <th>India</th>\n",
       "      <td>1987</td>\n",
       "    </tr>\n",
       "    <tr>\n",
       "      <th>France</th>\n",
       "      <td>1647</td>\n",
       "    </tr>\n",
       "    <tr>\n",
       "      <th>Canada</th>\n",
       "      <td>1622</td>\n",
       "    </tr>\n",
       "    <tr>\n",
       "      <th>Japan</th>\n",
       "      <td>1285</td>\n",
       "    </tr>\n",
       "    <tr>\n",
       "      <th>Germany</th>\n",
       "      <td>860</td>\n",
       "    </tr>\n",
       "    <tr>\n",
       "      <th>Australia</th>\n",
       "      <td>707</td>\n",
       "    </tr>\n",
       "    <tr>\n",
       "      <th>Italy</th>\n",
       "      <td>575</td>\n",
       "    </tr>\n",
       "    <tr>\n",
       "      <th>Kingdom of Italy</th>\n",
       "      <td>499</td>\n",
       "    </tr>\n",
       "  </tbody>\n",
       "</table>\n",
       "</div>"
      ],
      "text/plain": [
       "                          count\n",
       "actor_nationality_x            \n",
       "United States of America  15534\n",
       "United Kingdom             4305\n",
       "India                      1987\n",
       "France                     1647\n",
       "Canada                     1622\n",
       "Japan                      1285\n",
       "Germany                     860\n",
       "Australia                   707\n",
       "Italy                       575\n",
       "Kingdom of Italy            499"
      ]
     },
     "execution_count": 213,
     "metadata": {},
     "output_type": "execute_result"
    }
   ],
   "source": [
    "#| echo: false\n",
    "#| output: false\n",
    "df_edges_nat.drop_duplicates(subset= 'actor1_fbid').groupby('actor_nationality_x')['actor_nationality_x'].agg(['count']).sort_values(by='count', ascending= False).head(10)"
   ]
  },
  {
   "cell_type": "code",
   "execution_count": 214,
   "id": "2417e176",
   "metadata": {},
   "outputs": [
    {
     "name": "stdout",
     "output_type": "stream",
     "text": [
      "Graph with 57694 nodes and 1518297 edges\n"
     ]
    }
   ],
   "source": [
    "#| echo: false\n",
    "#| output: false\n",
    "df_edges_grouped= df_edges_merged[['actor1_fbid','actor2_fbid','movie_count']]\n",
    "g = nx.from_pandas_edgelist(df_edges_grouped, source='actor1_fbid', target='actor2_fbid', edge_attr=['movie_count'])\n",
    "print(g)"
   ]
  },
  {
   "cell_type": "code",
   "execution_count": 215,
   "id": "0e68f903",
   "metadata": {},
   "outputs": [],
   "source": [
    "#| echo: false\n",
    "#| output: false\n",
    "x = df_edges_gender.drop_duplicates(subset= 'actor1_fbid')\n",
    "class_attr = dict(zip(x['actor1_fbid'], \n",
    "x['actor_gender_x']))\n",
    "nx.set_node_attributes(g, name = \"actor_gender_x\", \n",
    "values = class_attr)"
   ]
  },
  {
   "cell_type": "code",
   "execution_count": 216,
   "id": "8afd89a4",
   "metadata": {},
   "outputs": [
    {
     "data": {
      "text/plain": [
       "0.06115305599700355"
      ]
     },
     "execution_count": 216,
     "metadata": {},
     "output_type": "execute_result"
    }
   ],
   "source": [
    "#| echo: false\n",
    "#| output: false\n",
    "nx.attribute_assortativity_coefficient(g, \"actor_gender_x\")"
   ]
  },
  {
   "cell_type": "code",
   "execution_count": 217,
   "id": "ba0c8059",
   "metadata": {},
   "outputs": [
    {
     "name": "stdout",
     "output_type": "stream",
     "text": [
      "Graph with 57694 nodes and 1518297 edges\n"
     ]
    }
   ],
   "source": [
    "#| echo: false\n",
    "#| output: false\n",
    "df_edges_grouped= df_edges_merged[['actor1_fbid','actor2_fbid','movie_count']]\n",
    "g = nx.from_pandas_edgelist(df_edges_grouped, source='actor1_fbid', target='actor2_fbid', edge_attr=['movie_count'])\n",
    "print(g)"
   ]
  },
  {
   "cell_type": "code",
   "execution_count": 218,
   "id": "37279994",
   "metadata": {},
   "outputs": [],
   "source": [
    "#| echo: false\n",
    "#| output: false\n",
    "x = df_edges_nat.drop_duplicates(subset= 'actor1_fbid')\n",
    "class_attr = dict(zip(x['actor1_fbid'], \n",
    "x['actor_nationality_x']))\n",
    "nx.set_node_attributes(g, name = \"actor_nationality_x\", \n",
    "values = class_attr)"
   ]
  },
  {
   "cell_type": "code",
   "execution_count": 219,
   "id": "dd7b0d3e",
   "metadata": {},
   "outputs": [
    {
     "data": {
      "text/plain": [
       "0.43548634030680133"
      ]
     },
     "execution_count": 219,
     "metadata": {},
     "output_type": "execute_result"
    }
   ],
   "source": [
    "#| echo: false\n",
    "#| output: false\n",
    "nx.attribute_assortativity_coefficient(g, \"actor_nationality_x\")"
   ]
  },
  {
   "cell_type": "code",
   "execution_count": null,
   "id": "cfa7eca7",
   "metadata": {},
   "outputs": [],
   "source": []
  }
 ],
 "metadata": {
  "kernelspec": {
   "display_name": "Python 3.8.15 ('base')",
   "language": "python",
   "name": "python3"
  },
  "language_info": {
   "codemirror_mode": {
    "name": "ipython",
    "version": 3
   },
   "file_extension": ".py",
   "mimetype": "text/x-python",
   "name": "python",
   "nbconvert_exporter": "python",
   "pygments_lexer": "ipython3",
   "version": "3.8.15"
  },
  "vscode": {
   "interpreter": {
    "hash": "40d3a090f54c6569ab1632332b64b2c03c39dcf918b08424e98f38b5ae0af88f"
   }
  }
 },
 "nbformat": 4,
 "nbformat_minor": 5
}
